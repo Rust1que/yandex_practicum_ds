{
 "cells": [
  {
   "cell_type": "markdown",
   "metadata": {},
   "source": [
    "# Описание проекта\n",
    "Вы работаете в интернет-магазине «Стримчик», который продаёт по всему миру компьютерные игры. Из открытых источников доступны исторические данные о продажах игр, оценки пользователей и экспертов, жанры и платформы (например, Xbox или PlayStation). Вам нужно выявить определяющие успешность игры закономерности. Это позволит сделать ставку на потенциально популярный продукт и спланировать рекламные кампании.\n",
    "Перед вами данные до 2016 года. Представим, что сейчас декабрь 2016 г., и вы планируете кампанию на 2017-й. Нужно отработать принцип работы с данными. Не важно, прогнозируете ли вы продажи на 2017 год по данным 2016-го или же 2027-й — по данным 2026 года.\n",
    "В наборе данных попадается аббревиатура ESRB (Entertainment Software Rating Board) — это ассоциация, определяющая возрастной рейтинг компьютерных игр. ESRB оценивает игровой контент и присваивает ему подходящую возрастную категорию, например, «Для взрослых», «Для детей младшего возраста» или «Для подростков».\n",
    "\n",
    "**Шаг 1. Откройте файл с данными и изучите общую информацию**\n",
    "Путь к файлу:\n",
    "/datasets/games.csv\n",
    "\n",
    "\n",
    "**Шаг 2. Подготовьте данные**\n",
    " - Замените названия столбцов (приведите к нижнему регистру);\n",
    " - Преобразуйте данные в нужные типы. Опишите, в каких столбцах заменили тип данных и почему;\n",
    " - Обработайте пропуски при необходимости:\n",
    " - Объясните, почему заполнили пропуски определённым образом или почему не стали это делать;\n",
    " - Опишите причины, которые могли привести к пропускам;\n",
    " - Обратите внимание на аббревиатуру 'tbd' в столбцах с рейтингом. Отдельно разберите это значение и опишите, как его обработать;\n",
    " - Посчитайте суммарные продажи во всех регионах и запишите их в отдельный столбец.\n",
    " \n",
    " \n",
    "**Шаг 3. Проведите исследовательский анализ данных**\n",
    " - Посмотрите, сколько игр выпускалось в разные годы. Важны ли данные за все периоды?\n",
    " - Посмотрите, как менялись продажи по платформам. Выберите платформы с наибольшими суммарными продажами и постройте распределение по годам. За какой характерный срок появляются новые и исчезают старые платформы?\n",
    " - Возьмите данные за соответствующий актуальный период. Актуальный период определите самостоятельно в результате исследования предыдущих вопросов. Основной фактор — эти данные помогут построить прогноз на 2017 год.\n",
    " - Не учитывайте в работе данные за предыдущие годы.\n",
    " - Какие платформы лидируют по продажам, растут или падают? Выберите несколько потенциально прибыльных платформ.\n",
    " - Постройте график «ящик с усами» по глобальным продажам каждой игры и разбивкой по платформам. Велика ли разница в продажах? А в средних продажах на разных платформах? Опишите результат.\n",
    " - Посмотрите, как влияют на продажи внутри одной популярной платформы отзывы пользователей и критиков. Постройте диаграмму рассеяния и посчитайте корреляцию между отзывами и продажами. Сформулируйте выводы.\n",
    " - Соотнесите выводы с продажами игр на других платформах.\n",
    " - Посмотрите на общее распределение игр по жанрам. Что можно сказать о самых прибыльных жанрах? Выделяются ли жанры с высокими и низкими продажами?\n",
    " \n",
    " \n",
    "**Шаг 4. Составьте портрет пользователя каждого региона**\n",
    " - Определите для пользователя каждого региона (NA, EU, JP):\n",
    "  - Самые популярные платформы (топ-5). Опишите различия в долях продаж.\n",
    "  - Самые популярные жанры (топ-5). Поясните разницу.\n",
    "  - Влияет ли рейтинг ESRB на продажи в отдельном регионе?\n",
    "\n",
    "\n",
    "**Шаг 5. Проверьте гипотезы**\n",
    " - Средние пользовательские рейтинги платформ Xbox One и PC одинаковые;\n",
    " - Средние пользовательские рейтинги жанров Action (англ. «действие») и Sports (англ. «виды спорта») разные.\n",
    " - Задайте самостоятельно пороговое значение alpha.\n",
    " - Поясните:\n",
    " - Как вы сформулировали нулевую и альтернативную гипотезы;\n",
    " - Какой критерий применили для проверки гипотез и почему.\n",
    " \n",
    " \n",
    "**Шаг 6. Напишите общий вывод**"
   ]
  },
  {
   "cell_type": "markdown",
   "metadata": {},
   "source": [
    "**Описание данных**\n",
    " - Name — название игры\n",
    " - Platform — платформа\n",
    " - Year_of_Release — год выпуска\n",
    " - Genre — жанр игры\n",
    " - NA_sales — продажи в Северной Америке (миллионы долларов)\n",
    " - EU_sales — продажи в Европе (миллионы долларов)\n",
    " - JP_sales — продажи в Японии (миллионы долларов)\n",
    " - Other_sales — продажи в других странах (миллионы долларов)\n",
    " - Critic_Score — оценка критиков (максимум 100)\n",
    " - User_Score — оценка пользователей (максимум 10)\n",
    " - Rating — рейтинг от организации ESRB (англ. Entertainment Software Rating Board). Эта ассоциация определяет рейтинг компьютерных игр и присваивает им подходящую возрастную категорию.\n",
    "\n",
    "Данные за 2016 год могут быть неполными."
   ]
  },
  {
   "cell_type": "markdown",
   "metadata": {},
   "source": [
    "## Шаг 1. Откройте файл с данными и изучите общую информацию"
   ]
  },
  {
   "cell_type": "code",
   "execution_count": 1,
   "metadata": {},
   "outputs": [],
   "source": [
    "import pandas as pd\n",
    "import seaborn as sns\n",
    "import numpy as np\n",
    "import math \n",
    "import matplotlib.pyplot as plt\n",
    "from scipy import stats as st\n",
    "pd.set_option('display.max_columns', 100)\n",
    "%matplotlib inline"
   ]
  },
  {
   "cell_type": "markdown",
   "metadata": {},
   "source": [
    "Откроем файл и посмотрим на общую информацию о данных"
   ]
  },
  {
   "cell_type": "code",
   "execution_count": 2,
   "metadata": {},
   "outputs": [
    {
     "name": "stdout",
     "output_type": "stream",
     "text": [
      "<class 'pandas.core.frame.DataFrame'>\n",
      "RangeIndex: 16715 entries, 0 to 16714\n",
      "Data columns (total 11 columns):\n",
      " #   Column           Non-Null Count  Dtype  \n",
      "---  ------           --------------  -----  \n",
      " 0   Name             16713 non-null  object \n",
      " 1   Platform         16715 non-null  object \n",
      " 2   Year_of_Release  16446 non-null  float64\n",
      " 3   Genre            16713 non-null  object \n",
      " 4   NA_sales         16715 non-null  float64\n",
      " 5   EU_sales         16715 non-null  float64\n",
      " 6   JP_sales         16715 non-null  float64\n",
      " 7   Other_sales      16715 non-null  float64\n",
      " 8   Critic_Score     8137 non-null   float64\n",
      " 9   User_Score       10014 non-null  object \n",
      " 10  Rating           9949 non-null   object \n",
      "dtypes: float64(6), object(5)\n",
      "memory usage: 1.4+ MB\n"
     ]
    },
    {
     "data": {
      "text/html": [
       "<div>\n",
       "<style scoped>\n",
       "    .dataframe tbody tr th:only-of-type {\n",
       "        vertical-align: middle;\n",
       "    }\n",
       "\n",
       "    .dataframe tbody tr th {\n",
       "        vertical-align: top;\n",
       "    }\n",
       "\n",
       "    .dataframe thead th {\n",
       "        text-align: right;\n",
       "    }\n",
       "</style>\n",
       "<table border=\"1\" class=\"dataframe\">\n",
       "  <thead>\n",
       "    <tr style=\"text-align: right;\">\n",
       "      <th></th>\n",
       "      <th>Name</th>\n",
       "      <th>Platform</th>\n",
       "      <th>Year_of_Release</th>\n",
       "      <th>Genre</th>\n",
       "      <th>NA_sales</th>\n",
       "      <th>EU_sales</th>\n",
       "      <th>JP_sales</th>\n",
       "      <th>Other_sales</th>\n",
       "      <th>Critic_Score</th>\n",
       "      <th>User_Score</th>\n",
       "      <th>Rating</th>\n",
       "    </tr>\n",
       "  </thead>\n",
       "  <tbody>\n",
       "    <tr>\n",
       "      <th>0</th>\n",
       "      <td>Wii Sports</td>\n",
       "      <td>Wii</td>\n",
       "      <td>2006.0</td>\n",
       "      <td>Sports</td>\n",
       "      <td>41.36</td>\n",
       "      <td>28.96</td>\n",
       "      <td>3.77</td>\n",
       "      <td>8.45</td>\n",
       "      <td>76.0</td>\n",
       "      <td>8</td>\n",
       "      <td>E</td>\n",
       "    </tr>\n",
       "    <tr>\n",
       "      <th>1</th>\n",
       "      <td>Super Mario Bros.</td>\n",
       "      <td>NES</td>\n",
       "      <td>1985.0</td>\n",
       "      <td>Platform</td>\n",
       "      <td>29.08</td>\n",
       "      <td>3.58</td>\n",
       "      <td>6.81</td>\n",
       "      <td>0.77</td>\n",
       "      <td>NaN</td>\n",
       "      <td>NaN</td>\n",
       "      <td>NaN</td>\n",
       "    </tr>\n",
       "    <tr>\n",
       "      <th>2</th>\n",
       "      <td>Mario Kart Wii</td>\n",
       "      <td>Wii</td>\n",
       "      <td>2008.0</td>\n",
       "      <td>Racing</td>\n",
       "      <td>15.68</td>\n",
       "      <td>12.76</td>\n",
       "      <td>3.79</td>\n",
       "      <td>3.29</td>\n",
       "      <td>82.0</td>\n",
       "      <td>8.3</td>\n",
       "      <td>E</td>\n",
       "    </tr>\n",
       "    <tr>\n",
       "      <th>3</th>\n",
       "      <td>Wii Sports Resort</td>\n",
       "      <td>Wii</td>\n",
       "      <td>2009.0</td>\n",
       "      <td>Sports</td>\n",
       "      <td>15.61</td>\n",
       "      <td>10.93</td>\n",
       "      <td>3.28</td>\n",
       "      <td>2.95</td>\n",
       "      <td>80.0</td>\n",
       "      <td>8</td>\n",
       "      <td>E</td>\n",
       "    </tr>\n",
       "    <tr>\n",
       "      <th>4</th>\n",
       "      <td>Pokemon Red/Pokemon Blue</td>\n",
       "      <td>GB</td>\n",
       "      <td>1996.0</td>\n",
       "      <td>Role-Playing</td>\n",
       "      <td>11.27</td>\n",
       "      <td>8.89</td>\n",
       "      <td>10.22</td>\n",
       "      <td>1.00</td>\n",
       "      <td>NaN</td>\n",
       "      <td>NaN</td>\n",
       "      <td>NaN</td>\n",
       "    </tr>\n",
       "    <tr>\n",
       "      <th>5</th>\n",
       "      <td>Tetris</td>\n",
       "      <td>GB</td>\n",
       "      <td>1989.0</td>\n",
       "      <td>Puzzle</td>\n",
       "      <td>23.20</td>\n",
       "      <td>2.26</td>\n",
       "      <td>4.22</td>\n",
       "      <td>0.58</td>\n",
       "      <td>NaN</td>\n",
       "      <td>NaN</td>\n",
       "      <td>NaN</td>\n",
       "    </tr>\n",
       "    <tr>\n",
       "      <th>6</th>\n",
       "      <td>New Super Mario Bros.</td>\n",
       "      <td>DS</td>\n",
       "      <td>2006.0</td>\n",
       "      <td>Platform</td>\n",
       "      <td>11.28</td>\n",
       "      <td>9.14</td>\n",
       "      <td>6.50</td>\n",
       "      <td>2.88</td>\n",
       "      <td>89.0</td>\n",
       "      <td>8.5</td>\n",
       "      <td>E</td>\n",
       "    </tr>\n",
       "    <tr>\n",
       "      <th>7</th>\n",
       "      <td>Wii Play</td>\n",
       "      <td>Wii</td>\n",
       "      <td>2006.0</td>\n",
       "      <td>Misc</td>\n",
       "      <td>13.96</td>\n",
       "      <td>9.18</td>\n",
       "      <td>2.93</td>\n",
       "      <td>2.84</td>\n",
       "      <td>58.0</td>\n",
       "      <td>6.6</td>\n",
       "      <td>E</td>\n",
       "    </tr>\n",
       "    <tr>\n",
       "      <th>8</th>\n",
       "      <td>New Super Mario Bros. Wii</td>\n",
       "      <td>Wii</td>\n",
       "      <td>2009.0</td>\n",
       "      <td>Platform</td>\n",
       "      <td>14.44</td>\n",
       "      <td>6.94</td>\n",
       "      <td>4.70</td>\n",
       "      <td>2.24</td>\n",
       "      <td>87.0</td>\n",
       "      <td>8.4</td>\n",
       "      <td>E</td>\n",
       "    </tr>\n",
       "    <tr>\n",
       "      <th>9</th>\n",
       "      <td>Duck Hunt</td>\n",
       "      <td>NES</td>\n",
       "      <td>1984.0</td>\n",
       "      <td>Shooter</td>\n",
       "      <td>26.93</td>\n",
       "      <td>0.63</td>\n",
       "      <td>0.28</td>\n",
       "      <td>0.47</td>\n",
       "      <td>NaN</td>\n",
       "      <td>NaN</td>\n",
       "      <td>NaN</td>\n",
       "    </tr>\n",
       "  </tbody>\n",
       "</table>\n",
       "</div>"
      ],
      "text/plain": [
       "                        Name Platform  Year_of_Release         Genre  \\\n",
       "0                 Wii Sports      Wii           2006.0        Sports   \n",
       "1          Super Mario Bros.      NES           1985.0      Platform   \n",
       "2             Mario Kart Wii      Wii           2008.0        Racing   \n",
       "3          Wii Sports Resort      Wii           2009.0        Sports   \n",
       "4   Pokemon Red/Pokemon Blue       GB           1996.0  Role-Playing   \n",
       "5                     Tetris       GB           1989.0        Puzzle   \n",
       "6      New Super Mario Bros.       DS           2006.0      Platform   \n",
       "7                   Wii Play      Wii           2006.0          Misc   \n",
       "8  New Super Mario Bros. Wii      Wii           2009.0      Platform   \n",
       "9                  Duck Hunt      NES           1984.0       Shooter   \n",
       "\n",
       "   NA_sales  EU_sales  JP_sales  Other_sales  Critic_Score User_Score Rating  \n",
       "0     41.36     28.96      3.77         8.45          76.0          8      E  \n",
       "1     29.08      3.58      6.81         0.77           NaN        NaN    NaN  \n",
       "2     15.68     12.76      3.79         3.29          82.0        8.3      E  \n",
       "3     15.61     10.93      3.28         2.95          80.0          8      E  \n",
       "4     11.27      8.89     10.22         1.00           NaN        NaN    NaN  \n",
       "5     23.20      2.26      4.22         0.58           NaN        NaN    NaN  \n",
       "6     11.28      9.14      6.50         2.88          89.0        8.5      E  \n",
       "7     13.96      9.18      2.93         2.84          58.0        6.6      E  \n",
       "8     14.44      6.94      4.70         2.24          87.0        8.4      E  \n",
       "9     26.93      0.63      0.28         0.47           NaN        NaN    NaN  "
      ]
     },
     "metadata": {},
     "output_type": "display_data"
    }
   ],
   "source": [
    "data = pd.read_csv('/datasets/games.csv')\n",
    "data.info()\n",
    "display(data.head(10))"
   ]
  },
  {
   "cell_type": "markdown",
   "metadata": {},
   "source": [
    "Теперь изучим подробнее информацию о столбцах датафрейма, посчитаем кол-во прпоусков, изучим статистические показатели данных."
   ]
  },
  {
   "cell_type": "code",
   "execution_count": 3,
   "metadata": {},
   "outputs": [
    {
     "name": "stdout",
     "output_type": "stream",
     "text": [
      "############\n",
      "Name\n",
      "count                           16713\n",
      "unique                          11559\n",
      "top       Need for Speed: Most Wanted\n",
      "freq                               12\n",
      "Name: Name, dtype: object\n",
      "NaN amount: 2\n",
      "NaN in %: 0.01%\n",
      "############\n",
      "Platform\n",
      "count     16715\n",
      "unique       31\n",
      "top         PS2\n",
      "freq       2161\n",
      "Name: Platform, dtype: object\n",
      "NaN amount: 0\n",
      "NaN in %: 0.00%\n",
      "############\n",
      "Year_of_Release\n",
      "count    16446.000000\n",
      "mean      2006.484616\n",
      "std          5.877050\n",
      "min       1980.000000\n",
      "25%       2003.000000\n",
      "50%       2007.000000\n",
      "75%       2010.000000\n",
      "max       2016.000000\n",
      "Name: Year_of_Release, dtype: float64\n",
      "NaN amount: 269\n",
      "NaN in %: 1.61%\n",
      "############\n",
      "Genre\n",
      "count      16713\n",
      "unique        12\n",
      "top       Action\n",
      "freq        3369\n",
      "Name: Genre, dtype: object\n",
      "NaN amount: 2\n",
      "NaN in %: 0.01%\n",
      "############\n",
      "NA_sales\n",
      "count    16715.000000\n",
      "mean         0.263377\n",
      "std          0.813604\n",
      "min          0.000000\n",
      "25%          0.000000\n",
      "50%          0.080000\n",
      "75%          0.240000\n",
      "max         41.360000\n",
      "Name: NA_sales, dtype: float64\n",
      "NaN amount: 0\n",
      "NaN in %: 0.00%\n",
      "############\n",
      "EU_sales\n",
      "count    16715.000000\n",
      "mean         0.145060\n",
      "std          0.503339\n",
      "min          0.000000\n",
      "25%          0.000000\n",
      "50%          0.020000\n",
      "75%          0.110000\n",
      "max         28.960000\n",
      "Name: EU_sales, dtype: float64\n",
      "NaN amount: 0\n",
      "NaN in %: 0.00%\n",
      "############\n",
      "JP_sales\n",
      "count    16715.000000\n",
      "mean         0.077617\n",
      "std          0.308853\n",
      "min          0.000000\n",
      "25%          0.000000\n",
      "50%          0.000000\n",
      "75%          0.040000\n",
      "max         10.220000\n",
      "Name: JP_sales, dtype: float64\n",
      "NaN amount: 0\n",
      "NaN in %: 0.00%\n",
      "############\n",
      "Other_sales\n",
      "count    16715.000000\n",
      "mean         0.047342\n",
      "std          0.186731\n",
      "min          0.000000\n",
      "25%          0.000000\n",
      "50%          0.010000\n",
      "75%          0.030000\n",
      "max         10.570000\n",
      "Name: Other_sales, dtype: float64\n",
      "NaN amount: 0\n",
      "NaN in %: 0.00%\n",
      "############\n",
      "Critic_Score\n",
      "count    8137.000000\n",
      "mean       68.967679\n",
      "std        13.938165\n",
      "min        13.000000\n",
      "25%        60.000000\n",
      "50%        71.000000\n",
      "75%        79.000000\n",
      "max        98.000000\n",
      "Name: Critic_Score, dtype: float64\n",
      "NaN amount: 8578\n",
      "NaN in %: 51.32%\n",
      "############\n",
      "User_Score\n",
      "count     10014\n",
      "unique       96\n",
      "top         tbd\n",
      "freq       2424\n",
      "Name: User_Score, dtype: object\n",
      "NaN amount: 6701\n",
      "NaN in %: 40.09%\n",
      "############\n",
      "Rating\n",
      "count     9949\n",
      "unique       8\n",
      "top          E\n",
      "freq      3990\n",
      "Name: Rating, dtype: object\n",
      "NaN amount: 6766\n",
      "NaN in %: 40.48%\n",
      "['E' nan 'M' 'T' 'E10+' 'K-A' 'AO' 'EC' 'RP']\n"
     ]
    }
   ],
   "source": [
    "\n",
    "for name in data.columns:\n",
    "    print('############')\n",
    "    print(name)\n",
    "    print(data[name].describe())\n",
    "    print('NaN amount: {}'.format(data[name].isna().sum()))\n",
    "    print('NaN in %: {:.2f}%'.format(data[name].isna().sum()/len(data[name])*100))\n",
    "print(data['Rating'].unique())"
   ]
  },
  {
   "cell_type": "markdown",
   "metadata": {},
   "source": [
    "### Вывод\n",
    "\n",
    " - Name содержит 2 пропущенных значения. 11559 уникальных наименований.\n",
    " - Platform - нет пропущенных значений. 31 уникальное.\n",
    " - Year_of_release - необходимо перевести из float в int. 269 пропущенных значений.\n",
    " - Genre - содержит 2 пропущенных значения. 12 уникальных.\n",
    " - NA_sales, EU_sales, JP_sales, Other_sales нет пропущенных, но есть нулевые необходимо разобраться в чем причина их появления(действительно лио означает малые продажи или отсутствие данных)\n",
    " - Critic_Score - большое кол-во пропусков. 51%. Необходимо заполнить\n",
    " - User_Score - большое кол-во пропусков. 40% Необходимо заполнить. Также присутсвует значение tbd 2424 раза. Разобраться что это. Привести к float.\n",
    " - Rating 40% пропущенных значений. Необходимо ли их заполнять?"
   ]
  },
  {
   "cell_type": "markdown",
   "metadata": {},
   "source": [
    "## Шаг 2. Подготовьте данные\n",
    " - Замените названия столбцов (приведите к нижнему регистру);\n",
    " - Преобразуйте данные в нужные типы. Опишите, в каких столбцах заменили тип данных и почему;\n",
    " - Обработайте пропуски при необходимости:\n",
    " - Объясните, почему заполнили пропуски определённым образом или почему не стали это делать;\n",
    " - Опишите причины, которые могли привести к пропускам;\n",
    " - Обратите внимание на аббревиатуру 'tbd' в столбцах с рейтингом. Отдельно разберите это значение и опишите, как его обработать;\n",
    " - Посчитайте суммарные продажи во всех регионах и запишите их в отдельный столбец."
   ]
  },
  {
   "cell_type": "markdown",
   "metadata": {},
   "source": [
    "###### Замена названия столбцов"
   ]
  },
  {
   "cell_type": "code",
   "execution_count": 4,
   "metadata": {},
   "outputs": [
    {
     "name": "stdout",
     "output_type": "stream",
     "text": [
      "Index(['name', 'platform', 'year_of_release', 'genre', 'na_sales', 'eu_sales',\n",
      "       'jp_sales', 'other_sales', 'critic_score', 'user_score', 'rating'],\n",
      "      dtype='object')\n"
     ]
    }
   ],
   "source": [
    "data.columns = data.columns.str.lower()\n",
    "print(data.columns)"
   ]
  },
  {
   "cell_type": "markdown",
   "metadata": {},
   "source": [
    "###### Заполнение пропущенных значений в year_of_release и приведение к типу int"
   ]
  },
  {
   "cell_type": "markdown",
   "metadata": {},
   "source": [
    "Заполнение значений в year_of_release производится путем поиска медианного значения года выхода игр по платформам. "
   ]
  },
  {
   "cell_type": "code",
   "execution_count": 5,
   "metadata": {},
   "outputs": [],
   "source": [
    "def fill_year_of_release(row):\n",
    "    year_of_release = 0\n",
    "    temp_year = row['year_of_release']\n",
    "    platform = row['platform']\n",
    "    if math.isnan(temp_year):\n",
    "        year_of_release = round(data[data['platform'] == row['platform']]['year_of_release'].median())\n",
    "    else:\n",
    "        year_of_release = row['year_of_release']\n",
    "    return year_of_release\n",
    "data['year_of_release'] = data.apply(fill_year_of_release, axis = 1)"
   ]
  },
  {
   "cell_type": "code",
   "execution_count": 6,
   "metadata": {},
   "outputs": [
    {
     "data": {
      "text/plain": [
       "count    16715.000000\n",
       "mean      2006.473347\n",
       "std          5.897579\n",
       "min       1980.000000\n",
       "25%       2003.000000\n",
       "50%       2007.000000\n",
       "75%       2010.000000\n",
       "max       2016.000000\n",
       "Name: year_of_release, dtype: float64"
      ]
     },
     "metadata": {},
     "output_type": "display_data"
    }
   ],
   "source": [
    "data['year_of_release'] = data['year_of_release'].fillna(0)\n",
    "try:\n",
    "    data['year_of_release'] = data['year_of_release'].astype('int')\n",
    "except:\n",
    "    pass\n",
    "display(data['year_of_release'].describe())"
   ]
  },
  {
   "cell_type": "markdown",
   "metadata": {},
   "source": [
    "### Комментарий"
   ]
  },
  {
   "cell_type": "markdown",
   "metadata": {},
   "source": [
    "Значения year_of_release заполнялись медианными значениями для каждой из платформ. Т.к. платформа известна для каждой игры. year_of_release приведены в формат int."
   ]
  },
  {
   "cell_type": "markdown",
   "metadata": {},
   "source": [
    "###### Исследование пропусков в названии игр."
   ]
  },
  {
   "cell_type": "code",
   "execution_count": 7,
   "metadata": {},
   "outputs": [
    {
     "data": {
      "text/html": [
       "<div>\n",
       "<style scoped>\n",
       "    .dataframe tbody tr th:only-of-type {\n",
       "        vertical-align: middle;\n",
       "    }\n",
       "\n",
       "    .dataframe tbody tr th {\n",
       "        vertical-align: top;\n",
       "    }\n",
       "\n",
       "    .dataframe thead th {\n",
       "        text-align: right;\n",
       "    }\n",
       "</style>\n",
       "<table border=\"1\" class=\"dataframe\">\n",
       "  <thead>\n",
       "    <tr style=\"text-align: right;\">\n",
       "      <th></th>\n",
       "      <th>name</th>\n",
       "      <th>platform</th>\n",
       "      <th>year_of_release</th>\n",
       "      <th>genre</th>\n",
       "      <th>na_sales</th>\n",
       "      <th>eu_sales</th>\n",
       "      <th>jp_sales</th>\n",
       "      <th>other_sales</th>\n",
       "      <th>critic_score</th>\n",
       "      <th>user_score</th>\n",
       "      <th>rating</th>\n",
       "    </tr>\n",
       "  </thead>\n",
       "  <tbody>\n",
       "    <tr>\n",
       "      <th>659</th>\n",
       "      <td>NaN</td>\n",
       "      <td>GEN</td>\n",
       "      <td>1993</td>\n",
       "      <td>NaN</td>\n",
       "      <td>1.78</td>\n",
       "      <td>0.53</td>\n",
       "      <td>0.00</td>\n",
       "      <td>0.08</td>\n",
       "      <td>NaN</td>\n",
       "      <td>NaN</td>\n",
       "      <td>NaN</td>\n",
       "    </tr>\n",
       "    <tr>\n",
       "      <th>14244</th>\n",
       "      <td>NaN</td>\n",
       "      <td>GEN</td>\n",
       "      <td>1993</td>\n",
       "      <td>NaN</td>\n",
       "      <td>0.00</td>\n",
       "      <td>0.00</td>\n",
       "      <td>0.03</td>\n",
       "      <td>0.00</td>\n",
       "      <td>NaN</td>\n",
       "      <td>NaN</td>\n",
       "      <td>NaN</td>\n",
       "    </tr>\n",
       "  </tbody>\n",
       "</table>\n",
       "</div>"
      ],
      "text/plain": [
       "      name platform  year_of_release genre  na_sales  eu_sales  jp_sales  \\\n",
       "659    NaN      GEN             1993   NaN      1.78      0.53      0.00   \n",
       "14244  NaN      GEN             1993   NaN      0.00      0.00      0.03   \n",
       "\n",
       "       other_sales  critic_score user_score rating  \n",
       "659           0.08           NaN        NaN    NaN  \n",
       "14244         0.00           NaN        NaN    NaN  "
      ]
     },
     "metadata": {},
     "output_type": "display_data"
    },
    {
     "name": "stdout",
     "output_type": "stream",
     "text": [
      "<class 'pandas.core.frame.DataFrame'>\n",
      "Int64Index: 16713 entries, 0 to 16714\n",
      "Data columns (total 11 columns):\n",
      " #   Column           Non-Null Count  Dtype  \n",
      "---  ------           --------------  -----  \n",
      " 0   name             16713 non-null  object \n",
      " 1   platform         16713 non-null  object \n",
      " 2   year_of_release  16713 non-null  int64  \n",
      " 3   genre            16713 non-null  object \n",
      " 4   na_sales         16713 non-null  float64\n",
      " 5   eu_sales         16713 non-null  float64\n",
      " 6   jp_sales         16713 non-null  float64\n",
      " 7   other_sales      16713 non-null  float64\n",
      " 8   critic_score     8137 non-null   float64\n",
      " 9   user_score       10014 non-null  object \n",
      " 10  rating           9949 non-null   object \n",
      "dtypes: float64(5), int64(1), object(5)\n",
      "memory usage: 1.5+ MB\n"
     ]
    },
    {
     "data": {
      "text/plain": [
       "None"
      ]
     },
     "metadata": {},
     "output_type": "display_data"
    }
   ],
   "source": [
    "display(data.query('name.isna()'))\n",
    "data.dropna(subset = ['name'], inplace = True)\n",
    "display(data.info())"
   ]
  },
  {
   "cell_type": "markdown",
   "metadata": {},
   "source": [
    "### Комментарий\n",
    "Так как таких игр всего 2, и выпущены они в 1993 году, то удаление строк игр без названия не внесет ошибку в конечный результат."
   ]
  },
  {
   "cell_type": "markdown",
   "metadata": {},
   "source": [
    "**Добавление столбца  total_sales с суммарными продажами**"
   ]
  },
  {
   "cell_type": "code",
   "execution_count": 8,
   "metadata": {},
   "outputs": [
    {
     "data": {
      "text/html": [
       "<div>\n",
       "<style scoped>\n",
       "    .dataframe tbody tr th:only-of-type {\n",
       "        vertical-align: middle;\n",
       "    }\n",
       "\n",
       "    .dataframe tbody tr th {\n",
       "        vertical-align: top;\n",
       "    }\n",
       "\n",
       "    .dataframe thead th {\n",
       "        text-align: right;\n",
       "    }\n",
       "</style>\n",
       "<table border=\"1\" class=\"dataframe\">\n",
       "  <thead>\n",
       "    <tr style=\"text-align: right;\">\n",
       "      <th></th>\n",
       "      <th>name</th>\n",
       "      <th>platform</th>\n",
       "      <th>year_of_release</th>\n",
       "      <th>genre</th>\n",
       "      <th>na_sales</th>\n",
       "      <th>eu_sales</th>\n",
       "      <th>jp_sales</th>\n",
       "      <th>other_sales</th>\n",
       "      <th>critic_score</th>\n",
       "      <th>user_score</th>\n",
       "      <th>rating</th>\n",
       "      <th>total_sales</th>\n",
       "    </tr>\n",
       "  </thead>\n",
       "  <tbody>\n",
       "    <tr>\n",
       "      <th>0</th>\n",
       "      <td>Wii Sports</td>\n",
       "      <td>Wii</td>\n",
       "      <td>2006</td>\n",
       "      <td>Sports</td>\n",
       "      <td>41.36</td>\n",
       "      <td>28.96</td>\n",
       "      <td>3.77</td>\n",
       "      <td>8.45</td>\n",
       "      <td>76.0</td>\n",
       "      <td>8</td>\n",
       "      <td>E</td>\n",
       "      <td>82.54</td>\n",
       "    </tr>\n",
       "    <tr>\n",
       "      <th>1</th>\n",
       "      <td>Super Mario Bros.</td>\n",
       "      <td>NES</td>\n",
       "      <td>1985</td>\n",
       "      <td>Platform</td>\n",
       "      <td>29.08</td>\n",
       "      <td>3.58</td>\n",
       "      <td>6.81</td>\n",
       "      <td>0.77</td>\n",
       "      <td>NaN</td>\n",
       "      <td>NaN</td>\n",
       "      <td>NaN</td>\n",
       "      <td>40.24</td>\n",
       "    </tr>\n",
       "    <tr>\n",
       "      <th>2</th>\n",
       "      <td>Mario Kart Wii</td>\n",
       "      <td>Wii</td>\n",
       "      <td>2008</td>\n",
       "      <td>Racing</td>\n",
       "      <td>15.68</td>\n",
       "      <td>12.76</td>\n",
       "      <td>3.79</td>\n",
       "      <td>3.29</td>\n",
       "      <td>82.0</td>\n",
       "      <td>8.3</td>\n",
       "      <td>E</td>\n",
       "      <td>35.52</td>\n",
       "    </tr>\n",
       "    <tr>\n",
       "      <th>3</th>\n",
       "      <td>Wii Sports Resort</td>\n",
       "      <td>Wii</td>\n",
       "      <td>2009</td>\n",
       "      <td>Sports</td>\n",
       "      <td>15.61</td>\n",
       "      <td>10.93</td>\n",
       "      <td>3.28</td>\n",
       "      <td>2.95</td>\n",
       "      <td>80.0</td>\n",
       "      <td>8</td>\n",
       "      <td>E</td>\n",
       "      <td>32.77</td>\n",
       "    </tr>\n",
       "    <tr>\n",
       "      <th>4</th>\n",
       "      <td>Pokemon Red/Pokemon Blue</td>\n",
       "      <td>GB</td>\n",
       "      <td>1996</td>\n",
       "      <td>Role-Playing</td>\n",
       "      <td>11.27</td>\n",
       "      <td>8.89</td>\n",
       "      <td>10.22</td>\n",
       "      <td>1.00</td>\n",
       "      <td>NaN</td>\n",
       "      <td>NaN</td>\n",
       "      <td>NaN</td>\n",
       "      <td>31.38</td>\n",
       "    </tr>\n",
       "  </tbody>\n",
       "</table>\n",
       "</div>"
      ],
      "text/plain": [
       "                       name platform  year_of_release         genre  na_sales  \\\n",
       "0                Wii Sports      Wii             2006        Sports     41.36   \n",
       "1         Super Mario Bros.      NES             1985      Platform     29.08   \n",
       "2            Mario Kart Wii      Wii             2008        Racing     15.68   \n",
       "3         Wii Sports Resort      Wii             2009        Sports     15.61   \n",
       "4  Pokemon Red/Pokemon Blue       GB             1996  Role-Playing     11.27   \n",
       "\n",
       "   eu_sales  jp_sales  other_sales  critic_score user_score rating  \\\n",
       "0     28.96      3.77         8.45          76.0          8      E   \n",
       "1      3.58      6.81         0.77           NaN        NaN    NaN   \n",
       "2     12.76      3.79         3.29          82.0        8.3      E   \n",
       "3     10.93      3.28         2.95          80.0          8      E   \n",
       "4      8.89     10.22         1.00           NaN        NaN    NaN   \n",
       "\n",
       "   total_sales  \n",
       "0        82.54  \n",
       "1        40.24  \n",
       "2        35.52  \n",
       "3        32.77  \n",
       "4        31.38  "
      ]
     },
     "metadata": {},
     "output_type": "display_data"
    }
   ],
   "source": [
    "data['total_sales'] = data['eu_sales'] + data['na_sales'] + data['jp_sales'] + data['other_sales']\n",
    "display(data.head(5))"
   ]
  },
  {
   "cell_type": "markdown",
   "metadata": {},
   "source": [
    "###### Исследование пропусков  в Critic_Score и User_Score . "
   ]
  },
  {
   "cell_type": "markdown",
   "metadata": {},
   "source": [
    "в столбцах **Critic_Score** и **User_Score** помимо пропущенных значений содержатся 'tbd', которые тоже следует интерпретировать, как NaN"
   ]
  },
  {
   "cell_type": "code",
   "execution_count": 9,
   "metadata": {},
   "outputs": [
    {
     "name": "stdout",
     "output_type": "stream",
     "text": [
      "8576\n",
      "6699\n"
     ]
    }
   ],
   "source": [
    "print(len(data[data['critic_score'].isna()]['critic_score']))\n",
    "print(len(data[data['user_score'].isna()]['critic_score']))"
   ]
  },
  {
   "cell_type": "code",
   "execution_count": 10,
   "metadata": {},
   "outputs": [
    {
     "name": "stdout",
     "output_type": "stream",
     "text": [
      "2424\n"
     ]
    }
   ],
   "source": [
    "print(len(data[data['user_score'] == 'tbd']))\n",
    "data['user_score'] = data['user_score'].replace('tbd', None)\n",
    "data['user_score'] = data['user_score'].astype('float')"
   ]
  },
  {
   "cell_type": "code",
   "execution_count": 11,
   "metadata": {},
   "outputs": [
    {
     "name": "stdout",
     "output_type": "stream",
     "text": [
      "7348\n",
      "7953\n",
      "8576\n",
      "623\n"
     ]
    }
   ],
   "source": [
    "print(len(data[(data['critic_score'].isna()) & (data['user_score'].isna())]))\n",
    "print(len(data[data['user_score'].isna()]['critic_score']))\n",
    "print(len(data[data['critic_score'].isna()]['critic_score']))\n",
    "print(abs(len(data[data['critic_score'].isna()]) - len(data[data['user_score'].isna()])))"
   ]
  },
  {
   "cell_type": "markdown",
   "metadata": {},
   "source": [
    "### Комментарий\n",
    "Значения tbd в user_score означают to be determined(то есть либо прошло мало времени с момента выхода игры или же кол-во голосов не соответсвует некому порогому значению) для дальней работы с данными они были заменены пропусками. Пропусков в данных содержится большое кол-во. Но насколько целесообразно их заполнять неясно и как это сделать правильным образом. На мой взгляд, стоимость игры имеет важную связь с ее рейтингом, но т.к. именно на такой вопрос предстоит ответить на вопрос в ходе выполнения задания, то такой способ заполнения не представляется корректным. Любые другие способы(Например: связав рейтинг с жанром каждой игры и платформы, на которой игра выпущена) заполнения этих данных без использования информации по продажам не представляется корректным, поэтому было решено оставить эти данные незаполненными."
   ]
  },
  {
   "cell_type": "markdown",
   "metadata": {},
   "source": [
    "###### Исследование пропусков  и значений в Rating"
   ]
  },
  {
   "cell_type": "code",
   "execution_count": 12,
   "metadata": {},
   "outputs": [
    {
     "name": "stdout",
     "output_type": "stream",
     "text": [
      "6764\n",
      "['E' nan 'M' 'T' 'E10+' 'K-A' 'AO' 'EC' 'RP']\n",
      "E       3990\n",
      "T       2961\n",
      "M       1563\n",
      "E10+    1420\n",
      "EC         8\n",
      "K-A        3\n",
      "RP         3\n",
      "AO         1\n",
      "Name: rating, dtype: int64\n"
     ]
    }
   ],
   "source": [
    "print(len(data[data['rating'].isna()]))\n",
    "print(data['rating'].unique())\n",
    "print(data['rating'].value_counts())"
   ]
  },
  {
   "cell_type": "code",
   "execution_count": 13,
   "metadata": {},
   "outputs": [
    {
     "name": "stdout",
     "output_type": "stream",
     "text": [
      "3\n"
     ]
    }
   ],
   "source": [
    "print(len(data[data['rating'] == 'RP']))"
   ]
  },
  {
   "cell_type": "markdown",
   "metadata": {},
   "source": [
    "\n",
    " - K-A это устаревшее название E - для всех, следовательно необходимо заменить на K-A на E \n",
    " - M - 17+\n",
    " - T - 13+\n",
    " - E10+ - 10+\n",
    " - AO - 18+\n",
    " - EC - 3+\n",
    " - RP - рейтинг ожидается, таких всего 3 штуки, для упрощения будут приняты за nan\n",
    "Также присутствует большое число пропущенных значений, которые можно заполнить, используя связь жанра и возрастных ограничений."
   ]
  },
  {
   "cell_type": "markdown",
   "metadata": {},
   "source": [
    "Заменим 'K-A' на 'E', а 'RP' на None"
   ]
  },
  {
   "cell_type": "code",
   "execution_count": 14,
   "metadata": {},
   "outputs": [
    {
     "name": "stdout",
     "output_type": "stream",
     "text": [
      "E       3994\n",
      "T       2962\n",
      "M       1563\n",
      "E10+    1420\n",
      "EC         8\n",
      "AO         1\n",
      "Name: rating, dtype: int64\n"
     ]
    }
   ],
   "source": [
    "data['rating'] = data['rating'].replace('K-A', 'E')\n",
    "data['rating'] = data['rating'].replace('RP', None)\n",
    "print(data['rating'].value_counts())"
   ]
  },
  {
   "cell_type": "markdown",
   "metadata": {},
   "source": [
    "На мой взгляд восстановить рейтинг игры можно используя наиболее распространенный рейтинг игр того же жанра."
   ]
  },
  {
   "cell_type": "code",
   "execution_count": 15,
   "metadata": {},
   "outputs": [],
   "source": [
    "def fill_rating(row):\n",
    "    temp_genre = row['genre']\n",
    "    temp_rating = row['rating']\n",
    "    if pd.isnull(temp_rating):\n",
    "        temp_rating = data[data['genre'] == temp_genre]['rating'].value_counts().idxmax()\n",
    "    return temp_rating"
   ]
  },
  {
   "cell_type": "code",
   "execution_count": 16,
   "metadata": {},
   "outputs": [
    {
     "name": "stdout",
     "output_type": "stream",
     "text": [
      "0\n"
     ]
    }
   ],
   "source": [
    "data['rating'] = data.apply(fill_rating, axis = 1)\n",
    "print(len(data[data['rating'].isna()]))"
   ]
  },
  {
   "cell_type": "code",
   "execution_count": 17,
   "metadata": {},
   "outputs": [
    {
     "name": "stdout",
     "output_type": "stream",
     "text": [
      "E       7797\n",
      "T       5620\n",
      "M       1867\n",
      "E10+    1420\n",
      "EC         8\n",
      "AO         1\n",
      "Name: rating, dtype: int64\n"
     ]
    }
   ],
   "source": [
    "print(data['rating'].value_counts())"
   ]
  },
  {
   "cell_type": "markdown",
   "metadata": {},
   "source": [
    "### Вывод\n",
    "Была произведена обработка данных, в тех столбцах, где это было целесообразно были заменены пропуски. Теперь данные готовы для последующего анализа."
   ]
  },
  {
   "cell_type": "markdown",
   "metadata": {},
   "source": [
    "## Шаг 3. Проведите исследовательский анализ данных¶\n",
    " - Посмотрите, сколько игр выпускалось в разные годы. Важны ли данные за все периоды?\n",
    " - Посмотрите, как менялись продажи по платформам. Выберите платформы с наибольшими суммарными продажами и постройте распределение по годам. За какой характерный срок появляются новые и исчезают старые платформы?\n",
    " - Возьмите данные за соответствующий актуальный период. Актуальный период определите самостоятельно в результате исследования предыдущих вопросов. Основной фактор — эти данные помогут построить прогноз на 2017 год.\n",
    " - Не учитывайте в работе данные за предыдущие годы.\n",
    " - Какие платформы лидируют по продажам, растут или падают? Выберите несколько потенциально прибыльных платформ.\n",
    " - Постройте график «ящик с усами» по глобальным продажам каждой игры и разбивкой по платформам. Велика ли разница в продажах? А в средних продажах на разных платформах? Опишите результат.\n",
    " - Посмотрите, как влияют на продажи внутри одной популярной платформы отзывы пользователей и критиков. Постройте диаграмму рассеяния и посчитайте корреляцию между отзывами и продажами. Сформулируйте выводы.\n",
    " - Соотнесите выводы с продажами игр на других платформах.\n",
    " - Посмотрите на общее распределение игр по жанрам. Что можно сказать о самых прибыльных жанрах? Выделяются ли жанры с высокими и низкими продажами?"
   ]
  },
  {
   "cell_type": "markdown",
   "metadata": {},
   "source": [
    "###### Посмотрите, сколько игр выпускалось в разные годы. Важны ли данные за все периоды?"
   ]
  },
  {
   "cell_type": "markdown",
   "metadata": {},
   "source": [
    "Построим графики, чтобы оценить выпуск игр и выручки по годам"
   ]
  },
  {
   "cell_type": "code",
   "execution_count": 18,
   "metadata": {},
   "outputs": [
    {
     "data": {
      "image/png": "[encoded data removed]",
      "text/plain": [
       "<Figure size 1728x288 with 1 Axes>"
      ]
     },
     "metadata": {
      "needs_background": "light"
     },
     "output_type": "display_data"
    }
   ],
   "source": [
    "ax = sns.catplot(\n",
    "    data=data,\n",
    "    x='year_of_release',\n",
    "    kind='count',\n",
    "    height=4, \n",
    "    aspect=6,\n",
    "    color='blue')"
   ]
  },
  {
   "cell_type": "code",
   "execution_count": 19,
   "metadata": {},
   "outputs": [
    {
     "data": {
      "image/png": "[encoded data removed]",
      "text/plain": [
       "<Figure size 1728x288 with 1 Axes>"
      ]
     },
     "metadata": {
      "needs_background": "light"
     },
     "output_type": "display_data"
    }
   ],
   "source": [
    "ax = sns.catplot(\n",
    "    data=data.pivot_table(index = 'year_of_release', values = 'total_sales', aggfunc = {'sum'}),\n",
    "    kind='bar',\n",
    "    x=data.pivot_table(index = 'year_of_release', values = 'total_sales', aggfunc = {'sum'}).index,\n",
    "    y=data.pivot_table(index = 'year_of_release', values = 'total_sales', aggfunc = {'sum'})['sum'],\n",
    "    height=4, \n",
    "    aspect=6,\n",
    "    color='blue')\n",
    "ax.set(title = 'Распределение суммарных продаж от года')\n",
    "plt.show()"
   ]
  },
  {
   "cell_type": "markdown",
   "metadata": {},
   "source": [
    "### Комментарий\n",
    "Как видно из графика кол-во выпускаемых игр резко вырос в 2002 году. Максимальное кол-во игр было выпущено в 2009, затем был спад. Начиная с 2012 года кол-во выпускаемых игр несильно отличается друг от друга. График выручки имеет схожие тенденции. Но спад менее заметен, что возможно связано с увеличением стоимости игр."
   ]
  },
  {
   "cell_type": "markdown",
   "metadata": {},
   "source": [
    "###### Посмотрите, как менялись продажи по платформам. Выберите платформы с наибольшими суммарными продажами и постройте распределение по годам. За какой характерный срок появляются новые и исчезают старые платформы?"
   ]
  },
  {
   "cell_type": "code",
   "execution_count": 20,
   "metadata": {},
   "outputs": [
    {
     "data": {
      "image/png": "[encoded data removed]",
      "text/plain": [
       "<Figure size 720x360 with 1 Axes>"
      ]
     },
     "metadata": {
      "needs_background": "light"
     },
     "output_type": "display_data"
    }
   ],
   "source": [
    "top_sales_platforms = data.pivot_table(index = 'platform', values = 'total_sales', aggfunc = 'sum').sort_values(by = 'total_sales', ascending = False).head(15)\n",
    "\n",
    "top_sales_platforms = top_sales_platforms.reset_index()\n",
    "\n",
    "\n",
    "\n",
    "ax = sns.catplot(\n",
    "    data=top_sales_platforms,\n",
    "    x = 'platform',\n",
    "    y = 'total_sales',\n",
    "    kind = 'bar',\n",
    "    aspect = 2,\n",
    "color = 'blue')\n"
   ]
  },
  {
   "cell_type": "markdown",
   "metadata": {},
   "source": [
    "###### Комментарий\n",
    "В качестве популярных платформ были выбраны PS2, X360, PS3, Wii, DS, PS"
   ]
  },
  {
   "cell_type": "code",
   "execution_count": 21,
   "metadata": {},
   "outputs": [
    {
     "data": {
      "text/plain": [
       "0     PS2\n",
       "1    X360\n",
       "2     PS3\n",
       "3     Wii\n",
       "4      DS\n",
       "5      PS\n",
       "Name: platform, dtype: object"
      ]
     },
     "metadata": {},
     "output_type": "display_data"
    }
   ],
   "source": [
    "display(top_sales_platforms['platform'].head(6))"
   ]
  },
  {
   "cell_type": "code",
   "execution_count": 22,
   "metadata": {},
   "outputs": [
    {
     "data": {
      "image/png": "[encoded data removed]",
      "text/plain": [
       "<Figure size 720x1800 with 6 Axes>"
      ]
     },
     "metadata": {
      "needs_background": "light"
     },
     "output_type": "display_data"
    }
   ],
   "source": [
    "fig, axes = plt.subplots(6, 1, figsize=(10, 25))\n",
    "i = 0\n",
    "for temp_platform in top_sales_platforms['platform'].head(6):\n",
    "    temp_platform_data = data.query('platform == @temp_platform')\n",
    "    temp_platform_data = temp_platform_data.pivot_table(index = 'year_of_release', values = 'total_sales',\n",
    "                                                       aggfunc = {sum})\n",
    "    sns.barplot(\n",
    "        ax = axes[i],\n",
    "        x = temp_platform_data.index,\n",
    "        y = temp_platform_data['sum'],\n",
    "        color = 'blue'\n",
    "    )\n",
    "#     axes[i].set(ylim=(0, 3))\n",
    "    axes[i].set(title = 'Распределение суммарных продаж по годам для: {}'.format(temp_platform))\n",
    "    axes[i].set(xlabel = '')\n",
    "    i+=1\n",
    "plt.show()    "
   ]
  },
  {
   "cell_type": "code",
   "execution_count": 23,
   "metadata": {},
   "outputs": [
    {
     "data": {
      "text/plain": [
       "0     PS2\n",
       "1    X360\n",
       "2     PS3\n",
       "3     Wii\n",
       "4      DS\n",
       "5      PS\n",
       "Name: platform, dtype: object"
      ]
     },
     "metadata": {},
     "output_type": "display_data"
    },
    {
     "data": {
      "image/png": "[encoded data removed]",
      "text/plain": [
       "<Figure size 720x1800 with 6 Axes>"
      ]
     },
     "metadata": {
      "needs_background": "light"
     },
     "output_type": "display_data"
    }
   ],
   "source": [
    "display(top_sales_platforms['platform'].head(6))\n",
    "fig, axes = plt.subplots(6, 1, figsize=(10, 25))\n",
    "i = 0\n",
    "\n",
    "for temp_platform in top_sales_platforms['platform'].head(6):\n",
    "    temp_platform_data = data.query('platform == @temp_platform')\n",
    "    temp_platform_data = temp_platform_data.pivot_table(index = 'year_of_release', values = 'total_sales',\n",
    "                                                       aggfunc = {'count'})\n",
    "    sns.barplot(\n",
    "        ax = axes[i], \n",
    "        x = temp_platform_data.index,\n",
    "        y =  temp_platform_data['count'],\n",
    "        color='blue')\n",
    "    axes[i].set(title = 'Распределение кол-ва игр по годам для: {}'.format(temp_platform))\n",
    "    axes[i].set(xlabel = '')\n",
    "    i += 1\n",
    "plt.show()"
   ]
  },
  {
   "cell_type": "markdown",
   "metadata": {},
   "source": [
    "###### Комментарий\n",
    "Для популярных платформ: PS2, X360, PS3, Wii, DS, PS были построены графики зав-ти суммарных продаж и кол-ва выпущенных игр от года. Полученные графики свидетельсвуют о том, что характерный срок \"жизни\" платформ может выбран равным 10 годам, пик кол-ва игр приходится в среднем на 5 лет. Для платформы DS присутствует выброс: 1985 год, что свидетельсвует об ошибке в начальном наборе данных."
   ]
  },
  {
   "cell_type": "markdown",
   "metadata": {},
   "source": [
    "###### Возьмите данные за соответствующий актуальный период. Актуальный период определите самостоятельно в результате исследования предыдущих вопросов. Основной фактор — эти данные помогут построить прогноз на 2017 год. Не учитывайте в работе данные за предыдущие годы.\n"
   ]
  },
  {
   "cell_type": "markdown",
   "metadata": {},
   "source": [
    "По результатам из предыдущего задания в среднем новые платформы остаются на плаву 10 лет, а пик их популярности приходится на 5 лет. К тому же как видно из графика зав-ти кол-ва выпущенных игр от года, начиная с 2012, кол-во игр держится на определенном уровне. Поэтому в качестве актуального периода будет выбран период с 2012 по 2016 года."
   ]
  },
  {
   "cell_type": "markdown",
   "metadata": {},
   "source": [
    "###### Какие платформы лидируют по продажам, растут или падают? Выберите несколько потенциально прибыльных платформ."
   ]
  },
  {
   "cell_type": "markdown",
   "metadata": {},
   "source": [
    "Выберем платформы которые были выпущены с 2006 года и на которые выходили игры в 2015-2016 годах(это отсеет те платформы, которые были неуспешны и время жизни, которых менее 10 лет.)"
   ]
  },
  {
   "cell_type": "code",
   "execution_count": 24,
   "metadata": {},
   "outputs": [
    {
     "data": {
      "text/html": [
       "<div>\n",
       "<style scoped>\n",
       "    .dataframe tbody tr th:only-of-type {\n",
       "        vertical-align: middle;\n",
       "    }\n",
       "\n",
       "    .dataframe tbody tr th {\n",
       "        vertical-align: top;\n",
       "    }\n",
       "\n",
       "    .dataframe thead th {\n",
       "        text-align: right;\n",
       "    }\n",
       "</style>\n",
       "<table border=\"1\" class=\"dataframe\">\n",
       "  <thead>\n",
       "    <tr style=\"text-align: right;\">\n",
       "      <th></th>\n",
       "      <th>platform</th>\n",
       "      <th>year_of_first_game</th>\n",
       "      <th>year_of_last_game</th>\n",
       "    </tr>\n",
       "  </thead>\n",
       "  <tbody>\n",
       "    <tr>\n",
       "      <th>0</th>\n",
       "      <td>3DS</td>\n",
       "      <td>2011</td>\n",
       "      <td>2016</td>\n",
       "    </tr>\n",
       "    <tr>\n",
       "      <th>5</th>\n",
       "      <td>PC</td>\n",
       "      <td>2006</td>\n",
       "      <td>2016</td>\n",
       "    </tr>\n",
       "    <tr>\n",
       "      <th>7</th>\n",
       "      <td>PS3</td>\n",
       "      <td>2006</td>\n",
       "      <td>2016</td>\n",
       "    </tr>\n",
       "    <tr>\n",
       "      <th>8</th>\n",
       "      <td>PS4</td>\n",
       "      <td>2013</td>\n",
       "      <td>2016</td>\n",
       "    </tr>\n",
       "    <tr>\n",
       "      <th>9</th>\n",
       "      <td>PSP</td>\n",
       "      <td>2006</td>\n",
       "      <td>2015</td>\n",
       "    </tr>\n",
       "    <tr>\n",
       "      <th>10</th>\n",
       "      <td>PSV</td>\n",
       "      <td>2011</td>\n",
       "      <td>2016</td>\n",
       "    </tr>\n",
       "    <tr>\n",
       "      <th>11</th>\n",
       "      <td>Wii</td>\n",
       "      <td>2006</td>\n",
       "      <td>2016</td>\n",
       "    </tr>\n",
       "    <tr>\n",
       "      <th>12</th>\n",
       "      <td>WiiU</td>\n",
       "      <td>2012</td>\n",
       "      <td>2016</td>\n",
       "    </tr>\n",
       "    <tr>\n",
       "      <th>13</th>\n",
       "      <td>X360</td>\n",
       "      <td>2006</td>\n",
       "      <td>2016</td>\n",
       "    </tr>\n",
       "    <tr>\n",
       "      <th>15</th>\n",
       "      <td>XOne</td>\n",
       "      <td>2013</td>\n",
       "      <td>2016</td>\n",
       "    </tr>\n",
       "  </tbody>\n",
       "</table>\n",
       "</div>"
      ],
      "text/plain": [
       "   platform  year_of_first_game  year_of_last_game\n",
       "0       3DS                2011               2016\n",
       "5        PC                2006               2016\n",
       "7       PS3                2006               2016\n",
       "8       PS4                2013               2016\n",
       "9       PSP                2006               2015\n",
       "10      PSV                2011               2016\n",
       "11      Wii                2006               2016\n",
       "12     WiiU                2012               2016\n",
       "13     X360                2006               2016\n",
       "15     XOne                2013               2016"
      ]
     },
     "metadata": {},
     "output_type": "display_data"
    }
   ],
   "source": [
    "platforms_after_2006 = data[(data['year_of_release'] >= 2006)].sort_values(by='year_of_release', ascending = False).pivot_table(index = 'platform', values = 'year_of_release', aggfunc = ['min','max'])\n",
    "platforms_after_2006 = platforms_after_2006.reset_index()\n",
    "platforms_after_2006.columns = ('platform','year_of_first_game','year_of_last_game')\n",
    "display(platforms_after_2006[platforms_after_2006['year_of_last_game'] >= 2015])"
   ]
  },
  {
   "cell_type": "code",
   "execution_count": 25,
   "metadata": {},
   "outputs": [
    {
     "data": {
      "image/png": "[encoded data removed]",
      "text/plain": [
       "<Figure size 1440x1800 with 10 Axes>"
      ]
     },
     "metadata": {
      "needs_background": "light"
     },
     "output_type": "display_data"
    }
   ],
   "source": [
    "fig, axes = plt.subplots(5, 2, \n",
    "                         figsize=(20, 25))\n",
    "i = 0\n",
    "\n",
    "for temp_platform in platforms_after_2006[platforms_after_2006['year_of_last_game'] >= 2015]['platform']:\n",
    "    index_1 = i % 5\n",
    "    index_2 = i // 5\n",
    "    temp_platform_data = data.query('(platform == @temp_platform) & (2012 <= year_of_release <= 2016)')\n",
    "    sns.boxplot(\n",
    "    ax = axes[index_1][index_2],\n",
    "    x = temp_platform_data['year_of_release'],\n",
    "    y = temp_platform_data['total_sales'],\n",
    "        color='blue')\n",
    "    axes[index_1][index_2].set(ylim=(0, 3))\n",
    "    axes[index_1][index_2].set(title = 'Cуммарные продажи по годам для: {}'.format(temp_platform))\n",
    "    axes[index_1][index_2].set(xlabel = '')\n",
    "    i += 1\n",
    "    \n",
    "plt.show()"
   ]
  },
  {
   "cell_type": "markdown",
   "metadata": {},
   "source": [
    "Представим данные для выбранных платформ и игр в виде графиков."
   ]
  },
  {
   "cell_type": "markdown",
   "metadata": {},
   "source": [
    "### Комментарий\n",
    "\n",
    "   Для начала были выбраны платформы которые были выпущены с 2006 года и на которые выходили игры в 2015-2016 годах(это отсеет те платформы, которые были неуспешны и время жизни, которых менее 10 лет.) Для этих платформ были построены графики суммарных продаж в зависимости от года(2012-2016,т.к. интересен актуальный период). Для того, чтобы оценить успешность платформ необходимо рассмотреть продажи за актуальный период для каждой платформы. Из графиков хорошо видно, что выход в продажу нового поколения платформы уменьшает продажи игр для платформы предыдущей версии.(Например PS3 и PS4, Wii и WiiU). Хотя почти для всех платформ наблюдается снижение продаж, можно выделить те у которых уровень продаж находится в лучших значениях. Платформы, которые должны быть наиболее прибыльны в 2017 году: 3DS, PS4, WiiU, XOne."
   ]
  },
  {
   "cell_type": "markdown",
   "metadata": {},
   "source": [
    "###### Постройте график «ящик с усами» по глобальным продажам каждой игры и разбивкой по платформам. Велика ли разница в продажах? А в средних продажах на разных платформах? Опишите результат."
   ]
  },
  {
   "cell_type": "code",
   "execution_count": 26,
   "metadata": {},
   "outputs": [
    {
     "data": {
      "text/html": [
       "<div>\n",
       "<style scoped>\n",
       "    .dataframe tbody tr th:only-of-type {\n",
       "        vertical-align: middle;\n",
       "    }\n",
       "\n",
       "    .dataframe tbody tr th {\n",
       "        vertical-align: top;\n",
       "    }\n",
       "\n",
       "    .dataframe thead th {\n",
       "        text-align: right;\n",
       "    }\n",
       "</style>\n",
       "<table border=\"1\" class=\"dataframe\">\n",
       "  <thead>\n",
       "    <tr style=\"text-align: right;\">\n",
       "      <th></th>\n",
       "      <th>name</th>\n",
       "      <th>platform</th>\n",
       "      <th>year_of_release</th>\n",
       "      <th>genre</th>\n",
       "      <th>na_sales</th>\n",
       "      <th>eu_sales</th>\n",
       "      <th>jp_sales</th>\n",
       "      <th>other_sales</th>\n",
       "      <th>critic_score</th>\n",
       "      <th>user_score</th>\n",
       "      <th>rating</th>\n",
       "      <th>total_sales</th>\n",
       "    </tr>\n",
       "  </thead>\n",
       "  <tbody>\n",
       "    <tr>\n",
       "      <th>0</th>\n",
       "      <td>Call of Duty: Black Ops 3</td>\n",
       "      <td>PS4</td>\n",
       "      <td>2015</td>\n",
       "      <td>Shooter</td>\n",
       "      <td>6.03</td>\n",
       "      <td>5.86</td>\n",
       "      <td>0.36</td>\n",
       "      <td>2.38</td>\n",
       "      <td>NaN</td>\n",
       "      <td>NaN</td>\n",
       "      <td>M</td>\n",
       "      <td>14.63</td>\n",
       "    </tr>\n",
       "    <tr>\n",
       "      <th>1</th>\n",
       "      <td>Pokemon X/Pokemon Y</td>\n",
       "      <td>3DS</td>\n",
       "      <td>2013</td>\n",
       "      <td>Role-Playing</td>\n",
       "      <td>5.28</td>\n",
       "      <td>4.19</td>\n",
       "      <td>4.35</td>\n",
       "      <td>0.78</td>\n",
       "      <td>NaN</td>\n",
       "      <td>NaN</td>\n",
       "      <td>T</td>\n",
       "      <td>14.60</td>\n",
       "    </tr>\n",
       "    <tr>\n",
       "      <th>2</th>\n",
       "      <td>Mario Kart 7</td>\n",
       "      <td>3DS</td>\n",
       "      <td>2011</td>\n",
       "      <td>Racing</td>\n",
       "      <td>5.03</td>\n",
       "      <td>4.02</td>\n",
       "      <td>2.69</td>\n",
       "      <td>0.91</td>\n",
       "      <td>85.0</td>\n",
       "      <td>8.2</td>\n",
       "      <td>E</td>\n",
       "      <td>12.65</td>\n",
       "    </tr>\n",
       "    <tr>\n",
       "      <th>3</th>\n",
       "      <td>Grand Theft Auto V</td>\n",
       "      <td>PS4</td>\n",
       "      <td>2014</td>\n",
       "      <td>Action</td>\n",
       "      <td>3.96</td>\n",
       "      <td>6.31</td>\n",
       "      <td>0.38</td>\n",
       "      <td>1.97</td>\n",
       "      <td>97.0</td>\n",
       "      <td>8.3</td>\n",
       "      <td>M</td>\n",
       "      <td>12.62</td>\n",
       "    </tr>\n",
       "    <tr>\n",
       "      <th>4</th>\n",
       "      <td>Pokemon Omega Ruby/Pokemon Alpha Sapphire</td>\n",
       "      <td>3DS</td>\n",
       "      <td>2014</td>\n",
       "      <td>Role-Playing</td>\n",
       "      <td>4.35</td>\n",
       "      <td>3.49</td>\n",
       "      <td>3.10</td>\n",
       "      <td>0.74</td>\n",
       "      <td>NaN</td>\n",
       "      <td>NaN</td>\n",
       "      <td>T</td>\n",
       "      <td>11.68</td>\n",
       "    </tr>\n",
       "    <tr>\n",
       "      <th>5</th>\n",
       "      <td>Super Mario 3D Land</td>\n",
       "      <td>3DS</td>\n",
       "      <td>2011</td>\n",
       "      <td>Platform</td>\n",
       "      <td>4.89</td>\n",
       "      <td>3.00</td>\n",
       "      <td>2.14</td>\n",
       "      <td>0.78</td>\n",
       "      <td>90.0</td>\n",
       "      <td>8.4</td>\n",
       "      <td>E</td>\n",
       "      <td>10.81</td>\n",
       "    </tr>\n",
       "    <tr>\n",
       "      <th>6</th>\n",
       "      <td>New Super Mario Bros. 2</td>\n",
       "      <td>3DS</td>\n",
       "      <td>2012</td>\n",
       "      <td>Platform</td>\n",
       "      <td>3.66</td>\n",
       "      <td>3.14</td>\n",
       "      <td>2.47</td>\n",
       "      <td>0.63</td>\n",
       "      <td>78.0</td>\n",
       "      <td>7.2</td>\n",
       "      <td>E</td>\n",
       "      <td>9.90</td>\n",
       "    </tr>\n",
       "    <tr>\n",
       "      <th>7</th>\n",
       "      <td>Animal Crossing: New Leaf</td>\n",
       "      <td>3DS</td>\n",
       "      <td>2012</td>\n",
       "      <td>Simulation</td>\n",
       "      <td>2.03</td>\n",
       "      <td>2.36</td>\n",
       "      <td>4.39</td>\n",
       "      <td>0.39</td>\n",
       "      <td>88.0</td>\n",
       "      <td>8.7</td>\n",
       "      <td>E</td>\n",
       "      <td>9.17</td>\n",
       "    </tr>\n",
       "    <tr>\n",
       "      <th>8</th>\n",
       "      <td>FIFA 16</td>\n",
       "      <td>PS4</td>\n",
       "      <td>2015</td>\n",
       "      <td>Sports</td>\n",
       "      <td>1.12</td>\n",
       "      <td>6.12</td>\n",
       "      <td>0.06</td>\n",
       "      <td>1.28</td>\n",
       "      <td>82.0</td>\n",
       "      <td>4.3</td>\n",
       "      <td>E</td>\n",
       "      <td>8.58</td>\n",
       "    </tr>\n",
       "    <tr>\n",
       "      <th>9</th>\n",
       "      <td>Star Wars Battlefront (2015)</td>\n",
       "      <td>PS4</td>\n",
       "      <td>2015</td>\n",
       "      <td>Shooter</td>\n",
       "      <td>2.99</td>\n",
       "      <td>3.49</td>\n",
       "      <td>0.22</td>\n",
       "      <td>1.28</td>\n",
       "      <td>NaN</td>\n",
       "      <td>NaN</td>\n",
       "      <td>M</td>\n",
       "      <td>7.98</td>\n",
       "    </tr>\n",
       "  </tbody>\n",
       "</table>\n",
       "</div>"
      ],
      "text/plain": [
       "                                        name platform  year_of_release  \\\n",
       "0                  Call of Duty: Black Ops 3      PS4             2015   \n",
       "1                        Pokemon X/Pokemon Y      3DS             2013   \n",
       "2                               Mario Kart 7      3DS             2011   \n",
       "3                         Grand Theft Auto V      PS4             2014   \n",
       "4  Pokemon Omega Ruby/Pokemon Alpha Sapphire      3DS             2014   \n",
       "5                        Super Mario 3D Land      3DS             2011   \n",
       "6                    New Super Mario Bros. 2      3DS             2012   \n",
       "7                  Animal Crossing: New Leaf      3DS             2012   \n",
       "8                                    FIFA 16      PS4             2015   \n",
       "9               Star Wars Battlefront (2015)      PS4             2015   \n",
       "\n",
       "          genre  na_sales  eu_sales  jp_sales  other_sales  critic_score  \\\n",
       "0       Shooter      6.03      5.86      0.36         2.38           NaN   \n",
       "1  Role-Playing      5.28      4.19      4.35         0.78           NaN   \n",
       "2        Racing      5.03      4.02      2.69         0.91          85.0   \n",
       "3        Action      3.96      6.31      0.38         1.97          97.0   \n",
       "4  Role-Playing      4.35      3.49      3.10         0.74           NaN   \n",
       "5      Platform      4.89      3.00      2.14         0.78          90.0   \n",
       "6      Platform      3.66      3.14      2.47         0.63          78.0   \n",
       "7    Simulation      2.03      2.36      4.39         0.39          88.0   \n",
       "8        Sports      1.12      6.12      0.06         1.28          82.0   \n",
       "9       Shooter      2.99      3.49      0.22         1.28           NaN   \n",
       "\n",
       "   user_score rating  total_sales  \n",
       "0         NaN      M        14.63  \n",
       "1         NaN      T        14.60  \n",
       "2         8.2      E        12.65  \n",
       "3         8.3      M        12.62  \n",
       "4         NaN      T        11.68  \n",
       "5         8.4      E        10.81  \n",
       "6         7.2      E         9.90  \n",
       "7         8.7      E         9.17  \n",
       "8         4.3      E         8.58  \n",
       "9         NaN      M         7.98  "
      ]
     },
     "metadata": {},
     "output_type": "display_data"
    },
    {
     "name": "stdout",
     "output_type": "stream",
     "text": [
      "1306\n"
     ]
    }
   ],
   "source": [
    "good_data = data.query('(platform == \"3DS\") | (platform == \"PS4\") | (platform == \"WiiU\") | (platform == \"XOne\")')\n",
    "good_data.reset_index(drop = True, inplace = True)\n",
    "display(good_data.head(10))\n",
    "print(len(good_data))"
   ]
  },
  {
   "cell_type": "code",
   "execution_count": 27,
   "metadata": {},
   "outputs": [
    {
     "data": {
      "image/png": "[encoded data removed]",
      "text/plain": [
       "<Figure size 1080x360 with 2 Axes>"
      ]
     },
     "metadata": {
      "needs_background": "light"
     },
     "output_type": "display_data"
    }
   ],
   "source": [
    "fig, (ax1, ax2) = plt.subplots(1,2, figsize = (15,5))\n",
    "sns.boxplot(\n",
    "    ax = ax1,\n",
    "    data=good_data,\n",
    "    x = 'platform',\n",
    "    y='total_sales',\n",
    "    hue='platform')\n",
    "# ax1.set(ylim=(0, 3))\n",
    "ax1.set(title = 'Распределение суммарных продаж с разбивкой на платформы ')\n",
    "\n",
    "\n",
    "\n",
    "sns.boxplot(\n",
    "    ax = ax2,\n",
    "    data=good_data,\n",
    "    x = 'platform',\n",
    "    y='total_sales',\n",
    "    hue='platform')\n",
    "ax2.set(ylim=(0, 1.8))\n",
    "ax2.set(title = 'Суммарные продажи с разбивкой на платформы, увеличенный масштаб')\n",
    "plt.show()\n"
   ]
  },
  {
   "cell_type": "code",
   "execution_count": 28,
   "metadata": {},
   "outputs": [
    {
     "data": {
      "text/html": [
       "<div>\n",
       "<style scoped>\n",
       "    .dataframe tbody tr th:only-of-type {\n",
       "        vertical-align: middle;\n",
       "    }\n",
       "\n",
       "    .dataframe tbody tr th {\n",
       "        vertical-align: top;\n",
       "    }\n",
       "\n",
       "    .dataframe thead tr th {\n",
       "        text-align: left;\n",
       "    }\n",
       "\n",
       "    .dataframe thead tr:last-of-type th {\n",
       "        text-align: right;\n",
       "    }\n",
       "</style>\n",
       "<table border=\"1\" class=\"dataframe\">\n",
       "  <thead>\n",
       "    <tr>\n",
       "      <th></th>\n",
       "      <th>mean</th>\n",
       "      <th>sum</th>\n",
       "      <th>median</th>\n",
       "      <th>count</th>\n",
       "    </tr>\n",
       "    <tr>\n",
       "      <th></th>\n",
       "      <th>total_sales</th>\n",
       "      <th>total_sales</th>\n",
       "      <th>total_sales</th>\n",
       "      <th>total_sales</th>\n",
       "    </tr>\n",
       "    <tr>\n",
       "      <th>platform</th>\n",
       "      <th></th>\n",
       "      <th></th>\n",
       "      <th></th>\n",
       "      <th></th>\n",
       "    </tr>\n",
       "  </thead>\n",
       "  <tbody>\n",
       "    <tr>\n",
       "      <th>3DS</th>\n",
       "      <td>0.498077</td>\n",
       "      <td>259.00</td>\n",
       "      <td>0.12</td>\n",
       "      <td>520</td>\n",
       "    </tr>\n",
       "    <tr>\n",
       "      <th>PS4</th>\n",
       "      <td>0.801378</td>\n",
       "      <td>314.14</td>\n",
       "      <td>0.20</td>\n",
       "      <td>392</td>\n",
       "    </tr>\n",
       "    <tr>\n",
       "      <th>WiiU</th>\n",
       "      <td>0.559116</td>\n",
       "      <td>82.19</td>\n",
       "      <td>0.22</td>\n",
       "      <td>147</td>\n",
       "    </tr>\n",
       "    <tr>\n",
       "      <th>XOne</th>\n",
       "      <td>0.645020</td>\n",
       "      <td>159.32</td>\n",
       "      <td>0.22</td>\n",
       "      <td>247</td>\n",
       "    </tr>\n",
       "  </tbody>\n",
       "</table>\n",
       "</div>"
      ],
      "text/plain": [
       "                mean         sum      median       count\n",
       "         total_sales total_sales total_sales total_sales\n",
       "platform                                                \n",
       "3DS         0.498077      259.00        0.12         520\n",
       "PS4         0.801378      314.14        0.20         392\n",
       "WiiU        0.559116       82.19        0.22         147\n",
       "XOne        0.645020      159.32        0.22         247"
      ]
     },
     "metadata": {},
     "output_type": "display_data"
    }
   ],
   "source": [
    "display(good_data.pivot_table(index = 'platform', values = 'total_sales', aggfunc = ['mean','sum','median','count']))"
   ]
  },
  {
   "cell_type": "markdown",
   "metadata": {},
   "source": [
    "###### Комментарий\n",
    "\n",
    "Как видно из графика:\n",
    "- PS4, WiiU, XOne имеют примерно равные медианные значения, у 3DS оно почти в два раза меньше.\n",
    "- средние значения продаж игр PS4 существенно выше, чем у других платформ, засчет выбросов, которые наблюдаются на графиках\n",
    "- Наибольшее кол-во игр на платформе 3DS - 520, далее PS4 и XOne 392 и 247, меньше всего игр на WiiU - 147."
   ]
  },
  {
   "cell_type": "markdown",
   "metadata": {},
   "source": [
    "###### Посмотрите, как влияют на продажи внутри одной популярной платформы отзывы пользователей и критиков. Постройте диаграмму рассеяния и посчитайте корреляцию между отзывами и продажами. Сформулируйте выводы."
   ]
  },
  {
   "cell_type": "markdown",
   "metadata": {},
   "source": [
    "В качестве платформы для рассмотрения будет взята PS4."
   ]
  },
  {
   "cell_type": "code",
   "execution_count": 29,
   "metadata": {},
   "outputs": [
    {
     "name": "stdout",
     "output_type": "stream",
     "text": [
      "<class 'pandas.core.frame.DataFrame'>\n",
      "RangeIndex: 259 entries, 0 to 258\n",
      "Data columns (total 13 columns):\n",
      " #   Column           Non-Null Count  Dtype  \n",
      "---  ------           --------------  -----  \n",
      " 0   index            259 non-null    int64  \n",
      " 1   name             259 non-null    object \n",
      " 2   platform         259 non-null    object \n",
      " 3   year_of_release  259 non-null    int64  \n",
      " 4   genre            259 non-null    object \n",
      " 5   na_sales         259 non-null    float64\n",
      " 6   eu_sales         259 non-null    float64\n",
      " 7   jp_sales         259 non-null    float64\n",
      " 8   other_sales      259 non-null    float64\n",
      " 9   critic_score     251 non-null    float64\n",
      " 10  user_score       259 non-null    float64\n",
      " 11  rating           259 non-null    object \n",
      " 12  total_sales      259 non-null    float64\n",
      "dtypes: float64(7), int64(2), object(4)\n",
      "memory usage: 26.4+ KB\n"
     ]
    },
    {
     "data": {
      "text/plain": [
       "None"
      ]
     },
     "metadata": {},
     "output_type": "display_data"
    }
   ],
   "source": [
    "PS4_good_data = good_data.query('(platform == \"PS4\") & (user_score.notna())').sort_values(by='user_score').reset_index()\n",
    "display(PS4_good_data.info())"
   ]
  },
  {
   "cell_type": "markdown",
   "metadata": {},
   "source": [
    "Построим диаграммы рассеяния для суммарных продаж от оценуки пользователя"
   ]
  },
  {
   "cell_type": "code",
   "execution_count": 30,
   "metadata": {},
   "outputs": [
    {
     "data": {
      "image/png": "[encoded data removed]",
      "text/plain": [
       "<Figure size 1440x360 with 1 Axes>"
      ]
     },
     "metadata": {
      "needs_background": "light"
     },
     "output_type": "display_data"
    }
   ],
   "source": [
    "PS4_good_data = good_data.query('(platform == \"PS4\") & (user_score.notna())').sort_values(by='user_score')\n",
    "plt.figure(figsize=(20, 5))\n",
    "ax = sns.scatterplot(\n",
    "    data=PS4_good_data,\n",
    "    x = 'user_score',\n",
    "    y= 'total_sales',\n",
    "    hue = 'year_of_release',\n",
    "    )\n",
    "# ax.set(xlim = (1.5,9.5))\n",
    "# ax.set(ylim = (0,5))\n",
    "ax.set(title = 'Диаграмма рассеяния суммарных продаж от оценки пользователя')\n",
    "plt.show()"
   ]
  },
  {
   "cell_type": "code",
   "execution_count": 31,
   "metadata": {},
   "outputs": [
    {
     "data": {
      "image/png": "[encoded data removed]",
      "text/plain": [
       "<Figure size 1440x360 with 1 Axes>"
      ]
     },
     "metadata": {
      "needs_background": "light"
     },
     "output_type": "display_data"
    }
   ],
   "source": [
    "PS4_good_data = good_data.query('(platform == \"PS4\") & (critic_score.notna())').sort_values(by='critic_score')\n",
    "plt.figure(figsize=(20, 5))\n",
    "ax = sns.scatterplot(\n",
    "    data=PS4_good_data,\n",
    "    x = 'critic_score',\n",
    "    y= 'total_sales',\n",
    "    hue = 'year_of_release',\n",
    "    )\n",
    "ax.set(xlim = (25,97))\n",
    "# ax.set(ylim = (0,5))\n",
    "ax.set(title = 'Диаграмма рассеяния суммарных продаж от оценки пользователя')\n",
    "plt.show()"
   ]
  },
  {
   "cell_type": "code",
   "execution_count": 32,
   "metadata": {},
   "outputs": [
    {
     "name": "stdout",
     "output_type": "stream",
     "text": [
      "коэффициент корреляции между суммарными продажами и рейтингом пользователей: -0.029\n",
      "коэффициент корреляции между суммарными продажами и рейтингом критиков: 0.407\n"
     ]
    }
   ],
   "source": [
    "print('коэффициент корреляции между суммарными продажами и рейтингом пользователей: {:.3f}'.format(PS4_good_data.corr()['user_score']['total_sales']))\n",
    "print('коэффициент корреляции между суммарными продажами и рейтингом критиков: {:.3f}'.format(PS4_good_data.corr()['critic_score']['total_sales']))"
   ]
  },
  {
   "cell_type": "markdown",
   "metadata": {},
   "source": [
    "###### Комментарий\n",
    "Как видно из графиков и коэффициентов корреляции связь между не сильная, хотя на диаграмме рассеняния для суммарных продаж прослеживается, что при росте оценки критиков, растут и продажи игры. Для оценок пользователей ситуация еще менее нагляднее. На мой взгляд, корреляция не такая сильная, как можно было предположить до анализа, так как данных для анализа не так много, за актуальный период для PS4 насчитывается всего 259 игр. У многих игр суммарные продажи близки к нулю, хотя рейтинг у игры высокий, это может быть связано с низкой стоимостью игры(Например: простые в производстве или старые игры, которые имеют малую цену, относительно новых, но хорошие рейтинги и большое кол-во покупок), а также с небольшой целевой аудитории игры(Например: головоломки не самый популярный жанр среди игр, но те, кто их любит способны оценить продукт по достоинству)."
   ]
  },
  {
   "cell_type": "markdown",
   "metadata": {},
   "source": [
    "###### Сотнесите выводы с продажами игр на других платформах."
   ]
  },
  {
   "cell_type": "markdown",
   "metadata": {},
   "source": [
    "Проведем аналогичные расчеты для других платформ"
   ]
  },
  {
   "cell_type": "code",
   "execution_count": 33,
   "metadata": {},
   "outputs": [
    {
     "data": {
      "image/png": "[encoded data removed]",
      "text/plain": [
       "<Figure size 720x360 with 1 Axes>"
      ]
     },
     "metadata": {
      "needs_background": "light"
     },
     "output_type": "display_data"
    },
    {
     "data": {
      "image/png": "[encoded data removed]",
      "text/plain": [
       "<Figure size 720x360 with 1 Axes>"
      ]
     },
     "metadata": {
      "needs_background": "light"
     },
     "output_type": "display_data"
    },
    {
     "name": "stdout",
     "output_type": "stream",
     "text": [
      "коэффициент корреляции между суммарными продажами и рейтингом пользователей: 0.201\n",
      "коэффициент корреляции между суммарными продажами и рейтингом критиков: 0.344\n"
     ]
    },
    {
     "data": {
      "image/png": "[encoded data removed]",
      "text/plain": [
       "<Figure size 720x360 with 1 Axes>"
      ]
     },
     "metadata": {
      "needs_background": "light"
     },
     "output_type": "display_data"
    },
    {
     "data": {
      "image/png": "[encoded data removed]",
      "text/plain": [
       "<Figure size 720x360 with 1 Axes>"
      ]
     },
     "metadata": {
      "needs_background": "light"
     },
     "output_type": "display_data"
    },
    {
     "name": "stdout",
     "output_type": "stream",
     "text": [
      "коэффициент корреляции между суммарными продажами и рейтингом пользователей: -0.071\n",
      "коэффициент корреляции между суммарными продажами и рейтингом критиков: 0.414\n"
     ]
    },
    {
     "data": {
      "image/png": "[encoded data removed]",
      "text/plain": [
       "<Figure size 720x360 with 1 Axes>"
      ]
     },
     "metadata": {
      "needs_background": "light"
     },
     "output_type": "display_data"
    },
    {
     "data": {
      "image/png": "[encoded data removed]",
      "text/plain": [
       "<Figure size 720x360 with 1 Axes>"
      ]
     },
     "metadata": {
      "needs_background": "light"
     },
     "output_type": "display_data"
    },
    {
     "name": "stdout",
     "output_type": "stream",
     "text": [
      "коэффициент корреляции между суммарными продажами и рейтингом пользователей: 0.398\n",
      "коэффициент корреляции между суммарными продажами и рейтингом критиков: 0.351\n"
     ]
    }
   ],
   "source": [
    "for temp_platform in ['3DS','XOne','WiiU']:\n",
    "    temp_good_data = good_data.query('(platform == @temp_platform) & (user_score.notna())').sort_values(by='critic_score')\n",
    "    plt.figure(figsize=(10, 5))\n",
    "    ax = sns.scatterplot(\n",
    "        data=temp_good_data.query('(user_score.notna())').sort_values(by='user_score'),\n",
    "        x = 'user_score',\n",
    "        y= 'total_sales',\n",
    "        hue = 'platform',\n",
    "        )\n",
    "    ax.set(xlim = (0,10))\n",
    "    # ax.set(ylim = (0,5))\n",
    "    ax.set(title = 'Диаграмма рассеяния суммарных продаж от оценки пользователя')\n",
    "    plt.show()\n",
    "    plt.figure(figsize=(10, 5))\n",
    "    ax = sns.scatterplot(\n",
    "        data=temp_good_data.query('(critic_score.notna())').sort_values(by='critic_score'),\n",
    "        x = 'critic_score',\n",
    "        y= 'total_sales',\n",
    "        hue = 'platform',\n",
    "        )\n",
    "    ax.set(xlim = (10,100))\n",
    "    # ax.set(ylim = (0,5))\n",
    "    ax.set(title = 'Диаграмма рассеяния суммарных продаж от оценки пользователя')\n",
    "    plt.show()\n",
    "    print('коэффициент корреляции между суммарными продажами и рейтингом пользователей: {:.3f}'.format(temp_good_data.corr()['user_score']['total_sales']))\n",
    "    print('коэффициент корреляции между суммарными продажами и рейтингом критиков: {:.3f}'.format(temp_good_data.corr()['critic_score']['total_sales']))"
   ]
  },
  {
   "cell_type": "markdown",
   "metadata": {},
   "source": [
    " ### Комментарий\n",
    " Как видно из диаграмм рассеяния и коэффициентов корреляции зав-ть продаж от оценок пользователей более сильная для платформы WiiU, что касается оценок критиков, то коэффициенты корреляции примерно равны, и диаграммы рассеяния имеют схожий вид."
   ]
  },
  {
   "cell_type": "markdown",
   "metadata": {},
   "source": [
    "###### Посмотрите на общее распределение игр по жанрам. Что можно сказать о самых прибыльных жанрах? Выделяются ли жанры с высокими и низкими продажами?\n"
   ]
  },
  {
   "cell_type": "markdown",
   "metadata": {},
   "source": [
    "Изучим жанры и выберем самые прибыльные"
   ]
  },
  {
   "cell_type": "code",
   "execution_count": 34,
   "metadata": {},
   "outputs": [
    {
     "data": {
      "text/html": [
       "<div>\n",
       "<style scoped>\n",
       "    .dataframe tbody tr th:only-of-type {\n",
       "        vertical-align: middle;\n",
       "    }\n",
       "\n",
       "    .dataframe tbody tr th {\n",
       "        vertical-align: top;\n",
       "    }\n",
       "\n",
       "    .dataframe thead th {\n",
       "        text-align: right;\n",
       "    }\n",
       "</style>\n",
       "<table border=\"1\" class=\"dataframe\">\n",
       "  <thead>\n",
       "    <tr style=\"text-align: right;\">\n",
       "      <th></th>\n",
       "      <th>total_sales</th>\n",
       "      <th>counts</th>\n",
       "    </tr>\n",
       "    <tr>\n",
       "      <th>genre</th>\n",
       "      <th></th>\n",
       "      <th></th>\n",
       "    </tr>\n",
       "  </thead>\n",
       "  <tbody>\n",
       "    <tr>\n",
       "      <th>Action</th>\n",
       "      <td>0.438087</td>\n",
       "      <td>481</td>\n",
       "    </tr>\n",
       "    <tr>\n",
       "      <th>Adventure</th>\n",
       "      <td>0.170000</td>\n",
       "      <td>83</td>\n",
       "    </tr>\n",
       "    <tr>\n",
       "      <th>Fighting</th>\n",
       "      <td>0.634773</td>\n",
       "      <td>44</td>\n",
       "    </tr>\n",
       "    <tr>\n",
       "      <th>Misc</th>\n",
       "      <td>0.339739</td>\n",
       "      <td>115</td>\n",
       "    </tr>\n",
       "    <tr>\n",
       "      <th>Platform</th>\n",
       "      <td>1.010968</td>\n",
       "      <td>62</td>\n",
       "    </tr>\n",
       "  </tbody>\n",
       "</table>\n",
       "</div>"
      ],
      "text/plain": [
       "           total_sales  counts\n",
       "genre                         \n",
       "Action        0.438087     481\n",
       "Adventure     0.170000      83\n",
       "Fighting      0.634773      44\n",
       "Misc          0.339739     115\n",
       "Platform      1.010968      62"
      ]
     },
     "metadata": {},
     "output_type": "display_data"
    }
   ],
   "source": [
    "genre_good_data =  good_data.pivot_table(index='genre',values='total_sales', aggfunc=['mean','count'])\n",
    "genre_good_data.columns=('total_sales','counts')\n",
    "display(genre_good_data.head(5))"
   ]
  },
  {
   "cell_type": "code",
   "execution_count": 35,
   "metadata": {},
   "outputs": [
    {
     "name": "stdout",
     "output_type": "stream",
     "text": [
      "топ-5 наиболее выпускаемых жанров:\n"
     ]
    },
    {
     "data": {
      "text/plain": [
       "genre\n",
       "Action          481\n",
       "Role-Playing    160\n",
       "Sports          118\n",
       "Misc            115\n",
       "Shooter          96\n",
       "Name: counts, dtype: int64"
      ]
     },
     "metadata": {},
     "output_type": "display_data"
    },
    {
     "name": "stdout",
     "output_type": "stream",
     "text": [
      "топ-5 наименее выпускаемых жанров:\n"
     ]
    },
    {
     "data": {
      "text/plain": [
       "genre\n",
       "Racing        53\n",
       "Fighting      44\n",
       "Simulation    42\n",
       "Strategy      27\n",
       "Puzzle        25\n",
       "Name: counts, dtype: int64"
      ]
     },
     "metadata": {},
     "output_type": "display_data"
    },
    {
     "data": {
      "image/png": "[encoded data removed]",
      "text/plain": [
       "<Figure size 432x288 with 1 Axes>"
      ]
     },
     "metadata": {},
     "output_type": "display_data"
    }
   ],
   "source": [
    "print('топ-5 наиболее выпускаемых жанров:')\n",
    "display(genre_good_data['counts'].sort_values(ascending=False).head(5))\n",
    "print('топ-5 наименее выпускаемых жанров:')\n",
    "display(genre_good_data['counts'].sort_values(ascending=False).tail(5))\n",
    "\n",
    "labels = genre_good_data.sort_values(by='counts',ascending=False).index\n",
    "sizes = genre_good_data['counts'].sort_values(ascending=False)\n",
    "\n",
    "fig1, ax1 = plt.subplots()\n",
    "ax1.pie(sizes, labels=labels, autopct='%1.1f%%',\n",
    "        shadow=True, startangle=90,radius = 2.5)\n",
    "plt.show()"
   ]
  },
  {
   "cell_type": "code",
   "execution_count": 36,
   "metadata": {},
   "outputs": [
    {
     "name": "stdout",
     "output_type": "stream",
     "text": [
      "топ-5 наиболее продаваемых жанров:\n"
     ]
    },
    {
     "data": {
      "text/plain": [
       "genre\n",
       "Shooter         1.626979\n",
       "Platform        1.010968\n",
       "Racing          0.844528\n",
       "Role-Playing    0.791625\n",
       "Sports          0.776949\n",
       "Name: total_sales, dtype: float64"
      ]
     },
     "metadata": {},
     "output_type": "display_data"
    },
    {
     "name": "stdout",
     "output_type": "stream",
     "text": [
      "топ-5 наименее продаваемых жанров:\n"
     ]
    },
    {
     "data": {
      "text/plain": [
       "genre\n",
       "Action       0.438087\n",
       "Misc         0.339739\n",
       "Puzzle       0.276400\n",
       "Adventure    0.170000\n",
       "Strategy     0.161852\n",
       "Name: total_sales, dtype: float64"
      ]
     },
     "metadata": {},
     "output_type": "display_data"
    },
    {
     "data": {
      "image/png": "[encoded data removed]",
      "text/plain": [
       "<Figure size 432x288 with 1 Axes>"
      ]
     },
     "metadata": {},
     "output_type": "display_data"
    }
   ],
   "source": [
    "print('топ-5 наиболее продаваемых жанров:')\n",
    "display(genre_good_data['total_sales'].sort_values(ascending=False).head(5))\n",
    "print('топ-5 наименее продаваемых жанров:')\n",
    "display(genre_good_data['total_sales'].sort_values(ascending=False).tail(5))\n",
    "\n",
    "labels = genre_good_data.sort_values(by='total_sales',ascending=False).index\n",
    "sizes = genre_good_data['total_sales'].sort_values(ascending=False)\n",
    "fig1, ax1 = plt.subplots()\n",
    "ax1.pie(sizes, labels=labels, autopct='%1.1f%%',\n",
    "        shadow=True, startangle=90,radius = 2.5)\n",
    "plt.show()"
   ]
  },
  {
   "cell_type": "markdown",
   "metadata": {},
   "source": [
    "###### Комментарий\n",
    "Наиболее прибыльные жанры Shooter, Platform, Racing, Role-Playing\n",
    "Наименее прибыльные жанры Strategy, Adventure, Puzzle, Misc\n",
    "\n",
    "Наиболее выпускаемые жанры Action, Role-Playing, Sports, Misc, Shooter\n",
    "Наименее выпускаемые жанры Racing, Fighting, Simulation, Strategy, Puzzle\n",
    "\n",
    "Интересный факт, что не все наиболее продаваемые жанры являются наиболее выпускаемыми, хотя это можно связать и с кол-вом игр выпускаемых для платформ, например 3DS имеет больше всех игр относительно других платформ."
   ]
  },
  {
   "cell_type": "markdown",
   "metadata": {},
   "source": [
    "**Определите для пользователя каждого региона (NA, EU, JP):**\n",
    "- Самые популярные платформы (топ-5). Опишите различия в долях продаж.\n",
    "- Самые популярные жанры (топ-5). Поясните разницу.\n",
    "- Влияет ли рейтинг ESRB на продажи в отдельном регионе?"
   ]
  },
  {
   "cell_type": "markdown",
   "metadata": {},
   "source": [
    "Изучим популярные платформы для жителей разных регионов."
   ]
  },
  {
   "cell_type": "code",
   "execution_count": 37,
   "metadata": {},
   "outputs": [],
   "source": [
    "actual_data = data[data['year_of_release']>=2012]"
   ]
  },
  {
   "cell_type": "code",
   "execution_count": 38,
   "metadata": {},
   "outputs": [
    {
     "data": {
      "text/html": [
       "<div>\n",
       "<style scoped>\n",
       "    .dataframe tbody tr th:only-of-type {\n",
       "        vertical-align: middle;\n",
       "    }\n",
       "\n",
       "    .dataframe tbody tr th {\n",
       "        vertical-align: top;\n",
       "    }\n",
       "\n",
       "    .dataframe thead th {\n",
       "        text-align: right;\n",
       "    }\n",
       "</style>\n",
       "<table border=\"1\" class=\"dataframe\">\n",
       "  <thead>\n",
       "    <tr style=\"text-align: right;\">\n",
       "      <th></th>\n",
       "      <th>platform</th>\n",
       "      <th>na_sales</th>\n",
       "      <th>counts</th>\n",
       "    </tr>\n",
       "  </thead>\n",
       "  <tbody>\n",
       "    <tr>\n",
       "      <th>7</th>\n",
       "      <td>Wii</td>\n",
       "      <td>0.562903</td>\n",
       "      <td>31</td>\n",
       "    </tr>\n",
       "    <tr>\n",
       "      <th>9</th>\n",
       "      <td>X360</td>\n",
       "      <td>0.520632</td>\n",
       "      <td>269</td>\n",
       "    </tr>\n",
       "    <tr>\n",
       "      <th>1</th>\n",
       "      <td>DS</td>\n",
       "      <td>0.417273</td>\n",
       "      <td>11</td>\n",
       "    </tr>\n",
       "    <tr>\n",
       "      <th>10</th>\n",
       "      <td>XOne</td>\n",
       "      <td>0.410220</td>\n",
       "      <td>227</td>\n",
       "    </tr>\n",
       "    <tr>\n",
       "      <th>4</th>\n",
       "      <td>PS4</td>\n",
       "      <td>0.369864</td>\n",
       "      <td>294</td>\n",
       "    </tr>\n",
       "    <tr>\n",
       "      <th>3</th>\n",
       "      <td>PS3</td>\n",
       "      <td>0.329236</td>\n",
       "      <td>314</td>\n",
       "    </tr>\n",
       "    <tr>\n",
       "      <th>0</th>\n",
       "      <td>3DS</td>\n",
       "      <td>0.320857</td>\n",
       "      <td>175</td>\n",
       "    </tr>\n",
       "    <tr>\n",
       "      <th>8</th>\n",
       "      <td>WiiU</td>\n",
       "      <td>0.312295</td>\n",
       "      <td>122</td>\n",
       "    </tr>\n",
       "    <tr>\n",
       "      <th>2</th>\n",
       "      <td>PC</td>\n",
       "      <td>0.169204</td>\n",
       "      <td>113</td>\n",
       "    </tr>\n",
       "    <tr>\n",
       "      <th>6</th>\n",
       "      <td>PSV</td>\n",
       "      <td>0.088016</td>\n",
       "      <td>126</td>\n",
       "    </tr>\n",
       "    <tr>\n",
       "      <th>5</th>\n",
       "      <td>PSP</td>\n",
       "      <td>0.065000</td>\n",
       "      <td>2</td>\n",
       "    </tr>\n",
       "  </tbody>\n",
       "</table>\n",
       "</div>"
      ],
      "text/plain": [
       "   platform  na_sales  counts\n",
       "7       Wii  0.562903      31\n",
       "9      X360  0.520632     269\n",
       "1        DS  0.417273      11\n",
       "10     XOne  0.410220     227\n",
       "4       PS4  0.369864     294\n",
       "3       PS3  0.329236     314\n",
       "0       3DS  0.320857     175\n",
       "8      WiiU  0.312295     122\n",
       "2        PC  0.169204     113\n",
       "6       PSV  0.088016     126\n",
       "5       PSP  0.065000       2"
      ]
     },
     "metadata": {},
     "output_type": "display_data"
    },
    {
     "data": {
      "image/png": "[encoded data removed]",
      "text/plain": [
       "<Figure size 432x288 with 1 Axes>"
      ]
     },
     "metadata": {
      "needs_background": "light"
     },
     "output_type": "display_data"
    },
    {
     "data": {
      "text/html": [
       "<div>\n",
       "<style scoped>\n",
       "    .dataframe tbody tr th:only-of-type {\n",
       "        vertical-align: middle;\n",
       "    }\n",
       "\n",
       "    .dataframe tbody tr th {\n",
       "        vertical-align: top;\n",
       "    }\n",
       "\n",
       "    .dataframe thead th {\n",
       "        text-align: right;\n",
       "    }\n",
       "</style>\n",
       "<table border=\"1\" class=\"dataframe\">\n",
       "  <thead>\n",
       "    <tr style=\"text-align: right;\">\n",
       "      <th></th>\n",
       "      <th>platform</th>\n",
       "      <th>eu_sales</th>\n",
       "      <th>counts</th>\n",
       "    </tr>\n",
       "  </thead>\n",
       "  <tbody>\n",
       "    <tr>\n",
       "      <th>4</th>\n",
       "      <td>PS4</td>\n",
       "      <td>0.486517</td>\n",
       "      <td>290</td>\n",
       "    </tr>\n",
       "    <tr>\n",
       "      <th>3</th>\n",
       "      <td>PS3</td>\n",
       "      <td>0.346948</td>\n",
       "      <td>308</td>\n",
       "    </tr>\n",
       "    <tr>\n",
       "      <th>9</th>\n",
       "      <td>X360</td>\n",
       "      <td>0.286615</td>\n",
       "      <td>260</td>\n",
       "    </tr>\n",
       "    <tr>\n",
       "      <th>7</th>\n",
       "      <td>Wii</td>\n",
       "      <td>0.277209</td>\n",
       "      <td>43</td>\n",
       "    </tr>\n",
       "    <tr>\n",
       "      <th>0</th>\n",
       "      <td>3DS</td>\n",
       "      <td>0.253550</td>\n",
       "      <td>169</td>\n",
       "    </tr>\n",
       "    <tr>\n",
       "      <th>10</th>\n",
       "      <td>XOne</td>\n",
       "      <td>0.236651</td>\n",
       "      <td>218</td>\n",
       "    </tr>\n",
       "    <tr>\n",
       "      <th>8</th>\n",
       "      <td>WiiU</td>\n",
       "      <td>0.201040</td>\n",
       "      <td>125</td>\n",
       "    </tr>\n",
       "    <tr>\n",
       "      <th>2</th>\n",
       "      <td>PC</td>\n",
       "      <td>0.154122</td>\n",
       "      <td>245</td>\n",
       "    </tr>\n",
       "    <tr>\n",
       "      <th>1</th>\n",
       "      <td>DS</td>\n",
       "      <td>0.147083</td>\n",
       "      <td>24</td>\n",
       "    </tr>\n",
       "    <tr>\n",
       "      <th>5</th>\n",
       "      <td>PSP</td>\n",
       "      <td>0.105000</td>\n",
       "      <td>4</td>\n",
       "    </tr>\n",
       "    <tr>\n",
       "      <th>6</th>\n",
       "      <td>PSV</td>\n",
       "      <td>0.089141</td>\n",
       "      <td>128</td>\n",
       "    </tr>\n",
       "  </tbody>\n",
       "</table>\n",
       "</div>"
      ],
      "text/plain": [
       "   platform  eu_sales  counts\n",
       "4       PS4  0.486517     290\n",
       "3       PS3  0.346948     308\n",
       "9      X360  0.286615     260\n",
       "7       Wii  0.277209      43\n",
       "0       3DS  0.253550     169\n",
       "10     XOne  0.236651     218\n",
       "8      WiiU  0.201040     125\n",
       "2        PC  0.154122     245\n",
       "1        DS  0.147083      24\n",
       "5       PSP  0.105000       4\n",
       "6       PSV  0.089141     128"
      ]
     },
     "metadata": {},
     "output_type": "display_data"
    },
    {
     "data": {
      "image/png": "[encoded data removed]",
      "text/plain": [
       "<Figure size 432x288 with 1 Axes>"
      ]
     },
     "metadata": {
      "needs_background": "light"
     },
     "output_type": "display_data"
    },
    {
     "data": {
      "text/html": [
       "<div>\n",
       "<style scoped>\n",
       "    .dataframe tbody tr th:only-of-type {\n",
       "        vertical-align: middle;\n",
       "    }\n",
       "\n",
       "    .dataframe tbody tr th {\n",
       "        vertical-align: top;\n",
       "    }\n",
       "\n",
       "    .dataframe thead th {\n",
       "        text-align: right;\n",
       "    }\n",
       "</style>\n",
       "<table border=\"1\" class=\"dataframe\">\n",
       "  <thead>\n",
       "    <tr style=\"text-align: right;\">\n",
       "      <th></th>\n",
       "      <th>platform</th>\n",
       "      <th>jp_sales</th>\n",
       "      <th>counts</th>\n",
       "    </tr>\n",
       "  </thead>\n",
       "  <tbody>\n",
       "    <tr>\n",
       "      <th>1</th>\n",
       "      <td>DS</td>\n",
       "      <td>0.531429</td>\n",
       "      <td>7</td>\n",
       "    </tr>\n",
       "    <tr>\n",
       "      <th>6</th>\n",
       "      <td>Wii</td>\n",
       "      <td>0.339000</td>\n",
       "      <td>10</td>\n",
       "    </tr>\n",
       "    <tr>\n",
       "      <th>0</th>\n",
       "      <td>3DS</td>\n",
       "      <td>0.287059</td>\n",
       "      <td>306</td>\n",
       "    </tr>\n",
       "    <tr>\n",
       "      <th>7</th>\n",
       "      <td>WiiU</td>\n",
       "      <td>0.194179</td>\n",
       "      <td>67</td>\n",
       "    </tr>\n",
       "    <tr>\n",
       "      <th>2</th>\n",
       "      <td>PS3</td>\n",
       "      <td>0.104718</td>\n",
       "      <td>337</td>\n",
       "    </tr>\n",
       "    <tr>\n",
       "      <th>3</th>\n",
       "      <td>PS4</td>\n",
       "      <td>0.071570</td>\n",
       "      <td>223</td>\n",
       "    </tr>\n",
       "    <tr>\n",
       "      <th>4</th>\n",
       "      <td>PSP</td>\n",
       "      <td>0.061228</td>\n",
       "      <td>171</td>\n",
       "    </tr>\n",
       "    <tr>\n",
       "      <th>5</th>\n",
       "      <td>PSV</td>\n",
       "      <td>0.059633</td>\n",
       "      <td>354</td>\n",
       "    </tr>\n",
       "    <tr>\n",
       "      <th>8</th>\n",
       "      <td>X360</td>\n",
       "      <td>0.020933</td>\n",
       "      <td>75</td>\n",
       "    </tr>\n",
       "    <tr>\n",
       "      <th>9</th>\n",
       "      <td>XOne</td>\n",
       "      <td>0.015455</td>\n",
       "      <td>22</td>\n",
       "    </tr>\n",
       "  </tbody>\n",
       "</table>\n",
       "</div>"
      ],
      "text/plain": [
       "  platform  jp_sales  counts\n",
       "1       DS  0.531429       7\n",
       "6      Wii  0.339000      10\n",
       "0      3DS  0.287059     306\n",
       "7     WiiU  0.194179      67\n",
       "2      PS3  0.104718     337\n",
       "3      PS4  0.071570     223\n",
       "4      PSP  0.061228     171\n",
       "5      PSV  0.059633     354\n",
       "8     X360  0.020933      75\n",
       "9     XOne  0.015455      22"
      ]
     },
     "metadata": {},
     "output_type": "display_data"
    },
    {
     "data": {
      "image/png": "[encoded data removed]",
      "text/plain": [
       "<Figure size 432x288 with 1 Axes>"
      ]
     },
     "metadata": {
      "needs_background": "light"
     },
     "output_type": "display_data"
    }
   ],
   "source": [
    "sales_regions = ['na_sales','eu_sales','jp_sales']\n",
    "for region in sales_regions:\n",
    "    temp_data_sales = actual_data[actual_data[region] > 0]\n",
    "    temp_platforms = temp_data_sales.pivot_table(index='platform', values=region, aggfunc = ['mean','count'])\n",
    "    temp_platforms.columns = (region,'counts')\n",
    "    temp_platforms = temp_platforms.reset_index()\n",
    "    display(temp_platforms.sort_values(by=region, ascending=False))\n",
    "    \n",
    "    ax = sns.barplot(\n",
    "    data = temp_platforms.sort_values(by=region, ascending=False).head(5),\n",
    "    x = 'platform',\n",
    "    y = region)\n",
    "    plt.title('Топ-5 популярных платформ в регионах')\n",
    "    plt.show()\n",
    "    "
   ]
  },
  {
   "cell_type": "markdown",
   "metadata": {},
   "source": [
    "###### Комментарий\n",
    "На графиках представлены самые популярные платформы(те у кого продажи больше)для каждого из регионов:\n",
    " - В Северной Америке популярны Wii и X360.\n",
    " - В Европе лидирует PS4.\n",
    " - В Японии с большим отрывом впереди DS."
   ]
  },
  {
   "cell_type": "markdown",
   "metadata": {},
   "source": [
    "Изучим популярные жанры для жителей разных регионов"
   ]
  },
  {
   "cell_type": "code",
   "execution_count": 39,
   "metadata": {},
   "outputs": [
    {
     "data": {
      "text/html": [
       "<div>\n",
       "<style scoped>\n",
       "    .dataframe tbody tr th:only-of-type {\n",
       "        vertical-align: middle;\n",
       "    }\n",
       "\n",
       "    .dataframe tbody tr th {\n",
       "        vertical-align: top;\n",
       "    }\n",
       "\n",
       "    .dataframe thead th {\n",
       "        text-align: right;\n",
       "    }\n",
       "</style>\n",
       "<table border=\"1\" class=\"dataframe\">\n",
       "  <thead>\n",
       "    <tr style=\"text-align: right;\">\n",
       "      <th></th>\n",
       "      <th>genre</th>\n",
       "      <th>na_sales</th>\n",
       "      <th>counts</th>\n",
       "    </tr>\n",
       "  </thead>\n",
       "  <tbody>\n",
       "    <tr>\n",
       "      <th>8</th>\n",
       "      <td>Shooter</td>\n",
       "      <td>0.679859</td>\n",
       "      <td>213</td>\n",
       "    </tr>\n",
       "    <tr>\n",
       "      <th>10</th>\n",
       "      <td>Sports</td>\n",
       "      <td>0.447967</td>\n",
       "      <td>182</td>\n",
       "    </tr>\n",
       "    <tr>\n",
       "      <th>3</th>\n",
       "      <td>Misc</td>\n",
       "      <td>0.367212</td>\n",
       "      <td>104</td>\n",
       "    </tr>\n",
       "    <tr>\n",
       "      <th>4</th>\n",
       "      <td>Platform</td>\n",
       "      <td>0.338400</td>\n",
       "      <td>75</td>\n",
       "    </tr>\n",
       "    <tr>\n",
       "      <th>7</th>\n",
       "      <td>Role-Playing</td>\n",
       "      <td>0.327092</td>\n",
       "      <td>196</td>\n",
       "    </tr>\n",
       "    <tr>\n",
       "      <th>0</th>\n",
       "      <td>Action</td>\n",
       "      <td>0.301729</td>\n",
       "      <td>590</td>\n",
       "    </tr>\n",
       "    <tr>\n",
       "      <th>2</th>\n",
       "      <td>Fighting</td>\n",
       "      <td>0.260395</td>\n",
       "      <td>76</td>\n",
       "    </tr>\n",
       "    <tr>\n",
       "      <th>6</th>\n",
       "      <td>Racing</td>\n",
       "      <td>0.213580</td>\n",
       "      <td>81</td>\n",
       "    </tr>\n",
       "    <tr>\n",
       "      <th>9</th>\n",
       "      <td>Simulation</td>\n",
       "      <td>0.210750</td>\n",
       "      <td>40</td>\n",
       "    </tr>\n",
       "    <tr>\n",
       "      <th>11</th>\n",
       "      <td>Strategy</td>\n",
       "      <td>0.145862</td>\n",
       "      <td>29</td>\n",
       "    </tr>\n",
       "    <tr>\n",
       "      <th>5</th>\n",
       "      <td>Puzzle</td>\n",
       "      <td>0.141250</td>\n",
       "      <td>8</td>\n",
       "    </tr>\n",
       "    <tr>\n",
       "      <th>1</th>\n",
       "      <td>Adventure</td>\n",
       "      <td>0.100000</td>\n",
       "      <td>90</td>\n",
       "    </tr>\n",
       "  </tbody>\n",
       "</table>\n",
       "</div>"
      ],
      "text/plain": [
       "           genre  na_sales  counts\n",
       "8        Shooter  0.679859     213\n",
       "10        Sports  0.447967     182\n",
       "3           Misc  0.367212     104\n",
       "4       Platform  0.338400      75\n",
       "7   Role-Playing  0.327092     196\n",
       "0         Action  0.301729     590\n",
       "2       Fighting  0.260395      76\n",
       "6         Racing  0.213580      81\n",
       "9     Simulation  0.210750      40\n",
       "11      Strategy  0.145862      29\n",
       "5         Puzzle  0.141250       8\n",
       "1      Adventure  0.100000      90"
      ]
     },
     "metadata": {},
     "output_type": "display_data"
    },
    {
     "data": {
      "image/png": "[encoded data removed]",
      "text/plain": [
       "<Figure size 432x288 with 1 Axes>"
      ]
     },
     "metadata": {
      "needs_background": "light"
     },
     "output_type": "display_data"
    },
    {
     "data": {
      "text/html": [
       "<div>\n",
       "<style scoped>\n",
       "    .dataframe tbody tr th:only-of-type {\n",
       "        vertical-align: middle;\n",
       "    }\n",
       "\n",
       "    .dataframe tbody tr th {\n",
       "        vertical-align: top;\n",
       "    }\n",
       "\n",
       "    .dataframe thead th {\n",
       "        text-align: right;\n",
       "    }\n",
       "</style>\n",
       "<table border=\"1\" class=\"dataframe\">\n",
       "  <thead>\n",
       "    <tr style=\"text-align: right;\">\n",
       "      <th></th>\n",
       "      <th>genre</th>\n",
       "      <th>eu_sales</th>\n",
       "      <th>counts</th>\n",
       "    </tr>\n",
       "  </thead>\n",
       "  <tbody>\n",
       "    <tr>\n",
       "      <th>8</th>\n",
       "      <td>Shooter</td>\n",
       "      <td>0.527860</td>\n",
       "      <td>215</td>\n",
       "    </tr>\n",
       "    <tr>\n",
       "      <th>10</th>\n",
       "      <td>Sports</td>\n",
       "      <td>0.342030</td>\n",
       "      <td>202</td>\n",
       "    </tr>\n",
       "    <tr>\n",
       "      <th>4</th>\n",
       "      <td>Platform</td>\n",
       "      <td>0.297361</td>\n",
       "      <td>72</td>\n",
       "    </tr>\n",
       "    <tr>\n",
       "      <th>9</th>\n",
       "      <td>Simulation</td>\n",
       "      <td>0.264545</td>\n",
       "      <td>55</td>\n",
       "    </tr>\n",
       "    <tr>\n",
       "      <th>6</th>\n",
       "      <td>Racing</td>\n",
       "      <td>0.262404</td>\n",
       "      <td>104</td>\n",
       "    </tr>\n",
       "    <tr>\n",
       "      <th>3</th>\n",
       "      <td>Misc</td>\n",
       "      <td>0.253077</td>\n",
       "      <td>104</td>\n",
       "    </tr>\n",
       "    <tr>\n",
       "      <th>0</th>\n",
       "      <td>Action</td>\n",
       "      <td>0.248103</td>\n",
       "      <td>643</td>\n",
       "    </tr>\n",
       "    <tr>\n",
       "      <th>7</th>\n",
       "      <td>Role-Playing</td>\n",
       "      <td>0.246599</td>\n",
       "      <td>197</td>\n",
       "    </tr>\n",
       "    <tr>\n",
       "      <th>2</th>\n",
       "      <td>Fighting</td>\n",
       "      <td>0.156377</td>\n",
       "      <td>69</td>\n",
       "    </tr>\n",
       "    <tr>\n",
       "      <th>11</th>\n",
       "      <td>Strategy</td>\n",
       "      <td>0.126098</td>\n",
       "      <td>41</td>\n",
       "    </tr>\n",
       "    <tr>\n",
       "      <th>1</th>\n",
       "      <td>Adventure</td>\n",
       "      <td>0.097526</td>\n",
       "      <td>97</td>\n",
       "    </tr>\n",
       "    <tr>\n",
       "      <th>5</th>\n",
       "      <td>Puzzle</td>\n",
       "      <td>0.093333</td>\n",
       "      <td>15</td>\n",
       "    </tr>\n",
       "  </tbody>\n",
       "</table>\n",
       "</div>"
      ],
      "text/plain": [
       "           genre  eu_sales  counts\n",
       "8        Shooter  0.527860     215\n",
       "10        Sports  0.342030     202\n",
       "4       Platform  0.297361      72\n",
       "9     Simulation  0.264545      55\n",
       "6         Racing  0.262404     104\n",
       "3           Misc  0.253077     104\n",
       "0         Action  0.248103     643\n",
       "7   Role-Playing  0.246599     197\n",
       "2       Fighting  0.156377      69\n",
       "11      Strategy  0.126098      41\n",
       "1      Adventure  0.097526      97\n",
       "5         Puzzle  0.093333      15"
      ]
     },
     "metadata": {},
     "output_type": "display_data"
    },
    {
     "data": {
      "image/png": "[encoded data removed]",
      "text/plain": [
       "<Figure size 432x288 with 1 Axes>"
      ]
     },
     "metadata": {
      "needs_background": "light"
     },
     "output_type": "display_data"
    },
    {
     "data": {
      "text/html": [
       "<div>\n",
       "<style scoped>\n",
       "    .dataframe tbody tr th:only-of-type {\n",
       "        vertical-align: middle;\n",
       "    }\n",
       "\n",
       "    .dataframe tbody tr th {\n",
       "        vertical-align: top;\n",
       "    }\n",
       "\n",
       "    .dataframe thead th {\n",
       "        text-align: right;\n",
       "    }\n",
       "</style>\n",
       "<table border=\"1\" class=\"dataframe\">\n",
       "  <thead>\n",
       "    <tr style=\"text-align: right;\">\n",
       "      <th></th>\n",
       "      <th>genre</th>\n",
       "      <th>jp_sales</th>\n",
       "      <th>counts</th>\n",
       "    </tr>\n",
       "  </thead>\n",
       "  <tbody>\n",
       "    <tr>\n",
       "      <th>9</th>\n",
       "      <td>Simulation</td>\n",
       "      <td>0.306176</td>\n",
       "      <td>34</td>\n",
       "    </tr>\n",
       "    <tr>\n",
       "      <th>4</th>\n",
       "      <td>Platform</td>\n",
       "      <td>0.261515</td>\n",
       "      <td>33</td>\n",
       "    </tr>\n",
       "    <tr>\n",
       "      <th>7</th>\n",
       "      <td>Role-Playing</td>\n",
       "      <td>0.217741</td>\n",
       "      <td>301</td>\n",
       "    </tr>\n",
       "    <tr>\n",
       "      <th>5</th>\n",
       "      <td>Puzzle</td>\n",
       "      <td>0.178333</td>\n",
       "      <td>12</td>\n",
       "    </tr>\n",
       "    <tr>\n",
       "      <th>3</th>\n",
       "      <td>Misc</td>\n",
       "      <td>0.119074</td>\n",
       "      <td>108</td>\n",
       "    </tr>\n",
       "    <tr>\n",
       "      <th>2</th>\n",
       "      <td>Fighting</td>\n",
       "      <td>0.118000</td>\n",
       "      <td>80</td>\n",
       "    </tr>\n",
       "    <tr>\n",
       "      <th>10</th>\n",
       "      <td>Sports</td>\n",
       "      <td>0.101646</td>\n",
       "      <td>79</td>\n",
       "    </tr>\n",
       "    <tr>\n",
       "      <th>8</th>\n",
       "      <td>Shooter</td>\n",
       "      <td>0.099247</td>\n",
       "      <td>93</td>\n",
       "    </tr>\n",
       "    <tr>\n",
       "      <th>11</th>\n",
       "      <td>Strategy</td>\n",
       "      <td>0.096000</td>\n",
       "      <td>30</td>\n",
       "    </tr>\n",
       "    <tr>\n",
       "      <th>0</th>\n",
       "      <td>Action</td>\n",
       "      <td>0.093783</td>\n",
       "      <td>563</td>\n",
       "    </tr>\n",
       "    <tr>\n",
       "      <th>6</th>\n",
       "      <td>Racing</td>\n",
       "      <td>0.075758</td>\n",
       "      <td>33</td>\n",
       "    </tr>\n",
       "    <tr>\n",
       "      <th>1</th>\n",
       "      <td>Adventure</td>\n",
       "      <td>0.040000</td>\n",
       "      <td>206</td>\n",
       "    </tr>\n",
       "  </tbody>\n",
       "</table>\n",
       "</div>"
      ],
      "text/plain": [
       "           genre  jp_sales  counts\n",
       "9     Simulation  0.306176      34\n",
       "4       Platform  0.261515      33\n",
       "7   Role-Playing  0.217741     301\n",
       "5         Puzzle  0.178333      12\n",
       "3           Misc  0.119074     108\n",
       "2       Fighting  0.118000      80\n",
       "10        Sports  0.101646      79\n",
       "8        Shooter  0.099247      93\n",
       "11      Strategy  0.096000      30\n",
       "0         Action  0.093783     563\n",
       "6         Racing  0.075758      33\n",
       "1      Adventure  0.040000     206"
      ]
     },
     "metadata": {},
     "output_type": "display_data"
    },
    {
     "data": {
      "image/png": "[encoded data removed]",
      "text/plain": [
       "<Figure size 432x288 with 1 Axes>"
      ]
     },
     "metadata": {
      "needs_background": "light"
     },
     "output_type": "display_data"
    }
   ],
   "source": [
    "sales_regions = ['na_sales','eu_sales','jp_sales']\n",
    "for region in sales_regions:\n",
    "    temp_data_sales = actual_data[actual_data[region] > 0]\n",
    "    temp_genres = temp_data_sales.pivot_table(index='genre', values=region, aggfunc = ['mean','count'])\n",
    "    temp_genres.columns = (region,'counts')\n",
    "    temp_genres = temp_genres.reset_index()\n",
    "    display(temp_genres.sort_values(by=region, ascending=False))\n",
    "    \n",
    "    \n",
    "    ax = sns.barplot(\n",
    "    data = temp_genres.sort_values(by=region, ascending=False).head(5),\n",
    "    x = 'genre',\n",
    "    y = region)\n",
    "    plt.title('Топ-5 популярных жанров в регионах')\n",
    "    plt.show()"
   ]
  },
  {
   "cell_type": "markdown",
   "metadata": {},
   "source": [
    "###### Комментарий\n",
    "На графиках представлены самые популярные платформы(те у кого продажи больше)для каждого из регионов:\n",
    " - В Северной Америке и Европе вне конкуренции шутеры, затем игры спортивной тематики.\n",
    " - В Японии лидер имеет меньший отрыв - это симмуляторы, затем платформеры и РПГ."
   ]
  },
  {
   "cell_type": "markdown",
   "metadata": {},
   "source": [
    "Аналогично изучим рейтинг популярных игр в регионах"
   ]
  },
  {
   "cell_type": "code",
   "execution_count": 40,
   "metadata": {},
   "outputs": [
    {
     "data": {
      "text/html": [
       "<div>\n",
       "<style scoped>\n",
       "    .dataframe tbody tr th:only-of-type {\n",
       "        vertical-align: middle;\n",
       "    }\n",
       "\n",
       "    .dataframe tbody tr th {\n",
       "        vertical-align: top;\n",
       "    }\n",
       "\n",
       "    .dataframe thead th {\n",
       "        text-align: right;\n",
       "    }\n",
       "</style>\n",
       "<table border=\"1\" class=\"dataframe\">\n",
       "  <thead>\n",
       "    <tr style=\"text-align: right;\">\n",
       "      <th></th>\n",
       "      <th>rating</th>\n",
       "      <th>na_sales</th>\n",
       "      <th>counts</th>\n",
       "    </tr>\n",
       "  </thead>\n",
       "  <tbody>\n",
       "    <tr>\n",
       "      <th>2</th>\n",
       "      <td>M</td>\n",
       "      <td>0.524906</td>\n",
       "      <td>479</td>\n",
       "    </tr>\n",
       "    <tr>\n",
       "      <th>0</th>\n",
       "      <td>E</td>\n",
       "      <td>0.347843</td>\n",
       "      <td>408</td>\n",
       "    </tr>\n",
       "    <tr>\n",
       "      <th>1</th>\n",
       "      <td>E10+</td>\n",
       "      <td>0.283433</td>\n",
       "      <td>268</td>\n",
       "    </tr>\n",
       "    <tr>\n",
       "      <th>3</th>\n",
       "      <td>T</td>\n",
       "      <td>0.231777</td>\n",
       "      <td>529</td>\n",
       "    </tr>\n",
       "  </tbody>\n",
       "</table>\n",
       "</div>"
      ],
      "text/plain": [
       "  rating  na_sales  counts\n",
       "2      M  0.524906     479\n",
       "0      E  0.347843     408\n",
       "1   E10+  0.283433     268\n",
       "3      T  0.231777     529"
      ]
     },
     "metadata": {},
     "output_type": "display_data"
    },
    {
     "data": {
      "image/png": "[encoded data removed]",
      "text/plain": [
       "<Figure size 432x288 with 1 Axes>"
      ]
     },
     "metadata": {
      "needs_background": "light"
     },
     "output_type": "display_data"
    },
    {
     "data": {
      "text/html": [
       "<div>\n",
       "<style scoped>\n",
       "    .dataframe tbody tr th:only-of-type {\n",
       "        vertical-align: middle;\n",
       "    }\n",
       "\n",
       "    .dataframe tbody tr th {\n",
       "        vertical-align: top;\n",
       "    }\n",
       "\n",
       "    .dataframe thead th {\n",
       "        text-align: right;\n",
       "    }\n",
       "</style>\n",
       "<table border=\"1\" class=\"dataframe\">\n",
       "  <thead>\n",
       "    <tr style=\"text-align: right;\">\n",
       "      <th></th>\n",
       "      <th>rating</th>\n",
       "      <th>eu_sales</th>\n",
       "      <th>counts</th>\n",
       "    </tr>\n",
       "  </thead>\n",
       "  <tbody>\n",
       "    <tr>\n",
       "      <th>2</th>\n",
       "      <td>M</td>\n",
       "      <td>0.436343</td>\n",
       "      <td>484</td>\n",
       "    </tr>\n",
       "    <tr>\n",
       "      <th>0</th>\n",
       "      <td>E</td>\n",
       "      <td>0.295918</td>\n",
       "      <td>490</td>\n",
       "    </tr>\n",
       "    <tr>\n",
       "      <th>1</th>\n",
       "      <td>E10+</td>\n",
       "      <td>0.197021</td>\n",
       "      <td>282</td>\n",
       "    </tr>\n",
       "    <tr>\n",
       "      <th>3</th>\n",
       "      <td>T</td>\n",
       "      <td>0.170842</td>\n",
       "      <td>558</td>\n",
       "    </tr>\n",
       "  </tbody>\n",
       "</table>\n",
       "</div>"
      ],
      "text/plain": [
       "  rating  eu_sales  counts\n",
       "2      M  0.436343     484\n",
       "0      E  0.295918     490\n",
       "1   E10+  0.197021     282\n",
       "3      T  0.170842     558"
      ]
     },
     "metadata": {},
     "output_type": "display_data"
    },
    {
     "data": {
      "image/png": "[encoded data removed]",
      "text/plain": [
       "<Figure size 432x288 with 1 Axes>"
      ]
     },
     "metadata": {
      "needs_background": "light"
     },
     "output_type": "display_data"
    },
    {
     "data": {
      "text/html": [
       "<div>\n",
       "<style scoped>\n",
       "    .dataframe tbody tr th:only-of-type {\n",
       "        vertical-align: middle;\n",
       "    }\n",
       "\n",
       "    .dataframe tbody tr th {\n",
       "        vertical-align: top;\n",
       "    }\n",
       "\n",
       "    .dataframe thead th {\n",
       "        text-align: right;\n",
       "    }\n",
       "</style>\n",
       "<table border=\"1\" class=\"dataframe\">\n",
       "  <thead>\n",
       "    <tr style=\"text-align: right;\">\n",
       "      <th></th>\n",
       "      <th>rating</th>\n",
       "      <th>jp_sales</th>\n",
       "      <th>counts</th>\n",
       "    </tr>\n",
       "  </thead>\n",
       "  <tbody>\n",
       "    <tr>\n",
       "      <th>3</th>\n",
       "      <td>T</td>\n",
       "      <td>0.135155</td>\n",
       "      <td>805</td>\n",
       "    </tr>\n",
       "    <tr>\n",
       "      <th>1</th>\n",
       "      <td>E10+</td>\n",
       "      <td>0.122239</td>\n",
       "      <td>67</td>\n",
       "    </tr>\n",
       "    <tr>\n",
       "      <th>0</th>\n",
       "      <td>E</td>\n",
       "      <td>0.116130</td>\n",
       "      <td>460</td>\n",
       "    </tr>\n",
       "    <tr>\n",
       "      <th>2</th>\n",
       "      <td>M</td>\n",
       "      <td>0.092875</td>\n",
       "      <td>240</td>\n",
       "    </tr>\n",
       "  </tbody>\n",
       "</table>\n",
       "</div>"
      ],
      "text/plain": [
       "  rating  jp_sales  counts\n",
       "3      T  0.135155     805\n",
       "1   E10+  0.122239      67\n",
       "0      E  0.116130     460\n",
       "2      M  0.092875     240"
      ]
     },
     "metadata": {},
     "output_type": "display_data"
    },
    {
     "data": {
      "image/png": "[encoded data removed]",
      "text/plain": [
       "<Figure size 432x288 with 1 Axes>"
      ]
     },
     "metadata": {
      "needs_background": "light"
     },
     "output_type": "display_data"
    }
   ],
   "source": [
    "sales_regions = ['na_sales','eu_sales','jp_sales']\n",
    "for region in sales_regions:\n",
    "    temp_data_sales = actual_data[actual_data[region] > 0]\n",
    "    temp_rating = temp_data_sales.pivot_table(index='rating', values=region, aggfunc = ['mean','count'])\n",
    "    temp_rating .columns = (region,'counts')\n",
    "    temp_rating  = temp_rating.reset_index()\n",
    "    display(temp_rating.sort_values(by=region, ascending=False))\n",
    "    \n",
    "    \n",
    "    ax = sns.barplot(\n",
    "    data = temp_rating .sort_values(by=region, ascending=False).head(5),\n",
    "    x = 'rating',\n",
    "    y = region)\n",
    "    plt.title('Топ-5 популярных рейтингов игр')\n",
    "    plt.show()"
   ]
  },
  {
   "cell_type": "markdown",
   "metadata": {},
   "source": [
    "###### Комментарий\n",
    "- Распределение ретинга ESRB в Европе и Америке схоже самые продаваемые игры те, которые имеют рейтинг 17+, что логично, т.к. такой рейтинг обычно имеют шутеры, которые популярны в этих регионах\n",
    "- Для японии рейтинг M(17+) по ESRB занимает наоборот последнее место, а лидирует T(13+), что может означать, что в среднем геймеры в этих странах моложе, чем в Европе и Америке, как и то что популярность шутеров не такая высокая, как в Еворпе и Америке."
   ]
  },
  {
   "cell_type": "markdown",
   "metadata": {},
   "source": [
    "### Вывод\n",
    " Итак, по полученным данным за актуальный период можно сделать обобщающий портрет по пользователю из каждого региона:\n",
    " - Северная Америка: Пользователь имеет платформу Wii или X360, предпочитает шутеры и спортивные игры, его возраст 17+(Что касается возраста, то это вопрос: насколько рейтинг ESRB влияет на пользователя при покупке игры и соответственно можно ли по нему адекватно оценить возраст пользователя, допустим, что можно:) )\n",
    " - Европа: Пользователь имеет платформу PS4, предпочитает шутеры и спортивные игры, его возраст 17+\n",
    " - Япония: Пользователь имеет платформу DS, предпочитает симмуляторы и платформеры, его возраст 13+"
   ]
  },
  {
   "cell_type": "markdown",
   "metadata": {},
   "source": [
    "## Шаг 4. Проверьте гипотезы\n",
    " - Средние пользовательские рейтинги платформ Xbox One и PC одинаковые;\n",
    " - Средние пользовательские рейтинги жанров Action (англ. «действие») и Sports (англ. «виды спорта») разные."
   ]
  },
  {
   "cell_type": "markdown",
   "metadata": {},
   "source": [
    "**Средние пользовательские рейтинги платформ Xbox One и PC одинаковые;**"
   ]
  },
  {
   "cell_type": "markdown",
   "metadata": {},
   "source": [
    "Проверем гипотезы:\n",
    " - Нулевая гипотеза - средние обоих выборок равны между собой.\n",
    " - Альтернативная - средние обоих выборок  не равны между собой.\n",
    " \n",
    "В качестве уровня значимости выберем 0.05. Для проверки гипотезы использовался t-критерий для двух независимых выборок. Параметр qual_var = False "
   ]
  },
  {
   "cell_type": "code",
   "execution_count": 41,
   "metadata": {},
   "outputs": [
    {
     "name": "stdout",
     "output_type": "stream",
     "text": [
      "p-значение: 1.3484854569444166e-05\n",
      "Отвергаем нулевую гипотезу\n"
     ]
    }
   ],
   "source": [
    "alpha = 0.05\n",
    "XOne_mean_user_rating = data.query('(platform == \"XOne\") & (user_score.notna())')['user_score']\n",
    "PC_mean_user_rating = data.query('(platform == \"PC\") & (user_score.notna())')['user_score']\n",
    "results = st.ttest_ind(\n",
    "    XOne_mean_user_rating, \n",
    "    PC_mean_user_rating)\n",
    "\n",
    "print('p-значение:', results.pvalue)\n",
    "\n",
    "if (results.pvalue < alpha):\n",
    "    print(\"Отвергаем нулевую гипотезу\")\n",
    "else:\n",
    "    print(\"Не получилось отвергнуть нулевую гипотезу\")"
   ]
  },
  {
   "cell_type": "code",
   "execution_count": 42,
   "metadata": {
    "scrolled": true
   },
   "outputs": [
    {
     "data": {
      "image/png": "[encoded data removed]",
      "text/plain": [
       "<Figure size 432x288 with 1 Axes>"
      ]
     },
     "metadata": {
      "needs_background": "light"
     },
     "output_type": "display_data"
    }
   ],
   "source": [
    "ax = sns.boxplot(data=pd.DataFrame({'XOne':XOne_mean_user_rating, 'PC':PC_mean_user_rating}))\n",
    "plt.xlabel('platform')\n",
    "plt.ylabel('user_score')\n",
    "plt.title('распределение пользовательского рейтинга для XOne и PC')\n",
    "plt.show()"
   ]
  },
  {
   "cell_type": "markdown",
   "metadata": {},
   "source": [
    "### Вывод\n",
    "При заданном уровне значимости нулевая гипотеза была отврегнута. Что вполне соответсвует гистограммам разамаха для пользовательских оценок XOne и PC. "
   ]
  },
  {
   "cell_type": "markdown",
   "metadata": {},
   "source": [
    "**Средние пользовательские рейтинги жанров Action (англ. «действие») и Sports (англ. «виды спорта») разные.**"
   ]
  },
  {
   "cell_type": "markdown",
   "metadata": {},
   "source": [
    " - Нулевая гипотеза - средние обоих выборок равны между собой.\n",
    " - Альтернативная - средние обоих выборок  не равны между собой.\n",
    "\n",
    "В качестве уровня значимости выберем 0.05. Для проверки гипотезы использовался t-критерий для двух независимых выборок.\n",
    "    Параметр qual_var = False"
   ]
  },
  {
   "cell_type": "code",
   "execution_count": 43,
   "metadata": {},
   "outputs": [
    {
     "name": "stdout",
     "output_type": "stream",
     "text": [
      "p-значение: 0.07366020937399374\n",
      "Не получилось отвергнуть нулевую гипотезу\n"
     ]
    }
   ],
   "source": [
    "alpha = 0.05\n",
    "Action_mean_user_rating = data.query('(genre == \"Action\") & (user_score.notna())')['user_score']\n",
    "Sports_mean_user_rating = data.query('(genre == \"Sports\") & (user_score.notna())')['user_score']\n",
    "results = st.ttest_ind(\n",
    "    Action_mean_user_rating, \n",
    "    Sports_mean_user_rating)\n",
    "\n",
    "print('p-значение:', results.pvalue)\n",
    "\n",
    "if (results.pvalue < alpha):\n",
    "    print(\"Отвергаем нулевую гипотезу\")\n",
    "else:\n",
    "    print(\"Не получилось отвергнуть нулевую гипотезу\")"
   ]
  },
  {
   "cell_type": "code",
   "execution_count": 44,
   "metadata": {},
   "outputs": [
    {
     "data": {
      "image/png": "[encoded data removed]",
      "text/plain": [
       "<Figure size 432x288 with 1 Axes>"
      ]
     },
     "metadata": {
      "needs_background": "light"
     },
     "output_type": "display_data"
    }
   ],
   "source": [
    "ax = sns.boxplot(data=pd.DataFrame({'Action':Action_mean_user_rating, 'Sports':Sports_mean_user_rating}))\n",
    "plt.xlabel('genre')\n",
    "plt.ylabel('user_score')\n",
    "plt.title('распределение пользовательского рейтинга для Action и Sports')\n",
    "plt.show()"
   ]
  },
  {
   "cell_type": "markdown",
   "metadata": {},
   "source": [
    "### Вывод\n",
    "При заданном уровне значимости нулевая гипотеза не может быть отврегнута. Что вполне соответсвует гистограммам разамаха для распределения пользовательских оценок для жанров Action и Sports."
   ]
  },
  {
   "cell_type": "markdown",
   "metadata": {},
   "source": [
    "## Общий вывод\n",
    "В ходе выполения работы были решены все поставленные задачи к ним были написаны выводы или комментарии. Используя данные 5-летнего актульного периода, были получены потенциально прибыльные платформы и жанры для каждого региона, следовательно был определен портрет пользователя из каждого региона, следовательно для максимальной успешности игры в регионе необходимо учесть данный портрет при рекламе игр в этих регионах. Например для Европы  скорее всего будет прибыльна игра выпущенная на PS4 в жанре шутер, хорошие отзывы критиков могут благотворно повлиять на продажи этой игры, аудитория на котрую расчитана игра скорее 17+. Аналогичные рассуждения можно провести и для 2 других реигонов.\n",
    "\n",
    "В исходных данных присутствовало большое кол-во пропусков, которое было решено не заполнять, т.к. их заполнение могло исказить результаты и внести ошибки в анализ."
   ]
  },
  {
   "cell_type": "code",
   "execution_count": null,
   "metadata": {},
   "outputs": [],
   "source": []
  }
 ],
 "metadata": {
  "ExecuteTimeLog": [
   {
    "duration": 1237,
    "start_time": "2023-11-17T07:37:15.027Z"
   },
   {
    "duration": 234,
    "start_time": "2023-11-17T07:37:32.141Z"
   },
   {
    "duration": 1573,
    "start_time": "2023-11-17T07:43:55.343Z"
   },
   {
    "duration": 4,
    "start_time": "2023-11-17T07:44:01.029Z"
   },
   {
    "duration": 701,
    "start_time": "2023-11-17T07:44:02.316Z"
   },
   {
    "duration": 11,
    "start_time": "2023-11-17T07:44:10.299Z"
   },
   {
    "duration": 12,
    "start_time": "2023-11-17T07:44:43.074Z"
   },
   {
    "duration": 60,
    "start_time": "2023-11-17T07:46:12.589Z"
   },
   {
    "duration": 30,
    "start_time": "2023-11-17T07:47:21.515Z"
   },
   {
    "duration": 15,
    "start_time": "2023-11-17T08:11:23.865Z"
   },
   {
    "duration": 11,
    "start_time": "2023-11-17T08:41:07.650Z"
   },
   {
    "duration": 14154,
    "start_time": "2023-11-17T08:51:26.621Z"
   },
   {
    "duration": 149,
    "start_time": "2023-11-17T08:51:43.404Z"
   },
   {
    "duration": 3,
    "start_time": "2023-11-17T08:51:47.256Z"
   },
   {
    "duration": 156,
    "start_time": "2023-11-17T08:51:48.356Z"
   },
   {
    "duration": 8,
    "start_time": "2023-11-17T08:52:54.684Z"
   },
   {
    "duration": 7,
    "start_time": "2023-11-17T08:53:06.027Z"
   },
   {
    "duration": 16,
    "start_time": "2023-11-17T09:13:28.414Z"
   },
   {
    "duration": 29,
    "start_time": "2023-11-17T09:13:43.512Z"
   },
   {
    "duration": 115,
    "start_time": "2023-11-17T09:14:21.255Z"
   },
   {
    "duration": 18,
    "start_time": "2023-11-17T09:14:25.956Z"
   },
   {
    "duration": 51,
    "start_time": "2023-11-17T09:15:18.830Z"
   },
   {
    "duration": 5,
    "start_time": "2023-11-17T09:15:32.638Z"
   },
   {
    "duration": 348,
    "start_time": "2023-11-17T09:15:40.182Z"
   },
   {
    "duration": 300,
    "start_time": "2023-11-17T09:16:00.753Z"
   },
   {
    "duration": 617,
    "start_time": "2023-11-17T09:16:21.962Z"
   },
   {
    "duration": 1472,
    "start_time": "2023-11-17T09:22:54.052Z"
   },
   {
    "duration": 583,
    "start_time": "2023-11-17T09:23:01.716Z"
   },
   {
    "duration": 10,
    "start_time": "2023-11-17T09:24:14.130Z"
   },
   {
    "duration": 348,
    "start_time": "2023-11-17T09:24:20.665Z"
   },
   {
    "duration": 471,
    "start_time": "2023-11-17T09:24:22.304Z"
   },
   {
    "duration": 395,
    "start_time": "2023-11-17T09:25:22.590Z"
   },
   {
    "duration": 329,
    "start_time": "2023-11-17T09:28:19.649Z"
   },
   {
    "duration": 592,
    "start_time": "2023-11-17T09:29:16.432Z"
   },
   {
    "duration": 3053,
    "start_time": "2023-11-17T09:29:27.505Z"
   },
   {
    "duration": 2861,
    "start_time": "2023-11-17T09:29:51.194Z"
   },
   {
    "duration": 108,
    "start_time": "2023-11-17T09:31:29.303Z"
   },
   {
    "duration": 3167,
    "start_time": "2023-11-17T09:32:21.667Z"
   },
   {
    "duration": 112,
    "start_time": "2023-11-17T09:32:42.583Z"
   },
   {
    "duration": 0,
    "start_time": "2023-11-17T09:34:07.189Z"
   },
   {
    "duration": 324,
    "start_time": "2023-11-17T09:34:12.842Z"
   },
   {
    "duration": 1005,
    "start_time": "2023-11-17T09:34:25.272Z"
   },
   {
    "duration": 37538,
    "start_time": "2023-11-17T09:34:34.823Z"
   },
   {
    "duration": 113,
    "start_time": "2023-11-17T09:35:30.510Z"
   },
   {
    "duration": 177,
    "start_time": "2023-11-17T09:35:53.181Z"
   },
   {
    "duration": 2123,
    "start_time": "2023-11-17T09:36:21.190Z"
   },
   {
    "duration": 31190,
    "start_time": "2023-11-17T09:36:37.926Z"
   },
   {
    "duration": 68370,
    "start_time": "2023-11-17T09:39:35.300Z"
   },
   {
    "duration": 507,
    "start_time": "2023-11-17T09:40:45.437Z"
   },
   {
    "duration": 348,
    "start_time": "2023-11-17T09:41:01.542Z"
   },
   {
    "duration": 475,
    "start_time": "2023-11-17T09:41:52.434Z"
   },
   {
    "duration": 24982,
    "start_time": "2023-11-17T09:42:05.696Z"
   },
   {
    "duration": 0,
    "start_time": "2023-11-17T09:42:30.682Z"
   },
   {
    "duration": 6,
    "start_time": "2023-11-17T09:42:34.832Z"
   },
   {
    "duration": 532,
    "start_time": "2023-11-17T09:43:06.223Z"
   },
   {
    "duration": 495,
    "start_time": "2023-11-17T09:43:15.708Z"
   },
   {
    "duration": 376,
    "start_time": "2023-11-17T09:43:52.747Z"
   },
   {
    "duration": 113,
    "start_time": "2023-11-17T09:44:47.103Z"
   },
   {
    "duration": 1891,
    "start_time": "2023-11-17T09:44:52.416Z"
   },
   {
    "duration": 2287,
    "start_time": "2023-11-17T09:45:03.793Z"
   },
   {
    "duration": 2059,
    "start_time": "2023-11-17T09:45:24.130Z"
   },
   {
    "duration": 2137,
    "start_time": "2023-11-17T09:45:45.463Z"
   },
   {
    "duration": 2233,
    "start_time": "2023-11-17T09:45:59.238Z"
   },
   {
    "duration": 2295,
    "start_time": "2023-11-17T09:46:21.877Z"
   },
   {
    "duration": 3161,
    "start_time": "2023-11-17T09:49:23.589Z"
   },
   {
    "duration": 2178,
    "start_time": "2023-11-17T09:49:51.872Z"
   },
   {
    "duration": 2438,
    "start_time": "2023-11-17T09:50:23.776Z"
   },
   {
    "duration": 2070,
    "start_time": "2023-11-17T09:50:49.940Z"
   },
   {
    "duration": 2232,
    "start_time": "2023-11-17T09:51:13.008Z"
   },
   {
    "duration": 2263,
    "start_time": "2023-11-17T09:51:24.004Z"
   },
   {
    "duration": 2325,
    "start_time": "2023-11-17T09:51:43.094Z"
   },
   {
    "duration": 2271,
    "start_time": "2023-11-17T09:55:50.871Z"
   },
   {
    "duration": 525,
    "start_time": "2023-11-17T09:56:05.695Z"
   },
   {
    "duration": 2276,
    "start_time": "2023-11-17T09:56:12.132Z"
   },
   {
    "duration": 1989,
    "start_time": "2023-11-17T09:59:04.613Z"
   },
   {
    "duration": 1068,
    "start_time": "2023-11-17T09:59:14.151Z"
   },
   {
    "duration": 1277,
    "start_time": "2023-11-17T10:05:29.101Z"
   },
   {
    "duration": 476,
    "start_time": "2023-11-17T10:06:28.212Z"
   },
   {
    "duration": 503,
    "start_time": "2023-11-17T10:06:33.344Z"
   },
   {
    "duration": 596,
    "start_time": "2023-11-17T10:07:07.401Z"
   },
   {
    "duration": 635,
    "start_time": "2023-11-17T10:07:35.243Z"
   },
   {
    "duration": 497,
    "start_time": "2023-11-17T10:08:26.844Z"
   },
   {
    "duration": 500,
    "start_time": "2023-11-17T10:09:19.310Z"
   },
   {
    "duration": 476,
    "start_time": "2023-11-17T10:09:55.612Z"
   },
   {
    "duration": 2087,
    "start_time": "2023-11-17T10:10:08.392Z"
   },
   {
    "duration": 602,
    "start_time": "2023-11-17T10:10:28.425Z"
   },
   {
    "duration": 2289,
    "start_time": "2023-11-17T10:10:38.391Z"
   },
   {
    "duration": 695,
    "start_time": "2023-11-17T10:11:58.226Z"
   },
   {
    "duration": 832,
    "start_time": "2023-11-17T10:12:25.965Z"
   },
   {
    "duration": 774,
    "start_time": "2023-11-17T10:12:38.147Z"
   },
   {
    "duration": 727,
    "start_time": "2023-11-17T10:12:50.066Z"
   },
   {
    "duration": 610,
    "start_time": "2023-11-17T10:13:31.284Z"
   },
   {
    "duration": 1991,
    "start_time": "2023-11-17T10:13:37.466Z"
   },
   {
    "duration": 784,
    "start_time": "2023-11-17T10:13:50.779Z"
   },
   {
    "duration": 936,
    "start_time": "2023-11-17T10:14:08.824Z"
   },
   {
    "duration": 1229,
    "start_time": "2023-11-17T10:15:26.565Z"
   },
   {
    "duration": 1057,
    "start_time": "2023-11-17T10:15:49.696Z"
   },
   {
    "duration": 26,
    "start_time": "2023-11-17T10:16:58.051Z"
   },
   {
    "duration": 1034,
    "start_time": "2023-11-17T10:27:33.494Z"
   },
   {
    "duration": 4069,
    "start_time": "2023-11-17T10:28:28.197Z"
   },
   {
    "duration": 24,
    "start_time": "2023-11-17T10:28:33.635Z"
   },
   {
    "duration": 4148,
    "start_time": "2023-11-17T10:28:38.457Z"
   },
   {
    "duration": 4171,
    "start_time": "2023-11-17T10:30:23.617Z"
   },
   {
    "duration": 4114,
    "start_time": "2023-11-17T10:30:32.330Z"
   },
   {
    "duration": 492,
    "start_time": "2023-11-17T10:32:20.018Z"
   },
   {
    "duration": 3625,
    "start_time": "2023-11-17T10:32:31.664Z"
   },
   {
    "duration": 112,
    "start_time": "2023-11-17T10:33:23.036Z"
   },
   {
    "duration": 1733,
    "start_time": "2023-11-17T10:33:31.400Z"
   },
   {
    "duration": 105,
    "start_time": "2023-11-17T10:36:21.467Z"
   },
   {
    "duration": 1281,
    "start_time": "2023-11-17T10:36:27.034Z"
   },
   {
    "duration": 1325,
    "start_time": "2023-11-17T10:36:41.025Z"
   },
   {
    "duration": 1222,
    "start_time": "2023-11-17T10:37:23.857Z"
   },
   {
    "duration": 1163,
    "start_time": "2023-11-17T10:37:29.585Z"
   },
   {
    "duration": 1257,
    "start_time": "2023-11-17T10:37:35.574Z"
   },
   {
    "duration": 1230,
    "start_time": "2023-11-17T10:37:41.208Z"
   },
   {
    "duration": 1062,
    "start_time": "2023-11-17T10:37:46.380Z"
   },
   {
    "duration": 18,
    "start_time": "2023-11-17T10:38:52.076Z"
   },
   {
    "duration": 18,
    "start_time": "2023-11-17T10:42:04.116Z"
   },
   {
    "duration": 1265,
    "start_time": "2023-11-17T10:42:18.908Z"
   },
   {
    "duration": 1290,
    "start_time": "2023-11-17T10:42:33.017Z"
   },
   {
    "duration": 1186,
    "start_time": "2023-11-17T10:44:14.536Z"
   },
   {
    "duration": 1033,
    "start_time": "2023-11-17T10:44:20.907Z"
   },
   {
    "duration": 1273,
    "start_time": "2023-11-17T10:44:25.479Z"
   },
   {
    "duration": 26,
    "start_time": "2023-11-17T10:44:32.992Z"
   },
   {
    "duration": 1145,
    "start_time": "2023-11-17T10:44:33.314Z"
   },
   {
    "duration": 1195,
    "start_time": "2023-11-17T10:44:38.705Z"
   },
   {
    "duration": 1297,
    "start_time": "2023-11-17T10:46:50.843Z"
   },
   {
    "duration": 1083,
    "start_time": "2023-11-17T10:47:22.039Z"
   },
   {
    "duration": 652,
    "start_time": "2023-11-17T10:47:41.625Z"
   },
   {
    "duration": 1050,
    "start_time": "2023-11-17T10:47:47.220Z"
   },
   {
    "duration": 1113,
    "start_time": "2023-11-17T10:47:54.190Z"
   },
   {
    "duration": 1228,
    "start_time": "2023-11-17T10:48:15.117Z"
   },
   {
    "duration": 1457,
    "start_time": "2023-11-17T10:48:25.822Z"
   },
   {
    "duration": 3412,
    "start_time": "2023-11-17T10:48:41.940Z"
   },
   {
    "duration": 1451,
    "start_time": "2023-11-17T10:49:28.373Z"
   },
   {
    "duration": 1384,
    "start_time": "2023-11-17T10:49:49.227Z"
   },
   {
    "duration": 1570,
    "start_time": "2023-11-17T10:50:12.344Z"
   },
   {
    "duration": 1454,
    "start_time": "2023-11-17T10:50:59.628Z"
   },
   {
    "duration": 1626,
    "start_time": "2023-11-17T10:51:16.140Z"
   },
   {
    "duration": 1490,
    "start_time": "2023-11-17T10:51:27.099Z"
   },
   {
    "duration": 1548,
    "start_time": "2023-11-17T10:51:45.349Z"
   },
   {
    "duration": 1327,
    "start_time": "2023-11-17T10:51:57.779Z"
   },
   {
    "duration": 1289,
    "start_time": "2023-11-17T10:52:04.521Z"
   },
   {
    "duration": 1171,
    "start_time": "2023-11-17T10:52:11.969Z"
   },
   {
    "duration": 1266,
    "start_time": "2023-11-17T10:52:18.958Z"
   },
   {
    "duration": 1497,
    "start_time": "2023-11-17T10:52:26.533Z"
   },
   {
    "duration": 1702,
    "start_time": "2023-11-17T10:53:09.732Z"
   },
   {
    "duration": 1562,
    "start_time": "2023-11-17T10:53:23.941Z"
   },
   {
    "duration": 1707,
    "start_time": "2023-11-17T10:53:46.114Z"
   },
   {
    "duration": 1705,
    "start_time": "2023-11-17T11:02:08.007Z"
   },
   {
    "duration": 2618,
    "start_time": "2023-11-17T11:02:30.562Z"
   },
   {
    "duration": 107,
    "start_time": "2023-11-17T11:02:38.429Z"
   },
   {
    "duration": 1671,
    "start_time": "2023-11-17T11:03:18.607Z"
   },
   {
    "duration": 1551,
    "start_time": "2023-11-17T11:03:28.186Z"
   },
   {
    "duration": 1329,
    "start_time": "2023-11-17T11:03:59.457Z"
   },
   {
    "duration": 11,
    "start_time": "2023-11-17T11:05:11.586Z"
   },
   {
    "duration": 32,
    "start_time": "2023-11-17T11:05:16.296Z"
   },
   {
    "duration": 877,
    "start_time": "2023-11-17T11:05:17.584Z"
   },
   {
    "duration": 713,
    "start_time": "2023-11-17T11:05:30.960Z"
   },
   {
    "duration": 694,
    "start_time": "2023-11-17T11:06:19.908Z"
   },
   {
    "duration": 11,
    "start_time": "2023-11-17T11:06:55.332Z"
   },
   {
    "duration": 671,
    "start_time": "2023-11-17T11:07:02.667Z"
   },
   {
    "duration": 868,
    "start_time": "2023-11-17T11:07:54.383Z"
   },
   {
    "duration": 1140,
    "start_time": "2023-11-17T11:08:21.994Z"
   },
   {
    "duration": 203,
    "start_time": "2023-11-17T11:08:48.329Z"
   },
   {
    "duration": 507,
    "start_time": "2023-11-17T11:08:59.581Z"
   },
   {
    "duration": 450,
    "start_time": "2023-11-17T11:09:09.085Z"
   },
   {
    "duration": 446,
    "start_time": "2023-11-17T11:09:16.351Z"
   },
   {
    "duration": 466,
    "start_time": "2023-11-17T11:09:21.839Z"
   },
   {
    "duration": 558,
    "start_time": "2023-11-17T11:09:26.835Z"
   },
   {
    "duration": 466,
    "start_time": "2023-11-17T11:09:32.972Z"
   },
   {
    "duration": 442,
    "start_time": "2023-11-17T11:09:49.670Z"
   },
   {
    "duration": 19,
    "start_time": "2023-11-17T11:10:42.442Z"
   },
   {
    "duration": 312,
    "start_time": "2023-11-17T11:10:51.364Z"
   },
   {
    "duration": 304,
    "start_time": "2023-11-17T11:10:59.880Z"
   },
   {
    "duration": 264,
    "start_time": "2023-11-17T11:11:10.353Z"
   },
   {
    "duration": 278,
    "start_time": "2023-11-17T11:11:21.669Z"
   },
   {
    "duration": 269,
    "start_time": "2023-11-17T11:11:28.872Z"
   },
   {
    "duration": 401,
    "start_time": "2023-11-17T11:12:16.564Z"
   },
   {
    "duration": 280,
    "start_time": "2023-11-17T11:12:16.967Z"
   },
   {
    "duration": 16,
    "start_time": "2023-11-17T11:14:34.448Z"
   },
   {
    "duration": 26,
    "start_time": "2023-11-17T11:14:38.936Z"
   },
   {
    "duration": 257,
    "start_time": "2023-11-17T11:14:39.430Z"
   },
   {
    "duration": 230,
    "start_time": "2023-11-17T11:14:39.986Z"
   },
   {
    "duration": 4,
    "start_time": "2023-11-17T11:15:39.422Z"
   },
   {
    "duration": 13,
    "start_time": "2023-11-17T11:16:38.104Z"
   },
   {
    "duration": 5,
    "start_time": "2023-11-17T11:16:41.371Z"
   },
   {
    "duration": 15,
    "start_time": "2023-11-17T11:16:41.550Z"
   },
   {
    "duration": 5,
    "start_time": "2023-11-17T11:17:51.360Z"
   },
   {
    "duration": 399,
    "start_time": "2023-11-17T11:17:52.166Z"
   },
   {
    "duration": 382,
    "start_time": "2023-11-17T11:22:15.844Z"
   },
   {
    "duration": 408,
    "start_time": "2023-11-17T11:22:20.562Z"
   },
   {
    "duration": 71,
    "start_time": "2023-11-17T11:28:44.097Z"
   },
   {
    "duration": 341,
    "start_time": "2023-11-17T11:29:05.931Z"
   },
   {
    "duration": 1283,
    "start_time": "2023-11-17T11:30:44.401Z"
   },
   {
    "duration": 88,
    "start_time": "2023-11-17T11:30:45.686Z"
   },
   {
    "duration": 87,
    "start_time": "2023-11-17T11:30:45.776Z"
   },
   {
    "duration": 5,
    "start_time": "2023-11-17T11:30:45.865Z"
   },
   {
    "duration": 755,
    "start_time": "2023-11-17T11:30:46.319Z"
   },
   {
    "duration": 10,
    "start_time": "2023-11-17T11:30:47.076Z"
   },
   {
    "duration": 31,
    "start_time": "2023-11-17T11:30:47.176Z"
   },
   {
    "duration": 18,
    "start_time": "2023-11-17T11:30:47.696Z"
   },
   {
    "duration": 8,
    "start_time": "2023-11-17T11:30:48.221Z"
   },
   {
    "duration": 8,
    "start_time": "2023-11-17T11:30:48.389Z"
   },
   {
    "duration": 15,
    "start_time": "2023-11-17T11:30:48.621Z"
   },
   {
    "duration": 11,
    "start_time": "2023-11-17T11:30:49.100Z"
   },
   {
    "duration": 5,
    "start_time": "2023-11-17T11:30:49.271Z"
   },
   {
    "duration": 8,
    "start_time": "2023-11-17T11:30:49.821Z"
   },
   {
    "duration": 3,
    "start_time": "2023-11-17T11:30:50.178Z"
   },
   {
    "duration": 14187,
    "start_time": "2023-11-17T11:30:50.348Z"
   },
   {
    "duration": 5,
    "start_time": "2023-11-17T11:31:04.537Z"
   },
   {
    "duration": 552,
    "start_time": "2023-11-17T11:31:04.544Z"
   },
   {
    "duration": 646,
    "start_time": "2023-11-17T11:31:05.098Z"
   },
   {
    "duration": 353,
    "start_time": "2023-11-17T11:31:05.746Z"
   },
   {
    "duration": 6,
    "start_time": "2023-11-17T11:31:06.101Z"
   },
   {
    "duration": 1363,
    "start_time": "2023-11-17T11:31:06.109Z"
   },
   {
    "duration": 1259,
    "start_time": "2023-11-17T11:31:07.474Z"
   },
   {
    "duration": 28,
    "start_time": "2023-11-17T11:31:08.735Z"
   },
   {
    "duration": 1625,
    "start_time": "2023-11-17T11:31:08.767Z"
   },
   {
    "duration": 41,
    "start_time": "2023-11-17T11:31:10.393Z"
   },
   {
    "duration": 534,
    "start_time": "2023-11-17T11:31:10.435Z"
   },
   {
    "duration": 31,
    "start_time": "2023-11-17T11:31:10.970Z"
   },
   {
    "duration": 42,
    "start_time": "2023-11-17T11:31:11.003Z"
   },
   {
    "duration": 359,
    "start_time": "2023-11-17T11:31:11.047Z"
   },
   {
    "duration": 313,
    "start_time": "2023-11-17T11:31:11.408Z"
   },
   {
    "duration": 6,
    "start_time": "2023-11-17T11:31:11.730Z"
   },
   {
    "duration": 1323,
    "start_time": "2023-11-17T11:31:11.738Z"
   },
   {
    "duration": 18,
    "start_time": "2023-11-17T11:31:13.062Z"
   },
   {
    "duration": 237,
    "start_time": "2023-11-17T11:31:13.081Z"
   },
   {
    "duration": 223,
    "start_time": "2023-11-17T11:31:13.319Z"
   },
   {
    "duration": 6,
    "start_time": "2023-11-17T11:31:13.548Z"
   },
   {
    "duration": 460,
    "start_time": "2023-11-17T11:31:13.557Z"
   },
   {
    "duration": 456,
    "start_time": "2023-11-17T11:31:14.019Z"
   },
   {
    "duration": 395,
    "start_time": "2023-11-17T11:31:14.477Z"
   },
   {
    "duration": 14,
    "start_time": "2023-11-17T11:31:14.874Z"
   },
   {
    "duration": 153,
    "start_time": "2023-11-17T11:31:14.889Z"
   },
   {
    "duration": 16,
    "start_time": "2023-11-17T11:31:15.044Z"
   },
   {
    "duration": 251,
    "start_time": "2023-11-17T11:31:15.061Z"
   }
  ],
  "kernelspec": {
   "display_name": "Python 3 (ipykernel)",
   "language": "python",
   "name": "python3"
  },
  "language_info": {
   "codemirror_mode": {
    "name": "ipython",
    "version": 3
   },
   "file_extension": ".py",
   "mimetype": "text/x-python",
   "name": "python",
   "nbconvert_exporter": "python",
   "pygments_lexer": "ipython3",
   "version": "3.9.5"
  },
  "toc": {
   "base_numbering": 1,
   "nav_menu": {},
   "number_sections": true,
   "sideBar": true,
   "skip_h1_title": true,
   "title_cell": "Table of Contents",
   "title_sidebar": "Contents",
   "toc_cell": false,
   "toc_position": {},
   "toc_section_display": true,
   "toc_window_display": false
  }
 },
 "nbformat": 4,
 "nbformat_minor": 2
}

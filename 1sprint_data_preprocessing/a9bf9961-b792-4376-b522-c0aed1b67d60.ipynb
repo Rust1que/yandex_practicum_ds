{
 "cells": [
  {
   "cell_type": "markdown",
   "metadata": {},
   "source": [
    "# Исследование надёжности заёмщиков\n",
    "\n",
    "Заказчик — кредитный отдел банка. Нужно разобраться, влияет ли семейное положение и количество детей клиента на факт погашения кредита в срок. Входные данные от банка — статистика о платёжеспособности клиентов.\n",
    "\n",
    "Результаты исследования будут учтены при построении модели **кредитного скоринга** — специальной системы, которая оценивает способность потенциального заёмщика вернуть кредит банку."
   ]
  },
  {
   "cell_type": "markdown",
   "metadata": {},
   "source": [
    "##  Открыть файл с данными и изучить общую информацию. "
   ]
  },
  {
   "cell_type": "code",
   "execution_count": 1,
   "metadata": {},
   "outputs": [],
   "source": [
    "import pandas as pd\n",
    "import math"
   ]
  },
  {
   "cell_type": "code",
   "execution_count": 2,
   "metadata": {},
   "outputs": [],
   "source": [
    "data = pd.read_csv('data.csv')"
   ]
  },
  {
   "cell_type": "code",
   "execution_count": 3,
   "metadata": {},
   "outputs": [
    {
     "data": {
      "text/html": [
       "<div>\n",
       "<style scoped>\n",
       "    .dataframe tbody tr th:only-of-type {\n",
       "        vertical-align: middle;\n",
       "    }\n",
       "\n",
       "    .dataframe tbody tr th {\n",
       "        vertical-align: top;\n",
       "    }\n",
       "\n",
       "    .dataframe thead th {\n",
       "        text-align: right;\n",
       "    }\n",
       "</style>\n",
       "<table border=\"1\" class=\"dataframe\">\n",
       "  <thead>\n",
       "    <tr style=\"text-align: right;\">\n",
       "      <th></th>\n",
       "      <th>children</th>\n",
       "      <th>days_employed</th>\n",
       "      <th>dob_years</th>\n",
       "      <th>education</th>\n",
       "      <th>education_id</th>\n",
       "      <th>family_status</th>\n",
       "      <th>family_status_id</th>\n",
       "      <th>gender</th>\n",
       "      <th>income_type</th>\n",
       "      <th>debt</th>\n",
       "      <th>total_income</th>\n",
       "      <th>purpose</th>\n",
       "    </tr>\n",
       "  </thead>\n",
       "  <tbody>\n",
       "    <tr>\n",
       "      <th>0</th>\n",
       "      <td>1</td>\n",
       "      <td>-8437.673028</td>\n",
       "      <td>42</td>\n",
       "      <td>высшее</td>\n",
       "      <td>0</td>\n",
       "      <td>женат / замужем</td>\n",
       "      <td>0</td>\n",
       "      <td>F</td>\n",
       "      <td>сотрудник</td>\n",
       "      <td>0</td>\n",
       "      <td>253875.639453</td>\n",
       "      <td>покупка жилья</td>\n",
       "    </tr>\n",
       "    <tr>\n",
       "      <th>1</th>\n",
       "      <td>1</td>\n",
       "      <td>-4024.803754</td>\n",
       "      <td>36</td>\n",
       "      <td>среднее</td>\n",
       "      <td>1</td>\n",
       "      <td>женат / замужем</td>\n",
       "      <td>0</td>\n",
       "      <td>F</td>\n",
       "      <td>сотрудник</td>\n",
       "      <td>0</td>\n",
       "      <td>112080.014102</td>\n",
       "      <td>приобретение автомобиля</td>\n",
       "    </tr>\n",
       "    <tr>\n",
       "      <th>2</th>\n",
       "      <td>0</td>\n",
       "      <td>-5623.422610</td>\n",
       "      <td>33</td>\n",
       "      <td>Среднее</td>\n",
       "      <td>1</td>\n",
       "      <td>женат / замужем</td>\n",
       "      <td>0</td>\n",
       "      <td>M</td>\n",
       "      <td>сотрудник</td>\n",
       "      <td>0</td>\n",
       "      <td>145885.952297</td>\n",
       "      <td>покупка жилья</td>\n",
       "    </tr>\n",
       "    <tr>\n",
       "      <th>3</th>\n",
       "      <td>3</td>\n",
       "      <td>-4124.747207</td>\n",
       "      <td>32</td>\n",
       "      <td>среднее</td>\n",
       "      <td>1</td>\n",
       "      <td>женат / замужем</td>\n",
       "      <td>0</td>\n",
       "      <td>M</td>\n",
       "      <td>сотрудник</td>\n",
       "      <td>0</td>\n",
       "      <td>267628.550329</td>\n",
       "      <td>дополнительное образование</td>\n",
       "    </tr>\n",
       "    <tr>\n",
       "      <th>4</th>\n",
       "      <td>0</td>\n",
       "      <td>340266.072047</td>\n",
       "      <td>53</td>\n",
       "      <td>среднее</td>\n",
       "      <td>1</td>\n",
       "      <td>гражданский брак</td>\n",
       "      <td>1</td>\n",
       "      <td>F</td>\n",
       "      <td>пенсионер</td>\n",
       "      <td>0</td>\n",
       "      <td>158616.077870</td>\n",
       "      <td>сыграть свадьбу</td>\n",
       "    </tr>\n",
       "  </tbody>\n",
       "</table>\n",
       "</div>"
      ],
      "text/plain": [
       "   children  days_employed  dob_years education  education_id  \\\n",
       "0         1   -8437.673028         42    высшее             0   \n",
       "1         1   -4024.803754         36   среднее             1   \n",
       "2         0   -5623.422610         33   Среднее             1   \n",
       "3         3   -4124.747207         32   среднее             1   \n",
       "4         0  340266.072047         53   среднее             1   \n",
       "\n",
       "      family_status  family_status_id gender income_type  debt   total_income  \\\n",
       "0   женат / замужем                 0      F   сотрудник     0  253875.639453   \n",
       "1   женат / замужем                 0      F   сотрудник     0  112080.014102   \n",
       "2   женат / замужем                 0      M   сотрудник     0  145885.952297   \n",
       "3   женат / замужем                 0      M   сотрудник     0  267628.550329   \n",
       "4  гражданский брак                 1      F   пенсионер     0  158616.077870   \n",
       "\n",
       "                      purpose  \n",
       "0               покупка жилья  \n",
       "1     приобретение автомобиля  \n",
       "2               покупка жилья  \n",
       "3  дополнительное образование  \n",
       "4             сыграть свадьбу  "
      ]
     },
     "metadata": {},
     "output_type": "display_data"
    },
    {
     "name": "stdout",
     "output_type": "stream",
     "text": [
      "<class 'pandas.core.frame.DataFrame'>\n",
      "RangeIndex: 21525 entries, 0 to 21524\n",
      "Data columns (total 12 columns):\n",
      " #   Column            Non-Null Count  Dtype  \n",
      "---  ------            --------------  -----  \n",
      " 0   children          21525 non-null  int64  \n",
      " 1   days_employed     19351 non-null  float64\n",
      " 2   dob_years         21525 non-null  int64  \n",
      " 3   education         21525 non-null  object \n",
      " 4   education_id      21525 non-null  int64  \n",
      " 5   family_status     21525 non-null  object \n",
      " 6   family_status_id  21525 non-null  int64  \n",
      " 7   gender            21525 non-null  object \n",
      " 8   income_type       21525 non-null  object \n",
      " 9   debt              21525 non-null  int64  \n",
      " 10  total_income      19351 non-null  float64\n",
      " 11  purpose           21525 non-null  object \n",
      "dtypes: float64(2), int64(5), object(5)\n",
      "memory usage: 2.0+ MB\n",
      "None\n"
     ]
    }
   ],
   "source": [
    "display(data.head(5))\n",
    "print(data.info())"
   ]
  },
  {
   "cell_type": "markdown",
   "metadata": {},
   "source": [
    "---\n",
    "В данных есть пропущенные значения в столбцах **days_employed** и **total_income**. В дальнейшем необходимо произвести анализ пропущенных значений и варианты их восстановления, если это будет необходимо для решения задачи.\n",
    "\n",
    "\n",
    "Рассмотрим более подробно данные из всех столбцов датафрейма."
   ]
  },
  {
   "cell_type": "code",
   "execution_count": 4,
   "metadata": {},
   "outputs": [
    {
     "name": "stdout",
     "output_type": "stream",
     "text": [
      "[ 1  0  3  2 -1  4 20  5]\n",
      "47\n",
      "76\n"
     ]
    }
   ],
   "source": [
    "print(data['children'].unique())\n",
    "print(data[(data['children'] == -1)]['children'].count())\n",
    "print(data[(data['children'] == 20)]['children'].count())"
   ]
  },
  {
   "cell_type": "markdown",
   "metadata": {},
   "source": [
    "Столбец **Children** помимо \"обычных\" значений (0,1,2 .. 5) принимает значения -1 и 20, 47 и 76 раз соответственно. \n",
    "Предположительно -1 - означает, что клиент не имеет детей, а 20 - то, что кол-во детей более 5."
   ]
  },
  {
   "cell_type": "code",
   "execution_count": 5,
   "metadata": {},
   "outputs": [
    {
     "name": "stdout",
     "output_type": "stream",
     "text": [
      "15906\n"
     ]
    }
   ],
   "source": [
    "print(data[(data['days_employed'] < 0)]['days_employed'].count())"
   ]
  },
  {
   "cell_type": "markdown",
   "metadata": {},
   "source": [
    "Столбец **days_employed** - представляет вещественные значения,содержит пропущенные данные, а также часть значений отрицательна\n",
    "(т.к. отрицательных значений много, то ошибка не случайна, где-то допускалась систематическая ошибка при записи чисел"
   ]
  },
  {
   "cell_type": "code",
   "execution_count": 6,
   "metadata": {},
   "outputs": [
    {
     "name": "stdout",
     "output_type": "stream",
     "text": [
      "[42 36 33 32 53 27 43 50 35 41 40 65 54 56 26 48 24 21 57 67 28 63 62 47\n",
      " 34 68 25 31 30 20 49 37 45 61 64 44 52 46 23 38 39 51  0 59 29 60 55 58\n",
      " 71 22 73 66 69 19 72 70 74 75]\n",
      "101\n"
     ]
    }
   ],
   "source": [
    "print(data['dob_years'].unique())\n",
    "print(data[(data['dob_years'] == 0)]['dob_years'].count())"
   ]
  },
  {
   "cell_type": "markdown",
   "metadata": {},
   "source": [
    "Столбец **dob_years** содежит 101 элемент равных 0, скорее всего по каким-то причинам информация о возрасте клиента была потеряна."
   ]
  },
  {
   "cell_type": "code",
   "execution_count": 7,
   "metadata": {},
   "outputs": [
    {
     "name": "stdout",
     "output_type": "stream",
     "text": [
      "['высшее' 'среднее' 'Среднее' 'СРЕДНЕЕ' 'ВЫСШЕЕ' 'неоконченное высшее'\n",
      " 'начальное' 'Высшее' 'НЕОКОНЧЕННОЕ ВЫСШЕЕ' 'Неоконченное высшее'\n",
      " 'НАЧАЛЬНОЕ' 'Начальное' 'Ученая степень' 'УЧЕНАЯ СТЕПЕНЬ'\n",
      " 'ученая степень']\n"
     ]
    }
   ],
   "source": [
    "print(data['education'].unique())"
   ]
  },
  {
   "cell_type": "markdown",
   "metadata": {},
   "source": [
    "Столбец **education** содержит элементы разного регистра, далее необходимо избавиться от дубликатов"
   ]
  },
  {
   "cell_type": "code",
   "execution_count": 8,
   "metadata": {},
   "outputs": [
    {
     "name": "stdout",
     "output_type": "stream",
     "text": [
      "['женат / замужем' 'гражданский брак' 'вдовец / вдова' 'в разводе'\n",
      " 'Не женат / не замужем']\n"
     ]
    }
   ],
   "source": [
    "print(data['family_status'].unique())"
   ]
  },
  {
   "cell_type": "code",
   "execution_count": 9,
   "metadata": {},
   "outputs": [
    {
     "name": "stdout",
     "output_type": "stream",
     "text": [
      "['F' 'M' 'XNA']\n"
     ]
    }
   ],
   "source": [
    "print(data['gender'].unique())"
   ]
  },
  {
   "cell_type": "markdown",
   "metadata": {},
   "source": [
    "Столбец **gender** помимо значений 'F' и 'M' содержит один элемент 'XNA' - предположительно информация о гендерной принадлежности клиента была потеряна."
   ]
  },
  {
   "cell_type": "code",
   "execution_count": 10,
   "metadata": {},
   "outputs": [
    {
     "name": "stdout",
     "output_type": "stream",
     "text": [
      "['сотрудник' 'пенсионер' 'компаньон' 'госслужащий' 'безработный'\n",
      " 'предприниматель' 'студент' 'в декрете']\n"
     ]
    }
   ],
   "source": [
    "print(data['income_type'].unique())"
   ]
  },
  {
   "cell_type": "code",
   "execution_count": 11,
   "metadata": {},
   "outputs": [
    {
     "name": "stdout",
     "output_type": "stream",
     "text": [
      "[0 1]\n"
     ]
    }
   ],
   "source": [
    "print(data['debt'].unique())"
   ]
  },
  {
   "cell_type": "code",
   "execution_count": 12,
   "metadata": {},
   "outputs": [
    {
     "name": "stdout",
     "output_type": "stream",
     "text": [
      "20667.26379327158\n",
      "2265604.028722744\n"
     ]
    }
   ],
   "source": [
    "print(data['total_income'].min())\n",
    "print(data['total_income'].max())"
   ]
  },
  {
   "cell_type": "code",
   "execution_count": 13,
   "metadata": {},
   "outputs": [
    {
     "name": "stdout",
     "output_type": "stream",
     "text": [
      "['покупка жилья' 'приобретение автомобиля' 'дополнительное образование'\n",
      " 'сыграть свадьбу' 'операции с жильем' 'образование'\n",
      " 'на проведение свадьбы' 'покупка жилья для семьи' 'покупка недвижимости'\n",
      " 'покупка коммерческой недвижимости' 'покупка жилой недвижимости'\n",
      " 'строительство собственной недвижимости' 'недвижимость'\n",
      " 'строительство недвижимости' 'на покупку подержанного автомобиля'\n",
      " 'на покупку своего автомобиля' 'операции с коммерческой недвижимостью'\n",
      " 'строительство жилой недвижимости' 'жилье'\n",
      " 'операции со своей недвижимостью' 'автомобили' 'заняться образованием'\n",
      " 'сделка с подержанным автомобилем' 'получение образования' 'автомобиль'\n",
      " 'свадьба' 'получение дополнительного образования' 'покупка своего жилья'\n",
      " 'операции с недвижимостью' 'получение высшего образования'\n",
      " 'свой автомобиль' 'сделка с автомобилем' 'профильное образование'\n",
      " 'высшее образование' 'покупка жилья для сдачи' 'на покупку автомобиля'\n",
      " 'ремонт жилью' 'заняться высшим образованием']\n"
     ]
    }
   ],
   "source": [
    "print(data['purpose'].unique())"
   ]
  },
  {
   "cell_type": "markdown",
   "metadata": {},
   "source": [
    "**purpose** содержит много семантически схожих целей, в дальнейшем необходимо категоризовать этот столбец"
   ]
  },
  {
   "cell_type": "markdown",
   "metadata": {},
   "source": [
    "### Вывод"
   ]
  },
  {
   "cell_type": "markdown",
   "metadata": {},
   "source": [
    "Датафрейм содержит пропущенные данные в столбцах **days_employed, total_income, dob_years, gender**. Необходимо разобраться в причинах их возникновения и понять, нужно ли их заполнять, и если нужно, то какими значениями. Также необходимо привести **education, family_status** к нижнему регистру и выполнить категоризацию столбца **purpose**.\n"
   ]
  },
  {
   "cell_type": "markdown",
   "metadata": {},
   "source": [
    "## Предобработка данных"
   ]
  },
  {
   "cell_type": "markdown",
   "metadata": {},
   "source": [
    "### Обработка дубликатов"
   ]
  },
  {
   "cell_type": "code",
   "execution_count": 14,
   "metadata": {},
   "outputs": [
    {
     "name": "stdout",
     "output_type": "stream",
     "text": [
      "['высшее' 'среднее' 'неоконченное высшее' 'начальное' 'ученая степень']\n"
     ]
    }
   ],
   "source": [
    "### перевод столбца education в нижний регистр\n",
    "data['education'] = data['education'].str.lower()\n",
    "print(data['education'].unique())"
   ]
  },
  {
   "cell_type": "code",
   "execution_count": 15,
   "metadata": {},
   "outputs": [
    {
     "name": "stdout",
     "output_type": "stream",
     "text": [
      "['женат / замужем' 'гражданский брак' 'вдовец / вдова' 'в разводе'\n",
      " 'не женат / не замужем']\n"
     ]
    }
   ],
   "source": [
    "### перевод столбца family_status в нижний регистр\n",
    "data['family_status'] = data['family_status'].str.lower()\n",
    "print(data['family_status'].unique())"
   ]
  },
  {
   "cell_type": "code",
   "execution_count": 16,
   "metadata": {},
   "outputs": [
    {
     "name": "stdout",
     "output_type": "stream",
     "text": [
      "полные дубликаты: 71\n",
      "<class 'pandas.core.frame.DataFrame'>\n",
      "RangeIndex: 21454 entries, 0 to 21453\n",
      "Data columns (total 12 columns):\n",
      " #   Column            Non-Null Count  Dtype  \n",
      "---  ------            --------------  -----  \n",
      " 0   children          21454 non-null  int64  \n",
      " 1   days_employed     19351 non-null  float64\n",
      " 2   dob_years         21454 non-null  int64  \n",
      " 3   education         21454 non-null  object \n",
      " 4   education_id      21454 non-null  int64  \n",
      " 5   family_status     21454 non-null  object \n",
      " 6   family_status_id  21454 non-null  int64  \n",
      " 7   gender            21454 non-null  object \n",
      " 8   income_type       21454 non-null  object \n",
      " 9   debt              21454 non-null  int64  \n",
      " 10  total_income      19351 non-null  float64\n",
      " 11  purpose           21454 non-null  object \n",
      "dtypes: float64(2), int64(5), object(5)\n",
      "memory usage: 2.0+ MB\n",
      "None\n"
     ]
    }
   ],
   "source": [
    "### удаление полных дубликатов\n",
    "print('полные дубликаты: {}'.format(data.duplicated().sum()))\n",
    "data = data.drop_duplicates().reset_index(drop = True)\n",
    "print(data.info())"
   ]
  },
  {
   "cell_type": "markdown",
   "metadata": {},
   "source": [
    "### Вывод"
   ]
  },
  {
   "cell_type": "markdown",
   "metadata": {},
   "source": [
    "Обработка дубликатов перед обработкой пропусков позволит избавиться от ряда проблем, которые могут возникнуть при дальнейшей обработке пропусков. \n",
    "\n",
    "Были приведены в нижний регистр значения стоблцов **education** и **family_status**, а затем были удалены полные дубликаты - 71 штука.\n",
    "Возникновение  дубликатов различного регистра могло возникнуть при некорректном вводе данных, полные дубликаты могли стать следствием сбоя записи информации."
   ]
  },
  {
   "cell_type": "markdown",
   "metadata": {},
   "source": [
    "### Обработка пропусков"
   ]
  },
  {
   "cell_type": "code",
   "execution_count": 17,
   "metadata": {},
   "outputs": [],
   "source": [
    "def avg_dob_years(row):\n",
    "    income_type = row['income_type']\n",
    "    mean_dob_years = row['dob_years']\n",
    "    temp = row['dob_years']\n",
    "    if temp == 0:\n",
    "        mean_dob_years = data[(data['income_type'] == income_type)]['dob_years'].mean()\n",
    "    return mean_dob_years\n",
    "\n",
    "data['dob_years'] = data.apply(avg_dob_years, axis = 1)"
   ]
  },
  {
   "cell_type": "markdown",
   "metadata": {},
   "source": [
    "Обработка 0-вых значений в стоблце **dob_years**. Для заполнения этого столбца используется функция avg_dob_years, которая заменяет 0 в возрасте клиента, на среднее значение возраста в зависимости от категории в **income_type**. "
   ]
  },
  {
   "cell_type": "code",
   "execution_count": 18,
   "metadata": {},
   "outputs": [],
   "source": [
    "def age_cat(years):\n",
    "    AGE_YOUNG = 27\n",
    "    AGE_MED = 45\n",
    "    AGE_SENIOR = 60  \n",
    "    if AGE_YOUNG > years:\n",
    "        return 'молодежь'\n",
    "    elif AGE_YOUNG <= years < AGE_MED:\n",
    "        return 'средний возраст'\n",
    "    elif AGE_MED <= years < AGE_SENIOR:\n",
    "        return 'взрослый возраст'\n",
    "    else:\n",
    "        return 'пенсионер'\n",
    "\n",
    "\n",
    "def avg_total_income(row):\n",
    "    gender = row['gender']\n",
    "    age_group = row['age_group']\n",
    "    education_id = row['education_id']\n",
    "    mean_income = row['total_income']\n",
    "    temp = row['total_income']\n",
    "    if math.isnan(temp):\n",
    "        mean_income = data[(data['gender'] == gender)&\n",
    "                                    (data['age_group'] == age_group)&\n",
    "                                    (data['education_id'] == education_id)\n",
    "            \n",
    "        ]['total_income'].mean()\n",
    "    return mean_income"
   ]
  },
  {
   "cell_type": "code",
   "execution_count": 19,
   "metadata": {},
   "outputs": [],
   "source": [
    "data['age_group'] = data['dob_years'].apply(age_cat)\n",
    "data['total_income'] = data.apply(avg_total_income, axis = 1)"
   ]
  },
  {
   "cell_type": "markdown",
   "metadata": {},
   "source": [
    "**Обработка пропущенных значений в total_income**. Для заполнения этого столбца производится категоризация данных по возрасту клиента: так функция **age_cat** - добавляет новый столбец **age_group** в исходные данные, которые категоризует данные по возрасту клиента(В качестве порогов были выбраны 27, 45, 60 лет, которые разбивают исходные данные на 4 категории по возрасту:  молодежь, средний возраст, взрослый возраст, пенсионер.\n",
    "\n",
    "\n",
    "Далее **avg_total_income** - заполняет пропущенные значения в total_income, средним по стобцам gender, age_group, education_id. На мой взгляд такая функция более точно заполнит значения total_income, чем среднее или медианное значение для всего набора данных без выбора категорий клиентов, т.к. учтет больше данные о каждом клиенте."
   ]
  },
  {
   "cell_type": "code",
   "execution_count": 20,
   "metadata": {},
   "outputs": [
    {
     "name": "stdout",
     "output_type": "stream",
     "text": [
      "mean_value: 66914.72890682236\n",
      "median_value: 2194.220566878695\n",
      "min_value: 24.14163324048118\n",
      "max_value: 401755.40047533\n",
      "amount_of_values > median_value: 9675\n",
      "amount_of_values > mean_value: 3445\n"
     ]
    }
   ],
   "source": [
    "data['days_employed'] = abs(data['days_employed'])\n",
    "print('mean_value:', data['days_employed'].mean())\n",
    "print('median_value:', data['days_employed'].median())\n",
    "print('min_value:', data['days_employed'].min())\n",
    "print('max_value:', data['days_employed'].max())\n",
    "print('amount_of_values > median_value:', data[(data['days_employed'] > data['days_employed'].median())]['days_employed'].count())\n",
    "print('amount_of_values > mean_value:', data[(data['days_employed'] > data['days_employed'].mean())]['days_employed'].count())\n",
    "data['days_employed'] = data['days_employed'].fillna(data['days_employed'].median())"
   ]
  },
  {
   "cell_type": "markdown",
   "metadata": {},
   "source": [
    "Обработка пропущенных значений в **days_employed**. Медиана точнее сможет описать пропущенные значения, из-за наличия выбросов в большую сторону в этом столбце у некоторых клиентов, но сперва необходимо изменить значения в этом столбце на положительные величины."
   ]
  },
  {
   "cell_type": "code",
   "execution_count": 21,
   "metadata": {},
   "outputs": [
    {
     "name": "stdout",
     "output_type": "stream",
     "text": [
      "47\n",
      "76\n",
      "0\n"
     ]
    }
   ],
   "source": [
    "print(data[(data['children'] == -1)]['children'].count())\n",
    "print(data[(data['children'] == 20)]['children'].count())\n",
    "data['children'] = data['children'].replace(-1,0)\n",
    "print(data[(data['children'] == -1)]['children'].count())"
   ]
  },
  {
   "cell_type": "markdown",
   "metadata": {},
   "source": [
    "Обработка -1 в столбце **children**. Замена -1 на 0, 20 осталось и означает, что кол-во детей более 5."
   ]
  },
  {
   "cell_type": "code",
   "execution_count": 22,
   "metadata": {},
   "outputs": [
    {
     "name": "stdout",
     "output_type": "stream",
     "text": [
      "['F' 'M']\n"
     ]
    }
   ],
   "source": [
    "data['gender'] = data['gender'].replace('XNA','F')\n",
    "print(data['gender'].unique())"
   ]
  },
  {
   "cell_type": "markdown",
   "metadata": {},
   "source": [
    "Замена одного значения в столбце **gender** с XNA на F. В данном случае это не сыграет роли на конечном результате, но если бы было больше неизвестных значений пришлось бы придумывать метод их заполнения."
   ]
  },
  {
   "cell_type": "markdown",
   "metadata": {},
   "source": [
    "### Вывод"
   ]
  },
  {
   "cell_type": "markdown",
   "metadata": {},
   "source": [
    "Выполнены заполнения пропусков в столбцах датафрейма: **gender, children, total_income, dob_years, days_employed**. Добавлен столбец **age_group** с категориями клиентов по возрасту. "
   ]
  },
  {
   "cell_type": "markdown",
   "metadata": {},
   "source": [
    "### Замена типа данных"
   ]
  },
  {
   "cell_type": "code",
   "execution_count": 23,
   "metadata": {},
   "outputs": [
    {
     "name": "stdout",
     "output_type": "stream",
     "text": [
      "<class 'pandas.core.frame.DataFrame'>\n",
      "RangeIndex: 21454 entries, 0 to 21453\n",
      "Data columns (total 13 columns):\n",
      " #   Column            Non-Null Count  Dtype  \n",
      "---  ------            --------------  -----  \n",
      " 0   children          21454 non-null  int64  \n",
      " 1   days_employed     21454 non-null  float64\n",
      " 2   dob_years         21454 non-null  float64\n",
      " 3   education         21454 non-null  object \n",
      " 4   education_id      21454 non-null  int64  \n",
      " 5   family_status     21454 non-null  object \n",
      " 6   family_status_id  21454 non-null  int64  \n",
      " 7   gender            21454 non-null  object \n",
      " 8   income_type       21454 non-null  object \n",
      " 9   debt              21454 non-null  int64  \n",
      " 10  total_income      21454 non-null  float64\n",
      " 11  purpose           21454 non-null  object \n",
      " 12  age_group         21454 non-null  object \n",
      "dtypes: float64(3), int64(4), object(6)\n",
      "memory usage: 2.1+ MB\n",
      "None\n",
      "<class 'pandas.core.frame.DataFrame'>\n",
      "RangeIndex: 21454 entries, 0 to 21453\n",
      "Data columns (total 13 columns):\n",
      " #   Column            Non-Null Count  Dtype \n",
      "---  ------            --------------  ----- \n",
      " 0   children          21454 non-null  int64 \n",
      " 1   days_employed     21454 non-null  int64 \n",
      " 2   dob_years         21454 non-null  int64 \n",
      " 3   education         21454 non-null  object\n",
      " 4   education_id      21454 non-null  int64 \n",
      " 5   family_status     21454 non-null  object\n",
      " 6   family_status_id  21454 non-null  int64 \n",
      " 7   gender            21454 non-null  object\n",
      " 8   income_type       21454 non-null  object\n",
      " 9   debt              21454 non-null  int64 \n",
      " 10  total_income      21454 non-null  int64 \n",
      " 11  purpose           21454 non-null  object\n",
      " 12  age_group         21454 non-null  object\n",
      "dtypes: int64(7), object(6)\n",
      "memory usage: 2.1+ MB\n",
      "None\n"
     ]
    }
   ],
   "source": [
    "print(data.info())\n",
    "data['dob_years'] = data['dob_years'].astype('int')\n",
    "data['days_employed'] = data['days_employed'].astype('int')\n",
    "data['total_income'] = data['total_income'].astype('int')\n",
    "print(data.info())\n"
   ]
  },
  {
   "cell_type": "markdown",
   "metadata": {},
   "source": [
    "### Вывод"
   ]
  },
  {
   "cell_type": "markdown",
   "metadata": {},
   "source": [
    " Замена типа данных столбцов **dob_years, days_employed, total_income** с вещественных float на int. Для более удобной работы. Использовался метод .astype(int)"
   ]
  },
  {
   "cell_type": "markdown",
   "metadata": {},
   "source": [
    "### Лемматизация"
   ]
  },
  {
   "cell_type": "code",
   "execution_count": 24,
   "metadata": {},
   "outputs": [
    {
     "name": "stdout",
     "output_type": "stream",
     "text": [
      "['покупка', ' ', 'жилье', '\\n']\n",
      "Counter({' ': 33570, '\\n': 21454, 'недвижимость': 6351, 'покупка': 5897, 'жилье': 4460, 'автомобиль': 4306, 'образование': 4013, 'с': 2918, 'операция': 2604, 'свадьба': 2324, 'свой': 2230, 'на': 2222, 'строительство': 1878, 'высокий': 1374, 'получение': 1314, 'коммерческий': 1311, 'для': 1289, 'жилой': 1230, 'сделка': 941, 'дополнительный': 906, 'заниматься': 904, 'проведение': 768, 'сыграть': 765, 'сдача': 651, 'семья': 638, 'собственный': 635, 'со': 627, 'ремонт': 607, 'подержанный': 486, 'подержать': 478, 'приобретение': 461, 'профильный': 436})\n"
     ]
    }
   ],
   "source": [
    "from collections import Counter\n",
    "from pymystem3 import Mystem\n",
    "m = Mystem()\n",
    "counter_lemmas = Counter(m.lemmatize(data.loc[0]['purpose']))\n",
    "print(m.lemmatize(data.loc[0]['purpose']))\n",
    "for k in range(1,len(data)):\n",
    "    lemmas = m.lemmatize(data.loc[k]['purpose'])\n",
    "    counter_lemmas_temp = Counter(lemmas)\n",
    "    counter_lemmas = counter_lemmas + counter_lemmas_temp\n",
    "print(counter_lemmas)\n",
    "all_purposes = ['недвижимость','автомобиль','образование','свадьба','жилье']\n"
   ]
  },
  {
   "cell_type": "markdown",
   "metadata": {},
   "source": [
    "Были получены леммы для столбца **purpose**. Из результатов видно, что цели кредитов можно разбить на несколько основных категорий: *Недвижимость, автомобиль, образование, свадьба, жилье*"
   ]
  },
  {
   "cell_type": "code",
   "execution_count": 25,
   "metadata": {},
   "outputs": [],
   "source": [
    "def lemmatizing_purpose(text):\n",
    "    lem_text = m.lemmatize(text)\n",
    "    purposes = (set(lem_text) & set(all_purposes))\n",
    "    str_purposes = ''.join(str(s) for s in purposes)\n",
    "    return str_purposes"
   ]
  },
  {
   "cell_type": "code",
   "execution_count": 26,
   "metadata": {},
   "outputs": [
    {
     "data": {
      "text/plain": [
       "lem_purposes\n",
       "недвижимость    10811\n",
       "автомобиль       4306\n",
       "образование      4013\n",
       "свадьба          2324\n",
       "Name: count, dtype: int64"
      ]
     },
     "execution_count": 26,
     "metadata": {},
     "output_type": "execute_result"
    }
   ],
   "source": [
    "data['lem_purposes'] = data['purpose'].apply(lemmatizing_purpose)\n",
    "data['lem_purposes'] = data['lem_purposes'].replace('жилье','недвижимость')\n",
    "data['lem_purposes'].value_counts()"
   ]
  },
  {
   "cell_type": "markdown",
   "metadata": {},
   "source": [
    "Получен новый столбец **lem_purposes** который содержит категорию цели кредита."
   ]
  },
  {
   "cell_type": "markdown",
   "metadata": {},
   "source": [
    "### Вывод"
   ]
  },
  {
   "cell_type": "markdown",
   "metadata": {},
   "source": [
    "Произведена лемматизация целей кредита. Основные цели были определены по результам лемматизации столбца целей(Недвижимость, жилье, автомобиль, образование и свадьба), жилье заменено на недвижимость. Ремонт также был включен в категорию недвижимость. Далее был добавлен столбец **lem_purposes** в котором записаны основные цели: Недвижимость, автомобиль, образование и свадьба."
   ]
  },
  {
   "cell_type": "markdown",
   "metadata": {},
   "source": [
    "### Категоризация данных"
   ]
  },
  {
   "cell_type": "markdown",
   "metadata": {},
   "source": [
    "#### Категоризация total_income"
   ]
  },
  {
   "cell_type": "code",
   "execution_count": 27,
   "metadata": {},
   "outputs": [
    {
     "name": "stdout",
     "output_type": "stream",
     "text": [
      "mean_value: 167438.8279108791\n",
      "median_value: 144904.0\n",
      "min_value: 20667\n",
      "max_value: 2265604\n",
      "amount_of_values > mean_value: 8424\n",
      "amount_of_values > 100000: 4463\n",
      "amount_of_values > 250000: 2906\n"
     ]
    }
   ],
   "source": [
    "print('mean_value:', data['total_income'].mean())\n",
    "print('median_value:', data['total_income'].median())\n",
    "print('min_value:', data['total_income'].min())\n",
    "print('max_value:', data['total_income'].max())\n",
    "print('amount_of_values > mean_value:', data[data['total_income'] > data['total_income'].mean()]['total_income'].count())\n",
    "print('amount_of_values > 100000:', data[data['total_income'] < 100000]['total_income'].count())\n",
    "print('amount_of_values > 250000:', data[data['total_income'] > 250000]['total_income'].count())"
   ]
  },
  {
   "cell_type": "markdown",
   "metadata": {},
   "source": [
    "Идея заключается в том, чтобы разбить клиентов по категориям в зависимости от уровня дохода по крупным категориям."
   ]
  },
  {
   "cell_type": "code",
   "execution_count": 28,
   "metadata": {},
   "outputs": [],
   "source": [
    "def total_income_cat(income):\n",
    "    LOW_INCOME = 80000\n",
    "    AVG_INCOME = 145000\n",
    "    HIGH_INCOME = 250000\n",
    "    if LOW_INCOME > income:\n",
    "        return '<80000'\n",
    "    if LOW_INCOME <= income < AVG_INCOME:\n",
    "        return '80000-145000'\n",
    "    if AVG_INCOME <= income < HIGH_INCOME:\n",
    "        return '145000-250000'\n",
    "    else:\n",
    "        return '>250000'"
   ]
  },
  {
   "cell_type": "code",
   "execution_count": 29,
   "metadata": {},
   "outputs": [
    {
     "name": "stdout",
     "output_type": "stream",
     "text": [
      "income_cat\n",
      "145000-250000    7812\n",
      "80000-145000     8460\n",
      "<80000           2276\n",
      ">250000          2906\n",
      "Name: income_cat, dtype: int64\n"
     ]
    }
   ],
   "source": [
    "data['income_cat'] = data['total_income'].apply(total_income_cat)\n",
    "print(data.groupby('income_cat')['income_cat'].count())"
   ]
  },
  {
   "cell_type": "markdown",
   "metadata": {},
   "source": [
    "В качестве пороговых значений для **total_income** клиентов были выбраны 80000, 145000, 250000. Соответственно было получено 4 категории клиентов. Средний уровень доходаи уровень выше среднего имеют наибольшее кол-во клиентов - эти категории получились примерно равными по кол-ву клиентов, в то время как маленький и высокий доход имеют меньшее кол-во клиентов, но их доли от общего кол-ва примерно равны."
   ]
  },
  {
   "cell_type": "markdown",
   "metadata": {},
   "source": [
    "#### Категоризация children"
   ]
  },
  {
   "cell_type": "code",
   "execution_count": 30,
   "metadata": {},
   "outputs": [],
   "source": [
    "def children_cat(children):\n",
    "    many_children = 3\n",
    "    if children == 0:\n",
    "        return 'нет детей'\n",
    "    if 0 < children < many_children:\n",
    "        return 'есть менее трех детей'\n",
    "    else:\n",
    "        return 'многодетная семья'"
   ]
  },
  {
   "cell_type": "code",
   "execution_count": 31,
   "metadata": {},
   "outputs": [
    {
     "name": "stdout",
     "output_type": "stream",
     "text": [
      "children_cat\n",
      "есть менее трех детей     6860\n",
      "многодетная семья          456\n",
      "нет детей                14138\n",
      "Name: children_cat, dtype: int64\n"
     ]
    }
   ],
   "source": [
    "data['children_cat'] = data['children'].apply(children_cat)\n",
    "print(data.groupby('children_cat')['children_cat'].count())"
   ]
  },
  {
   "cell_type": "markdown",
   "metadata": {},
   "source": [
    "Категоризация **children** по кол-ву детей: менее 3 детей, нет детей и многодетная семья, если детей больше 3."
   ]
  },
  {
   "cell_type": "markdown",
   "metadata": {},
   "source": [
    "### Вывод"
   ]
  },
  {
   "cell_type": "markdown",
   "metadata": {},
   "source": [
    "Для удобства были введены категории, разделяющие уровень дохода клиентов и кол-во детей у клиента. Очевидно, что средние группы по доходам должна быть наиболее распространненой в отличии от групп с малым и высоким доходом. По количеству детей группы были разбиты на тех, у кого нет детей вообще, тех у кого менее 3 детей и многодетные семьи с кол-вом детей более 3.\n",
    "Ранее была использована категоризация данных по возрасту, чтобы заполнить значения total_income, возраст был разбит на несколько групп, которые могут быть использованы, как один из параметров для определения значений total_income."
   ]
  },
  {
   "cell_type": "markdown",
   "metadata": {},
   "source": [
    "## Ответить на вопросы"
   ]
  },
  {
   "cell_type": "markdown",
   "metadata": {},
   "source": [
    "- Есть ли зависимость между наличием детей и возвратом кредита в срок?\n",
    "- Есть ли зависимость между семейным положением и возвратом кредита в срок?\n",
    "- Есть ли зависимость между уровнем дохода и возвратом кредита в срок?\n",
    "- Как разные цели кредита влияют на его возврат в срок?"
   ]
  },
  {
   "cell_type": "markdown",
   "metadata": {},
   "source": [
    "### Есть ли зависимость между наличием детей и возвратом кредита в срок?"
   ]
  },
  {
   "cell_type": "code",
   "execution_count": 32,
   "metadata": {},
   "outputs": [
    {
     "data": {
      "text/html": [
       "<div>\n",
       "<style scoped>\n",
       "    .dataframe tbody tr th:only-of-type {\n",
       "        vertical-align: middle;\n",
       "    }\n",
       "\n",
       "    .dataframe tbody tr th {\n",
       "        vertical-align: top;\n",
       "    }\n",
       "\n",
       "    .dataframe thead th {\n",
       "        text-align: right;\n",
       "    }\n",
       "</style>\n",
       "<table border=\"1\" class=\"dataframe\">\n",
       "  <thead>\n",
       "    <tr style=\"text-align: right;\">\n",
       "      <th></th>\n",
       "      <th>total</th>\n",
       "      <th>with_debt</th>\n",
       "      <th>percent</th>\n",
       "    </tr>\n",
       "    <tr>\n",
       "      <th>children_cat</th>\n",
       "      <th></th>\n",
       "      <th></th>\n",
       "      <th></th>\n",
       "    </tr>\n",
       "  </thead>\n",
       "  <tbody>\n",
       "    <tr>\n",
       "      <th>нет детей</th>\n",
       "      <td>14138</td>\n",
       "      <td>1064</td>\n",
       "      <td>7.53</td>\n",
       "    </tr>\n",
       "    <tr>\n",
       "      <th>многодетная семья</th>\n",
       "      <td>456</td>\n",
       "      <td>39</td>\n",
       "      <td>8.55</td>\n",
       "    </tr>\n",
       "    <tr>\n",
       "      <th>есть менее трех детей</th>\n",
       "      <td>6860</td>\n",
       "      <td>638</td>\n",
       "      <td>9.30</td>\n",
       "    </tr>\n",
       "  </tbody>\n",
       "</table>\n",
       "</div>"
      ],
      "text/plain": [
       "                       total  with_debt  percent\n",
       "children_cat                                    \n",
       "нет детей              14138       1064     7.53\n",
       "многодетная семья        456         39     8.55\n",
       "есть менее трех детей   6860        638     9.30"
      ]
     },
     "metadata": {},
     "output_type": "display_data"
    }
   ],
   "source": [
    "data_children = data.pivot_table(index = 'children_cat', values = 'debt', aggfunc = ['count','sum'])\n",
    "data_children.columns = ('total','with_debt')\n",
    "#print('Процент задолженности по кредитам среди категорий клиентов, где:')\n",
    "data_children['percent'] =  (data_children['with_debt'] / data_children['total'] * 100).round(2)\n",
    "display(data_children.sort_values('percent'))\n",
    "\n",
    "\n"
   ]
  },
  {
   "cell_type": "markdown",
   "metadata": {},
   "source": [
    "----\n",
    "По полученным результатам можно сделать вывод, что процент клиентов с долгами по кредитам больше, у тех клиентов, у которых есть дети. Это хорошо видно по категориям клиентов у которых нет детей - 7.53% и есть менее трех детей - 9.30%. Про категорию клиентов с многодетными семьями нельзя сделать четкого вывода, т.к. кол-во таких клиентов существенно меньше кол-ва клиентов в других категорий."
   ]
  },
  {
   "cell_type": "markdown",
   "metadata": {},
   "source": [
    "### Есть ли зависимость между семейным положением и возвратом кредита в срок?"
   ]
  },
  {
   "cell_type": "code",
   "execution_count": 33,
   "metadata": {},
   "outputs": [
    {
     "name": "stdout",
     "output_type": "stream",
     "text": [
      "Процент задолженности по кредитам среди категорий клиентов в зависимости от их семейного положения:\n"
     ]
    },
    {
     "data": {
      "text/html": [
       "<div>\n",
       "<style scoped>\n",
       "    .dataframe tbody tr th:only-of-type {\n",
       "        vertical-align: middle;\n",
       "    }\n",
       "\n",
       "    .dataframe tbody tr th {\n",
       "        vertical-align: top;\n",
       "    }\n",
       "\n",
       "    .dataframe thead th {\n",
       "        text-align: right;\n",
       "    }\n",
       "</style>\n",
       "<table border=\"1\" class=\"dataframe\">\n",
       "  <thead>\n",
       "    <tr style=\"text-align: right;\">\n",
       "      <th></th>\n",
       "      <th>total</th>\n",
       "      <th>with_debt</th>\n",
       "      <th>percent</th>\n",
       "    </tr>\n",
       "    <tr>\n",
       "      <th>family_status</th>\n",
       "      <th></th>\n",
       "      <th></th>\n",
       "      <th></th>\n",
       "    </tr>\n",
       "  </thead>\n",
       "  <tbody>\n",
       "    <tr>\n",
       "      <th>вдовец / вдова</th>\n",
       "      <td>959</td>\n",
       "      <td>63</td>\n",
       "      <td>6.57</td>\n",
       "    </tr>\n",
       "    <tr>\n",
       "      <th>в разводе</th>\n",
       "      <td>1195</td>\n",
       "      <td>85</td>\n",
       "      <td>7.11</td>\n",
       "    </tr>\n",
       "    <tr>\n",
       "      <th>женат / замужем</th>\n",
       "      <td>12339</td>\n",
       "      <td>931</td>\n",
       "      <td>7.55</td>\n",
       "    </tr>\n",
       "    <tr>\n",
       "      <th>гражданский брак</th>\n",
       "      <td>4151</td>\n",
       "      <td>388</td>\n",
       "      <td>9.35</td>\n",
       "    </tr>\n",
       "    <tr>\n",
       "      <th>не женат / не замужем</th>\n",
       "      <td>2810</td>\n",
       "      <td>274</td>\n",
       "      <td>9.75</td>\n",
       "    </tr>\n",
       "  </tbody>\n",
       "</table>\n",
       "</div>"
      ],
      "text/plain": [
       "                       total  with_debt  percent\n",
       "family_status                                   \n",
       "вдовец / вдова           959         63     6.57\n",
       "в разводе               1195         85     7.11\n",
       "женат / замужем        12339        931     7.55\n",
       "гражданский брак        4151        388     9.35\n",
       "не женат / не замужем   2810        274     9.75"
      ]
     },
     "metadata": {},
     "output_type": "display_data"
    }
   ],
   "source": [
    "data_family = data.pivot_table(index = 'family_status', values = 'debt', aggfunc = ['count','sum'])\n",
    "data_family.columns = ('total','with_debt')\n",
    "print('Процент задолженности по кредитам среди категорий клиентов в зависимости от их семейного положения:')\n",
    "data_family['percent'] = (data_family['with_debt'] / data_family['total'] * 100).round(2)\n",
    "display(data_family.sort_values('percent'))\n"
   ]
  },
  {
   "cell_type": "markdown",
   "metadata": {},
   "source": [
    "Лидерами по проценту должников это категории клиентов,в которых клиент не женат / не замужем или состоит в гражданском браке. Вдовцы и вдовы, как и те, кто в разводе замыкают этот рейтинг. Но стоит отметить, что категория женатых граждан слишком велика по сравнению с остальными категориями, поэтому представленный результат может быть не информативен и для ответа на вопрос о платежеспособности клиента и имеет смысл обратиться к другим характеристикам."
   ]
  },
  {
   "cell_type": "markdown",
   "metadata": {},
   "source": [
    "### Есть ли зависимость между уровнем дохода и возвратом кредита в срок?"
   ]
  },
  {
   "cell_type": "code",
   "execution_count": 34,
   "metadata": {},
   "outputs": [
    {
     "name": "stdout",
     "output_type": "stream",
     "text": [
      "Процент задолженности по кредитам среди категорий клиентов в зависимости от уровня их дохода:\n"
     ]
    },
    {
     "data": {
      "text/html": [
       "<div>\n",
       "<style scoped>\n",
       "    .dataframe tbody tr th:only-of-type {\n",
       "        vertical-align: middle;\n",
       "    }\n",
       "\n",
       "    .dataframe tbody tr th {\n",
       "        vertical-align: top;\n",
       "    }\n",
       "\n",
       "    .dataframe thead th {\n",
       "        text-align: right;\n",
       "    }\n",
       "</style>\n",
       "<table border=\"1\" class=\"dataframe\">\n",
       "  <thead>\n",
       "    <tr style=\"text-align: right;\">\n",
       "      <th></th>\n",
       "      <th>total</th>\n",
       "      <th>with_debt</th>\n",
       "      <th>percent</th>\n",
       "    </tr>\n",
       "    <tr>\n",
       "      <th>income_cat</th>\n",
       "      <th></th>\n",
       "      <th></th>\n",
       "      <th></th>\n",
       "    </tr>\n",
       "  </thead>\n",
       "  <tbody>\n",
       "    <tr>\n",
       "      <th>&gt;250000</th>\n",
       "      <td>2906</td>\n",
       "      <td>198</td>\n",
       "      <td>6.81</td>\n",
       "    </tr>\n",
       "    <tr>\n",
       "      <th>&lt;80000</th>\n",
       "      <td>2276</td>\n",
       "      <td>174</td>\n",
       "      <td>7.64</td>\n",
       "    </tr>\n",
       "    <tr>\n",
       "      <th>80000-145000</th>\n",
       "      <td>8460</td>\n",
       "      <td>711</td>\n",
       "      <td>8.40</td>\n",
       "    </tr>\n",
       "    <tr>\n",
       "      <th>145000-250000</th>\n",
       "      <td>7812</td>\n",
       "      <td>658</td>\n",
       "      <td>8.42</td>\n",
       "    </tr>\n",
       "  </tbody>\n",
       "</table>\n",
       "</div>"
      ],
      "text/plain": [
       "               total  with_debt  percent\n",
       "income_cat                              \n",
       ">250000         2906        198     6.81\n",
       "<80000          2276        174     7.64\n",
       "80000-145000    8460        711     8.40\n",
       "145000-250000   7812        658     8.42"
      ]
     },
     "metadata": {},
     "output_type": "display_data"
    }
   ],
   "source": [
    "data_income = data.pivot_table(index = 'income_cat', values = 'debt', aggfunc = ['count','sum'])\n",
    "data_income.columns = ('total','with_debt')\n",
    "print('Процент задолженности по кредитам среди категорий клиентов в зависимости от уровня их дохода:')\n",
    "data_income['percent'] = (data_income['with_debt'] / data_income['total'] * 100).round(2)\n",
    "display(data_income.sort_values('percent'))"
   ]
  },
  {
   "cell_type": "markdown",
   "metadata": {},
   "source": [
    "Видно, что при высоком доходе и наименьшем доходе процент клиентов с задолженностями меньше, по сравнению с клиентами из средних групп дохода. Для средних групп в свою очередь проценты почти равны."
   ]
  },
  {
   "cell_type": "markdown",
   "metadata": {},
   "source": [
    "### Как разные цели кредита влияют на его возврат в срок?"
   ]
  },
  {
   "cell_type": "code",
   "execution_count": 35,
   "metadata": {},
   "outputs": [
    {
     "name": "stdout",
     "output_type": "stream",
     "text": [
      "Процент задолженности по кредитам среди категорий клиентов в зависиомсти от целей кредита:\n"
     ]
    },
    {
     "data": {
      "text/html": [
       "<div>\n",
       "<style scoped>\n",
       "    .dataframe tbody tr th:only-of-type {\n",
       "        vertical-align: middle;\n",
       "    }\n",
       "\n",
       "    .dataframe tbody tr th {\n",
       "        vertical-align: top;\n",
       "    }\n",
       "\n",
       "    .dataframe thead th {\n",
       "        text-align: right;\n",
       "    }\n",
       "</style>\n",
       "<table border=\"1\" class=\"dataframe\">\n",
       "  <thead>\n",
       "    <tr style=\"text-align: right;\">\n",
       "      <th></th>\n",
       "      <th>total</th>\n",
       "      <th>with_debt</th>\n",
       "      <th>percent</th>\n",
       "    </tr>\n",
       "    <tr>\n",
       "      <th>lem_purposes</th>\n",
       "      <th></th>\n",
       "      <th></th>\n",
       "      <th></th>\n",
       "    </tr>\n",
       "  </thead>\n",
       "  <tbody>\n",
       "    <tr>\n",
       "      <th>недвижимость</th>\n",
       "      <td>10811</td>\n",
       "      <td>782</td>\n",
       "      <td>7.23</td>\n",
       "    </tr>\n",
       "    <tr>\n",
       "      <th>свадьба</th>\n",
       "      <td>2324</td>\n",
       "      <td>186</td>\n",
       "      <td>8.00</td>\n",
       "    </tr>\n",
       "    <tr>\n",
       "      <th>образование</th>\n",
       "      <td>4013</td>\n",
       "      <td>370</td>\n",
       "      <td>9.22</td>\n",
       "    </tr>\n",
       "    <tr>\n",
       "      <th>автомобиль</th>\n",
       "      <td>4306</td>\n",
       "      <td>403</td>\n",
       "      <td>9.36</td>\n",
       "    </tr>\n",
       "  </tbody>\n",
       "</table>\n",
       "</div>"
      ],
      "text/plain": [
       "              total  with_debt  percent\n",
       "lem_purposes                           \n",
       "недвижимость  10811        782     7.23\n",
       "свадьба        2324        186     8.00\n",
       "образование    4013        370     9.22\n",
       "автомобиль     4306        403     9.36"
      ]
     },
     "metadata": {},
     "output_type": "display_data"
    }
   ],
   "source": [
    "data_purpose = data.pivot_table(index = 'lem_purposes', values = 'debt', aggfunc = ['count','sum'])\n",
    "data_purpose.columns = ('total','with_debt')\n",
    "print('Процент задолженности по кредитам среди категорий клиентов в зависиомсти от целей кредита:')\n",
    "data_purpose['percent'] = (data_purpose['with_debt'] / data_purpose['total'] * 100).round(2)\n",
    "display(data_purpose.sort_values('percent'))"
   ]
  },
  {
   "cell_type": "markdown",
   "metadata": {},
   "source": [
    "Наиболее высокий процент по задолженностям среди клиентов, которые берут кредит с целью покупки автомобиля, наименьший у тех, кто берет кредит на покупку недвижимости, причем кол-во клиентов, которые обратились с целью покупки недвижимости больше, чем кол-во клиентов с другими целями, следовательно этому результату можно и доверять больше."
   ]
  },
  {
   "cell_type": "markdown",
   "metadata": {},
   "source": [
    "## Общий вывод"
   ]
  },
  {
   "cell_type": "markdown",
   "metadata": {},
   "source": [
    "Были обработаны данные представленной таблицы. Из нее удалены дубликаты, заполненны  пропущенные/потерянные значения различными способами, выбор которых зависил от вопросов задачи и свойств данных таблицы. Данные категоризиваны по нескольким харакетиристикам для того, чтобы ответить на вопросы задачи. В конце выполнения представлены ответы на поставленные вопросы и представлены сводные таблицы результатов."
   ]
  },
  {
   "cell_type": "code",
   "execution_count": null,
   "metadata": {},
   "outputs": [],
   "source": []
  }
 ],
 "metadata": {
  "ExecuteTimeLog": [
   {
    "duration": 589,
    "start_time": "2023-11-14T16:40:37.081Z"
   },
   {
    "duration": 146,
    "start_time": "2023-11-14T16:41:01.810Z"
   },
   {
    "duration": 14,
    "start_time": "2023-11-14T16:41:21.643Z"
   },
   {
    "duration": 3,
    "start_time": "2023-11-14T16:44:31.424Z"
   },
   {
    "duration": 33,
    "start_time": "2023-11-14T18:04:39.012Z"
   },
   {
    "duration": 29,
    "start_time": "2023-11-14T18:04:45.344Z"
   },
   {
    "duration": 2,
    "start_time": "2023-11-14T18:15:48.472Z"
   },
   {
    "duration": 78,
    "start_time": "2023-11-14T18:15:49.984Z"
   },
   {
    "duration": 26,
    "start_time": "2023-11-14T18:15:50.887Z"
   },
   {
    "duration": 20,
    "start_time": "2023-11-14T18:26:15.494Z"
   },
   {
    "duration": 48,
    "start_time": "2023-11-15T05:30:00.935Z"
   },
   {
    "duration": 402,
    "start_time": "2023-11-15T05:30:11.771Z"
   },
   {
    "duration": 307,
    "start_time": "2023-11-15T05:30:12.175Z"
   },
   {
    "duration": 31,
    "start_time": "2023-11-15T05:30:12.484Z"
   },
   {
    "duration": 5,
    "start_time": "2023-11-15T05:30:13.571Z"
   },
   {
    "duration": 6,
    "start_time": "2023-11-15T05:30:23.738Z"
   },
   {
    "duration": 4,
    "start_time": "2023-11-15T05:30:29.561Z"
   },
   {
    "duration": 12,
    "start_time": "2023-11-15T05:30:52.242Z"
   },
   {
    "duration": 5,
    "start_time": "2023-11-15T05:32:39.548Z"
   },
   {
    "duration": 6,
    "start_time": "2023-11-15T05:34:30.896Z"
   },
   {
    "duration": 74,
    "start_time": "2023-11-15T05:35:17.460Z"
   },
   {
    "duration": 5,
    "start_time": "2023-11-15T05:36:14.125Z"
   },
   {
    "duration": 5,
    "start_time": "2023-11-15T05:37:59.404Z"
   },
   {
    "duration": 4,
    "start_time": "2023-11-15T05:38:27.738Z"
   },
   {
    "duration": 6,
    "start_time": "2023-11-15T05:39:45.976Z"
   },
   {
    "duration": 6,
    "start_time": "2023-11-15T05:40:58.926Z"
   },
   {
    "duration": 6,
    "start_time": "2023-11-15T06:10:31.376Z"
   },
   {
    "duration": 5,
    "start_time": "2023-11-15T06:10:42.745Z"
   },
   {
    "duration": 4,
    "start_time": "2023-11-15T06:12:01.016Z"
   },
   {
    "duration": 4,
    "start_time": "2023-11-15T06:12:07.875Z"
   },
   {
    "duration": 4,
    "start_time": "2023-11-15T06:12:12.185Z"
   },
   {
    "duration": 516,
    "start_time": "2023-11-15T06:49:47.563Z"
   },
   {
    "duration": 261,
    "start_time": "2023-11-15T06:50:22.080Z"
   },
   {
    "duration": 274,
    "start_time": "2023-11-15T06:52:23.945Z"
   },
   {
    "duration": 282,
    "start_time": "2023-11-15T06:52:41.126Z"
   },
   {
    "duration": 254,
    "start_time": "2023-11-15T06:53:24.099Z"
   },
   {
    "duration": 2,
    "start_time": "2023-11-15T06:53:39.629Z"
   },
   {
    "duration": 72,
    "start_time": "2023-11-15T06:53:39.890Z"
   },
   {
    "duration": 26,
    "start_time": "2023-11-15T06:53:40.167Z"
   },
   {
    "duration": 6,
    "start_time": "2023-11-15T06:53:41.454Z"
   },
   {
    "duration": 6,
    "start_time": "2023-11-15T06:53:42.572Z"
   },
   {
    "duration": 5,
    "start_time": "2023-11-15T06:53:43.893Z"
   },
   {
    "duration": 4,
    "start_time": "2023-11-15T06:53:44.903Z"
   },
   {
    "duration": 4,
    "start_time": "2023-11-15T06:53:45.665Z"
   },
   {
    "duration": 4,
    "start_time": "2023-11-15T06:53:46.025Z"
   },
   {
    "duration": 4,
    "start_time": "2023-11-15T06:53:47.843Z"
   },
   {
    "duration": 3,
    "start_time": "2023-11-15T06:53:48.090Z"
   },
   {
    "duration": 4,
    "start_time": "2023-11-15T06:53:48.328Z"
   },
   {
    "duration": 5,
    "start_time": "2023-11-15T06:53:49.124Z"
   },
   {
    "duration": 13,
    "start_time": "2023-11-15T06:53:52.740Z"
   },
   {
    "duration": 18,
    "start_time": "2023-11-15T06:53:53.067Z"
   },
   {
    "duration": 43,
    "start_time": "2023-11-15T06:53:53.891Z"
   },
   {
    "duration": 515,
    "start_time": "2023-11-15T06:53:57.975Z"
   },
   {
    "duration": 256,
    "start_time": "2023-11-15T06:54:30.217Z"
   },
   {
    "duration": 285,
    "start_time": "2023-11-15T06:55:08.829Z"
   },
   {
    "duration": 250,
    "start_time": "2023-11-15T06:55:15.755Z"
   },
   {
    "duration": 250,
    "start_time": "2023-11-15T06:55:29.900Z"
   },
   {
    "duration": 258,
    "start_time": "2023-11-15T06:55:43.029Z"
   },
   {
    "duration": 8864,
    "start_time": "2023-11-15T07:02:41.763Z"
   },
   {
    "duration": 83,
    "start_time": "2023-11-15T07:02:50.999Z"
   },
   {
    "duration": 269,
    "start_time": "2023-11-15T07:02:54.252Z"
   },
   {
    "duration": 394,
    "start_time": "2023-11-15T07:05:00.180Z"
   },
   {
    "duration": 386,
    "start_time": "2023-11-15T07:06:37.214Z"
   },
   {
    "duration": 407,
    "start_time": "2023-11-15T07:10:44.326Z"
   },
   {
    "duration": 5,
    "start_time": "2023-11-15T07:10:54.331Z"
   },
   {
    "duration": 423,
    "start_time": "2023-11-15T07:10:55.539Z"
   },
   {
    "duration": 16,
    "start_time": "2023-11-15T07:13:51.141Z"
   },
   {
    "duration": 29,
    "start_time": "2023-11-15T07:28:56.172Z"
   },
   {
    "duration": 31,
    "start_time": "2023-11-15T07:29:20.774Z"
   },
   {
    "duration": 32,
    "start_time": "2023-11-15T07:29:28.341Z"
   },
   {
    "duration": 8024,
    "start_time": "2023-11-15T07:30:13.004Z"
   },
   {
    "duration": 2784,
    "start_time": "2023-11-15T07:37:41.524Z"
   },
   {
    "duration": 2618,
    "start_time": "2023-11-15T07:37:48.281Z"
   },
   {
    "duration": 12,
    "start_time": "2023-11-15T07:38:37.148Z"
   },
   {
    "duration": 9,
    "start_time": "2023-11-15T07:38:41.357Z"
   },
   {
    "duration": 11,
    "start_time": "2023-11-15T07:38:50.939Z"
   },
   {
    "duration": 3021,
    "start_time": "2023-11-15T08:08:14.843Z"
   },
   {
    "duration": 18,
    "start_time": "2023-11-15T08:12:24.407Z"
   },
   {
    "duration": 16,
    "start_time": "2023-11-15T08:14:00.865Z"
   },
   {
    "duration": 18,
    "start_time": "2023-11-15T08:14:09.298Z"
   },
   {
    "duration": 14,
    "start_time": "2023-11-15T08:15:12.582Z"
   },
   {
    "duration": 20,
    "start_time": "2023-11-15T08:19:39.835Z"
   },
   {
    "duration": 16,
    "start_time": "2023-11-15T08:19:43.389Z"
   },
   {
    "duration": 14,
    "start_time": "2023-11-15T08:19:44.986Z"
   },
   {
    "duration": 16,
    "start_time": "2023-11-15T08:20:00.254Z"
   },
   {
    "duration": 16,
    "start_time": "2023-11-15T08:20:17.864Z"
   },
   {
    "duration": 24,
    "start_time": "2023-11-15T08:20:46.477Z"
   },
   {
    "duration": 15,
    "start_time": "2023-11-15T08:20:53.676Z"
   },
   {
    "duration": 14,
    "start_time": "2023-11-15T08:23:06.995Z"
   },
   {
    "duration": 13,
    "start_time": "2023-11-15T08:28:02.897Z"
   },
   {
    "duration": 3,
    "start_time": "2023-11-15T08:28:21.795Z"
   },
   {
    "duration": 13,
    "start_time": "2023-11-15T08:28:23.720Z"
   },
   {
    "duration": 3,
    "start_time": "2023-11-15T08:28:53.624Z"
   },
   {
    "duration": 11,
    "start_time": "2023-11-15T08:28:53.911Z"
   },
   {
    "duration": 27,
    "start_time": "2023-11-15T08:34:38.809Z"
   },
   {
    "duration": 24,
    "start_time": "2023-11-15T08:36:10.594Z"
   },
   {
    "duration": 23,
    "start_time": "2023-11-15T08:36:40.090Z"
   },
   {
    "duration": 22,
    "start_time": "2023-11-15T08:40:43.488Z"
   },
   {
    "duration": 24,
    "start_time": "2023-11-15T08:40:52.299Z"
   },
   {
    "duration": 26,
    "start_time": "2023-11-15T08:41:29.463Z"
   },
   {
    "duration": 24,
    "start_time": "2023-11-15T08:41:56.235Z"
   },
   {
    "duration": 412,
    "start_time": "2023-11-15T08:46:11.925Z"
   }
  ],
  "kernelspec": {
   "display_name": "Python 3 (ipykernel)",
   "language": "python",
   "name": "python3"
  },
  "language_info": {
   "codemirror_mode": {
    "name": "ipython",
    "version": 3
   },
   "file_extension": ".py",
   "mimetype": "text/x-python",
   "name": "python",
   "nbconvert_exporter": "python",
   "pygments_lexer": "ipython3",
   "version": "3.9.18"
  },
  "toc": {
   "base_numbering": 1,
   "nav_menu": {},
   "number_sections": true,
   "sideBar": true,
   "skip_h1_title": true,
   "title_cell": "Table of Contents",
   "title_sidebar": "Contents",
   "toc_cell": false,
   "toc_position": {},
   "toc_section_display": true,
   "toc_window_display": false
  }
 },
 "nbformat": 4,
 "nbformat_minor": 4
}

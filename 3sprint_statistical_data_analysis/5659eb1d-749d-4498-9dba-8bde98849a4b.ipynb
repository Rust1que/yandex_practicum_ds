{
 "cells": [
  {
   "cell_type": "markdown",
   "metadata": {},
   "source": [
    "# Описание проекта\n",
    "\n",
    "Вы аналитик компании «Мегалайн» — федерального оператора сотовой связи. Клиентам предлагают два тарифных плана: «Смарт» и «Ультра». Чтобы скорректировать рекламный бюджет, коммерческий департамент хочет понять, какой тариф приносит больше денег.\n",
    "\n",
    "Вам предстоит сделать предварительный анализ тарифов на небольшой выборке клиентов. В вашем распоряжении данные 500 пользователей «Мегалайна»: кто они, откуда, каким тарифом пользуются, сколько звонков и сообщений каждый отправил за 2018 год. Нужно проанализировать поведение клиентов и сделать вывод — какой тариф лучше."
   ]
  },
  {
   "cell_type": "markdown",
   "metadata": {},
   "source": [
    "## Изучить общую информацию"
   ]
  },
  {
   "cell_type": "code",
   "execution_count": 1,
   "metadata": {},
   "outputs": [],
   "source": [
    "import pandas as pd\n",
    "import numpy as np\n",
    "import matplotlib.pyplot as plt\n",
    "import math\n",
    "import seaborn as sns\n",
    "from scipy import stats as st\n",
    "pd.set_option('display.max_columns', 100)\n",
    "%matplotlib inline"
   ]
  },
  {
   "cell_type": "code",
   "execution_count": 55,
   "metadata": {},
   "outputs": [],
   "source": [
    "calls_data = pd.read_csv('/datasets/calls.csv')\n",
    "internet_data = pd.read_csv('/datasets/internet.csv')\n",
    "messages_data = pd.read_csv('/datasets/messages.csv')\n",
    "tariffs_data = pd.read_csv('/datasets/tariffs.csv')\n",
    "users_data = pd.read_csv('/datasets/users.csv')"
   ]
  },
  {
   "cell_type": "markdown",
   "metadata": {},
   "source": [
    "Для начала необходимо изучить общую информаию о каждом датасете"
   ]
  },
  {
   "cell_type": "code",
   "execution_count": 3,
   "metadata": {},
   "outputs": [
    {
     "name": "stdout",
     "output_type": "stream",
     "text": [
      "<class 'pandas.core.frame.DataFrame'>\n",
      "RangeIndex: 202607 entries, 0 to 202606\n",
      "Data columns (total 4 columns):\n",
      " #   Column     Non-Null Count   Dtype  \n",
      "---  ------     --------------   -----  \n",
      " 0   id         202607 non-null  object \n",
      " 1   call_date  202607 non-null  object \n",
      " 2   duration   202607 non-null  float64\n",
      " 3   user_id    202607 non-null  int64  \n",
      "dtypes: float64(1), int64(1), object(2)\n",
      "memory usage: 6.2+ MB\n"
     ]
    },
    {
     "data": {
      "text/plain": [
       "None"
      ]
     },
     "metadata": {},
     "output_type": "display_data"
    },
    {
     "data": {
      "text/html": [
       "<div>\n",
       "<style scoped>\n",
       "    .dataframe tbody tr th:only-of-type {\n",
       "        vertical-align: middle;\n",
       "    }\n",
       "\n",
       "    .dataframe tbody tr th {\n",
       "        vertical-align: top;\n",
       "    }\n",
       "\n",
       "    .dataframe thead th {\n",
       "        text-align: right;\n",
       "    }\n",
       "</style>\n",
       "<table border=\"1\" class=\"dataframe\">\n",
       "  <thead>\n",
       "    <tr style=\"text-align: right;\">\n",
       "      <th></th>\n",
       "      <th>id</th>\n",
       "      <th>call_date</th>\n",
       "      <th>duration</th>\n",
       "      <th>user_id</th>\n",
       "    </tr>\n",
       "  </thead>\n",
       "  <tbody>\n",
       "    <tr>\n",
       "      <th>0</th>\n",
       "      <td>1000_0</td>\n",
       "      <td>2018-07-25</td>\n",
       "      <td>0.00</td>\n",
       "      <td>1000</td>\n",
       "    </tr>\n",
       "    <tr>\n",
       "      <th>1</th>\n",
       "      <td>1000_1</td>\n",
       "      <td>2018-08-17</td>\n",
       "      <td>0.00</td>\n",
       "      <td>1000</td>\n",
       "    </tr>\n",
       "    <tr>\n",
       "      <th>2</th>\n",
       "      <td>1000_2</td>\n",
       "      <td>2018-06-11</td>\n",
       "      <td>2.85</td>\n",
       "      <td>1000</td>\n",
       "    </tr>\n",
       "    <tr>\n",
       "      <th>3</th>\n",
       "      <td>1000_3</td>\n",
       "      <td>2018-09-21</td>\n",
       "      <td>13.80</td>\n",
       "      <td>1000</td>\n",
       "    </tr>\n",
       "    <tr>\n",
       "      <th>4</th>\n",
       "      <td>1000_4</td>\n",
       "      <td>2018-12-15</td>\n",
       "      <td>5.18</td>\n",
       "      <td>1000</td>\n",
       "    </tr>\n",
       "  </tbody>\n",
       "</table>\n",
       "</div>"
      ],
      "text/plain": [
       "       id   call_date  duration  user_id\n",
       "0  1000_0  2018-07-25      0.00     1000\n",
       "1  1000_1  2018-08-17      0.00     1000\n",
       "2  1000_2  2018-06-11      2.85     1000\n",
       "3  1000_3  2018-09-21     13.80     1000\n",
       "4  1000_4  2018-12-15      5.18     1000"
      ]
     },
     "metadata": {},
     "output_type": "display_data"
    },
    {
     "data": {
      "text/html": [
       "<div>\n",
       "<style scoped>\n",
       "    .dataframe tbody tr th:only-of-type {\n",
       "        vertical-align: middle;\n",
       "    }\n",
       "\n",
       "    .dataframe tbody tr th {\n",
       "        vertical-align: top;\n",
       "    }\n",
       "\n",
       "    .dataframe thead th {\n",
       "        text-align: right;\n",
       "    }\n",
       "</style>\n",
       "<table border=\"1\" class=\"dataframe\">\n",
       "  <thead>\n",
       "    <tr style=\"text-align: right;\">\n",
       "      <th></th>\n",
       "      <th>duration</th>\n",
       "      <th>user_id</th>\n",
       "    </tr>\n",
       "  </thead>\n",
       "  <tbody>\n",
       "    <tr>\n",
       "      <th>count</th>\n",
       "      <td>202607.000000</td>\n",
       "      <td>202607.000000</td>\n",
       "    </tr>\n",
       "    <tr>\n",
       "      <th>mean</th>\n",
       "      <td>6.755887</td>\n",
       "      <td>1253.940619</td>\n",
       "    </tr>\n",
       "    <tr>\n",
       "      <th>std</th>\n",
       "      <td>5.843365</td>\n",
       "      <td>144.722751</td>\n",
       "    </tr>\n",
       "    <tr>\n",
       "      <th>min</th>\n",
       "      <td>0.000000</td>\n",
       "      <td>1000.000000</td>\n",
       "    </tr>\n",
       "    <tr>\n",
       "      <th>25%</th>\n",
       "      <td>1.300000</td>\n",
       "      <td>1126.000000</td>\n",
       "    </tr>\n",
       "    <tr>\n",
       "      <th>50%</th>\n",
       "      <td>6.000000</td>\n",
       "      <td>1260.000000</td>\n",
       "    </tr>\n",
       "    <tr>\n",
       "      <th>75%</th>\n",
       "      <td>10.700000</td>\n",
       "      <td>1379.000000</td>\n",
       "    </tr>\n",
       "    <tr>\n",
       "      <th>max</th>\n",
       "      <td>38.000000</td>\n",
       "      <td>1499.000000</td>\n",
       "    </tr>\n",
       "  </tbody>\n",
       "</table>\n",
       "</div>"
      ],
      "text/plain": [
       "            duration        user_id\n",
       "count  202607.000000  202607.000000\n",
       "mean        6.755887    1253.940619\n",
       "std         5.843365     144.722751\n",
       "min         0.000000    1000.000000\n",
       "25%         1.300000    1126.000000\n",
       "50%         6.000000    1260.000000\n",
       "75%        10.700000    1379.000000\n",
       "max        38.000000    1499.000000"
      ]
     },
     "metadata": {},
     "output_type": "display_data"
    },
    {
     "name": "stdout",
     "output_type": "stream",
     "text": [
      "% пропущенных значений в столобце duration: 19.55\n"
     ]
    }
   ],
   "source": [
    "display(calls_data.info())\n",
    "display(calls_data.head(5))\n",
    "display(calls_data.describe())\n",
    "print('% пропущенных значений в столобце duration:', round(calls_data[calls_data['duration'] == 0]['duration'].count() / len(calls_data) * 100, 2))"
   ]
  },
  {
   "cell_type": "markdown",
   "metadata": {},
   "source": [
    "**call_date** - надо перевести в формат datetime\n",
    "    \n",
    "**duration** - Есть почти 20% значений равные 0. Необходимо разобраться в причинах и обработать. Также стоит перевести из float в int с округлением в большую сторону согласно условиям задания.\n",
    "   "
   ]
  },
  {
   "cell_type": "code",
   "execution_count": 4,
   "metadata": {},
   "outputs": [
    {
     "data": {
      "text/html": [
       "<div>\n",
       "<style scoped>\n",
       "    .dataframe tbody tr th:only-of-type {\n",
       "        vertical-align: middle;\n",
       "    }\n",
       "\n",
       "    .dataframe tbody tr th {\n",
       "        vertical-align: top;\n",
       "    }\n",
       "\n",
       "    .dataframe thead th {\n",
       "        text-align: right;\n",
       "    }\n",
       "</style>\n",
       "<table border=\"1\" class=\"dataframe\">\n",
       "  <thead>\n",
       "    <tr style=\"text-align: right;\">\n",
       "      <th></th>\n",
       "      <th>Unnamed: 0</th>\n",
       "      <th>id</th>\n",
       "      <th>mb_used</th>\n",
       "      <th>session_date</th>\n",
       "      <th>user_id</th>\n",
       "    </tr>\n",
       "  </thead>\n",
       "  <tbody>\n",
       "    <tr>\n",
       "      <th>0</th>\n",
       "      <td>0</td>\n",
       "      <td>1000_0</td>\n",
       "      <td>112.95</td>\n",
       "      <td>2018-11-25</td>\n",
       "      <td>1000</td>\n",
       "    </tr>\n",
       "    <tr>\n",
       "      <th>1</th>\n",
       "      <td>1</td>\n",
       "      <td>1000_1</td>\n",
       "      <td>1052.81</td>\n",
       "      <td>2018-09-07</td>\n",
       "      <td>1000</td>\n",
       "    </tr>\n",
       "    <tr>\n",
       "      <th>2</th>\n",
       "      <td>2</td>\n",
       "      <td>1000_2</td>\n",
       "      <td>1197.26</td>\n",
       "      <td>2018-06-25</td>\n",
       "      <td>1000</td>\n",
       "    </tr>\n",
       "    <tr>\n",
       "      <th>3</th>\n",
       "      <td>3</td>\n",
       "      <td>1000_3</td>\n",
       "      <td>550.27</td>\n",
       "      <td>2018-08-22</td>\n",
       "      <td>1000</td>\n",
       "    </tr>\n",
       "    <tr>\n",
       "      <th>4</th>\n",
       "      <td>4</td>\n",
       "      <td>1000_4</td>\n",
       "      <td>302.56</td>\n",
       "      <td>2018-09-24</td>\n",
       "      <td>1000</td>\n",
       "    </tr>\n",
       "  </tbody>\n",
       "</table>\n",
       "</div>"
      ],
      "text/plain": [
       "   Unnamed: 0      id  mb_used session_date  user_id\n",
       "0           0  1000_0   112.95   2018-11-25     1000\n",
       "1           1  1000_1  1052.81   2018-09-07     1000\n",
       "2           2  1000_2  1197.26   2018-06-25     1000\n",
       "3           3  1000_3   550.27   2018-08-22     1000\n",
       "4           4  1000_4   302.56   2018-09-24     1000"
      ]
     },
     "metadata": {},
     "output_type": "display_data"
    },
    {
     "data": {
      "text/html": [
       "<div>\n",
       "<style scoped>\n",
       "    .dataframe tbody tr th:only-of-type {\n",
       "        vertical-align: middle;\n",
       "    }\n",
       "\n",
       "    .dataframe tbody tr th {\n",
       "        vertical-align: top;\n",
       "    }\n",
       "\n",
       "    .dataframe thead th {\n",
       "        text-align: right;\n",
       "    }\n",
       "</style>\n",
       "<table border=\"1\" class=\"dataframe\">\n",
       "  <thead>\n",
       "    <tr style=\"text-align: right;\">\n",
       "      <th></th>\n",
       "      <th>Unnamed: 0</th>\n",
       "      <th>mb_used</th>\n",
       "      <th>user_id</th>\n",
       "    </tr>\n",
       "  </thead>\n",
       "  <tbody>\n",
       "    <tr>\n",
       "      <th>count</th>\n",
       "      <td>149396.000000</td>\n",
       "      <td>149396.000000</td>\n",
       "      <td>149396.000000</td>\n",
       "    </tr>\n",
       "    <tr>\n",
       "      <th>mean</th>\n",
       "      <td>74697.500000</td>\n",
       "      <td>370.192426</td>\n",
       "      <td>1252.099842</td>\n",
       "    </tr>\n",
       "    <tr>\n",
       "      <th>std</th>\n",
       "      <td>43127.054745</td>\n",
       "      <td>278.300951</td>\n",
       "      <td>144.050823</td>\n",
       "    </tr>\n",
       "    <tr>\n",
       "      <th>min</th>\n",
       "      <td>0.000000</td>\n",
       "      <td>0.000000</td>\n",
       "      <td>1000.000000</td>\n",
       "    </tr>\n",
       "    <tr>\n",
       "      <th>25%</th>\n",
       "      <td>37348.750000</td>\n",
       "      <td>138.187500</td>\n",
       "      <td>1130.000000</td>\n",
       "    </tr>\n",
       "    <tr>\n",
       "      <th>50%</th>\n",
       "      <td>74697.500000</td>\n",
       "      <td>348.015000</td>\n",
       "      <td>1251.000000</td>\n",
       "    </tr>\n",
       "    <tr>\n",
       "      <th>75%</th>\n",
       "      <td>112046.250000</td>\n",
       "      <td>559.552500</td>\n",
       "      <td>1380.000000</td>\n",
       "    </tr>\n",
       "    <tr>\n",
       "      <th>max</th>\n",
       "      <td>149395.000000</td>\n",
       "      <td>1724.830000</td>\n",
       "      <td>1499.000000</td>\n",
       "    </tr>\n",
       "  </tbody>\n",
       "</table>\n",
       "</div>"
      ],
      "text/plain": [
       "          Unnamed: 0        mb_used        user_id\n",
       "count  149396.000000  149396.000000  149396.000000\n",
       "mean    74697.500000     370.192426    1252.099842\n",
       "std     43127.054745     278.300951     144.050823\n",
       "min         0.000000       0.000000    1000.000000\n",
       "25%     37348.750000     138.187500    1130.000000\n",
       "50%     74697.500000     348.015000    1251.000000\n",
       "75%    112046.250000     559.552500    1380.000000\n",
       "max    149395.000000    1724.830000    1499.000000"
      ]
     },
     "metadata": {},
     "output_type": "display_data"
    },
    {
     "name": "stdout",
     "output_type": "stream",
     "text": [
      "% пропущенных значений в столобце mb_used: 13.12\n"
     ]
    }
   ],
   "source": [
    "# display(internet_data.info())\n",
    "display(internet_data.head(5))\n",
    "display(internet_data.describe())\n",
    "print('% пропущенных значений в столобце mb_used:', round(internet_data[internet_data['mb_used'] == 0]['mb_used'].count() / len(internet_data) * 100, 2))"
   ]
  },
  {
   "cell_type": "markdown",
   "metadata": {},
   "source": [
    "**session_date** - надо перевести в формат datetime\n",
    "**mb_used** - есть почти 13% значений равные 0. Необходимо разобраться в причинах и обработать."
   ]
  },
  {
   "cell_type": "code",
   "execution_count": 5,
   "metadata": {},
   "outputs": [
    {
     "data": {
      "text/html": [
       "<div>\n",
       "<style scoped>\n",
       "    .dataframe tbody tr th:only-of-type {\n",
       "        vertical-align: middle;\n",
       "    }\n",
       "\n",
       "    .dataframe tbody tr th {\n",
       "        vertical-align: top;\n",
       "    }\n",
       "\n",
       "    .dataframe thead th {\n",
       "        text-align: right;\n",
       "    }\n",
       "</style>\n",
       "<table border=\"1\" class=\"dataframe\">\n",
       "  <thead>\n",
       "    <tr style=\"text-align: right;\">\n",
       "      <th></th>\n",
       "      <th>id</th>\n",
       "      <th>message_date</th>\n",
       "      <th>user_id</th>\n",
       "    </tr>\n",
       "  </thead>\n",
       "  <tbody>\n",
       "    <tr>\n",
       "      <th>0</th>\n",
       "      <td>1000_0</td>\n",
       "      <td>2018-06-27</td>\n",
       "      <td>1000</td>\n",
       "    </tr>\n",
       "    <tr>\n",
       "      <th>1</th>\n",
       "      <td>1000_1</td>\n",
       "      <td>2018-10-08</td>\n",
       "      <td>1000</td>\n",
       "    </tr>\n",
       "    <tr>\n",
       "      <th>2</th>\n",
       "      <td>1000_2</td>\n",
       "      <td>2018-08-04</td>\n",
       "      <td>1000</td>\n",
       "    </tr>\n",
       "    <tr>\n",
       "      <th>3</th>\n",
       "      <td>1000_3</td>\n",
       "      <td>2018-06-16</td>\n",
       "      <td>1000</td>\n",
       "    </tr>\n",
       "    <tr>\n",
       "      <th>4</th>\n",
       "      <td>1000_4</td>\n",
       "      <td>2018-12-05</td>\n",
       "      <td>1000</td>\n",
       "    </tr>\n",
       "  </tbody>\n",
       "</table>\n",
       "</div>"
      ],
      "text/plain": [
       "       id message_date  user_id\n",
       "0  1000_0   2018-06-27     1000\n",
       "1  1000_1   2018-10-08     1000\n",
       "2  1000_2   2018-08-04     1000\n",
       "3  1000_3   2018-06-16     1000\n",
       "4  1000_4   2018-12-05     1000"
      ]
     },
     "metadata": {},
     "output_type": "display_data"
    },
    {
     "data": {
      "text/html": [
       "<div>\n",
       "<style scoped>\n",
       "    .dataframe tbody tr th:only-of-type {\n",
       "        vertical-align: middle;\n",
       "    }\n",
       "\n",
       "    .dataframe tbody tr th {\n",
       "        vertical-align: top;\n",
       "    }\n",
       "\n",
       "    .dataframe thead th {\n",
       "        text-align: right;\n",
       "    }\n",
       "</style>\n",
       "<table border=\"1\" class=\"dataframe\">\n",
       "  <thead>\n",
       "    <tr style=\"text-align: right;\">\n",
       "      <th></th>\n",
       "      <th>user_id</th>\n",
       "    </tr>\n",
       "  </thead>\n",
       "  <tbody>\n",
       "    <tr>\n",
       "      <th>count</th>\n",
       "      <td>123036.000000</td>\n",
       "    </tr>\n",
       "    <tr>\n",
       "      <th>mean</th>\n",
       "      <td>1256.989410</td>\n",
       "    </tr>\n",
       "    <tr>\n",
       "      <th>std</th>\n",
       "      <td>143.523967</td>\n",
       "    </tr>\n",
       "    <tr>\n",
       "      <th>min</th>\n",
       "      <td>1000.000000</td>\n",
       "    </tr>\n",
       "    <tr>\n",
       "      <th>25%</th>\n",
       "      <td>1134.000000</td>\n",
       "    </tr>\n",
       "    <tr>\n",
       "      <th>50%</th>\n",
       "      <td>1271.000000</td>\n",
       "    </tr>\n",
       "    <tr>\n",
       "      <th>75%</th>\n",
       "      <td>1381.000000</td>\n",
       "    </tr>\n",
       "    <tr>\n",
       "      <th>max</th>\n",
       "      <td>1499.000000</td>\n",
       "    </tr>\n",
       "  </tbody>\n",
       "</table>\n",
       "</div>"
      ],
      "text/plain": [
       "             user_id\n",
       "count  123036.000000\n",
       "mean     1256.989410\n",
       "std       143.523967\n",
       "min      1000.000000\n",
       "25%      1134.000000\n",
       "50%      1271.000000\n",
       "75%      1381.000000\n",
       "max      1499.000000"
      ]
     },
     "metadata": {},
     "output_type": "display_data"
    }
   ],
   "source": [
    "# display(messages_data.info())\n",
    "display(messages_data.head(5))\n",
    "display(messages_data.describe())"
   ]
  },
  {
   "cell_type": "markdown",
   "metadata": {},
   "source": [
    "**messages_date** - надо перевести в формат datetime\n"
   ]
  },
  {
   "cell_type": "code",
   "execution_count": 6,
   "metadata": {},
   "outputs": [
    {
     "data": {
      "text/html": [
       "<div>\n",
       "<style scoped>\n",
       "    .dataframe tbody tr th:only-of-type {\n",
       "        vertical-align: middle;\n",
       "    }\n",
       "\n",
       "    .dataframe tbody tr th {\n",
       "        vertical-align: top;\n",
       "    }\n",
       "\n",
       "    .dataframe thead th {\n",
       "        text-align: right;\n",
       "    }\n",
       "</style>\n",
       "<table border=\"1\" class=\"dataframe\">\n",
       "  <thead>\n",
       "    <tr style=\"text-align: right;\">\n",
       "      <th></th>\n",
       "      <th>messages_included</th>\n",
       "      <th>mb_per_month_included</th>\n",
       "      <th>minutes_included</th>\n",
       "      <th>rub_monthly_fee</th>\n",
       "      <th>rub_per_gb</th>\n",
       "      <th>rub_per_message</th>\n",
       "      <th>rub_per_minute</th>\n",
       "      <th>tariff_name</th>\n",
       "    </tr>\n",
       "  </thead>\n",
       "  <tbody>\n",
       "    <tr>\n",
       "      <th>0</th>\n",
       "      <td>50</td>\n",
       "      <td>15360</td>\n",
       "      <td>500</td>\n",
       "      <td>550</td>\n",
       "      <td>200</td>\n",
       "      <td>3</td>\n",
       "      <td>3</td>\n",
       "      <td>smart</td>\n",
       "    </tr>\n",
       "    <tr>\n",
       "      <th>1</th>\n",
       "      <td>1000</td>\n",
       "      <td>30720</td>\n",
       "      <td>3000</td>\n",
       "      <td>1950</td>\n",
       "      <td>150</td>\n",
       "      <td>1</td>\n",
       "      <td>1</td>\n",
       "      <td>ultra</td>\n",
       "    </tr>\n",
       "  </tbody>\n",
       "</table>\n",
       "</div>"
      ],
      "text/plain": [
       "   messages_included  mb_per_month_included  minutes_included  \\\n",
       "0                 50                  15360               500   \n",
       "1               1000                  30720              3000   \n",
       "\n",
       "   rub_monthly_fee  rub_per_gb  rub_per_message  rub_per_minute tariff_name  \n",
       "0              550         200                3               3       smart  \n",
       "1             1950         150                1               1       ultra  "
      ]
     },
     "execution_count": 6,
     "metadata": {},
     "output_type": "execute_result"
    }
   ],
   "source": [
    "tariffs_data"
   ]
  },
  {
   "cell_type": "code",
   "execution_count": 7,
   "metadata": {},
   "outputs": [
    {
     "data": {
      "text/html": [
       "<div>\n",
       "<style scoped>\n",
       "    .dataframe tbody tr th:only-of-type {\n",
       "        vertical-align: middle;\n",
       "    }\n",
       "\n",
       "    .dataframe tbody tr th {\n",
       "        vertical-align: top;\n",
       "    }\n",
       "\n",
       "    .dataframe thead th {\n",
       "        text-align: right;\n",
       "    }\n",
       "</style>\n",
       "<table border=\"1\" class=\"dataframe\">\n",
       "  <thead>\n",
       "    <tr style=\"text-align: right;\">\n",
       "      <th></th>\n",
       "      <th>user_id</th>\n",
       "      <th>age</th>\n",
       "      <th>churn_date</th>\n",
       "      <th>city</th>\n",
       "      <th>first_name</th>\n",
       "      <th>last_name</th>\n",
       "      <th>reg_date</th>\n",
       "      <th>tariff</th>\n",
       "    </tr>\n",
       "  </thead>\n",
       "  <tbody>\n",
       "    <tr>\n",
       "      <th>0</th>\n",
       "      <td>1000</td>\n",
       "      <td>52</td>\n",
       "      <td>NaN</td>\n",
       "      <td>Краснодар</td>\n",
       "      <td>Рафаил</td>\n",
       "      <td>Верещагин</td>\n",
       "      <td>2018-05-25</td>\n",
       "      <td>ultra</td>\n",
       "    </tr>\n",
       "    <tr>\n",
       "      <th>1</th>\n",
       "      <td>1001</td>\n",
       "      <td>41</td>\n",
       "      <td>NaN</td>\n",
       "      <td>Москва</td>\n",
       "      <td>Иван</td>\n",
       "      <td>Ежов</td>\n",
       "      <td>2018-11-01</td>\n",
       "      <td>smart</td>\n",
       "    </tr>\n",
       "    <tr>\n",
       "      <th>2</th>\n",
       "      <td>1002</td>\n",
       "      <td>59</td>\n",
       "      <td>NaN</td>\n",
       "      <td>Стерлитамак</td>\n",
       "      <td>Евгений</td>\n",
       "      <td>Абрамович</td>\n",
       "      <td>2018-06-17</td>\n",
       "      <td>smart</td>\n",
       "    </tr>\n",
       "    <tr>\n",
       "      <th>3</th>\n",
       "      <td>1003</td>\n",
       "      <td>23</td>\n",
       "      <td>NaN</td>\n",
       "      <td>Москва</td>\n",
       "      <td>Белла</td>\n",
       "      <td>Белякова</td>\n",
       "      <td>2018-08-17</td>\n",
       "      <td>ultra</td>\n",
       "    </tr>\n",
       "    <tr>\n",
       "      <th>4</th>\n",
       "      <td>1004</td>\n",
       "      <td>68</td>\n",
       "      <td>NaN</td>\n",
       "      <td>Новокузнецк</td>\n",
       "      <td>Татьяна</td>\n",
       "      <td>Авдеенко</td>\n",
       "      <td>2018-05-14</td>\n",
       "      <td>ultra</td>\n",
       "    </tr>\n",
       "  </tbody>\n",
       "</table>\n",
       "</div>"
      ],
      "text/plain": [
       "   user_id  age churn_date         city first_name  last_name    reg_date  \\\n",
       "0     1000   52        NaN    Краснодар     Рафаил  Верещагин  2018-05-25   \n",
       "1     1001   41        NaN       Москва       Иван       Ежов  2018-11-01   \n",
       "2     1002   59        NaN  Стерлитамак    Евгений  Абрамович  2018-06-17   \n",
       "3     1003   23        NaN       Москва      Белла   Белякова  2018-08-17   \n",
       "4     1004   68        NaN  Новокузнецк    Татьяна   Авдеенко  2018-05-14   \n",
       "\n",
       "  tariff  \n",
       "0  ultra  \n",
       "1  smart  \n",
       "2  smart  \n",
       "3  ultra  \n",
       "4  ultra  "
      ]
     },
     "metadata": {},
     "output_type": "display_data"
    },
    {
     "data": {
      "text/html": [
       "<div>\n",
       "<style scoped>\n",
       "    .dataframe tbody tr th:only-of-type {\n",
       "        vertical-align: middle;\n",
       "    }\n",
       "\n",
       "    .dataframe tbody tr th {\n",
       "        vertical-align: top;\n",
       "    }\n",
       "\n",
       "    .dataframe thead th {\n",
       "        text-align: right;\n",
       "    }\n",
       "</style>\n",
       "<table border=\"1\" class=\"dataframe\">\n",
       "  <thead>\n",
       "    <tr style=\"text-align: right;\">\n",
       "      <th></th>\n",
       "      <th>user_id</th>\n",
       "      <th>age</th>\n",
       "    </tr>\n",
       "  </thead>\n",
       "  <tbody>\n",
       "    <tr>\n",
       "      <th>count</th>\n",
       "      <td>500.000000</td>\n",
       "      <td>500.00000</td>\n",
       "    </tr>\n",
       "    <tr>\n",
       "      <th>mean</th>\n",
       "      <td>1249.500000</td>\n",
       "      <td>46.58800</td>\n",
       "    </tr>\n",
       "    <tr>\n",
       "      <th>std</th>\n",
       "      <td>144.481833</td>\n",
       "      <td>16.66763</td>\n",
       "    </tr>\n",
       "    <tr>\n",
       "      <th>min</th>\n",
       "      <td>1000.000000</td>\n",
       "      <td>18.00000</td>\n",
       "    </tr>\n",
       "    <tr>\n",
       "      <th>25%</th>\n",
       "      <td>1124.750000</td>\n",
       "      <td>32.00000</td>\n",
       "    </tr>\n",
       "    <tr>\n",
       "      <th>50%</th>\n",
       "      <td>1249.500000</td>\n",
       "      <td>46.00000</td>\n",
       "    </tr>\n",
       "    <tr>\n",
       "      <th>75%</th>\n",
       "      <td>1374.250000</td>\n",
       "      <td>62.00000</td>\n",
       "    </tr>\n",
       "    <tr>\n",
       "      <th>max</th>\n",
       "      <td>1499.000000</td>\n",
       "      <td>75.00000</td>\n",
       "    </tr>\n",
       "  </tbody>\n",
       "</table>\n",
       "</div>"
      ],
      "text/plain": [
       "           user_id        age\n",
       "count   500.000000  500.00000\n",
       "mean   1249.500000   46.58800\n",
       "std     144.481833   16.66763\n",
       "min    1000.000000   18.00000\n",
       "25%    1124.750000   32.00000\n",
       "50%    1249.500000   46.00000\n",
       "75%    1374.250000   62.00000\n",
       "max    1499.000000   75.00000"
      ]
     },
     "metadata": {},
     "output_type": "display_data"
    }
   ],
   "source": [
    "# display(users_data.info())\n",
    "display(users_data.head(5))\n",
    "display(users_data.describe())"
   ]
  },
  {
   "cell_type": "markdown",
   "metadata": {},
   "source": [
    "**chhurn_date** и **reg_date** - надо перевести в формат datetime"
   ]
  },
  {
   "cell_type": "markdown",
   "metadata": {},
   "source": [
    "## Подготовить данные"
   ]
  },
  {
   "cell_type": "markdown",
   "metadata": {},
   "source": [
    "**Привести данные к нужным типам**\n"
   ]
  },
  {
   "cell_type": "code",
   "execution_count": 8,
   "metadata": {},
   "outputs": [],
   "source": [
    "calls_data['call_date'] = pd.to_datetime(calls_data['call_date'], format='%Y-%m-%d')\n",
    "internet_data['session_date'] = pd.to_datetime(internet_data['session_date'], format='%Y-%m-%d')\n",
    "messages_data['message_date'] = pd.to_datetime(messages_data['message_date'], format='%Y-%m-%d')\n",
    "users_data['churn_date'] = pd.to_datetime(users_data['churn_date'], format='%Y-%m-%d')\n",
    "users_data['reg_date'] = pd.to_datetime(users_data['reg_date'], format='%Y-%m-%d')"
   ]
  },
  {
   "cell_type": "markdown",
   "metadata": {},
   "source": [
    "Выполенен перевод значений дат в каждом из датасетов в формат datetime.\n",
    "\n",
    "\n",
    "____"
   ]
  },
  {
   "cell_type": "markdown",
   "metadata": {},
   "source": [
    "**Исследуем столбец duration в датасете calls_data и выполним заполнение некорректных значений.**"
   ]
  },
  {
   "cell_type": "markdown",
   "metadata": {},
   "source": [
    "Построим гистрограмму длительности разговора"
   ]
  },
  {
   "cell_type": "code",
   "execution_count": 9,
   "metadata": {},
   "outputs": [
    {
     "data": {
      "image/png": "[encoded data removed]",
      "text/plain": [
       "<Figure size 432x288 with 1 Axes>"
      ]
     },
     "metadata": {
      "needs_background": "light"
     },
     "output_type": "display_data"
    }
   ],
   "source": [
    "calls_data['duration'].plot(kind='hist',xlim = (0,30), bins = 20)\n",
    "plt.xlabel('Длительность звонка')\n",
    "plt.title('Рапсределение длительности звонков до обработки 0-ых значений')\n",
    "plt.show()"
   ]
  },
  {
   "cell_type": "markdown",
   "metadata": {},
   "source": [
    "Рассмотрим более внимательно пользователей у которых есть разговоры с длительностью равной 0"
   ]
  },
  {
   "cell_type": "code",
   "execution_count": 10,
   "metadata": {},
   "outputs": [
    {
     "data": {
      "text/html": [
       "<div>\n",
       "<style scoped>\n",
       "    .dataframe tbody tr th:only-of-type {\n",
       "        vertical-align: middle;\n",
       "    }\n",
       "\n",
       "    .dataframe tbody tr th {\n",
       "        vertical-align: top;\n",
       "    }\n",
       "\n",
       "    .dataframe thead th {\n",
       "        text-align: right;\n",
       "    }\n",
       "</style>\n",
       "<table border=\"1\" class=\"dataframe\">\n",
       "  <thead>\n",
       "    <tr style=\"text-align: right;\">\n",
       "      <th></th>\n",
       "      <th>count</th>\n",
       "    </tr>\n",
       "  </thead>\n",
       "  <tbody>\n",
       "    <tr>\n",
       "      <th>count</th>\n",
       "      <td>492.000000</td>\n",
       "    </tr>\n",
       "    <tr>\n",
       "      <th>mean</th>\n",
       "      <td>97.412602</td>\n",
       "    </tr>\n",
       "    <tr>\n",
       "      <th>std</th>\n",
       "      <td>69.510849</td>\n",
       "    </tr>\n",
       "    <tr>\n",
       "      <th>min</th>\n",
       "      <td>5.000000</td>\n",
       "    </tr>\n",
       "    <tr>\n",
       "      <th>25%</th>\n",
       "      <td>42.000000</td>\n",
       "    </tr>\n",
       "    <tr>\n",
       "      <th>50%</th>\n",
       "      <td>81.000000</td>\n",
       "    </tr>\n",
       "    <tr>\n",
       "      <th>75%</th>\n",
       "      <td>137.250000</td>\n",
       "    </tr>\n",
       "    <tr>\n",
       "      <th>max</th>\n",
       "      <td>393.000000</td>\n",
       "    </tr>\n",
       "  </tbody>\n",
       "</table>\n",
       "</div>"
      ],
      "text/plain": [
       "            count\n",
       "count  492.000000\n",
       "mean    97.412602\n",
       "std     69.510849\n",
       "min      5.000000\n",
       "25%     42.000000\n",
       "50%     81.000000\n",
       "75%    137.250000\n",
       "max    393.000000"
      ]
     },
     "metadata": {},
     "output_type": "display_data"
    }
   ],
   "source": [
    "calls_data['duration'] = calls_data['duration'].astype('int')\n",
    "empty_calls_by_user = calls_data[calls_data['duration'] == 0].pivot_table(index = 'user_id', values = 'duration',aggfunc = ['count'])\n",
    "empty_calls_by_user.columns = ['count']\n",
    "display(empty_calls_by_user.describe())"
   ]
  },
  {
   "cell_type": "code",
   "execution_count": 11,
   "metadata": {},
   "outputs": [
    {
     "data": {
      "image/png": "[encoded data removed]",
      "text/plain": [
       "<Figure size 432x288 with 1 Axes>"
      ]
     },
     "metadata": {
      "needs_background": "light"
     },
     "output_type": "display_data"
    }
   ],
   "source": [
    "empty_calls_by_user.plot(kind = 'hist', bins = 25)\n",
    "plt.xlabel('кол-во 0-ых звонков')\n",
    "plt.title('распределение 0-ых звонков у пользователей за год')\n",
    "plt.show()"
   ]
  },
  {
   "cell_type": "markdown",
   "metadata": {},
   "source": [
    "В данных присутсвует большое кол-во нулевых значений в длительности звонка. Причем максимально за год у пользователя было 393 звонка. Сложно сказать, что является причиной их возниковения, для того чтобы ответить на этот вопрос необходимо знать каким образом происходит получение данных.\n",
    "Можно предположить несколько варинатов: \n",
    "   - 0 - означает, что в данных есть ошибка и чтобы получить \"чистые\" данные необходимо избавиться от 0 и отбросить звонки с 0 временем. Но таких ошибочных данных получается слишком много ~20%.\n",
    "   \n",
    "   -  0 - означает, что звонок был, но был очень короткий, и т.к. оператор использует округление в большую сторону, то все 0 надо заменить на 1 минуту.\n",
    "    \n",
    "    \n",
    "На мой взгляд более предпочтителен 2ой вариант, т.к. 20% ошибочных данных о длительности звонков это очень большая величина для мобильного оператора.Также по гистограмме распределения 0-ых звонков у пользователей за год видно, что кол-во таких звонков распределено почти по всем пользователям(492 из 500), а не сосредоточено у малого числа пользователей, но в большом количестве, что явно свидетельствовало бы о \"странности\" таких звонков. К тому же такая замена значений не должна внести большой вклад в выручку. Максимальное значение, кот-ое добавится к минутам, израсходованным пользователем за год - это 393, что меньше, чем кол-во минут включенных в пакет минут в месяц в любом тарифе."
   ]
  },
  {
   "cell_type": "markdown",
   "metadata": {},
   "source": [
    "Выполним замену нулевых значений минут разговора"
   ]
  },
  {
   "cell_type": "code",
   "execution_count": 12,
   "metadata": {},
   "outputs": [],
   "source": [
    "def convert_duration(row):\n",
    "    duration_fixed = int(math.ceil(row['duration']))\n",
    "    return duration_fixed"
   ]
  },
  {
   "cell_type": "code",
   "execution_count": 13,
   "metadata": {},
   "outputs": [],
   "source": [
    "calls_data['duration'] = calls_data.apply(convert_duration, axis = 1)\n",
    "calls_data['duration'] = calls_data['duration'].replace(0,1)"
   ]
  },
  {
   "cell_type": "code",
   "execution_count": 14,
   "metadata": {},
   "outputs": [
    {
     "data": {
      "image/png": "[encoded data removed]",
      "text/plain": [
       "<Figure size 432x288 with 1 Axes>"
      ]
     },
     "metadata": {
      "needs_background": "light"
     },
     "output_type": "display_data"
    }
   ],
   "source": [
    "calls_data['duration'].plot(kind='hist',xlim = (0,50), bins = 20)\n",
    "plt.xlabel('Длительность звонка')\n",
    "plt.title('Рапсределение длительности звонков после обработки 0-ых значений')\n",
    "plt.show()"
   ]
  },
  {
   "cell_type": "markdown",
   "metadata": {},
   "source": [
    "Таким образом выполнена обработка столбца **duration**. Данные приведены в целочисленный формат\n",
    "\n",
    "___"
   ]
  },
  {
   "cell_type": "markdown",
   "metadata": {},
   "source": [
    "**Исследуем столбец mb_used с информацией о интернет-сессиях в датасете calls_data и выполним заполнение некорректных значений.**"
   ]
  },
  {
   "cell_type": "code",
   "execution_count": 15,
   "metadata": {},
   "outputs": [
    {
     "data": {
      "text/plain": [
       "count    149396.000000\n",
       "mean        370.192426\n",
       "std         278.300951\n",
       "min           0.000000\n",
       "25%         138.187500\n",
       "50%         348.015000\n",
       "75%         559.552500\n",
       "max        1724.830000\n",
       "Name: mb_used, dtype: float64"
      ]
     },
     "metadata": {},
     "output_type": "display_data"
    },
    {
     "data": {
      "image/png": "[encoded data removed]",
      "text/plain": [
       "<Figure size 432x288 with 1 Axes>"
      ]
     },
     "metadata": {
      "needs_background": "light"
     },
     "output_type": "display_data"
    }
   ],
   "source": [
    "display(internet_data['mb_used'].describe())\n",
    "internet_data['mb_used'].plot(kind='hist',xlim = (0,2000), bins = 50)\n",
    "plt.xlabel('Скачано мб')\n",
    "plt.show()"
   ]
  },
  {
   "cell_type": "markdown",
   "metadata": {},
   "source": [
    "Проблема аналогична той, что была в данных о длительности звонка. Применим ту же идею для заполнения пропусков."
   ]
  },
  {
   "cell_type": "code",
   "execution_count": 16,
   "metadata": {},
   "outputs": [
    {
     "name": "stdout",
     "output_type": "stream",
     "text": [
      "            count\n",
      "count  495.000000\n",
      "mean    39.795960\n",
      "std     31.472448\n",
      "min      1.000000\n",
      "25%     13.000000\n",
      "50%     31.000000\n",
      "75%     63.000000\n",
      "max    144.000000\n"
     ]
    },
    {
     "data": {
      "image/png": "[encoded data removed]",
      "text/plain": [
       "<Figure size 432x288 with 1 Axes>"
      ]
     },
     "metadata": {
      "needs_background": "light"
     },
     "output_type": "display_data"
    }
   ],
   "source": [
    "internet_data['mb_used'] = internet_data['mb_used'].astype('int')\n",
    "empty_sessions_by_user = internet_data[internet_data['mb_used'] == 0].pivot_table(index = 'user_id', values = 'mb_used',aggfunc = ['count'])\n",
    "empty_sessions_by_user.columns = ['count']\n",
    "print(empty_sessions_by_user.describe())\n",
    "empty_sessions_by_user.plot(kind = 'hist', bins = 25)\n",
    "plt.xlabel('кол-во 0-ых сессий')\n",
    "plt.title('распределение 0-ых сессий у пользователей за год')\n",
    "plt.show()\n"
   ]
  },
  {
   "cell_type": "code",
   "execution_count": 17,
   "metadata": {},
   "outputs": [
    {
     "name": "stdout",
     "output_type": "stream",
     "text": [
      "19699\n",
      "          Unnamed: 0        mb_used        user_id\n",
      "count  149396.000000  149396.000000  149396.000000\n",
      "mean    74697.500000     369.762223    1252.099842\n",
      "std     43127.054745     278.214201     144.050823\n",
      "min         0.000000       0.000000    1000.000000\n",
      "25%     37348.750000     138.000000    1130.000000\n",
      "50%     74697.500000     348.000000    1251.000000\n",
      "75%    112046.250000     559.000000    1380.000000\n",
      "max    149395.000000    1724.000000    1499.000000\n",
      "          Unnamed: 0        mb_used        user_id\n",
      "count  149396.000000  149396.000000  149396.000000\n",
      "mean    74697.500000     369.894080    1252.099842\n",
      "std     43127.054745     278.039104     144.050823\n",
      "min         0.000000       1.000000    1000.000000\n",
      "25%     37348.750000     138.000000    1130.000000\n",
      "50%     74697.500000     348.000000    1251.000000\n",
      "75%    112046.250000     559.000000    1380.000000\n",
      "max    149395.000000    1724.000000    1499.000000\n"
     ]
    }
   ],
   "source": [
    "print(internet_data.query('mb_used == 0')['mb_used'].count())\n",
    "print(internet_data.describe())\n",
    "def convert_mb_used(row):\n",
    "    mb_used_fixed = int(math.ceil(row['mb_used']))\n",
    "    return mb_used_fixed\n",
    "internet_data['mb_used'] = internet_data.apply(convert_mb_used, axis = 1)\n",
    "internet_data['mb_used'] = internet_data['mb_used'].replace(0,1)\n",
    "print(internet_data.describe())"
   ]
  },
  {
   "cell_type": "markdown",
   "metadata": {},
   "source": [
    "---\n",
    "\n",
    "Обработка нулевых интернет сессий производится по аналогии, что и обработка нулевых звонков. Все не целые значения округляются в большую сторону, 0 -> 1 мб, тип данных изменен с float на int.\n",
    "\n",
    "---"
   ]
  },
  {
   "cell_type": "markdown",
   "metadata": {},
   "source": [
    "**Добавление столбца с месяцем для каждого сообщения, звонка,интернет сессии**"
   ]
  },
  {
   "cell_type": "code",
   "execution_count": 18,
   "metadata": {},
   "outputs": [],
   "source": [
    "calls_data['call_month'] = calls_data['call_date'].dt.month\n",
    "internet_data['session_month'] = internet_data['session_date'].dt.month\n",
    "messages_data['message_month'] = messages_data['message_date'].dt.month\n",
    "users_data['join_month'] = users_data['reg_date'].dt.month"
   ]
  },
  {
   "cell_type": "markdown",
   "metadata": {},
   "source": [
    "**Добавление столбца кол-во месяцев month_paid действия тарифа у пользователя, будет использоваться для подсчета выручки по мясяцам**"
   ]
  },
  {
   "cell_type": "code",
   "execution_count": 19,
   "metadata": {},
   "outputs": [],
   "source": [
    "users_data['months_paid'] = users_data['churn_date'].dt.month.fillna(12) - users_data['reg_date'].dt.month\n",
    "users_data['months_paid'] = users_data['months_paid'].astype('int')\n",
    "users_data['months_paid'] = users_data['months_paid'] + 1\n",
    "# print(users_data['months_paid'].unique())\n",
    "# print(users_data.info())"
   ]
  },
  {
   "cell_type": "markdown",
   "metadata": {},
   "source": [
    "----\n",
    "**добавление tariff_id в соответсвтии с tariff_name**"
   ]
  },
  {
   "cell_type": "code",
   "execution_count": 20,
   "metadata": {},
   "outputs": [
    {
     "name": "stdout",
     "output_type": "stream",
     "text": [
      "   tariff_id tariff_name\n",
      "0          0       smart\n",
      "1          1       ultra\n"
     ]
    }
   ],
   "source": [
    "tariffs_data['tariff_id'] = tariffs_data.index\n",
    "print(tariffs_data[['tariff_id','tariff_name']])"
   ]
  },
  {
   "cell_type": "code",
   "execution_count": 21,
   "metadata": {},
   "outputs": [],
   "source": [
    "users_data['tariff_id'] = users_data['tariff'].apply(lambda x: 1 if x == 'ultra' else 0)"
   ]
  },
  {
   "cell_type": "markdown",
   "metadata": {},
   "source": [
    "Был добавлен столбец tariff_id для того, чтобы использовать его в качестве связи между датасетами."
   ]
  },
  {
   "cell_type": "markdown",
   "metadata": {},
   "source": [
    "----\n",
    "\n",
    "Создадим вспомогательный датасет для подсчета выручки\n",
    "\n"
   ]
  },
  {
   "cell_type": "code",
   "execution_count": 22,
   "metadata": {},
   "outputs": [
    {
     "data": {
      "text/html": [
       "<div>\n",
       "<style scoped>\n",
       "    .dataframe tbody tr th:only-of-type {\n",
       "        vertical-align: middle;\n",
       "    }\n",
       "\n",
       "    .dataframe tbody tr th {\n",
       "        vertical-align: top;\n",
       "    }\n",
       "\n",
       "    .dataframe thead th {\n",
       "        text-align: right;\n",
       "    }\n",
       "</style>\n",
       "<table border=\"1\" class=\"dataframe\">\n",
       "  <thead>\n",
       "    <tr style=\"text-align: right;\">\n",
       "      <th></th>\n",
       "      <th>user_id</th>\n",
       "      <th>months_paid</th>\n",
       "      <th>tariff_id</th>\n",
       "      <th>messages_included</th>\n",
       "      <th>mb_per_month_included</th>\n",
       "      <th>minutes_included</th>\n",
       "      <th>rub_monthly_fee</th>\n",
       "      <th>rub_per_gb</th>\n",
       "      <th>rub_per_message</th>\n",
       "      <th>rub_per_minute</th>\n",
       "      <th>tariff_name</th>\n",
       "    </tr>\n",
       "  </thead>\n",
       "  <tbody>\n",
       "    <tr>\n",
       "      <th>0</th>\n",
       "      <td>1000</td>\n",
       "      <td>8</td>\n",
       "      <td>1</td>\n",
       "      <td>1000</td>\n",
       "      <td>30720</td>\n",
       "      <td>3000</td>\n",
       "      <td>1950</td>\n",
       "      <td>150</td>\n",
       "      <td>1</td>\n",
       "      <td>1</td>\n",
       "      <td>ultra</td>\n",
       "    </tr>\n",
       "    <tr>\n",
       "      <th>149</th>\n",
       "      <td>1001</td>\n",
       "      <td>2</td>\n",
       "      <td>0</td>\n",
       "      <td>50</td>\n",
       "      <td>15360</td>\n",
       "      <td>500</td>\n",
       "      <td>550</td>\n",
       "      <td>200</td>\n",
       "      <td>3</td>\n",
       "      <td>3</td>\n",
       "      <td>smart</td>\n",
       "    </tr>\n",
       "    <tr>\n",
       "      <th>150</th>\n",
       "      <td>1002</td>\n",
       "      <td>7</td>\n",
       "      <td>0</td>\n",
       "      <td>50</td>\n",
       "      <td>15360</td>\n",
       "      <td>500</td>\n",
       "      <td>550</td>\n",
       "      <td>200</td>\n",
       "      <td>3</td>\n",
       "      <td>3</td>\n",
       "      <td>smart</td>\n",
       "    </tr>\n",
       "    <tr>\n",
       "      <th>1</th>\n",
       "      <td>1003</td>\n",
       "      <td>5</td>\n",
       "      <td>1</td>\n",
       "      <td>1000</td>\n",
       "      <td>30720</td>\n",
       "      <td>3000</td>\n",
       "      <td>1950</td>\n",
       "      <td>150</td>\n",
       "      <td>1</td>\n",
       "      <td>1</td>\n",
       "      <td>ultra</td>\n",
       "    </tr>\n",
       "    <tr>\n",
       "      <th>2</th>\n",
       "      <td>1004</td>\n",
       "      <td>8</td>\n",
       "      <td>1</td>\n",
       "      <td>1000</td>\n",
       "      <td>30720</td>\n",
       "      <td>3000</td>\n",
       "      <td>1950</td>\n",
       "      <td>150</td>\n",
       "      <td>1</td>\n",
       "      <td>1</td>\n",
       "      <td>ultra</td>\n",
       "    </tr>\n",
       "  </tbody>\n",
       "</table>\n",
       "</div>"
      ],
      "text/plain": [
       "     user_id  months_paid  tariff_id  messages_included  \\\n",
       "0       1000            8          1               1000   \n",
       "149     1001            2          0                 50   \n",
       "150     1002            7          0                 50   \n",
       "1       1003            5          1               1000   \n",
       "2       1004            8          1               1000   \n",
       "\n",
       "     mb_per_month_included  minutes_included  rub_monthly_fee  rub_per_gb  \\\n",
       "0                    30720              3000             1950         150   \n",
       "149                  15360               500              550         200   \n",
       "150                  15360               500              550         200   \n",
       "1                    30720              3000             1950         150   \n",
       "2                    30720              3000             1950         150   \n",
       "\n",
       "     rub_per_message  rub_per_minute tariff_name  \n",
       "0                  1               1       ultra  \n",
       "149                3               3       smart  \n",
       "150                3               3       smart  \n",
       "1                  1               1       ultra  \n",
       "2                  1               1       ultra  "
      ]
     },
     "metadata": {},
     "output_type": "display_data"
    }
   ],
   "source": [
    "user_tariff_data = users_data[['user_id','months_paid','tariff_id']].merge(tariffs_data, on=\"tariff_id\", how='outer')\n",
    "display(user_tariff_data.sort_values('user_id').head(5))"
   ]
  },
  {
   "cell_type": "markdown",
   "metadata": {},
   "source": [
    "**Подсчет выручки по звонкам по месяцам**\n",
    "Рассчитаем кол-во минут разговора по месяцам"
   ]
  },
  {
   "cell_type": "code",
   "execution_count": 23,
   "metadata": {
    "scrolled": true
   },
   "outputs": [
    {
     "data": {
      "text/html": [
       "<div>\n",
       "<style scoped>\n",
       "    .dataframe tbody tr th:only-of-type {\n",
       "        vertical-align: middle;\n",
       "    }\n",
       "\n",
       "    .dataframe tbody tr th {\n",
       "        vertical-align: top;\n",
       "    }\n",
       "\n",
       "    .dataframe thead th {\n",
       "        text-align: right;\n",
       "    }\n",
       "</style>\n",
       "<table border=\"1\" class=\"dataframe\">\n",
       "  <thead>\n",
       "    <tr style=\"text-align: right;\">\n",
       "      <th>call_month</th>\n",
       "      <th>1</th>\n",
       "      <th>2</th>\n",
       "      <th>3</th>\n",
       "      <th>4</th>\n",
       "      <th>5</th>\n",
       "      <th>6</th>\n",
       "      <th>7</th>\n",
       "      <th>8</th>\n",
       "      <th>9</th>\n",
       "      <th>10</th>\n",
       "      <th>11</th>\n",
       "      <th>12</th>\n",
       "    </tr>\n",
       "    <tr>\n",
       "      <th>user_id</th>\n",
       "      <th></th>\n",
       "      <th></th>\n",
       "      <th></th>\n",
       "      <th></th>\n",
       "      <th></th>\n",
       "      <th></th>\n",
       "      <th></th>\n",
       "      <th></th>\n",
       "      <th></th>\n",
       "      <th></th>\n",
       "      <th></th>\n",
       "      <th></th>\n",
       "    </tr>\n",
       "  </thead>\n",
       "  <tbody>\n",
       "    <tr>\n",
       "      <th>1000</th>\n",
       "      <td>NaN</td>\n",
       "      <td>NaN</td>\n",
       "      <td>NaN</td>\n",
       "      <td>NaN</td>\n",
       "      <td>148.0</td>\n",
       "      <td>160.0</td>\n",
       "      <td>307.0</td>\n",
       "      <td>378.0</td>\n",
       "      <td>436.0</td>\n",
       "      <td>323.0</td>\n",
       "      <td>307.0</td>\n",
       "      <td>304.0</td>\n",
       "    </tr>\n",
       "    <tr>\n",
       "      <th>1001</th>\n",
       "      <td>NaN</td>\n",
       "      <td>NaN</td>\n",
       "      <td>NaN</td>\n",
       "      <td>NaN</td>\n",
       "      <td>NaN</td>\n",
       "      <td>NaN</td>\n",
       "      <td>NaN</td>\n",
       "      <td>NaN</td>\n",
       "      <td>NaN</td>\n",
       "      <td>NaN</td>\n",
       "      <td>400.0</td>\n",
       "      <td>387.0</td>\n",
       "    </tr>\n",
       "    <tr>\n",
       "      <th>1002</th>\n",
       "      <td>NaN</td>\n",
       "      <td>NaN</td>\n",
       "      <td>NaN</td>\n",
       "      <td>NaN</td>\n",
       "      <td>NaN</td>\n",
       "      <td>106.0</td>\n",
       "      <td>199.0</td>\n",
       "      <td>260.0</td>\n",
       "      <td>195.0</td>\n",
       "      <td>198.0</td>\n",
       "      <td>226.0</td>\n",
       "      <td>219.0</td>\n",
       "    </tr>\n",
       "    <tr>\n",
       "      <th>1003</th>\n",
       "      <td>NaN</td>\n",
       "      <td>NaN</td>\n",
       "      <td>NaN</td>\n",
       "      <td>NaN</td>\n",
       "      <td>NaN</td>\n",
       "      <td>NaN</td>\n",
       "      <td>NaN</td>\n",
       "      <td>354.0</td>\n",
       "      <td>891.0</td>\n",
       "      <td>778.0</td>\n",
       "      <td>755.0</td>\n",
       "      <td>736.0</td>\n",
       "    </tr>\n",
       "    <tr>\n",
       "      <th>1004</th>\n",
       "      <td>NaN</td>\n",
       "      <td>NaN</td>\n",
       "      <td>NaN</td>\n",
       "      <td>NaN</td>\n",
       "      <td>32.0</td>\n",
       "      <td>153.0</td>\n",
       "      <td>117.0</td>\n",
       "      <td>120.0</td>\n",
       "      <td>107.0</td>\n",
       "      <td>134.0</td>\n",
       "      <td>107.0</td>\n",
       "      <td>122.0</td>\n",
       "    </tr>\n",
       "  </tbody>\n",
       "</table>\n",
       "</div>"
      ],
      "text/plain": [
       "call_month  1   2   3   4      5      6      7      8      9      10     11  \\\n",
       "user_id                                                                       \n",
       "1000       NaN NaN NaN NaN  148.0  160.0  307.0  378.0  436.0  323.0  307.0   \n",
       "1001       NaN NaN NaN NaN    NaN    NaN    NaN    NaN    NaN    NaN  400.0   \n",
       "1002       NaN NaN NaN NaN    NaN  106.0  199.0  260.0  195.0  198.0  226.0   \n",
       "1003       NaN NaN NaN NaN    NaN    NaN    NaN  354.0  891.0  778.0  755.0   \n",
       "1004       NaN NaN NaN NaN   32.0  153.0  117.0  120.0  107.0  134.0  107.0   \n",
       "\n",
       "call_month     12  \n",
       "user_id            \n",
       "1000        304.0  \n",
       "1001        387.0  \n",
       "1002        219.0  \n",
       "1003        736.0  \n",
       "1004        122.0  "
      ]
     },
     "execution_count": 23,
     "metadata": {},
     "output_type": "execute_result"
    }
   ],
   "source": [
    "calls_by_user_per_month = calls_data.pivot_table(index='user_id',columns='call_month',values='duration',aggfunc='sum')\n",
    "calls_by_user_per_month.head(5)"
   ]
  },
  {
   "cell_type": "markdown",
   "metadata": {},
   "source": [
    "Теперь объединим таблицы звонков и тарифов. Далее избавимся от NaN и приведем данные к нужному формату int"
   ]
  },
  {
   "cell_type": "code",
   "execution_count": 24,
   "metadata": {},
   "outputs": [
    {
     "data": {
      "text/html": [
       "<div>\n",
       "<style scoped>\n",
       "    .dataframe tbody tr th:only-of-type {\n",
       "        vertical-align: middle;\n",
       "    }\n",
       "\n",
       "    .dataframe tbody tr th {\n",
       "        vertical-align: top;\n",
       "    }\n",
       "\n",
       "    .dataframe thead th {\n",
       "        text-align: right;\n",
       "    }\n",
       "</style>\n",
       "<table border=\"1\" class=\"dataframe\">\n",
       "  <thead>\n",
       "    <tr style=\"text-align: right;\">\n",
       "      <th></th>\n",
       "      <th>user_id</th>\n",
       "      <th>1</th>\n",
       "      <th>2</th>\n",
       "      <th>3</th>\n",
       "      <th>4</th>\n",
       "      <th>5</th>\n",
       "      <th>6</th>\n",
       "      <th>7</th>\n",
       "      <th>8</th>\n",
       "      <th>9</th>\n",
       "      <th>10</th>\n",
       "      <th>11</th>\n",
       "      <th>12</th>\n",
       "      <th>minutes_included</th>\n",
       "      <th>rub_per_minute</th>\n",
       "      <th>tariff_name</th>\n",
       "      <th>months_paid</th>\n",
       "    </tr>\n",
       "  </thead>\n",
       "  <tbody>\n",
       "    <tr>\n",
       "      <th>0</th>\n",
       "      <td>1000</td>\n",
       "      <td>NaN</td>\n",
       "      <td>NaN</td>\n",
       "      <td>NaN</td>\n",
       "      <td>NaN</td>\n",
       "      <td>148.0</td>\n",
       "      <td>160.0</td>\n",
       "      <td>307.0</td>\n",
       "      <td>378.0</td>\n",
       "      <td>436.0</td>\n",
       "      <td>323.0</td>\n",
       "      <td>307.0</td>\n",
       "      <td>304.0</td>\n",
       "      <td>3000</td>\n",
       "      <td>1</td>\n",
       "      <td>ultra</td>\n",
       "      <td>8</td>\n",
       "    </tr>\n",
       "    <tr>\n",
       "      <th>1</th>\n",
       "      <td>1001</td>\n",
       "      <td>NaN</td>\n",
       "      <td>NaN</td>\n",
       "      <td>NaN</td>\n",
       "      <td>NaN</td>\n",
       "      <td>NaN</td>\n",
       "      <td>NaN</td>\n",
       "      <td>NaN</td>\n",
       "      <td>NaN</td>\n",
       "      <td>NaN</td>\n",
       "      <td>NaN</td>\n",
       "      <td>400.0</td>\n",
       "      <td>387.0</td>\n",
       "      <td>500</td>\n",
       "      <td>3</td>\n",
       "      <td>smart</td>\n",
       "      <td>2</td>\n",
       "    </tr>\n",
       "    <tr>\n",
       "      <th>2</th>\n",
       "      <td>1002</td>\n",
       "      <td>NaN</td>\n",
       "      <td>NaN</td>\n",
       "      <td>NaN</td>\n",
       "      <td>NaN</td>\n",
       "      <td>NaN</td>\n",
       "      <td>106.0</td>\n",
       "      <td>199.0</td>\n",
       "      <td>260.0</td>\n",
       "      <td>195.0</td>\n",
       "      <td>198.0</td>\n",
       "      <td>226.0</td>\n",
       "      <td>219.0</td>\n",
       "      <td>500</td>\n",
       "      <td>3</td>\n",
       "      <td>smart</td>\n",
       "      <td>7</td>\n",
       "    </tr>\n",
       "    <tr>\n",
       "      <th>3</th>\n",
       "      <td>1003</td>\n",
       "      <td>NaN</td>\n",
       "      <td>NaN</td>\n",
       "      <td>NaN</td>\n",
       "      <td>NaN</td>\n",
       "      <td>NaN</td>\n",
       "      <td>NaN</td>\n",
       "      <td>NaN</td>\n",
       "      <td>354.0</td>\n",
       "      <td>891.0</td>\n",
       "      <td>778.0</td>\n",
       "      <td>755.0</td>\n",
       "      <td>736.0</td>\n",
       "      <td>3000</td>\n",
       "      <td>1</td>\n",
       "      <td>ultra</td>\n",
       "      <td>5</td>\n",
       "    </tr>\n",
       "    <tr>\n",
       "      <th>4</th>\n",
       "      <td>1004</td>\n",
       "      <td>NaN</td>\n",
       "      <td>NaN</td>\n",
       "      <td>NaN</td>\n",
       "      <td>NaN</td>\n",
       "      <td>32.0</td>\n",
       "      <td>153.0</td>\n",
       "      <td>117.0</td>\n",
       "      <td>120.0</td>\n",
       "      <td>107.0</td>\n",
       "      <td>134.0</td>\n",
       "      <td>107.0</td>\n",
       "      <td>122.0</td>\n",
       "      <td>3000</td>\n",
       "      <td>1</td>\n",
       "      <td>ultra</td>\n",
       "      <td>8</td>\n",
       "    </tr>\n",
       "  </tbody>\n",
       "</table>\n",
       "</div>"
      ],
      "text/plain": [
       "   user_id   1   2   3   4      5      6      7      8      9     10     11  \\\n",
       "0     1000 NaN NaN NaN NaN  148.0  160.0  307.0  378.0  436.0  323.0  307.0   \n",
       "1     1001 NaN NaN NaN NaN    NaN    NaN    NaN    NaN    NaN    NaN  400.0   \n",
       "2     1002 NaN NaN NaN NaN    NaN  106.0  199.0  260.0  195.0  198.0  226.0   \n",
       "3     1003 NaN NaN NaN NaN    NaN    NaN    NaN  354.0  891.0  778.0  755.0   \n",
       "4     1004 NaN NaN NaN NaN   32.0  153.0  117.0  120.0  107.0  134.0  107.0   \n",
       "\n",
       "      12  minutes_included  rub_per_minute tariff_name  months_paid  \n",
       "0  304.0              3000               1       ultra            8  \n",
       "1  387.0               500               3       smart            2  \n",
       "2  219.0               500               3       smart            7  \n",
       "3  736.0              3000               1       ultra            5  \n",
       "4  122.0              3000               1       ultra            8  "
      ]
     },
     "metadata": {},
     "output_type": "display_data"
    },
    {
     "data": {
      "text/html": [
       "<div>\n",
       "<style scoped>\n",
       "    .dataframe tbody tr th:only-of-type {\n",
       "        vertical-align: middle;\n",
       "    }\n",
       "\n",
       "    .dataframe tbody tr th {\n",
       "        vertical-align: top;\n",
       "    }\n",
       "\n",
       "    .dataframe thead th {\n",
       "        text-align: right;\n",
       "    }\n",
       "</style>\n",
       "<table border=\"1\" class=\"dataframe\">\n",
       "  <thead>\n",
       "    <tr style=\"text-align: right;\">\n",
       "      <th></th>\n",
       "      <th>user_id</th>\n",
       "      <th>1</th>\n",
       "      <th>2</th>\n",
       "      <th>3</th>\n",
       "      <th>4</th>\n",
       "      <th>5</th>\n",
       "      <th>6</th>\n",
       "      <th>7</th>\n",
       "      <th>8</th>\n",
       "      <th>9</th>\n",
       "      <th>10</th>\n",
       "      <th>11</th>\n",
       "      <th>12</th>\n",
       "      <th>minutes_included</th>\n",
       "      <th>rub_per_minute</th>\n",
       "      <th>tariff_name</th>\n",
       "      <th>months_paid</th>\n",
       "    </tr>\n",
       "  </thead>\n",
       "  <tbody>\n",
       "    <tr>\n",
       "      <th>0</th>\n",
       "      <td>1000</td>\n",
       "      <td>0</td>\n",
       "      <td>0</td>\n",
       "      <td>0</td>\n",
       "      <td>0</td>\n",
       "      <td>148</td>\n",
       "      <td>160</td>\n",
       "      <td>307</td>\n",
       "      <td>378</td>\n",
       "      <td>436</td>\n",
       "      <td>323</td>\n",
       "      <td>307</td>\n",
       "      <td>304</td>\n",
       "      <td>3000</td>\n",
       "      <td>1</td>\n",
       "      <td>ultra</td>\n",
       "      <td>8</td>\n",
       "    </tr>\n",
       "    <tr>\n",
       "      <th>1</th>\n",
       "      <td>1001</td>\n",
       "      <td>0</td>\n",
       "      <td>0</td>\n",
       "      <td>0</td>\n",
       "      <td>0</td>\n",
       "      <td>0</td>\n",
       "      <td>0</td>\n",
       "      <td>0</td>\n",
       "      <td>0</td>\n",
       "      <td>0</td>\n",
       "      <td>0</td>\n",
       "      <td>400</td>\n",
       "      <td>387</td>\n",
       "      <td>500</td>\n",
       "      <td>3</td>\n",
       "      <td>smart</td>\n",
       "      <td>2</td>\n",
       "    </tr>\n",
       "    <tr>\n",
       "      <th>2</th>\n",
       "      <td>1002</td>\n",
       "      <td>0</td>\n",
       "      <td>0</td>\n",
       "      <td>0</td>\n",
       "      <td>0</td>\n",
       "      <td>0</td>\n",
       "      <td>106</td>\n",
       "      <td>199</td>\n",
       "      <td>260</td>\n",
       "      <td>195</td>\n",
       "      <td>198</td>\n",
       "      <td>226</td>\n",
       "      <td>219</td>\n",
       "      <td>500</td>\n",
       "      <td>3</td>\n",
       "      <td>smart</td>\n",
       "      <td>7</td>\n",
       "    </tr>\n",
       "    <tr>\n",
       "      <th>3</th>\n",
       "      <td>1003</td>\n",
       "      <td>0</td>\n",
       "      <td>0</td>\n",
       "      <td>0</td>\n",
       "      <td>0</td>\n",
       "      <td>0</td>\n",
       "      <td>0</td>\n",
       "      <td>0</td>\n",
       "      <td>354</td>\n",
       "      <td>891</td>\n",
       "      <td>778</td>\n",
       "      <td>755</td>\n",
       "      <td>736</td>\n",
       "      <td>3000</td>\n",
       "      <td>1</td>\n",
       "      <td>ultra</td>\n",
       "      <td>5</td>\n",
       "    </tr>\n",
       "    <tr>\n",
       "      <th>4</th>\n",
       "      <td>1004</td>\n",
       "      <td>0</td>\n",
       "      <td>0</td>\n",
       "      <td>0</td>\n",
       "      <td>0</td>\n",
       "      <td>32</td>\n",
       "      <td>153</td>\n",
       "      <td>117</td>\n",
       "      <td>120</td>\n",
       "      <td>107</td>\n",
       "      <td>134</td>\n",
       "      <td>107</td>\n",
       "      <td>122</td>\n",
       "      <td>3000</td>\n",
       "      <td>1</td>\n",
       "      <td>ultra</td>\n",
       "      <td>8</td>\n",
       "    </tr>\n",
       "  </tbody>\n",
       "</table>\n",
       "</div>"
      ],
      "text/plain": [
       "   user_id  1  2  3  4    5    6    7    8    9   10   11   12  \\\n",
       "0     1000  0  0  0  0  148  160  307  378  436  323  307  304   \n",
       "1     1001  0  0  0  0    0    0    0    0    0    0  400  387   \n",
       "2     1002  0  0  0  0    0  106  199  260  195  198  226  219   \n",
       "3     1003  0  0  0  0    0    0    0  354  891  778  755  736   \n",
       "4     1004  0  0  0  0   32  153  117  120  107  134  107  122   \n",
       "\n",
       "   minutes_included  rub_per_minute tariff_name  months_paid  \n",
       "0              3000               1       ultra            8  \n",
       "1               500               3       smart            2  \n",
       "2               500               3       smart            7  \n",
       "3              3000               1       ultra            5  \n",
       "4              3000               1       ultra            8  "
      ]
     },
     "metadata": {},
     "output_type": "display_data"
    }
   ],
   "source": [
    "calls_data_minutes = calls_by_user_per_month.merge(user_tariff_data[['minutes_included','rub_per_minute','tariff_name','user_id','months_paid']], on='user_id', how='outer')\n",
    "display(calls_data_minutes.head(5))\n",
    "# избавление от NaN и перевод в int\n",
    "months =[i for i in range(1,13)]\n",
    "calls_data_minutes[months] = calls_data_minutes[months].fillna(0)\n",
    "calls_data_minutes[months] = calls_data_minutes[months].astype('int')\n",
    "calls_data_paid = calls_data_minutes.copy()\n",
    "display(calls_data_minutes.head(5))"
   ]
  },
  {
   "cell_type": "markdown",
   "metadata": {},
   "source": [
    "Необходимо посчитать сумму выручки в случае превышения лимитов тарифа. Это будет производится при помощи функции paid_for_month_for_calls."
   ]
  },
  {
   "cell_type": "code",
   "execution_count": 25,
   "metadata": {},
   "outputs": [],
   "source": [
    "def paid_for_month_for_calls(data_test,month):\n",
    "    minutes_included = data_test['minutes_included']\n",
    "    rub_per_minute = data_test['rub_per_minute']\n",
    "    month_call_paid = 0\n",
    "    delta_time = minutes_included-data_test[month]\n",
    "    if (delta_time < 0) and (data_test[month]>0):\n",
    "        month_call_paid = (-1)*delta_time*rub_per_minute\n",
    "    else:\n",
    "        month_call_paid = 0\n",
    "    return month_call_paid"
   ]
  },
  {
   "cell_type": "code",
   "execution_count": 26,
   "metadata": {},
   "outputs": [
    {
     "data": {
      "text/html": [
       "<div>\n",
       "<style scoped>\n",
       "    .dataframe tbody tr th:only-of-type {\n",
       "        vertical-align: middle;\n",
       "    }\n",
       "\n",
       "    .dataframe tbody tr th {\n",
       "        vertical-align: top;\n",
       "    }\n",
       "\n",
       "    .dataframe thead th {\n",
       "        text-align: right;\n",
       "    }\n",
       "</style>\n",
       "<table border=\"1\" class=\"dataframe\">\n",
       "  <thead>\n",
       "    <tr style=\"text-align: right;\">\n",
       "      <th></th>\n",
       "      <th>user_id</th>\n",
       "      <th>1</th>\n",
       "      <th>2</th>\n",
       "      <th>3</th>\n",
       "      <th>4</th>\n",
       "      <th>5</th>\n",
       "      <th>6</th>\n",
       "      <th>7</th>\n",
       "      <th>8</th>\n",
       "      <th>9</th>\n",
       "      <th>10</th>\n",
       "      <th>11</th>\n",
       "      <th>12</th>\n",
       "      <th>minutes_included</th>\n",
       "      <th>rub_per_minute</th>\n",
       "      <th>tariff_name</th>\n",
       "      <th>months_paid</th>\n",
       "    </tr>\n",
       "  </thead>\n",
       "  <tbody>\n",
       "    <tr>\n",
       "      <th>0</th>\n",
       "      <td>1000</td>\n",
       "      <td>0</td>\n",
       "      <td>0</td>\n",
       "      <td>0</td>\n",
       "      <td>0</td>\n",
       "      <td>0</td>\n",
       "      <td>0</td>\n",
       "      <td>0</td>\n",
       "      <td>0</td>\n",
       "      <td>0</td>\n",
       "      <td>0</td>\n",
       "      <td>0</td>\n",
       "      <td>0</td>\n",
       "      <td>3000</td>\n",
       "      <td>1</td>\n",
       "      <td>ultra</td>\n",
       "      <td>8</td>\n",
       "    </tr>\n",
       "    <tr>\n",
       "      <th>1</th>\n",
       "      <td>1001</td>\n",
       "      <td>0</td>\n",
       "      <td>0</td>\n",
       "      <td>0</td>\n",
       "      <td>0</td>\n",
       "      <td>0</td>\n",
       "      <td>0</td>\n",
       "      <td>0</td>\n",
       "      <td>0</td>\n",
       "      <td>0</td>\n",
       "      <td>0</td>\n",
       "      <td>0</td>\n",
       "      <td>0</td>\n",
       "      <td>500</td>\n",
       "      <td>3</td>\n",
       "      <td>smart</td>\n",
       "      <td>2</td>\n",
       "    </tr>\n",
       "    <tr>\n",
       "      <th>2</th>\n",
       "      <td>1002</td>\n",
       "      <td>0</td>\n",
       "      <td>0</td>\n",
       "      <td>0</td>\n",
       "      <td>0</td>\n",
       "      <td>0</td>\n",
       "      <td>0</td>\n",
       "      <td>0</td>\n",
       "      <td>0</td>\n",
       "      <td>0</td>\n",
       "      <td>0</td>\n",
       "      <td>0</td>\n",
       "      <td>0</td>\n",
       "      <td>500</td>\n",
       "      <td>3</td>\n",
       "      <td>smart</td>\n",
       "      <td>7</td>\n",
       "    </tr>\n",
       "    <tr>\n",
       "      <th>3</th>\n",
       "      <td>1003</td>\n",
       "      <td>0</td>\n",
       "      <td>0</td>\n",
       "      <td>0</td>\n",
       "      <td>0</td>\n",
       "      <td>0</td>\n",
       "      <td>0</td>\n",
       "      <td>0</td>\n",
       "      <td>0</td>\n",
       "      <td>0</td>\n",
       "      <td>0</td>\n",
       "      <td>0</td>\n",
       "      <td>0</td>\n",
       "      <td>3000</td>\n",
       "      <td>1</td>\n",
       "      <td>ultra</td>\n",
       "      <td>5</td>\n",
       "    </tr>\n",
       "    <tr>\n",
       "      <th>4</th>\n",
       "      <td>1004</td>\n",
       "      <td>0</td>\n",
       "      <td>0</td>\n",
       "      <td>0</td>\n",
       "      <td>0</td>\n",
       "      <td>0</td>\n",
       "      <td>0</td>\n",
       "      <td>0</td>\n",
       "      <td>0</td>\n",
       "      <td>0</td>\n",
       "      <td>0</td>\n",
       "      <td>0</td>\n",
       "      <td>0</td>\n",
       "      <td>3000</td>\n",
       "      <td>1</td>\n",
       "      <td>ultra</td>\n",
       "      <td>8</td>\n",
       "    </tr>\n",
       "  </tbody>\n",
       "</table>\n",
       "</div>"
      ],
      "text/plain": [
       "   user_id  1  2  3  4  5  6  7  8  9  10  11  12  minutes_included  \\\n",
       "0     1000  0  0  0  0  0  0  0  0  0   0   0   0              3000   \n",
       "1     1001  0  0  0  0  0  0  0  0  0   0   0   0               500   \n",
       "2     1002  0  0  0  0  0  0  0  0  0   0   0   0               500   \n",
       "3     1003  0  0  0  0  0  0  0  0  0   0   0   0              3000   \n",
       "4     1004  0  0  0  0  0  0  0  0  0   0   0   0              3000   \n",
       "\n",
       "   rub_per_minute tariff_name  months_paid  \n",
       "0               1       ultra            8  \n",
       "1               3       smart            2  \n",
       "2               3       smart            7  \n",
       "3               1       ultra            5  \n",
       "4               1       ultra            8  "
      ]
     },
     "metadata": {},
     "output_type": "display_data"
    },
    {
     "data": {
      "text/html": [
       "<div>\n",
       "<style scoped>\n",
       "    .dataframe tbody tr th:only-of-type {\n",
       "        vertical-align: middle;\n",
       "    }\n",
       "\n",
       "    .dataframe tbody tr th {\n",
       "        vertical-align: top;\n",
       "    }\n",
       "\n",
       "    .dataframe thead th {\n",
       "        text-align: right;\n",
       "    }\n",
       "</style>\n",
       "<table border=\"1\" class=\"dataframe\">\n",
       "  <thead>\n",
       "    <tr style=\"text-align: right;\">\n",
       "      <th></th>\n",
       "      <th>user_id</th>\n",
       "      <th>1</th>\n",
       "      <th>2</th>\n",
       "      <th>3</th>\n",
       "      <th>4</th>\n",
       "      <th>5</th>\n",
       "      <th>6</th>\n",
       "      <th>7</th>\n",
       "      <th>8</th>\n",
       "      <th>9</th>\n",
       "      <th>10</th>\n",
       "      <th>11</th>\n",
       "      <th>12</th>\n",
       "      <th>minutes_included</th>\n",
       "      <th>rub_per_minute</th>\n",
       "      <th>tariff_name</th>\n",
       "      <th>months_paid</th>\n",
       "    </tr>\n",
       "  </thead>\n",
       "  <tbody>\n",
       "    <tr>\n",
       "      <th>0</th>\n",
       "      <td>1000</td>\n",
       "      <td>0</td>\n",
       "      <td>0</td>\n",
       "      <td>0</td>\n",
       "      <td>0</td>\n",
       "      <td>148</td>\n",
       "      <td>160</td>\n",
       "      <td>307</td>\n",
       "      <td>378</td>\n",
       "      <td>436</td>\n",
       "      <td>323</td>\n",
       "      <td>307</td>\n",
       "      <td>304</td>\n",
       "      <td>3000</td>\n",
       "      <td>1</td>\n",
       "      <td>ultra</td>\n",
       "      <td>8</td>\n",
       "    </tr>\n",
       "    <tr>\n",
       "      <th>1</th>\n",
       "      <td>1001</td>\n",
       "      <td>0</td>\n",
       "      <td>0</td>\n",
       "      <td>0</td>\n",
       "      <td>0</td>\n",
       "      <td>0</td>\n",
       "      <td>0</td>\n",
       "      <td>0</td>\n",
       "      <td>0</td>\n",
       "      <td>0</td>\n",
       "      <td>0</td>\n",
       "      <td>400</td>\n",
       "      <td>387</td>\n",
       "      <td>500</td>\n",
       "      <td>3</td>\n",
       "      <td>smart</td>\n",
       "      <td>2</td>\n",
       "    </tr>\n",
       "    <tr>\n",
       "      <th>2</th>\n",
       "      <td>1002</td>\n",
       "      <td>0</td>\n",
       "      <td>0</td>\n",
       "      <td>0</td>\n",
       "      <td>0</td>\n",
       "      <td>0</td>\n",
       "      <td>106</td>\n",
       "      <td>199</td>\n",
       "      <td>260</td>\n",
       "      <td>195</td>\n",
       "      <td>198</td>\n",
       "      <td>226</td>\n",
       "      <td>219</td>\n",
       "      <td>500</td>\n",
       "      <td>3</td>\n",
       "      <td>smart</td>\n",
       "      <td>7</td>\n",
       "    </tr>\n",
       "    <tr>\n",
       "      <th>3</th>\n",
       "      <td>1003</td>\n",
       "      <td>0</td>\n",
       "      <td>0</td>\n",
       "      <td>0</td>\n",
       "      <td>0</td>\n",
       "      <td>0</td>\n",
       "      <td>0</td>\n",
       "      <td>0</td>\n",
       "      <td>354</td>\n",
       "      <td>891</td>\n",
       "      <td>778</td>\n",
       "      <td>755</td>\n",
       "      <td>736</td>\n",
       "      <td>3000</td>\n",
       "      <td>1</td>\n",
       "      <td>ultra</td>\n",
       "      <td>5</td>\n",
       "    </tr>\n",
       "    <tr>\n",
       "      <th>4</th>\n",
       "      <td>1004</td>\n",
       "      <td>0</td>\n",
       "      <td>0</td>\n",
       "      <td>0</td>\n",
       "      <td>0</td>\n",
       "      <td>32</td>\n",
       "      <td>153</td>\n",
       "      <td>117</td>\n",
       "      <td>120</td>\n",
       "      <td>107</td>\n",
       "      <td>134</td>\n",
       "      <td>107</td>\n",
       "      <td>122</td>\n",
       "      <td>3000</td>\n",
       "      <td>1</td>\n",
       "      <td>ultra</td>\n",
       "      <td>8</td>\n",
       "    </tr>\n",
       "  </tbody>\n",
       "</table>\n",
       "</div>"
      ],
      "text/plain": [
       "   user_id  1  2  3  4    5    6    7    8    9   10   11   12  \\\n",
       "0     1000  0  0  0  0  148  160  307  378  436  323  307  304   \n",
       "1     1001  0  0  0  0    0    0    0    0    0    0  400  387   \n",
       "2     1002  0  0  0  0    0  106  199  260  195  198  226  219   \n",
       "3     1003  0  0  0  0    0    0    0  354  891  778  755  736   \n",
       "4     1004  0  0  0  0   32  153  117  120  107  134  107  122   \n",
       "\n",
       "   minutes_included  rub_per_minute tariff_name  months_paid  \n",
       "0              3000               1       ultra            8  \n",
       "1               500               3       smart            2  \n",
       "2               500               3       smart            7  \n",
       "3              3000               1       ultra            5  \n",
       "4              3000               1       ultra            8  "
      ]
     },
     "metadata": {},
     "output_type": "display_data"
    }
   ],
   "source": [
    "months =[i for i in range(1,13)]\n",
    "for month in months:      \n",
    "    calls_data_paid[month] = calls_data_paid.apply(paid_for_month_for_calls, axis=1, args = [month])\n",
    "display(calls_data_paid.head(5))\n",
    "display(calls_data_minutes.head(5))"
   ]
  },
  {
   "cell_type": "markdown",
   "metadata": {},
   "source": [
    "\n",
    "Были подсчитаны минуты разговора и выручка от звонков(если месячный лимит минут по тарифу был превышен) для каждого пользователя по месяцам. Для подсчета использовался датафрейм user_tariff_data, полученный ранее. Для подсчета calls_data_paid была использована функция paid_for_month_for_calls, кот-ая определяла есть ли превышение по лимиту в данной месяце и считала сумму, если превышение было, иначе значение выручки оставалось 0.\n",
    "\n",
    "**calls_data_minutes** - минуты разговора по месяцам для каждого пользователя.\n",
    "\n",
    "\n",
    "**calls_data_paid** - выручка от звонков(если месячный лимит минут по тарифу был превышен)\n",
    "       \n",
    "----"
   ]
  },
  {
   "cell_type": "markdown",
   "metadata": {},
   "source": [
    "**Проведем аналогичные расчеты для сообщений.**"
   ]
  },
  {
   "cell_type": "code",
   "execution_count": 27,
   "metadata": {},
   "outputs": [],
   "source": [
    "messages_by_user_per_month = messages_data.pivot_table(index = 'user_id',columns='message_month', values = 'id', aggfunc = 'count')"
   ]
  },
  {
   "cell_type": "code",
   "execution_count": 28,
   "metadata": {},
   "outputs": [],
   "source": [
    "# Объединения таблиц сообщений и тарифов\n",
    "messages_data_amount = messages_by_user_per_month.merge(user_tariff_data[['messages_included','rub_per_message','tariff_name','user_id','months_paid']], on='user_id', how='outer')\n",
    "# избавление от NaN и перевод в int\n",
    "months =[i for i in range(1,13)]\n",
    "messages_data_amount[months] = messages_data_amount[months].fillna(0)\n",
    "messages_data_amount[months] = messages_data_amount[months].astype('int')\n",
    "messages_data_paid = messages_data_amount.copy()"
   ]
  },
  {
   "cell_type": "code",
   "execution_count": 29,
   "metadata": {},
   "outputs": [],
   "source": [
    "def paid_for_month_for_messages(data_test,month):\n",
    "    messages_included = data_test['messages_included']\n",
    "    rub_per_message = data_test['rub_per_message']\n",
    "    month_messages_paid = 0\n",
    "    delta_messages = messages_included-data_test[month]\n",
    "    if (delta_messages < 0) and (data_test[month]>0):\n",
    "        month_messages_paid = (-1)*delta_messages*rub_per_message\n",
    "    else:\n",
    "        month_messages_paid = 0\n",
    "    return month_messages_paid"
   ]
  },
  {
   "cell_type": "code",
   "execution_count": 30,
   "metadata": {},
   "outputs": [
    {
     "data": {
      "text/html": [
       "<div>\n",
       "<style scoped>\n",
       "    .dataframe tbody tr th:only-of-type {\n",
       "        vertical-align: middle;\n",
       "    }\n",
       "\n",
       "    .dataframe tbody tr th {\n",
       "        vertical-align: top;\n",
       "    }\n",
       "\n",
       "    .dataframe thead th {\n",
       "        text-align: right;\n",
       "    }\n",
       "</style>\n",
       "<table border=\"1\" class=\"dataframe\">\n",
       "  <thead>\n",
       "    <tr style=\"text-align: right;\">\n",
       "      <th></th>\n",
       "      <th>user_id</th>\n",
       "      <th>1</th>\n",
       "      <th>2</th>\n",
       "      <th>3</th>\n",
       "      <th>4</th>\n",
       "      <th>5</th>\n",
       "      <th>6</th>\n",
       "      <th>7</th>\n",
       "      <th>8</th>\n",
       "      <th>9</th>\n",
       "      <th>10</th>\n",
       "      <th>11</th>\n",
       "      <th>12</th>\n",
       "      <th>messages_included</th>\n",
       "      <th>rub_per_message</th>\n",
       "      <th>tariff_name</th>\n",
       "      <th>months_paid</th>\n",
       "    </tr>\n",
       "  </thead>\n",
       "  <tbody>\n",
       "    <tr>\n",
       "      <th>0</th>\n",
       "      <td>1000</td>\n",
       "      <td>0</td>\n",
       "      <td>0</td>\n",
       "      <td>0</td>\n",
       "      <td>0</td>\n",
       "      <td>0</td>\n",
       "      <td>0</td>\n",
       "      <td>0</td>\n",
       "      <td>0</td>\n",
       "      <td>0</td>\n",
       "      <td>0</td>\n",
       "      <td>0</td>\n",
       "      <td>0</td>\n",
       "      <td>1000</td>\n",
       "      <td>1</td>\n",
       "      <td>ultra</td>\n",
       "      <td>8</td>\n",
       "    </tr>\n",
       "    <tr>\n",
       "      <th>1</th>\n",
       "      <td>1002</td>\n",
       "      <td>0</td>\n",
       "      <td>0</td>\n",
       "      <td>0</td>\n",
       "      <td>0</td>\n",
       "      <td>0</td>\n",
       "      <td>0</td>\n",
       "      <td>0</td>\n",
       "      <td>0</td>\n",
       "      <td>0</td>\n",
       "      <td>0</td>\n",
       "      <td>0</td>\n",
       "      <td>0</td>\n",
       "      <td>50</td>\n",
       "      <td>3</td>\n",
       "      <td>smart</td>\n",
       "      <td>7</td>\n",
       "    </tr>\n",
       "    <tr>\n",
       "      <th>2</th>\n",
       "      <td>1003</td>\n",
       "      <td>0</td>\n",
       "      <td>0</td>\n",
       "      <td>0</td>\n",
       "      <td>0</td>\n",
       "      <td>0</td>\n",
       "      <td>0</td>\n",
       "      <td>0</td>\n",
       "      <td>0</td>\n",
       "      <td>0</td>\n",
       "      <td>0</td>\n",
       "      <td>0</td>\n",
       "      <td>0</td>\n",
       "      <td>1000</td>\n",
       "      <td>1</td>\n",
       "      <td>ultra</td>\n",
       "      <td>5</td>\n",
       "    </tr>\n",
       "    <tr>\n",
       "      <th>3</th>\n",
       "      <td>1004</td>\n",
       "      <td>0</td>\n",
       "      <td>0</td>\n",
       "      <td>0</td>\n",
       "      <td>0</td>\n",
       "      <td>0</td>\n",
       "      <td>0</td>\n",
       "      <td>0</td>\n",
       "      <td>0</td>\n",
       "      <td>0</td>\n",
       "      <td>0</td>\n",
       "      <td>0</td>\n",
       "      <td>0</td>\n",
       "      <td>1000</td>\n",
       "      <td>1</td>\n",
       "      <td>ultra</td>\n",
       "      <td>8</td>\n",
       "    </tr>\n",
       "    <tr>\n",
       "      <th>4</th>\n",
       "      <td>1005</td>\n",
       "      <td>0</td>\n",
       "      <td>0</td>\n",
       "      <td>18</td>\n",
       "      <td>0</td>\n",
       "      <td>0</td>\n",
       "      <td>0</td>\n",
       "      <td>18</td>\n",
       "      <td>42</td>\n",
       "      <td>6</td>\n",
       "      <td>0</td>\n",
       "      <td>3</td>\n",
       "      <td>12</td>\n",
       "      <td>50</td>\n",
       "      <td>3</td>\n",
       "      <td>smart</td>\n",
       "      <td>12</td>\n",
       "    </tr>\n",
       "  </tbody>\n",
       "</table>\n",
       "</div>"
      ],
      "text/plain": [
       "   user_id  1  2   3  4  5  6   7   8  9  10  11  12  messages_included  \\\n",
       "0     1000  0  0   0  0  0  0   0   0  0   0   0   0               1000   \n",
       "1     1002  0  0   0  0  0  0   0   0  0   0   0   0                 50   \n",
       "2     1003  0  0   0  0  0  0   0   0  0   0   0   0               1000   \n",
       "3     1004  0  0   0  0  0  0   0   0  0   0   0   0               1000   \n",
       "4     1005  0  0  18  0  0  0  18  42  6   0   3  12                 50   \n",
       "\n",
       "   rub_per_message tariff_name  months_paid  \n",
       "0                1       ultra            8  \n",
       "1                3       smart            7  \n",
       "2                1       ultra            5  \n",
       "3                1       ultra            8  \n",
       "4                3       smart           12  "
      ]
     },
     "metadata": {},
     "output_type": "display_data"
    }
   ],
   "source": [
    "months =[i for i in range(1,13)]\n",
    "for month in months:      \n",
    "    messages_data_paid[month] = messages_data_paid.apply(paid_for_month_for_messages, axis=1, args = [month])\n",
    "display(messages_data_paid.head(5))"
   ]
  },
  {
   "cell_type": "markdown",
   "metadata": {},
   "source": [
    "**messages_data_amount** - минуты разговора по месяцам для каждого пользователя.\n",
    "\n",
    "\n",
    "**messages_data_paid** - выручка от звонков(если месячный лимит минут по тарифу был превышен)\n",
    "       \n",
    "----"
   ]
  },
  {
   "cell_type": "markdown",
   "metadata": {},
   "source": [
    "И еще раз только теперь для интернет-трафика"
   ]
  },
  {
   "cell_type": "code",
   "execution_count": 31,
   "metadata": {},
   "outputs": [],
   "source": [
    "# интернет трафик по месяцам\n",
    "sessions_by_user_per_month = internet_data.pivot_table(index='user_id',columns='session_month',values='mb_used',aggfunc='sum')"
   ]
  },
  {
   "cell_type": "code",
   "execution_count": 32,
   "metadata": {},
   "outputs": [],
   "source": [
    "# объединение таблиц интернет сессий и тарифов\n",
    "sessions_data_mb = sessions_by_user_per_month.merge(user_tariff_data[['mb_per_month_included','rub_per_gb','tariff_name','user_id','months_paid']], on='user_id', how='outer')\n",
    "# избавление от NaN и перевод в int\n",
    "months =[i for i in range(1,13)]\n",
    "sessions_data_mb[months] = sessions_data_mb[months].fillna(0)\n",
    "sessions_data_mb[months] = sessions_data_mb[months].astype('int')\n",
    "sessions_data_paid = sessions_data_mb.copy()"
   ]
  },
  {
   "cell_type": "code",
   "execution_count": 33,
   "metadata": {},
   "outputs": [],
   "source": [
    "def paid_for_month_for_sessions(data_test,month):\n",
    "    mb_per_month_included = data_test['mb_per_month_included']\n",
    "    rub_per_gb = data_test['rub_per_gb']\n",
    "    month_session_paid = 0\n",
    "    delta_sessions = mb_per_month_included-data_test[month]\n",
    "    if (delta_sessions < 0) and (data_test[month]>0):\n",
    "        month_session_paid = (-1)*math.ceil(delta_sessions/1024)*rub_per_gb\n",
    "    else:\n",
    "        month_session_paid = 0\n",
    "    return month_session_paid"
   ]
  },
  {
   "cell_type": "code",
   "execution_count": 34,
   "metadata": {},
   "outputs": [],
   "source": [
    "months =[i for i in range(1,13)]\n",
    "for month in months:      \n",
    "    sessions_data_paid[month] = sessions_data_paid.apply(paid_for_month_for_sessions, axis=1, args = [month])"
   ]
  },
  {
   "cell_type": "markdown",
   "metadata": {},
   "source": [
    "**sessions_data_mb** - минуты разговора по месяцам для каждого пользователя.\n",
    "**sessions_data_paid** - выручка от звонков(если месячный лимит минут по тарифу был превышен)\n",
    "\n",
    "---"
   ]
  },
  {
   "cell_type": "markdown",
   "metadata": {},
   "source": [
    "**Выполним подсчет выручки с оплаты тарифа в месяц** "
   ]
  },
  {
   "cell_type": "code",
   "execution_count": 35,
   "metadata": {},
   "outputs": [],
   "source": [
    "fees_data_paid = users_data[['user_id','join_month','months_paid']].merge(user_tariff_data[['rub_monthly_fee','user_id']], on='user_id', how='outer')"
   ]
  },
  {
   "cell_type": "code",
   "execution_count": 36,
   "metadata": {},
   "outputs": [],
   "source": [
    "def paid_for_month_for_tariffs(data_test,month):\n",
    "    join_month = data_test['join_month']\n",
    "    month_paid = data_test['months_paid']\n",
    "    rub_monthly_fee = data_test['rub_monthly_fee']\n",
    "    month_tariff_paid = 0\n",
    "    if join_month<=month<=join_month+month_paid-1:\n",
    "#         print('OK')\n",
    "        month_tariff_paid = rub_monthly_fee\n",
    "    else:\n",
    "        month_tariff_paid = 0\n",
    "    return month_tariff_paid"
   ]
  },
  {
   "cell_type": "code",
   "execution_count": 37,
   "metadata": {},
   "outputs": [
    {
     "data": {
      "text/html": [
       "<div>\n",
       "<style scoped>\n",
       "    .dataframe tbody tr th:only-of-type {\n",
       "        vertical-align: middle;\n",
       "    }\n",
       "\n",
       "    .dataframe tbody tr th {\n",
       "        vertical-align: top;\n",
       "    }\n",
       "\n",
       "    .dataframe thead th {\n",
       "        text-align: right;\n",
       "    }\n",
       "</style>\n",
       "<table border=\"1\" class=\"dataframe\">\n",
       "  <thead>\n",
       "    <tr style=\"text-align: right;\">\n",
       "      <th></th>\n",
       "      <th>user_id</th>\n",
       "      <th>join_month</th>\n",
       "      <th>months_paid</th>\n",
       "      <th>rub_monthly_fee</th>\n",
       "      <th>1</th>\n",
       "      <th>2</th>\n",
       "      <th>3</th>\n",
       "      <th>4</th>\n",
       "      <th>5</th>\n",
       "      <th>6</th>\n",
       "      <th>7</th>\n",
       "      <th>8</th>\n",
       "      <th>9</th>\n",
       "      <th>10</th>\n",
       "      <th>11</th>\n",
       "      <th>12</th>\n",
       "    </tr>\n",
       "  </thead>\n",
       "  <tbody>\n",
       "    <tr>\n",
       "      <th>0</th>\n",
       "      <td>1000</td>\n",
       "      <td>5</td>\n",
       "      <td>8</td>\n",
       "      <td>1950</td>\n",
       "      <td>0</td>\n",
       "      <td>0</td>\n",
       "      <td>0</td>\n",
       "      <td>0</td>\n",
       "      <td>1950</td>\n",
       "      <td>1950</td>\n",
       "      <td>1950</td>\n",
       "      <td>1950</td>\n",
       "      <td>1950</td>\n",
       "      <td>1950</td>\n",
       "      <td>1950</td>\n",
       "      <td>1950</td>\n",
       "    </tr>\n",
       "    <tr>\n",
       "      <th>1</th>\n",
       "      <td>1001</td>\n",
       "      <td>11</td>\n",
       "      <td>2</td>\n",
       "      <td>550</td>\n",
       "      <td>0</td>\n",
       "      <td>0</td>\n",
       "      <td>0</td>\n",
       "      <td>0</td>\n",
       "      <td>0</td>\n",
       "      <td>0</td>\n",
       "      <td>0</td>\n",
       "      <td>0</td>\n",
       "      <td>0</td>\n",
       "      <td>0</td>\n",
       "      <td>550</td>\n",
       "      <td>550</td>\n",
       "    </tr>\n",
       "    <tr>\n",
       "      <th>2</th>\n",
       "      <td>1002</td>\n",
       "      <td>6</td>\n",
       "      <td>7</td>\n",
       "      <td>550</td>\n",
       "      <td>0</td>\n",
       "      <td>0</td>\n",
       "      <td>0</td>\n",
       "      <td>0</td>\n",
       "      <td>0</td>\n",
       "      <td>550</td>\n",
       "      <td>550</td>\n",
       "      <td>550</td>\n",
       "      <td>550</td>\n",
       "      <td>550</td>\n",
       "      <td>550</td>\n",
       "      <td>550</td>\n",
       "    </tr>\n",
       "    <tr>\n",
       "      <th>3</th>\n",
       "      <td>1003</td>\n",
       "      <td>8</td>\n",
       "      <td>5</td>\n",
       "      <td>1950</td>\n",
       "      <td>0</td>\n",
       "      <td>0</td>\n",
       "      <td>0</td>\n",
       "      <td>0</td>\n",
       "      <td>0</td>\n",
       "      <td>0</td>\n",
       "      <td>0</td>\n",
       "      <td>1950</td>\n",
       "      <td>1950</td>\n",
       "      <td>1950</td>\n",
       "      <td>1950</td>\n",
       "      <td>1950</td>\n",
       "    </tr>\n",
       "    <tr>\n",
       "      <th>4</th>\n",
       "      <td>1004</td>\n",
       "      <td>5</td>\n",
       "      <td>8</td>\n",
       "      <td>1950</td>\n",
       "      <td>0</td>\n",
       "      <td>0</td>\n",
       "      <td>0</td>\n",
       "      <td>0</td>\n",
       "      <td>1950</td>\n",
       "      <td>1950</td>\n",
       "      <td>1950</td>\n",
       "      <td>1950</td>\n",
       "      <td>1950</td>\n",
       "      <td>1950</td>\n",
       "      <td>1950</td>\n",
       "      <td>1950</td>\n",
       "    </tr>\n",
       "  </tbody>\n",
       "</table>\n",
       "</div>"
      ],
      "text/plain": [
       "   user_id  join_month  months_paid  rub_monthly_fee  1  2  3  4     5     6  \\\n",
       "0     1000           5            8             1950  0  0  0  0  1950  1950   \n",
       "1     1001          11            2              550  0  0  0  0     0     0   \n",
       "2     1002           6            7              550  0  0  0  0     0   550   \n",
       "3     1003           8            5             1950  0  0  0  0     0     0   \n",
       "4     1004           5            8             1950  0  0  0  0  1950  1950   \n",
       "\n",
       "      7     8     9    10    11    12  \n",
       "0  1950  1950  1950  1950  1950  1950  \n",
       "1     0     0     0     0   550   550  \n",
       "2   550   550   550   550   550   550  \n",
       "3     0  1950  1950  1950  1950  1950  \n",
       "4  1950  1950  1950  1950  1950  1950  "
      ]
     },
     "metadata": {},
     "output_type": "display_data"
    }
   ],
   "source": [
    "months =[i for i in range(1,13)]\n",
    "for month in months:      \n",
    "    fees_data_paid[month] = fees_data_paid.apply(paid_for_month_for_tariffs, axis=1, args = [month])\n",
    "display(fees_data_paid.head(5))\n",
    "\n"
   ]
  },
  {
   "cell_type": "markdown",
   "metadata": {},
   "source": [
    "\n",
    "Был выполнен подсчет суммы, которую уплатил клиент за пользованием тарифов в месяц, с учетом даты его подклчения и даты отключения(если клиент отключился от тарифа).\n",
    "\n",
    "---"
   ]
  },
  {
   "cell_type": "markdown",
   "metadata": {},
   "source": [
    "**Наконец необходимо рассчитать суммарную выручку**"
   ]
  },
  {
   "cell_type": "code",
   "execution_count": 38,
   "metadata": {},
   "outputs": [
    {
     "data": {
      "text/html": [
       "<div>\n",
       "<style scoped>\n",
       "    .dataframe tbody tr th:only-of-type {\n",
       "        vertical-align: middle;\n",
       "    }\n",
       "\n",
       "    .dataframe tbody tr th {\n",
       "        vertical-align: top;\n",
       "    }\n",
       "\n",
       "    .dataframe thead th {\n",
       "        text-align: right;\n",
       "    }\n",
       "</style>\n",
       "<table border=\"1\" class=\"dataframe\">\n",
       "  <thead>\n",
       "    <tr style=\"text-align: right;\">\n",
       "      <th></th>\n",
       "      <th>1</th>\n",
       "      <th>2</th>\n",
       "      <th>3</th>\n",
       "      <th>4</th>\n",
       "      <th>5</th>\n",
       "      <th>6</th>\n",
       "      <th>7</th>\n",
       "      <th>8</th>\n",
       "      <th>9</th>\n",
       "      <th>10</th>\n",
       "      <th>11</th>\n",
       "      <th>12</th>\n",
       "      <th>tariff_name</th>\n",
       "    </tr>\n",
       "    <tr>\n",
       "      <th>user_id</th>\n",
       "      <th></th>\n",
       "      <th></th>\n",
       "      <th></th>\n",
       "      <th></th>\n",
       "      <th></th>\n",
       "      <th></th>\n",
       "      <th></th>\n",
       "      <th></th>\n",
       "      <th></th>\n",
       "      <th></th>\n",
       "      <th></th>\n",
       "      <th></th>\n",
       "      <th></th>\n",
       "    </tr>\n",
       "  </thead>\n",
       "  <tbody>\n",
       "    <tr>\n",
       "      <th>1000</th>\n",
       "      <td>0</td>\n",
       "      <td>0</td>\n",
       "      <td>0</td>\n",
       "      <td>0</td>\n",
       "      <td>1950</td>\n",
       "      <td>1950</td>\n",
       "      <td>1950</td>\n",
       "      <td>1950</td>\n",
       "      <td>1950</td>\n",
       "      <td>1950</td>\n",
       "      <td>1950</td>\n",
       "      <td>1950</td>\n",
       "      <td>ultra</td>\n",
       "    </tr>\n",
       "    <tr>\n",
       "      <th>1001</th>\n",
       "      <td>0</td>\n",
       "      <td>0</td>\n",
       "      <td>0</td>\n",
       "      <td>0</td>\n",
       "      <td>0</td>\n",
       "      <td>0</td>\n",
       "      <td>0</td>\n",
       "      <td>0</td>\n",
       "      <td>0</td>\n",
       "      <td>0</td>\n",
       "      <td>950</td>\n",
       "      <td>550</td>\n",
       "      <td>smart</td>\n",
       "    </tr>\n",
       "    <tr>\n",
       "      <th>1002</th>\n",
       "      <td>0</td>\n",
       "      <td>0</td>\n",
       "      <td>0</td>\n",
       "      <td>0</td>\n",
       "      <td>0</td>\n",
       "      <td>550</td>\n",
       "      <td>950</td>\n",
       "      <td>1350</td>\n",
       "      <td>750</td>\n",
       "      <td>550</td>\n",
       "      <td>1150</td>\n",
       "      <td>950</td>\n",
       "      <td>smart</td>\n",
       "    </tr>\n",
       "    <tr>\n",
       "      <th>1003</th>\n",
       "      <td>0</td>\n",
       "      <td>0</td>\n",
       "      <td>0</td>\n",
       "      <td>0</td>\n",
       "      <td>0</td>\n",
       "      <td>0</td>\n",
       "      <td>0</td>\n",
       "      <td>1950</td>\n",
       "      <td>1950</td>\n",
       "      <td>1950</td>\n",
       "      <td>1950</td>\n",
       "      <td>1950</td>\n",
       "      <td>ultra</td>\n",
       "    </tr>\n",
       "    <tr>\n",
       "      <th>1004</th>\n",
       "      <td>0</td>\n",
       "      <td>0</td>\n",
       "      <td>0</td>\n",
       "      <td>0</td>\n",
       "      <td>1950</td>\n",
       "      <td>1950</td>\n",
       "      <td>1950</td>\n",
       "      <td>1950</td>\n",
       "      <td>1950</td>\n",
       "      <td>1950</td>\n",
       "      <td>1950</td>\n",
       "      <td>1950</td>\n",
       "      <td>ultra</td>\n",
       "    </tr>\n",
       "    <tr>\n",
       "      <th>1005</th>\n",
       "      <td>550</td>\n",
       "      <td>550</td>\n",
       "      <td>748</td>\n",
       "      <td>1039</td>\n",
       "      <td>694</td>\n",
       "      <td>730</td>\n",
       "      <td>643</td>\n",
       "      <td>784</td>\n",
       "      <td>556</td>\n",
       "      <td>1069</td>\n",
       "      <td>580</td>\n",
       "      <td>721</td>\n",
       "      <td>smart</td>\n",
       "    </tr>\n",
       "    <tr>\n",
       "      <th>1006</th>\n",
       "      <td>0</td>\n",
       "      <td>550</td>\n",
       "      <td>750</td>\n",
       "      <td>550</td>\n",
       "      <td>550</td>\n",
       "      <td>550</td>\n",
       "      <td>1350</td>\n",
       "      <td>1150</td>\n",
       "      <td>550</td>\n",
       "      <td>1350</td>\n",
       "      <td>550</td>\n",
       "      <td>1150</td>\n",
       "      <td>smart</td>\n",
       "    </tr>\n",
       "    <tr>\n",
       "      <th>1007</th>\n",
       "      <td>0</td>\n",
       "      <td>0</td>\n",
       "      <td>0</td>\n",
       "      <td>550</td>\n",
       "      <td>950</td>\n",
       "      <td>565</td>\n",
       "      <td>652</td>\n",
       "      <td>1550</td>\n",
       "      <td>874</td>\n",
       "      <td>550</td>\n",
       "      <td>637</td>\n",
       "      <td>550</td>\n",
       "      <td>smart</td>\n",
       "    </tr>\n",
       "    <tr>\n",
       "      <th>1008</th>\n",
       "      <td>0</td>\n",
       "      <td>0</td>\n",
       "      <td>0</td>\n",
       "      <td>0</td>\n",
       "      <td>0</td>\n",
       "      <td>0</td>\n",
       "      <td>0</td>\n",
       "      <td>0</td>\n",
       "      <td>0</td>\n",
       "      <td>0</td>\n",
       "      <td>0</td>\n",
       "      <td>568</td>\n",
       "      <td>smart</td>\n",
       "    </tr>\n",
       "    <tr>\n",
       "      <th>1009</th>\n",
       "      <td>0</td>\n",
       "      <td>0</td>\n",
       "      <td>550</td>\n",
       "      <td>550</td>\n",
       "      <td>550</td>\n",
       "      <td>550</td>\n",
       "      <td>2350</td>\n",
       "      <td>2150</td>\n",
       "      <td>1750</td>\n",
       "      <td>1350</td>\n",
       "      <td>750</td>\n",
       "      <td>1150</td>\n",
       "      <td>smart</td>\n",
       "    </tr>\n",
       "  </tbody>\n",
       "</table>\n",
       "</div>"
      ],
      "text/plain": [
       "           1    2    3     4     5     6     7     8     9    10    11    12  \\\n",
       "user_id                                                                        \n",
       "1000       0    0    0     0  1950  1950  1950  1950  1950  1950  1950  1950   \n",
       "1001       0    0    0     0     0     0     0     0     0     0   950   550   \n",
       "1002       0    0    0     0     0   550   950  1350   750   550  1150   950   \n",
       "1003       0    0    0     0     0     0     0  1950  1950  1950  1950  1950   \n",
       "1004       0    0    0     0  1950  1950  1950  1950  1950  1950  1950  1950   \n",
       "1005     550  550  748  1039   694   730   643   784   556  1069   580   721   \n",
       "1006       0  550  750   550   550   550  1350  1150   550  1350   550  1150   \n",
       "1007       0    0    0   550   950   565   652  1550   874   550   637   550   \n",
       "1008       0    0    0     0     0     0     0     0     0     0     0   568   \n",
       "1009       0    0  550   550   550   550  2350  2150  1750  1350   750  1150   \n",
       "\n",
       "        tariff_name  \n",
       "user_id              \n",
       "1000          ultra  \n",
       "1001          smart  \n",
       "1002          smart  \n",
       "1003          ultra  \n",
       "1004          ultra  \n",
       "1005          smart  \n",
       "1006          smart  \n",
       "1007          smart  \n",
       "1008          smart  \n",
       "1009          smart  "
      ]
     },
     "metadata": {},
     "output_type": "display_data"
    }
   ],
   "source": [
    "months =[i for i in range(1,13)]\n",
    "df_add = fees_data_paid.set_index('user_id')[months]\n",
    "df_add = df_add.add(sessions_data_paid.set_index('user_id')[months])\n",
    "df_add = df_add.add(messages_data_paid.set_index('user_id')[months])\n",
    "df_add = df_add.add(calls_data_paid.set_index('user_id')[months])\n",
    "df_add['tariff_name'] = calls_data_minutes.set_index('user_id')['tariff_name']\n",
    "display(df_add.head(10))\n",
    "# df_add - датафрем с суммарной выручкой по всем пользователям по месяцам.\n"
   ]
  },
  {
   "cell_type": "markdown",
   "metadata": {
    "scrolled": true
   },
   "source": [
    "### Вывод\n",
    "Таким образом были получены таблицы с кол-вом минут, сообщений и интернет-трафика в месяц для каждого пользователя. Также были посчитаны выручка от каждого пользователя за месяц для кол-ва минут, сообщений, интернет-трафика, абонентской платы. Суммируя данные о выручке, была получена таблица **df_add** полной выручки от каждого клиента за месяц. Полученный датафрейм будет использоваться для дальнейшего анализа данных."
   ]
  },
  {
   "cell_type": "markdown",
   "metadata": {},
   "source": [
    "## Проанализировать данные"
   ]
  },
  {
   "cell_type": "markdown",
   "metadata": {},
   "source": [
    " - Опишите поведение клиентов оператора, исходя из выборки.\n",
    " - Сколько минут разговора, сколько сообщений и какой объём интернет-трафика требуется пользователям каждого тарифа в месяц? \n",
    " - Посчитайте среднее количество, дисперсию и стандартное отклонение. Постройте гистограммы. Опишите распределения."
   ]
  },
  {
   "cell_type": "markdown",
   "metadata": {},
   "source": [
    "Начнем с исследования информации о звонках для пользователей разных тарифов"
   ]
  },
  {
   "cell_type": "code",
   "execution_count": 39,
   "metadata": {},
   "outputs": [
    {
     "data": {
      "image/png": "[encoded data removed]",
      "text/plain": [
       "<Figure size 432x288 with 1 Axes>"
      ]
     },
     "metadata": {
      "needs_background": "light"
     },
     "output_type": "display_data"
    },
    {
     "name": "stdout",
     "output_type": "stream",
     "text": [
      "Smart:\n",
      "Среднее: 387.9582307934027\n",
      "Медиана: 393.5\n",
      "Стандартное отклонение: 132.24528271677508\n",
      "Дисперсия: 17488.81480083977\n",
      "Ultra:\n",
      "Среднее: 503.6289695153331\n",
      "Медиана: 482.125\n",
      "Стандартное отклонение: 246.95924038219638\n",
      "Дисперсия: 60988.86641015145\n"
     ]
    }
   ],
   "source": [
    "smart_calls = calls_data_minutes.query('tariff_name == \"smart\"')[calls_data_minutes[months] != 0][months].mean(axis = 1)\n",
    "ultra_calls = calls_data_minutes.query('tariff_name == \"ultra\"')[calls_data_minutes[months] != 0][months].mean(axis = 1)\n",
    "smart_calls.plot( kind ='hist' ,bins = 25, alpha=0.7, label = 'smart')\n",
    "ultra_calls.plot( kind ='hist' ,bins = 25, alpha=0.7, label = 'ultra')\n",
    "plt.xlabel('минуты разговора в месяц')\n",
    "plt.title('распределение средней длительности разговоров пользователей тарифов smart и ultra в месяц')\n",
    "plt.legend(loc = 'upper right')\n",
    "plt.show()\n",
    "print('Smart:')\n",
    "print('Среднее: {}'.format(smart_calls.mean(axis = 0)))\n",
    "print('Медиана: {}'.format(smart_calls.median(axis = 0)))\n",
    "print('Стандартное отклонение: {}'.format(smart_calls.std(axis = 0)))\n",
    "print('Дисперсия: {}'.format(smart_calls.var(axis = 0)))\n",
    "print('Ultra:')\n",
    "print('Среднее: {}'.format(ultra_calls.mean(axis = 0)))\n",
    "print('Медиана: {}'.format(ultra_calls.median(axis = 0)))\n",
    "print('Стандартное отклонение: {}'.format(ultra_calls.std(axis = 0)))\n",
    "print('Дисперсия: {}'.format(ultra_calls.var(axis = 0)))"
   ]
  },
  {
   "cell_type": "code",
   "execution_count": 40,
   "metadata": {},
   "outputs": [
    {
     "data": {
      "image/png": "[encoded data removed]",
      "text/plain": [
       "<Figure size 432x288 with 1 Axes>"
      ]
     },
     "metadata": {
      "needs_background": "light"
     },
     "output_type": "display_data"
    }
   ],
   "source": [
    "ax = sns.boxplot(data=pd.DataFrame({'smart':smart_calls, 'ultra':ultra_calls}))\n",
    "plt.xlabel('тариф')\n",
    "plt.ylabel('минуты')\n",
    "plt.title('распределение средней длительности разговоров пользователей тарифов smart и ultra в месяц')\n",
    "plt.show()\n"
   ]
  },
  {
   "cell_type": "markdown",
   "metadata": {},
   "source": [
    "Узнаем какой % пользователей платит за использование доп.минут"
   ]
  },
  {
   "cell_type": "code",
   "execution_count": 41,
   "metadata": {},
   "outputs": [
    {
     "name": "stdout",
     "output_type": "stream",
     "text": [
      "% пользователей тарифа smart кот-ые платят за использование доп.минут 20.8\n",
      "% пользователей тарифа ultra кот-ые платят за использование доп.минут 0.0\n"
     ]
    }
   ],
   "source": [
    "print('% пользователей тарифа smart кот-ые платят за использование доп.минут',round(100 - st.percentileofscore(smart_calls.fillna(0), 500), 2))\n",
    "print('% пользователей тарифа ultra кот-ые платят за использование доп.минут',round(100 - st.percentileofscore(ultra_calls.fillna(0), 3000), 2))"
   ]
  },
  {
   "cell_type": "markdown",
   "metadata": {},
   "source": [
    "### Вывод\n",
    "Средняя длительность разговора для тарифа ultra больше, чем для smart, как видно из полученных значений средних. Обе гистограммы имеют форму приближенную к симметричной. По видам гистограмм можно сделать вывод, что длительность разговоров у тарифа smart более \"прижата\" к медианным значениям, в то время как для пользовотелей ultra длительность разговора более \"размазана\", т.е. пик не так сильно выражен, как для для тарифа smart. Также Об этом свидетельвует величины стандартных отклонений. 21% пользователя smart вынуждены доплачивать за использование доп.минут\n",
    "\n",
    "----"
   ]
  },
  {
   "cell_type": "markdown",
   "metadata": {},
   "source": [
    "Теперь рассмотрим информацию о сообщениях"
   ]
  },
  {
   "cell_type": "code",
   "execution_count": 42,
   "metadata": {},
   "outputs": [
    {
     "data": {
      "image/png": "[encoded data removed]",
      "text/plain": [
       "<Figure size 432x288 with 1 Axes>"
      ]
     },
     "metadata": {
      "needs_background": "light"
     },
     "output_type": "display_data"
    },
    {
     "name": "stdout",
     "output_type": "stream",
     "text": [
      "Smart:\n",
      "Среднее: 37.58\n",
      "Медиана: 33.00\n",
      "Стандартное отклонение: 24.85\n",
      "Дисперсия: 617.51\n",
      "Ultra:\n",
      "Среднее: 64.56\n",
      "Медиана: 57.80\n",
      "Стандартное отклонение: 43.39\n",
      "Дисперсия: 1882.75\n"
     ]
    }
   ],
   "source": [
    "# messages\n",
    "smart_messages = messages_data_amount.query('tariff_name == \"smart\"')[messages_data_amount[months] != 0][months].mean(axis = 1)\n",
    "ultra_messages = messages_data_amount.query('tariff_name == \"ultra\"')[messages_data_amount[months] != 0][months].mean(axis = 1)\n",
    "smart_messages.plot( kind ='hist' ,bins = 25, alpha=0.7, label = 'smart')\n",
    "ultra_messages.plot( kind ='hist' ,bins = 25, alpha=0.7, label = 'ultra')\n",
    "plt.xlabel('кол-во сообщений в месяц')\n",
    "plt.title('распределение среднего кол-ва сообщений пользователей тарифов smart и ultra в месяц')\n",
    "plt.legend(loc = 'upper right')\n",
    "plt.show()\n",
    "print('Smart:')\n",
    "print('Среднее: {:.2f}'.format(smart_messages.mean(axis = 0)))\n",
    "print('Медиана: {:.2f}'.format(smart_messages.median(axis = 0)))\n",
    "print('Стандартное отклонение: {:.2f}'.format(smart_messages.std(axis = 0)))\n",
    "print('Дисперсия: {:.2f}'.format(smart_messages.var(axis = 0)))\n",
    "print('Ultra:')\n",
    "print('Среднее: {:.2f}'.format(ultra_messages.mean(axis = 0)))\n",
    "print('Медиана: {:.2f}'.format(ultra_messages.median(axis = 0)))\n",
    "print('Стандартное отклонение: {:.2f}'.format(ultra_messages.std(axis = 0)))\n",
    "print('Дисперсия: {:.2f}'.format(ultra_messages.var(axis = 0)))"
   ]
  },
  {
   "cell_type": "code",
   "execution_count": 43,
   "metadata": {},
   "outputs": [
    {
     "data": {
      "image/png": "[encoded data removed]",
      "text/plain": [
       "<Figure size 432x288 with 1 Axes>"
      ]
     },
     "metadata": {
      "needs_background": "light"
     },
     "output_type": "display_data"
    }
   ],
   "source": [
    "ax = sns.boxplot(data=pd.DataFrame({'smart':smart_messages, 'ultra':ultra_messages}))\n",
    "plt.xlabel('тариф')\n",
    "plt.ylabel('кол-во сообщений')\n",
    "plt.title('распределение среднего кол-ва сообщений пользователей тарифов smart и ultra в месяц')\n",
    "plt.show()\n"
   ]
  },
  {
   "cell_type": "code",
   "execution_count": 44,
   "metadata": {},
   "outputs": [
    {
     "name": "stdout",
     "output_type": "stream",
     "text": [
      "% пользователей тарифа smart кот-ые платят за использование доп.смс 23.08\n",
      "% пользователей тарифа ultra кот-ые платят за использование доп.смс 0.0\n"
     ]
    }
   ],
   "source": [
    "print('% пользователей тарифа smart кот-ые платят за использование доп.смс',round(100 - st.percentileofscore(smart_messages.fillna(0), 50),2))\n",
    "print('% пользователей тарифа ultra кот-ые платят за использование доп.смс',round(100 - st.percentileofscore(ultra_messages.fillna(0), 1000),2))\n"
   ]
  },
  {
   "cell_type": "markdown",
   "metadata": {},
   "source": [
    "### Вывод\n",
    "Среднее количество сообщений для тарифа ultra больше, чем для smart почти в 2 раза. Аналогично для гистограмм средней длительности разговора видно, что размах выборки для ultra больше. 23% пользователей smart вынуждены доплачивать за превышение избытка сообщений в месяц\n",
    "\n",
    "---"
   ]
  },
  {
   "cell_type": "markdown",
   "metadata": {},
   "source": [
    "Осталось исследовать данные о интернет-трафике клиентов различных тарифов."
   ]
  },
  {
   "cell_type": "code",
   "execution_count": 45,
   "metadata": {},
   "outputs": [
    {
     "data": {
      "image/png": "[encoded data removed]",
      "text/plain": [
       "<Figure size 432x288 with 1 Axes>"
      ]
     },
     "metadata": {
      "needs_background": "light"
     },
     "output_type": "display_data"
    },
    {
     "name": "stdout",
     "output_type": "stream",
     "text": [
      "Smart:\n",
      "Среднее: 16177.68\n",
      "Медиана: 16256.50\n",
      "Стандартное отклонение: 3574.47\n",
      "Дисперсия: 12776854.00\n",
      "Ultra:\n",
      "Среднее: 19710.01\n",
      "Медиана: 18814.00\n",
      "Стандартное отклонение: 8163.95\n",
      "Дисперсия: 66650013.17\n"
     ]
    }
   ],
   "source": [
    "# sessions\n",
    "smart_sessions = sessions_data_mb.query('tariff_name == \"smart\"')[sessions_data_mb[months] != 0][months].mean(axis = 1)\n",
    "ultra_sessions = sessions_data_mb.query('tariff_name == \"ultra\"')[sessions_data_mb[months] != 0][months].mean(axis = 1)\n",
    "smart_sessions.plot( kind ='hist' ,bins = 25, alpha=0.7, label = 'smart')\n",
    "ultra_sessions.plot( kind ='hist' ,bins = 25, alpha=0.7, label = 'ultra')\n",
    "plt.xlabel('кол-во интернет-трафика в мб в месяц')\n",
    "plt.title('распределение  среднего кол-ва интернет-трафика в мб пользователей тарифов smart и ultra в месяц')\n",
    "plt.legend(loc = 'upper right')\n",
    "plt.show()\n",
    "print('Smart:')\n",
    "print('Среднее: {:.2f}'.format(smart_sessions.mean(axis = 0)))\n",
    "print('Медиана: {:.2f}'.format(smart_sessions.median(axis = 0)))\n",
    "print('Стандартное отклонение: {:.2f}'.format(smart_sessions.std(axis = 0)))\n",
    "print('Дисперсия: {:.2f}'.format(smart_sessions.var(axis = 0)))\n",
    "print('Ultra:')\n",
    "print('Среднее: {:.2f}'.format(ultra_sessions.mean(axis = 0)))\n",
    "print('Медиана: {:.2f}'.format(ultra_sessions.median(axis = 0)))\n",
    "print('Стандартное отклонение: {:.2f}'.format(ultra_sessions.std(axis = 0)))\n",
    "print('Дисперсия: {:.2f}'.format(ultra_sessions.var(axis = 0)))"
   ]
  },
  {
   "cell_type": "code",
   "execution_count": 46,
   "metadata": {},
   "outputs": [
    {
     "data": {
      "image/png": "[encoded data removed]",
      "text/plain": [
       "<Figure size 432x288 with 1 Axes>"
      ]
     },
     "metadata": {
      "needs_background": "light"
     },
     "output_type": "display_data"
    }
   ],
   "source": [
    "ax = sns.boxplot(data=pd.DataFrame({'smart':smart_calls, 'ultra':ultra_calls}))\n",
    "plt.xlabel('тариф')\n",
    "plt.ylabel('мб')\n",
    "plt.title('распределение  среднего кол-ва интернет-трафика в мб пользователей тарифов smart и ultra в месяц')\n",
    "plt.show()"
   ]
  },
  {
   "cell_type": "code",
   "execution_count": 47,
   "metadata": {},
   "outputs": [
    {
     "name": "stdout",
     "output_type": "stream",
     "text": [
      "61.25356125356125\n",
      "17.37891737891738\n",
      "11.40939597315436\n"
     ]
    }
   ],
   "source": [
    "print(100 - st.percentileofscore(smart_sessions.fillna(0), 15360))\n",
    "print(100 - st.percentileofscore(smart_sessions.fillna(0), 19456))\n",
    "print(100 - st.percentileofscore(ultra_sessions.fillna(0), 30620))"
   ]
  },
  {
   "cell_type": "markdown",
   "metadata": {},
   "source": [
    "### Вывод\n",
    "Среднее кол-во интернет трафика израсходованного пользователями ultra больше чем пользователями smart, но различия уже не такие большие, как для сообщений и минут звонков. Интересно заметить, что более половины пользователей (~61%) smart не хватает 15гб трафика, если бы лимита было 19гб, то его хватило бы 83% пользователей. Для пользователей ultra тем кому не хватает трафика меньше, их ~13%.\n",
    "\n",
    "\n",
    "---"
   ]
  },
  {
   "cell_type": "markdown",
   "metadata": {},
   "source": [
    "## Проверка гипотез\n",
    "1) средняя выручка пользователей тарифов «Ультра» и «Смарт» различается;\n",
    "\n",
    "2) средняя выручка пользователей из Москвы отличается от выручки пользователей из других регионов;\n",
    "\n",
    "\n",
    "    Пороговое значение alpha задайте самостоятельно.\n",
    "    Поясните:\n",
    "    как вы формулировали нулевую и альтернативную гипотезы;\n",
    "    какой критерий использовали для проверки гипотез и почему."
   ]
  },
  {
   "cell_type": "markdown",
   "metadata": {},
   "source": [
    "Зададим уровень статистической значимости равному 0.05"
   ]
  },
  {
   "cell_type": "code",
   "execution_count": 50,
   "metadata": {},
   "outputs": [],
   "source": [
    "alpha = 0.05"
   ]
  },
  {
   "cell_type": "markdown",
   "metadata": {},
   "source": [
    "Проверим первую гипотезу:\n",
    "\n",
    "*Cредняя выручка пользователей тарифов «Ультра» и «Смарт» различается*\n",
    "\n",
    "**Нулевая гипотеза** - средние обоих выборок равны между собой.\n",
    "\n",
    "\n",
    "**Альтернативная** - средние обоих выборок  не равны между собой.\n",
    "\n",
    "\n",
    "Для проверки гипотезы использовался t-критерий для двух независимых выборок.\n",
    "    Параметр qual_var = False, т.к очевидно, что дисперсии выборок сильно различаются. \n"
   ]
  },
  {
   "cell_type": "code",
   "execution_count": 51,
   "metadata": {},
   "outputs": [
    {
     "name": "stdout",
     "output_type": "stream",
     "text": [
      "p-значение: 5.092406510227335e-62\n",
      "Отвергаем нулевую гипотезу\n"
     ]
    }
   ],
   "source": [
    "smart_mean_paid_monthly = df_add.query('tariff_name == \"smart\"')[df_add[months] != 0][months].mean(axis = 1)\n",
    "ultra_mean_paid_monthly = df_add.query('tariff_name == \"ultra\"')[df_add[months] != 0][months].mean(axis = 1)\n",
    "results = st.ttest_ind(\n",
    "    smart_mean_paid_monthly, \n",
    "    ultra_mean_paid_monthly)\n",
    "\n",
    "print('p-значение:', results.pvalue)\n",
    "\n",
    "if (results.pvalue < alpha):\n",
    "    print(\"Отвергаем нулевую гипотезу\")\n",
    "else:\n",
    "    print(\"Не получилось отвергнуть нулевую гипотезу\")"
   ]
  },
  {
   "cell_type": "code",
   "execution_count": 52,
   "metadata": {},
   "outputs": [
    {
     "data": {
      "image/png": "[encoded data removed]",
      "text/plain": [
       "<Figure size 432x288 with 1 Axes>"
      ]
     },
     "metadata": {
      "needs_background": "light"
     },
     "output_type": "display_data"
    }
   ],
   "source": [
    "ax = sns.boxplot(data=pd.DataFrame({'smart':smart_mean_paid_monthly, 'ultra':ultra_mean_paid_monthly}))\n",
    "plt.xlabel('тариф')\n",
    "plt.ylabel('руб')\n",
    "plt.title('распределение  средней выручки от тарифов smart и ultra в месяц')\n",
    "plt.show()"
   ]
  },
  {
   "cell_type": "markdown",
   "metadata": {},
   "source": [
    "### Вывод\n",
    "При заданном уровне значимости нулевая гипотеза была отврегнута. Что вполне соответсвует гистограммам разамаха для выручек от представленных тарифов.\n",
    "\n",
    "\n",
    "---"
   ]
  },
  {
   "cell_type": "markdown",
   "metadata": {},
   "source": [
    "Проверим вторую гипотезу:\n",
    "\n",
    "*Средняя выручка пользователей из Москвы отличается от выручки пользователей из других регионов.*\n",
    "\n",
    "**Нулевая гипотеза** - средние обоих выборок равны между собой.\n",
    "\n",
    "\n",
    "**Альтернативная** - средние обоих выборок не равны между собой..\n",
    "\n",
    "\n",
    "Для проверки гипотезы использовался t-критерий для двух независимых выборок.\n",
    "    Параметр qual_var = False, т.к нет уверенности, что выборки взяты из схожих по параметрам совокупностей. "
   ]
  },
  {
   "cell_type": "code",
   "execution_count": 53,
   "metadata": {},
   "outputs": [
    {
     "name": "stdout",
     "output_type": "stream",
     "text": [
      "count      99.000000\n",
      "mean     1387.895203\n",
      "std       609.661161\n",
      "min       550.000000\n",
      "25%       829.166667\n",
      "50%      1385.250000\n",
      "75%      1950.000000\n",
      "max      2741.000000\n",
      "dtype: float64\n",
      "count     401.000000\n",
      "mean     1438.305273\n",
      "std       642.296019\n",
      "min       550.000000\n",
      "25%       849.500000\n",
      "50%      1378.888889\n",
      "75%      1950.000000\n",
      "max      4059.000000\n",
      "dtype: float64\n",
      "p-значение: 0.46716450606912197\n",
      "Не получилось отвергнуть нулевую гипотезу\n"
     ]
    }
   ],
   "source": [
    "#\n",
    "df_add['city']=users_data.set_index('user_id')['city']\n",
    "# print(df_add.head(5))\n",
    "moscow_users = df_add.query('city == \"Москва\"')[df_add[months] != 0][months].mean(axis = 1)\n",
    "other_users = df_add.query('city != \"Москва\"')[df_add[months] != 0][months].mean(axis = 1)\n",
    "print(moscow_users.describe())\n",
    "print(other_users.describe())\n",
    "\n",
    "results = st.ttest_ind(\n",
    "    moscow_users, \n",
    "    other_users, equal_var = False)\n",
    "\n",
    "print('p-значение:', results.pvalue)\n",
    "\n",
    "if (results.pvalue < alpha):\n",
    "    print(\"Отвергаем нулевую гипотезу\")\n",
    "else:\n",
    "    print(\"Не получилось отвергнуть нулевую гипотезу\")"
   ]
  },
  {
   "cell_type": "code",
   "execution_count": 54,
   "metadata": {},
   "outputs": [
    {
     "data": {
      "image/png": "[encoded data removed]",
      "text/plain": [
       "<Figure size 432x288 with 1 Axes>"
      ]
     },
     "metadata": {
      "needs_background": "light"
     },
     "output_type": "display_data"
    }
   ],
   "source": [
    "ax = sns.boxplot(data=pd.DataFrame({'moscow':moscow_users, 'other':other_users}))\n",
    "plt.xlabel('тариф')\n",
    "plt.ylabel('руб')\n",
    "plt.title('распределение  средней выручки от пользователей из Москвы и других регионов')\n",
    "plt.show()"
   ]
  },
  {
   "cell_type": "markdown",
   "metadata": {},
   "source": [
    "### Вывод"
   ]
  },
  {
   "cell_type": "markdown",
   "metadata": {},
   "source": [
    "При заданном уровне значимости нулевую гипотезу отврегнуть не получилось. Что вполне соответсвует гистограммам размаха для выручек от представленных тарифов.\n",
    "\n",
    "\n",
    "---"
   ]
  },
  {
   "cell_type": "markdown",
   "metadata": {},
   "source": [
    "## Общий итог"
   ]
  },
  {
   "cell_type": "markdown",
   "metadata": {},
   "source": [
    "В ходе выполнения проекта был произведен исследовательский анализ данных, в результате, которого были предположены причины пропусков в данных, а также были предложены методы их заполнения. Были построены датафреймы, которые позволяют узнать информацию о суммарной выручки по месяцам для каждого клиента. На основе полученных данных были получены распределения использование звонков, сообщений и интернета клиентами различных тарифов. Затем были выдвинуты и проверены статистические гипотезы:\n",
    " - *Cредняя выручка пользователей тарифов «Ультра» и «Смарт» различается*\n",
    " - *Средняя выручка пользователей из Москвы отличается от выручки пользователей из других регионов.*\n",
    " \n",
    "В результате выполнения t-тестов для независимых выборок удалось отвергнуть первую гипотезу о том, что средняя выручка для пользователей разных тарифов отличается, но гипотезу о различных выручках между Москвой и другими регионами отвергнуть не удалось.\n",
    "\n",
    "Таким образом, можно сказать, что тариф **ultra** приносит больше выручки в месяц, его продвижение должно принести компании больше приыбли.\n"
   ]
  },
  {
   "cell_type": "code",
   "execution_count": null,
   "metadata": {},
   "outputs": [],
   "source": []
  }
 ],
 "metadata": {
  "ExecuteTimeLog": [
   {
    "duration": 1379,
    "start_time": "2023-11-16T13:53:59.660Z"
   },
   {
    "duration": 1259,
    "start_time": "2023-11-16T13:54:02.047Z"
   },
   {
    "duration": 86,
    "start_time": "2023-11-16T13:55:05.822Z"
   },
   {
    "duration": 272,
    "start_time": "2023-11-16T13:55:38.209Z"
   },
   {
    "duration": 72,
    "start_time": "2023-11-16T13:55:42.942Z"
   },
   {
    "duration": 65,
    "start_time": "2023-11-16T13:57:06.697Z"
   },
   {
    "duration": 68,
    "start_time": "2023-11-16T13:58:28.166Z"
   },
   {
    "duration": 85,
    "start_time": "2023-11-16T13:59:01.515Z"
   },
   {
    "duration": 145,
    "start_time": "2023-11-16T14:00:46.220Z"
   },
   {
    "duration": 57,
    "start_time": "2023-11-16T14:00:59.766Z"
   },
   {
    "duration": 50,
    "start_time": "2023-11-16T14:01:47.124Z"
   },
   {
    "duration": 28,
    "start_time": "2023-11-16T14:03:41.951Z"
   },
   {
    "duration": 4,
    "start_time": "2023-11-16T14:06:13.101Z"
   },
   {
    "duration": 28,
    "start_time": "2023-11-16T14:13:56.920Z"
   },
   {
    "duration": 108,
    "start_time": "2023-11-16T14:14:09.525Z"
   },
   {
    "duration": 24,
    "start_time": "2023-11-16T14:14:14.737Z"
   },
   {
    "duration": 203,
    "start_time": "2023-11-16T14:14:45.430Z"
   },
   {
    "duration": 3,
    "start_time": "2023-11-16T14:17:58.902Z"
   },
   {
    "duration": 1204,
    "start_time": "2023-11-16T14:17:59.449Z"
   },
   {
    "duration": 196,
    "start_time": "2023-11-16T14:18:17.964Z"
   },
   {
    "duration": 272,
    "start_time": "2023-11-16T14:21:11.665Z"
   },
   {
    "duration": 236,
    "start_time": "2023-11-16T14:21:29.107Z"
   },
   {
    "duration": 15,
    "start_time": "2023-11-16T14:25:26.011Z"
   },
   {
    "duration": 93,
    "start_time": "2023-11-16T14:27:21.071Z"
   },
   {
    "duration": 24,
    "start_time": "2023-11-16T14:27:42.212Z"
   },
   {
    "duration": 56,
    "start_time": "2023-11-16T14:27:47.261Z"
   },
   {
    "duration": 58,
    "start_time": "2023-11-16T14:30:01.731Z"
   },
   {
    "duration": 7,
    "start_time": "2023-11-16T14:31:14.736Z"
   },
   {
    "duration": 12,
    "start_time": "2023-11-16T14:31:24.032Z"
   },
   {
    "duration": 8,
    "start_time": "2023-11-16T14:31:34.901Z"
   },
   {
    "duration": 129,
    "start_time": "2023-11-16T14:32:52.673Z"
   },
   {
    "duration": 49,
    "start_time": "2023-11-16T14:33:22.407Z"
   },
   {
    "duration": 49,
    "start_time": "2023-11-16T14:33:25.832Z"
   },
   {
    "duration": 16,
    "start_time": "2023-11-16T14:33:29.647Z"
   },
   {
    "duration": 9,
    "start_time": "2023-11-16T14:35:13.183Z"
   },
   {
    "duration": 7,
    "start_time": "2023-11-16T14:35:29.670Z"
   },
   {
    "duration": 8,
    "start_time": "2023-11-16T14:36:11.378Z"
   },
   {
    "duration": 15,
    "start_time": "2023-11-16T14:37:26.698Z"
   },
   {
    "duration": 13,
    "start_time": "2023-11-16T14:37:35.734Z"
   },
   {
    "duration": 5,
    "start_time": "2023-11-16T14:38:28.121Z"
   },
   {
    "duration": 27,
    "start_time": "2023-11-16T14:44:43.057Z"
   },
   {
    "duration": 71,
    "start_time": "2023-11-16T14:44:47.220Z"
   },
   {
    "duration": 33,
    "start_time": "2023-11-16T14:44:54.765Z"
   },
   {
    "duration": 7,
    "start_time": "2023-11-16T14:45:18.116Z"
   },
   {
    "duration": 6,
    "start_time": "2023-11-16T14:45:24.909Z"
   },
   {
    "duration": 58,
    "start_time": "2023-11-16T14:47:01.440Z"
   },
   {
    "duration": 101,
    "start_time": "2023-11-16T14:47:59.068Z"
   },
   {
    "duration": 30,
    "start_time": "2023-11-16T14:48:11.320Z"
   },
   {
    "duration": 33,
    "start_time": "2023-11-16T14:48:19.298Z"
   },
   {
    "duration": 97,
    "start_time": "2023-11-16T14:48:38.649Z"
   },
   {
    "duration": 5,
    "start_time": "2023-11-16T14:51:18.382Z"
   },
   {
    "duration": 107,
    "start_time": "2023-11-16T14:51:27.887Z"
   },
   {
    "duration": 35,
    "start_time": "2023-11-16T14:53:34.415Z"
   },
   {
    "duration": 16,
    "start_time": "2023-11-16T14:54:38.198Z"
   },
   {
    "duration": 5,
    "start_time": "2023-11-16T14:54:53.162Z"
   },
   {
    "duration": 119,
    "start_time": "2023-11-16T14:54:53.782Z"
   },
   {
    "duration": 157,
    "start_time": "2023-11-16T14:54:58.520Z"
   },
   {
    "duration": 21,
    "start_time": "2023-11-16T14:56:27.604Z"
   },
   {
    "duration": 22,
    "start_time": "2023-11-16T14:56:35.382Z"
   },
   {
    "duration": 37,
    "start_time": "2023-11-16T14:57:26.909Z"
   },
   {
    "duration": 23,
    "start_time": "2023-11-16T14:57:36.306Z"
   },
   {
    "duration": 13,
    "start_time": "2023-11-16T14:57:50.305Z"
   },
   {
    "duration": 28,
    "start_time": "2023-11-16T14:58:19.562Z"
   },
   {
    "duration": 1615,
    "start_time": "2023-11-16T14:58:25.333Z"
   },
   {
    "duration": 157,
    "start_time": "2023-11-16T14:58:33.528Z"
   },
   {
    "duration": 14,
    "start_time": "2023-11-16T14:58:46.980Z"
   },
   {
    "duration": 5,
    "start_time": "2023-11-16T14:58:58.612Z"
   },
   {
    "duration": 117,
    "start_time": "2023-11-16T14:59:03.214Z"
   },
   {
    "duration": 8,
    "start_time": "2023-11-16T15:00:36.122Z"
   },
   {
    "duration": 7,
    "start_time": "2023-11-16T15:00:47.648Z"
   },
   {
    "duration": 149,
    "start_time": "2023-11-16T15:00:53.263Z"
   },
   {
    "duration": 27,
    "start_time": "2023-11-16T15:02:24.420Z"
   },
   {
    "duration": 88,
    "start_time": "2023-11-16T15:05:13.992Z"
   },
   {
    "duration": 324,
    "start_time": "2023-11-16T15:06:15.364Z"
   },
   {
    "duration": 5,
    "start_time": "2023-11-16T15:11:17.014Z"
   },
   {
    "duration": 116,
    "start_time": "2023-11-16T15:16:18.276Z"
   },
   {
    "duration": 14,
    "start_time": "2023-11-16T15:16:29.823Z"
   },
   {
    "duration": 287,
    "start_time": "2023-11-16T15:16:35.631Z"
   },
   {
    "duration": 144,
    "start_time": "2023-11-16T15:16:36.358Z"
   },
   {
    "duration": 6,
    "start_time": "2023-11-16T15:16:38.025Z"
   },
   {
    "duration": 6,
    "start_time": "2023-11-16T15:17:28.946Z"
   },
   {
    "duration": 7,
    "start_time": "2023-11-16T15:17:44.964Z"
   },
   {
    "duration": 13,
    "start_time": "2023-11-16T15:19:31.055Z"
   },
   {
    "duration": 272,
    "start_time": "2023-11-16T15:19:34.372Z"
   },
   {
    "duration": 141,
    "start_time": "2023-11-16T15:19:34.907Z"
   },
   {
    "duration": 6,
    "start_time": "2023-11-16T15:19:35.732Z"
   },
   {
    "duration": 241,
    "start_time": "2023-11-16T15:19:40.184Z"
   },
   {
    "duration": 6,
    "start_time": "2023-11-16T15:19:40.624Z"
   },
   {
    "duration": 8,
    "start_time": "2023-11-16T15:20:25.383Z"
   },
   {
    "duration": 2,
    "start_time": "2023-11-16T15:21:33.071Z"
   },
   {
    "duration": 4,
    "start_time": "2023-11-16T15:22:37.832Z"
   },
   {
    "duration": 1350,
    "start_time": "2023-11-17T06:18:56.429Z"
   },
   {
    "duration": 1144,
    "start_time": "2023-11-17T06:18:59.164Z"
   },
   {
    "duration": 68,
    "start_time": "2023-11-17T06:19:00.310Z"
   },
   {
    "duration": 170,
    "start_time": "2023-11-17T06:19:00.380Z"
   },
   {
    "duration": 88,
    "start_time": "2023-11-17T06:19:00.553Z"
   },
   {
    "duration": 8,
    "start_time": "2023-11-17T06:19:00.714Z"
   },
   {
    "duration": 20,
    "start_time": "2023-11-17T06:19:00.886Z"
   },
   {
    "duration": 90,
    "start_time": "2023-11-17T06:19:01.696Z"
   },
   {
    "duration": 203,
    "start_time": "2023-11-17T06:19:02.910Z"
   },
   {
    "duration": 28,
    "start_time": "2023-11-17T06:19:03.705Z"
   },
   {
    "duration": 202,
    "start_time": "2023-11-17T06:19:04.102Z"
   },
   {
    "duration": 3,
    "start_time": "2023-11-17T06:19:05.163Z"
   },
   {
    "duration": 1936,
    "start_time": "2023-11-17T06:19:05.438Z"
   },
   {
    "duration": 191,
    "start_time": "2023-11-17T06:19:07.376Z"
   },
   {
    "duration": 259,
    "start_time": "2023-11-17T06:19:07.570Z"
   },
   {
    "duration": 234,
    "start_time": "2023-11-17T06:19:07.832Z"
   },
   {
    "duration": 1579,
    "start_time": "2023-11-17T06:19:08.068Z"
   },
   {
    "duration": 55,
    "start_time": "2023-11-17T06:19:09.649Z"
   },
   {
    "duration": 26,
    "start_time": "2023-11-17T06:19:09.705Z"
   },
   {
    "duration": 8,
    "start_time": "2023-11-17T06:19:09.733Z"
   },
   {
    "duration": 4,
    "start_time": "2023-11-17T06:19:10.305Z"
   },
   {
    "duration": 15,
    "start_time": "2023-11-17T06:19:10.735Z"
   },
   {
    "duration": 44,
    "start_time": "2023-11-17T06:19:11.156Z"
   },
   {
    "duration": 38,
    "start_time": "2023-11-17T06:19:11.621Z"
   },
   {
    "duration": 4,
    "start_time": "2023-11-17T06:19:12.895Z"
   },
   {
    "duration": 112,
    "start_time": "2023-11-17T06:19:13.356Z"
   },
   {
    "duration": 27,
    "start_time": "2023-11-17T06:19:14.817Z"
   },
   {
    "duration": 15,
    "start_time": "2023-11-17T06:19:15.163Z"
   },
   {
    "duration": 4,
    "start_time": "2023-11-17T06:19:15.681Z"
   },
   {
    "duration": 89,
    "start_time": "2023-11-17T06:19:16.363Z"
   },
   {
    "duration": 27,
    "start_time": "2023-11-17T06:19:18.194Z"
   },
   {
    "duration": 15,
    "start_time": "2023-11-17T06:19:18.774Z"
   },
   {
    "duration": 3,
    "start_time": "2023-11-17T06:19:19.292Z"
   },
   {
    "duration": 90,
    "start_time": "2023-11-17T06:19:19.623Z"
   },
   {
    "duration": 7,
    "start_time": "2023-11-17T06:19:20.554Z"
   },
   {
    "duration": 3,
    "start_time": "2023-11-17T06:19:20.951Z"
   },
   {
    "duration": 98,
    "start_time": "2023-11-17T06:19:21.247Z"
   },
   {
    "duration": 23,
    "start_time": "2023-11-17T06:19:23.405Z"
   },
   {
    "duration": 282,
    "start_time": "2023-11-17T06:19:28.221Z"
   },
   {
    "duration": 153,
    "start_time": "2023-11-17T06:19:28.720Z"
   },
   {
    "duration": 7,
    "start_time": "2023-11-17T06:19:29.629Z"
   },
   {
    "duration": 253,
    "start_time": "2023-11-17T06:19:31.116Z"
   },
   {
    "duration": 209,
    "start_time": "2023-11-17T06:19:31.632Z"
   },
   {
    "duration": 5,
    "start_time": "2023-11-17T06:19:32.492Z"
   },
   {
    "duration": 262,
    "start_time": "2023-11-17T06:19:33.878Z"
   },
   {
    "duration": 147,
    "start_time": "2023-11-17T06:19:34.333Z"
   },
   {
    "duration": 5,
    "start_time": "2023-11-17T06:19:34.831Z"
   },
   {
    "duration": 109,
    "start_time": "2023-11-17T06:53:05.059Z"
   },
   {
    "duration": 126,
    "start_time": "2023-11-17T06:53:15.909Z"
   },
   {
    "duration": 3,
    "start_time": "2023-11-17T06:53:23.928Z"
   },
   {
    "duration": 17,
    "start_time": "2023-11-17T06:53:24.611Z"
   },
   {
    "duration": 115,
    "start_time": "2023-11-17T06:53:25.071Z"
   },
   {
    "duration": 24,
    "start_time": "2023-11-17T06:53:26.568Z"
   },
   {
    "duration": 124,
    "start_time": "2023-11-17T06:53:28.378Z"
   },
   {
    "duration": 403,
    "start_time": "2023-11-17T07:08:12.721Z"
   },
   {
    "duration": 2087,
    "start_time": "2023-11-17T07:09:54.760Z"
   }
  ],
  "kernelspec": {
   "display_name": "Python 3 (ipykernel)",
   "language": "python",
   "name": "python3"
  },
  "language_info": {
   "codemirror_mode": {
    "name": "ipython",
    "version": 3
   },
   "file_extension": ".py",
   "mimetype": "text/x-python",
   "name": "python",
   "nbconvert_exporter": "python",
   "pygments_lexer": "ipython3",
   "version": "3.9.18"
  },
  "toc": {
   "base_numbering": 1,
   "nav_menu": {},
   "number_sections": true,
   "sideBar": true,
   "skip_h1_title": true,
   "title_cell": "Table of Contents",
   "title_sidebar": "Contents",
   "toc_cell": false,
   "toc_position": {},
   "toc_section_display": true,
   "toc_window_display": false
  }
 },
 "nbformat": 4,
 "nbformat_minor": 4
}

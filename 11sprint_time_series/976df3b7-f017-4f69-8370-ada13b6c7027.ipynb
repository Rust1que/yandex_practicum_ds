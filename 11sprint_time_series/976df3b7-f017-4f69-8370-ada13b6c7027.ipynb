{
 "cells": [
  {
   "cell_type": "markdown",
   "metadata": {},
   "source": [
    "# Описание проекта\n",
    "\n",
    "Компания «Чётенькое такси» собрала исторические данные о заказах такси в аэропортах. Чтобы привлекать больше водителей в период пиковой нагрузки, нужно спрогнозировать количество заказов такси на следующий час. Постройте модель для такого предсказания.\n",
    "\n",
    "Значение метрики *RMSE* на тестовой выборке должно быть не больше 48.\n",
    "\n",
    "**Инструкция по выполнению проекта**\n",
    "\n",
    "1. Загрузите данные и выполните их ресемплирование по одному часу.\n",
    "2. Проанализируйте данные.\n",
    "3. Обучите разные модели с различными гиперпараметрами. Сделайте тестовую выборку размером 10% от исходных данных.\n",
    "4. Проверьте данные на тестовой выборке и сделайте выводы.\n",
    "\n",
    "**Описание данных**\n",
    "\n",
    "Данные лежат в файле `taxi.csv`. Количество заказов находится в столбце '*num_orders*' (от англ. *number of orders*, «число заказов»)."
   ]
  },
  {
   "cell_type": "markdown",
   "metadata": {},
   "source": [
    "## Подготовка"
   ]
  },
  {
   "cell_type": "code",
   "execution_count": 2,
   "metadata": {},
   "outputs": [],
   "source": [
    "import pandas as pd\n",
    "from statsmodels.tsa.seasonal import seasonal_decompose\n",
    "from sklearn.model_selection import train_test_split\n",
    "import matplotlib.pyplot as plt\n",
    "from sklearn.linear_model import LinearRegression\n",
    "from sklearn.metrics import mean_absolute_error\n",
    "from sklearn.metrics import mean_squared_error\n",
    "from sklearn.ensemble import RandomForestRegressor\n",
    "from sklearn.model_selection import RandomizedSearchCV\n",
    "from sklearn.model_selection import ParameterGrid\n",
    "import lightgbm as lgb"
   ]
  },
  {
   "cell_type": "markdown",
   "metadata": {},
   "source": [
    "Загрузим и ищучим данные"
   ]
  },
  {
   "cell_type": "code",
   "execution_count": 3,
   "metadata": {},
   "outputs": [],
   "source": [
    "data = pd.read_csv('/datasets/taxi.csv', index_col=[0], parse_dates=[0])\n",
    "data.sort_index(inplace=True)"
   ]
  },
  {
   "cell_type": "markdown",
   "metadata": {},
   "source": [
    "Произведем ресемплирование данных по часовому интервалу"
   ]
  },
  {
   "cell_type": "code",
   "execution_count": 4,
   "metadata": {},
   "outputs": [
    {
     "data": {
      "text/html": [
       "<div>\n",
       "<style scoped>\n",
       "    .dataframe tbody tr th:only-of-type {\n",
       "        vertical-align: middle;\n",
       "    }\n",
       "\n",
       "    .dataframe tbody tr th {\n",
       "        vertical-align: top;\n",
       "    }\n",
       "\n",
       "    .dataframe thead th {\n",
       "        text-align: right;\n",
       "    }\n",
       "</style>\n",
       "<table border=\"1\" class=\"dataframe\">\n",
       "  <thead>\n",
       "    <tr style=\"text-align: right;\">\n",
       "      <th></th>\n",
       "      <th>num_orders</th>\n",
       "    </tr>\n",
       "    <tr>\n",
       "      <th>datetime</th>\n",
       "      <th></th>\n",
       "    </tr>\n",
       "  </thead>\n",
       "  <tbody>\n",
       "    <tr>\n",
       "      <td>2018-03-01 00:00:00</td>\n",
       "      <td>124</td>\n",
       "    </tr>\n",
       "    <tr>\n",
       "      <td>2018-03-01 01:00:00</td>\n",
       "      <td>85</td>\n",
       "    </tr>\n",
       "    <tr>\n",
       "      <td>2018-03-01 02:00:00</td>\n",
       "      <td>71</td>\n",
       "    </tr>\n",
       "    <tr>\n",
       "      <td>2018-03-01 03:00:00</td>\n",
       "      <td>66</td>\n",
       "    </tr>\n",
       "    <tr>\n",
       "      <td>2018-03-01 04:00:00</td>\n",
       "      <td>43</td>\n",
       "    </tr>\n",
       "    <tr>\n",
       "      <td>2018-03-01 05:00:00</td>\n",
       "      <td>6</td>\n",
       "    </tr>\n",
       "    <tr>\n",
       "      <td>2018-03-01 06:00:00</td>\n",
       "      <td>12</td>\n",
       "    </tr>\n",
       "    <tr>\n",
       "      <td>2018-03-01 07:00:00</td>\n",
       "      <td>15</td>\n",
       "    </tr>\n",
       "    <tr>\n",
       "      <td>2018-03-01 08:00:00</td>\n",
       "      <td>34</td>\n",
       "    </tr>\n",
       "    <tr>\n",
       "      <td>2018-03-01 09:00:00</td>\n",
       "      <td>69</td>\n",
       "    </tr>\n",
       "  </tbody>\n",
       "</table>\n",
       "</div>"
      ],
      "text/plain": [
       "                     num_orders\n",
       "datetime                       \n",
       "2018-03-01 00:00:00         124\n",
       "2018-03-01 01:00:00          85\n",
       "2018-03-01 02:00:00          71\n",
       "2018-03-01 03:00:00          66\n",
       "2018-03-01 04:00:00          43\n",
       "2018-03-01 05:00:00           6\n",
       "2018-03-01 06:00:00          12\n",
       "2018-03-01 07:00:00          15\n",
       "2018-03-01 08:00:00          34\n",
       "2018-03-01 09:00:00          69"
      ]
     },
     "execution_count": 4,
     "metadata": {},
     "output_type": "execute_result"
    }
   ],
   "source": [
    "data = data.resample('1H').sum()\n",
    "data.head(10)"
   ]
  },
  {
   "cell_type": "code",
   "execution_count": 5,
   "metadata": {},
   "outputs": [
    {
     "data": {
      "image/png": "[encoded data removed]",
      "text/plain": [
       "<Figure size 432x288 with 1 Axes>"
      ]
     },
     "metadata": {
      "needs_background": "light"
     },
     "output_type": "display_data"
    }
   ],
   "source": [
    "data.plot()\n",
    "plt.title(label = 'кол-во заказов от времени')\n",
    "plt.show()"
   ]
  },
  {
   "cell_type": "code",
   "execution_count": 6,
   "metadata": {},
   "outputs": [
    {
     "name": "stdout",
     "output_type": "stream",
     "text": [
      "2018-08-31 23:00:00\n",
      "2018-03-01 00:00:00\n"
     ]
    }
   ],
   "source": [
    "print(data.index.max())\n",
    "print(data.index.min())"
   ]
  },
  {
   "cell_type": "markdown",
   "metadata": {},
   "source": [
    "## Анализ данных"
   ]
  },
  {
   "cell_type": "markdown",
   "metadata": {},
   "source": [
    "Используем скользящее среднее для оценки данных"
   ]
  },
  {
   "cell_type": "code",
   "execution_count": 74,
   "metadata": {},
   "outputs": [
    {
     "data": {
      "image/png": "[encoded data removed]",
      "text/plain": [
       "<Figure size 432x288 with 1 Axes>"
      ]
     },
     "metadata": {
      "needs_background": "light"
     },
     "output_type": "display_data"
    }
   ],
   "source": [
    "rolling_mean_value = data.rolling(100).mean()\n",
    "rolling_mean_value.plot()\n",
    "plt.title(label = 'кол-во заказов от времени')\n",
    "plt.show()"
   ]
  },
  {
   "cell_type": "markdown",
   "metadata": {},
   "source": [
    "###  Поиск трендов и сезонности"
   ]
  },
  {
   "cell_type": "markdown",
   "metadata": {},
   "source": [
    "Изучим данные на наличие трендов и сезонности при помощи функции seasonal_decompose модуля statsmodels.tsa.seasonal"
   ]
  },
  {
   "cell_type": "code",
   "execution_count": 8,
   "metadata": {},
   "outputs": [],
   "source": [
    "decomposed = seasonal_decompose(data)"
   ]
  },
  {
   "cell_type": "code",
   "execution_count": 9,
   "metadata": {},
   "outputs": [
    {
     "data": {
      "image/png": "[encoded data removed]",
      "text/plain": [
       "<Figure size 432x288 with 1 Axes>"
      ]
     },
     "metadata": {
      "needs_background": "light"
     },
     "output_type": "display_data"
    }
   ],
   "source": [
    "decomposed.trend.plot(ax=plt.gca())\n",
    "plt.title('Тренд')\n",
    "plt.show()"
   ]
  },
  {
   "cell_type": "markdown",
   "metadata": {},
   "source": [
    "#### Комментарий\n",
    "Кол-во заказов в среднем растет со временем."
   ]
  },
  {
   "cell_type": "markdown",
   "metadata": {},
   "source": [
    "Теперь исследуем суточную и дневную сезонность"
   ]
  },
  {
   "cell_type": "code",
   "execution_count": 39,
   "metadata": {},
   "outputs": [
    {
     "data": {
      "image/png": "[encoded data removed]",
      "text/plain": [
       "<Figure size 720x432 with 1 Axes>"
      ]
     },
     "metadata": {
      "needs_background": "light"
     },
     "output_type": "display_data"
    }
   ],
   "source": [
    "plt.figure(figsize=(10, 6))\n",
    "plt.title('Суточная сезонность')\n",
    "decomposed.seasonal['2018-03-01':'2018-03-01'].plot(ax=plt.gca())\n",
    "plt.show()"
   ]
  },
  {
   "cell_type": "code",
   "execution_count": 57,
   "metadata": {},
   "outputs": [
    {
     "data": {
      "image/png": "[encoded data removed]",
      "text/plain": [
       "<Figure size 720x432 with 1 Axes>"
      ]
     },
     "metadata": {
      "needs_background": "light"
     },
     "output_type": "display_data"
    }
   ],
   "source": [
    "decomposed_by_day = seasonal_decompose(data.resample('D').sum())\n",
    "plt.figure(figsize=(10, 6))\n",
    "plt.title('Дневная сезонность')\n",
    "decomposed_by_day.seasonal['2018-03-01':'2018-03-08'].plot(ax=plt.gca())\n",
    "plt.show()"
   ]
  },
  {
   "cell_type": "markdown",
   "metadata": {},
   "source": [
    "#### Комментарий\n",
    "Графики, демонстрирующие сезонность по часам в течение суток и по дням в течение недели."
   ]
  },
  {
   "cell_type": "markdown",
   "metadata": {},
   "source": [
    "Осталось рассмотреть шумы"
   ]
  },
  {
   "cell_type": "code",
   "execution_count": 249,
   "metadata": {},
   "outputs": [
    {
     "data": {
      "image/png": "[encoded data removed]",
      "text/plain": [
       "<Figure size 432x288 with 1 Axes>"
      ]
     },
     "metadata": {
      "needs_background": "light"
     },
     "output_type": "display_data"
    }
   ],
   "source": [
    "decomposed.resid.plot(ax=plt.gca())\n",
    "plt.title('шумы')\n",
    "plt.show()"
   ]
  },
  {
   "cell_type": "markdown",
   "metadata": {},
   "source": [
    "#### Комментарий\n",
    "Колебания шумов проходят вблизи нуля, хотя и присутсвуют некоторые выбросы."
   ]
  },
  {
   "cell_type": "markdown",
   "metadata": {},
   "source": [
    "### Вывод\n",
    "\n",
    "Были построены графики разбиения на тренд, сезонность и остатки. \n",
    "Сезонность была выделена суточная и дневная. Эти графики показывают, что кол-во заказов различные в разлчиные дни недели и часы суток, поэтому день недели и часы суток будут использоваться, как признаки для построения моделей.\n",
    "\n",
    "Вопрос с чем связан средний рост кол-ва заказов со временем сезонностью или трендом точно ответить нельзя. Горизонт предсказания составляет 10% от исходной выборки или ~3 недели. Все же я решил выделить месяц, как признак для предсказания моделей."
   ]
  },
  {
   "cell_type": "markdown",
   "metadata": {},
   "source": [
    "## Обучение"
   ]
  },
  {
   "cell_type": "markdown",
   "metadata": {},
   "source": [
    "###  Создание признаков"
   ]
  },
  {
   "cell_type": "markdown",
   "metadata": {},
   "source": [
    "Выберем признаки, которые будут использоваться для обучения моделей в соответствии с результами анализа в предыдущей части проекта."
   ]
  },
  {
   "cell_type": "code",
   "execution_count": 8,
   "metadata": {},
   "outputs": [],
   "source": [
    "def make_features(data, max_lag, rolling_mean_size):\n",
    "    data['month'] = data.index.month\n",
    "    data['dayofweek'] = data.index.dayofweek\n",
    "    data['hour'] = data.index.hour\n",
    "    \n",
    "    for lag in range(1, max_lag + 1):\n",
    "        data['lag_{}'.format(lag)] = data['num_orders'].shift(lag)\n",
    "\n",
    "    data['rolling_mean'] = data['num_orders'].shift().rolling(rolling_mean_size).mean()"
   ]
  },
  {
   "cell_type": "code",
   "execution_count": 9,
   "metadata": {},
   "outputs": [],
   "source": [
    "make_features(data, 10, 4)"
   ]
  },
  {
   "cell_type": "markdown",
   "metadata": {},
   "source": [
    "#### Комментарий\n",
    "make_features - функция, которая отвечает за создание признаков для обучения моделей.\n",
    "В качестве признаков были выбраны месяц, день недели и час.\n",
    "Остающие значения - 10. и скользящее среднее с окной шириной 4.\n",
    "Почему в качестве выбора признаков для построения модели были выбраны время, день недели и месяц было описано выше. Что касается остальных признаков: остающих значений и скользящего среднего, то я не нашел какого-то универсального подхода для выбора параметров для этих значений, поэтому здесь приходилось полагаться на собственные догадки + проверки качества моделей для разных значений этих параметров. В процессе построения моделей я использовал разные аругменты для функции make_features были выбраны те, которые обеспечивают приемлимый результат + не самое долгое время на обучение моделей. "
   ]
  },
  {
   "cell_type": "markdown",
   "metadata": {},
   "source": [
    "### Разбиение на выборки"
   ]
  },
  {
   "cell_type": "code",
   "execution_count": 10,
   "metadata": {},
   "outputs": [
    {
     "name": "stdout",
     "output_type": "stream",
     "text": [
      "(3974, 15)\n",
      "(3964, 15)\n"
     ]
    }
   ],
   "source": [
    "train_and_valid, test = train_test_split(data, shuffle=False, test_size=0.1)\n",
    "print(train_and_valid.shape)\n",
    "train_and_valid = train_and_valid.dropna()\n",
    "print(train_and_valid.shape)"
   ]
  },
  {
   "cell_type": "code",
   "execution_count": 11,
   "metadata": {},
   "outputs": [],
   "source": [
    "train, valid = train_test_split(train_and_valid, shuffle=False, test_size=0.2)"
   ]
  },
  {
   "cell_type": "code",
   "execution_count": 12,
   "metadata": {},
   "outputs": [
    {
     "data": {
      "text/html": [
       "<div>\n",
       "<style scoped>\n",
       "    .dataframe tbody tr th:only-of-type {\n",
       "        vertical-align: middle;\n",
       "    }\n",
       "\n",
       "    .dataframe tbody tr th {\n",
       "        vertical-align: top;\n",
       "    }\n",
       "\n",
       "    .dataframe thead th {\n",
       "        text-align: right;\n",
       "    }\n",
       "</style>\n",
       "<table border=\"1\" class=\"dataframe\">\n",
       "  <thead>\n",
       "    <tr style=\"text-align: right;\">\n",
       "      <th></th>\n",
       "      <th>num_orders</th>\n",
       "      <th>month</th>\n",
       "      <th>dayofweek</th>\n",
       "      <th>hour</th>\n",
       "      <th>lag_1</th>\n",
       "      <th>lag_2</th>\n",
       "      <th>lag_3</th>\n",
       "      <th>lag_4</th>\n",
       "      <th>lag_5</th>\n",
       "      <th>lag_6</th>\n",
       "      <th>lag_7</th>\n",
       "      <th>lag_8</th>\n",
       "      <th>lag_9</th>\n",
       "      <th>lag_10</th>\n",
       "      <th>rolling_mean</th>\n",
       "    </tr>\n",
       "    <tr>\n",
       "      <th>datetime</th>\n",
       "      <th></th>\n",
       "      <th></th>\n",
       "      <th></th>\n",
       "      <th></th>\n",
       "      <th></th>\n",
       "      <th></th>\n",
       "      <th></th>\n",
       "      <th></th>\n",
       "      <th></th>\n",
       "      <th></th>\n",
       "      <th></th>\n",
       "      <th></th>\n",
       "      <th></th>\n",
       "      <th></th>\n",
       "      <th></th>\n",
       "    </tr>\n",
       "  </thead>\n",
       "  <tbody>\n",
       "    <tr>\n",
       "      <td>2018-08-13 14:00:00</td>\n",
       "      <td>102</td>\n",
       "      <td>8</td>\n",
       "      <td>0</td>\n",
       "      <td>14</td>\n",
       "      <td>119.0</td>\n",
       "      <td>92.0</td>\n",
       "      <td>144.0</td>\n",
       "      <td>156.0</td>\n",
       "      <td>137.0</td>\n",
       "      <td>91.0</td>\n",
       "      <td>39.0</td>\n",
       "      <td>66.0</td>\n",
       "      <td>83.0</td>\n",
       "      <td>143.0</td>\n",
       "      <td>127.75</td>\n",
       "    </tr>\n",
       "    <tr>\n",
       "      <td>2018-08-13 15:00:00</td>\n",
       "      <td>175</td>\n",
       "      <td>8</td>\n",
       "      <td>0</td>\n",
       "      <td>15</td>\n",
       "      <td>102.0</td>\n",
       "      <td>119.0</td>\n",
       "      <td>92.0</td>\n",
       "      <td>144.0</td>\n",
       "      <td>156.0</td>\n",
       "      <td>137.0</td>\n",
       "      <td>91.0</td>\n",
       "      <td>39.0</td>\n",
       "      <td>66.0</td>\n",
       "      <td>83.0</td>\n",
       "      <td>114.25</td>\n",
       "    </tr>\n",
       "    <tr>\n",
       "      <td>2018-08-13 16:00:00</td>\n",
       "      <td>144</td>\n",
       "      <td>8</td>\n",
       "      <td>0</td>\n",
       "      <td>16</td>\n",
       "      <td>175.0</td>\n",
       "      <td>102.0</td>\n",
       "      <td>119.0</td>\n",
       "      <td>92.0</td>\n",
       "      <td>144.0</td>\n",
       "      <td>156.0</td>\n",
       "      <td>137.0</td>\n",
       "      <td>91.0</td>\n",
       "      <td>39.0</td>\n",
       "      <td>66.0</td>\n",
       "      <td>122.00</td>\n",
       "    </tr>\n",
       "    <tr>\n",
       "      <td>2018-08-13 17:00:00</td>\n",
       "      <td>152</td>\n",
       "      <td>8</td>\n",
       "      <td>0</td>\n",
       "      <td>17</td>\n",
       "      <td>144.0</td>\n",
       "      <td>175.0</td>\n",
       "      <td>102.0</td>\n",
       "      <td>119.0</td>\n",
       "      <td>92.0</td>\n",
       "      <td>144.0</td>\n",
       "      <td>156.0</td>\n",
       "      <td>137.0</td>\n",
       "      <td>91.0</td>\n",
       "      <td>39.0</td>\n",
       "      <td>135.00</td>\n",
       "    </tr>\n",
       "    <tr>\n",
       "      <td>2018-08-13 18:00:00</td>\n",
       "      <td>104</td>\n",
       "      <td>8</td>\n",
       "      <td>0</td>\n",
       "      <td>18</td>\n",
       "      <td>152.0</td>\n",
       "      <td>144.0</td>\n",
       "      <td>175.0</td>\n",
       "      <td>102.0</td>\n",
       "      <td>119.0</td>\n",
       "      <td>92.0</td>\n",
       "      <td>144.0</td>\n",
       "      <td>156.0</td>\n",
       "      <td>137.0</td>\n",
       "      <td>91.0</td>\n",
       "      <td>143.25</td>\n",
       "    </tr>\n",
       "  </tbody>\n",
       "</table>\n",
       "</div>"
      ],
      "text/plain": [
       "                     num_orders  month  dayofweek  hour  lag_1  lag_2  lag_3  \\\n",
       "datetime                                                                       \n",
       "2018-08-13 14:00:00         102      8          0    14  119.0   92.0  144.0   \n",
       "2018-08-13 15:00:00         175      8          0    15  102.0  119.0   92.0   \n",
       "2018-08-13 16:00:00         144      8          0    16  175.0  102.0  119.0   \n",
       "2018-08-13 17:00:00         152      8          0    17  144.0  175.0  102.0   \n",
       "2018-08-13 18:00:00         104      8          0    18  152.0  144.0  175.0   \n",
       "\n",
       "                     lag_4  lag_5  lag_6  lag_7  lag_8  lag_9  lag_10  \\\n",
       "datetime                                                                \n",
       "2018-08-13 14:00:00  156.0  137.0   91.0   39.0   66.0   83.0   143.0   \n",
       "2018-08-13 15:00:00  144.0  156.0  137.0   91.0   39.0   66.0    83.0   \n",
       "2018-08-13 16:00:00   92.0  144.0  156.0  137.0   91.0   39.0    66.0   \n",
       "2018-08-13 17:00:00  119.0   92.0  144.0  156.0  137.0   91.0    39.0   \n",
       "2018-08-13 18:00:00  102.0  119.0   92.0  144.0  156.0  137.0    91.0   \n",
       "\n",
       "                     rolling_mean  \n",
       "datetime                           \n",
       "2018-08-13 14:00:00        127.75  \n",
       "2018-08-13 15:00:00        114.25  \n",
       "2018-08-13 16:00:00        122.00  \n",
       "2018-08-13 17:00:00        135.00  \n",
       "2018-08-13 18:00:00        143.25  "
      ]
     },
     "execution_count": 12,
     "metadata": {},
     "output_type": "execute_result"
    }
   ],
   "source": [
    "test.head(5)"
   ]
  },
  {
   "cell_type": "code",
   "execution_count": 13,
   "metadata": {},
   "outputs": [],
   "source": [
    "features_train = train.drop(['num_orders'], axis=1)\n",
    "target_train = train['num_orders']\n",
    "\n",
    "features_valid = valid.drop(['num_orders'], axis=1)\n",
    "target_valid = valid['num_orders']\n",
    "\n",
    "features_train_and_valid = train_and_valid.drop(['num_orders'], axis=1)\n",
    "target_train_and_valid = train_and_valid['num_orders']\n",
    "\n",
    "features_test = test.drop(['num_orders'], axis=1)\n",
    "target_test = test['num_orders']"
   ]
  },
  {
   "cell_type": "markdown",
   "metadata": {},
   "source": [
    "### Линейная регрессия"
   ]
  },
  {
   "cell_type": "markdown",
   "metadata": {},
   "source": [
    "В качестве первой модели была выбрана - линейная регрессия."
   ]
  },
  {
   "cell_type": "code",
   "execution_count": 14,
   "metadata": {},
   "outputs": [
    {
     "data": {
      "text/plain": [
       "LinearRegression(copy_X=True, fit_intercept=True, n_jobs=None, normalize=False)"
      ]
     },
     "execution_count": 14,
     "metadata": {},
     "output_type": "execute_result"
    }
   ],
   "source": [
    "model = LinearRegression()\n",
    "model.fit(features_train, target_train)"
   ]
  },
  {
   "cell_type": "code",
   "execution_count": 15,
   "metadata": {},
   "outputs": [
    {
     "name": "stdout",
     "output_type": "stream",
     "text": [
      "RMSE обучающей выборки:  27.977495778225986\n",
      "RMSE валидационной выборки:  39.114096739694155\n"
     ]
    }
   ],
   "source": [
    "print(\"RMSE обучающей выборки: \", mean_squared_error(model.predict(features_train), target_train) ** 0.5)\n",
    "print(\"RMSE валидационной выборки: \", mean_squared_error(model.predict(features_valid), target_valid) ** 0.5)"
   ]
  },
  {
   "cell_type": "markdown",
   "metadata": {},
   "source": [
    "###  Случайный Лес"
   ]
  },
  {
   "cell_type": "markdown",
   "metadata": {},
   "source": [
    "В данном случае я не использовал решетчатый поиск с перекрестной проверкой GridSearchCV из sklearn, т.к.важно не перемешивать объекты временного ряда, чтобы модель не обучалась на данных  из \"будущего\". Поэтому для настройки параметров модели использовалась собственная функция, осуществляющая перебор заданных гиперпараметров."
   ]
  },
  {
   "cell_type": "code",
   "execution_count": 16,
   "metadata": {},
   "outputs": [
    {
     "data": {
      "text/html": [
       "<div>\n",
       "<style scoped>\n",
       "    .dataframe tbody tr th:only-of-type {\n",
       "        vertical-align: middle;\n",
       "    }\n",
       "\n",
       "    .dataframe tbody tr th {\n",
       "        vertical-align: top;\n",
       "    }\n",
       "\n",
       "    .dataframe thead th {\n",
       "        text-align: right;\n",
       "    }\n",
       "</style>\n",
       "<table border=\"1\" class=\"dataframe\">\n",
       "  <thead>\n",
       "    <tr style=\"text-align: right;\">\n",
       "      <th></th>\n",
       "      <th>n_estimators</th>\n",
       "      <th>max_depth</th>\n",
       "      <th>max_features</th>\n",
       "      <th>train_rmse</th>\n",
       "      <th>valid_rmse</th>\n",
       "    </tr>\n",
       "  </thead>\n",
       "  <tbody>\n",
       "    <tr>\n",
       "      <td>58</td>\n",
       "      <td>100</td>\n",
       "      <td>14</td>\n",
       "      <td>6</td>\n",
       "      <td>9.663361</td>\n",
       "      <td>32.615529</td>\n",
       "    </tr>\n",
       "    <tr>\n",
       "      <td>98</td>\n",
       "      <td>120</td>\n",
       "      <td>14</td>\n",
       "      <td>6</td>\n",
       "      <td>9.615026</td>\n",
       "      <td>32.619391</td>\n",
       "    </tr>\n",
       "    <tr>\n",
       "      <td>78</td>\n",
       "      <td>110</td>\n",
       "      <td>14</td>\n",
       "      <td>6</td>\n",
       "      <td>9.653756</td>\n",
       "      <td>32.691609</td>\n",
       "    </tr>\n",
       "    <tr>\n",
       "      <td>38</td>\n",
       "      <td>90</td>\n",
       "      <td>14</td>\n",
       "      <td>6</td>\n",
       "      <td>9.690009</td>\n",
       "      <td>32.711040</td>\n",
       "    </tr>\n",
       "    <tr>\n",
       "      <td>99</td>\n",
       "      <td>120</td>\n",
       "      <td>14</td>\n",
       "      <td>8</td>\n",
       "      <td>9.508637</td>\n",
       "      <td>32.791304</td>\n",
       "    </tr>\n",
       "    <tr>\n",
       "      <td>18</td>\n",
       "      <td>80</td>\n",
       "      <td>14</td>\n",
       "      <td>6</td>\n",
       "      <td>9.713873</td>\n",
       "      <td>32.924541</td>\n",
       "    </tr>\n",
       "    <tr>\n",
       "      <td>79</td>\n",
       "      <td>110</td>\n",
       "      <td>14</td>\n",
       "      <td>8</td>\n",
       "      <td>9.537927</td>\n",
       "      <td>32.927335</td>\n",
       "    </tr>\n",
       "    <tr>\n",
       "      <td>59</td>\n",
       "      <td>100</td>\n",
       "      <td>14</td>\n",
       "      <td>8</td>\n",
       "      <td>9.553827</td>\n",
       "      <td>32.946980</td>\n",
       "    </tr>\n",
       "    <tr>\n",
       "      <td>39</td>\n",
       "      <td>90</td>\n",
       "      <td>14</td>\n",
       "      <td>8</td>\n",
       "      <td>9.584891</td>\n",
       "      <td>32.973932</td>\n",
       "    </tr>\n",
       "    <tr>\n",
       "      <td>19</td>\n",
       "      <td>80</td>\n",
       "      <td>14</td>\n",
       "      <td>8</td>\n",
       "      <td>9.591112</td>\n",
       "      <td>32.984995</td>\n",
       "    </tr>\n",
       "    <tr>\n",
       "      <td>35</td>\n",
       "      <td>90</td>\n",
       "      <td>12</td>\n",
       "      <td>8</td>\n",
       "      <td>11.473860</td>\n",
       "      <td>33.072271</td>\n",
       "    </tr>\n",
       "    <tr>\n",
       "      <td>55</td>\n",
       "      <td>100</td>\n",
       "      <td>12</td>\n",
       "      <td>8</td>\n",
       "      <td>11.440015</td>\n",
       "      <td>33.092669</td>\n",
       "    </tr>\n",
       "    <tr>\n",
       "      <td>95</td>\n",
       "      <td>120</td>\n",
       "      <td>12</td>\n",
       "      <td>8</td>\n",
       "      <td>11.393215</td>\n",
       "      <td>33.124935</td>\n",
       "    </tr>\n",
       "    <tr>\n",
       "      <td>15</td>\n",
       "      <td>80</td>\n",
       "      <td>12</td>\n",
       "      <td>8</td>\n",
       "      <td>11.475163</td>\n",
       "      <td>33.140152</td>\n",
       "    </tr>\n",
       "    <tr>\n",
       "      <td>75</td>\n",
       "      <td>110</td>\n",
       "      <td>12</td>\n",
       "      <td>8</td>\n",
       "      <td>11.434807</td>\n",
       "      <td>33.174623</td>\n",
       "    </tr>\n",
       "    <tr>\n",
       "      <td>91</td>\n",
       "      <td>120</td>\n",
       "      <td>10</td>\n",
       "      <td>8</td>\n",
       "      <td>14.181034</td>\n",
       "      <td>33.248507</td>\n",
       "    </tr>\n",
       "    <tr>\n",
       "      <td>94</td>\n",
       "      <td>120</td>\n",
       "      <td>12</td>\n",
       "      <td>6</td>\n",
       "      <td>11.750564</td>\n",
       "      <td>33.305576</td>\n",
       "    </tr>\n",
       "    <tr>\n",
       "      <td>31</td>\n",
       "      <td>90</td>\n",
       "      <td>10</td>\n",
       "      <td>8</td>\n",
       "      <td>14.260322</td>\n",
       "      <td>33.322544</td>\n",
       "    </tr>\n",
       "    <tr>\n",
       "      <td>71</td>\n",
       "      <td>110</td>\n",
       "      <td>10</td>\n",
       "      <td>8</td>\n",
       "      <td>14.202422</td>\n",
       "      <td>33.327763</td>\n",
       "    </tr>\n",
       "    <tr>\n",
       "      <td>51</td>\n",
       "      <td>100</td>\n",
       "      <td>10</td>\n",
       "      <td>8</td>\n",
       "      <td>14.222058</td>\n",
       "      <td>33.345852</td>\n",
       "    </tr>\n",
       "  </tbody>\n",
       "</table>\n",
       "</div>"
      ],
      "text/plain": [
       "    n_estimators  max_depth  max_features  train_rmse  valid_rmse\n",
       "58           100         14             6    9.663361   32.615529\n",
       "98           120         14             6    9.615026   32.619391\n",
       "78           110         14             6    9.653756   32.691609\n",
       "38            90         14             6    9.690009   32.711040\n",
       "99           120         14             8    9.508637   32.791304\n",
       "18            80         14             6    9.713873   32.924541\n",
       "79           110         14             8    9.537927   32.927335\n",
       "59           100         14             8    9.553827   32.946980\n",
       "39            90         14             8    9.584891   32.973932\n",
       "19            80         14             8    9.591112   32.984995\n",
       "35            90         12             8   11.473860   33.072271\n",
       "55           100         12             8   11.440015   33.092669\n",
       "95           120         12             8   11.393215   33.124935\n",
       "15            80         12             8   11.475163   33.140152\n",
       "75           110         12             8   11.434807   33.174623\n",
       "91           120         10             8   14.181034   33.248507\n",
       "94           120         12             6   11.750564   33.305576\n",
       "31            90         10             8   14.260322   33.322544\n",
       "71           110         10             8   14.202422   33.327763\n",
       "51           100         10             8   14.222058   33.345852"
      ]
     },
     "metadata": {},
     "output_type": "display_data"
    },
    {
     "name": "stdout",
     "output_type": "stream",
     "text": [
      "CPU times: user 1min 24s, sys: 358 ms, total: 1min 25s\n",
      "Wall time: 1min 25s\n"
     ]
    }
   ],
   "source": [
    "%%time\n",
    "forrest_rmse = []\n",
    "for estim in range(80,121, 10):\n",
    "    for k in range(6,16,2):\n",
    "        for m in range(2,10,2):\n",
    "            forrest_model = RandomForestRegressor(random_state=12345, n_estimators = estim, max_depth = k, max_features = m)\n",
    "            forrest_model.fit(features_train, target_train)\n",
    "            cur_train_rmse = mean_squared_error(forrest_model.predict(features_train), target_train) ** 0.5\n",
    "            cur_valid_rmse = mean_squared_error(forrest_model.predict(features_valid), target_valid) ** 0.5\n",
    "            forrest_rmse.append([estim,k,m,cur_train_rmse,cur_valid_rmse])\n",
    "data_forrest_rmse = pd.DataFrame(forrest_rmse, columns = ['n_estimators','max_depth','max_features','train_rmse','valid_rmse'])\n",
    "display(data_forrest_rmse.sort_values(by='valid_rmse', ascending = True).head(20))"
   ]
  },
  {
   "cell_type": "markdown",
   "metadata": {},
   "source": [
    "###  Градиентный бустинг деревьев с помощью Light gbm"
   ]
  },
  {
   "cell_type": "markdown",
   "metadata": {},
   "source": [
    "Используем градиентный бустинг"
   ]
  },
  {
   "cell_type": "code",
   "execution_count": 223,
   "metadata": {},
   "outputs": [
    {
     "data": {
      "text/html": [
       "<div>\n",
       "<style scoped>\n",
       "    .dataframe tbody tr th:only-of-type {\n",
       "        vertical-align: middle;\n",
       "    }\n",
       "\n",
       "    .dataframe tbody tr th {\n",
       "        vertical-align: top;\n",
       "    }\n",
       "\n",
       "    .dataframe thead th {\n",
       "        text-align: right;\n",
       "    }\n",
       "</style>\n",
       "<table border=\"1\" class=\"dataframe\">\n",
       "  <thead>\n",
       "    <tr style=\"text-align: right;\">\n",
       "      <th></th>\n",
       "      <th>n_estimators</th>\n",
       "      <th>max_depth</th>\n",
       "      <th>train_rmse</th>\n",
       "      <th>valid_rmse</th>\n",
       "    </tr>\n",
       "  </thead>\n",
       "  <tbody>\n",
       "    <tr>\n",
       "      <td>1</td>\n",
       "      <td>100</td>\n",
       "      <td>6</td>\n",
       "      <td>13.733281</td>\n",
       "      <td>30.535483</td>\n",
       "    </tr>\n",
       "    <tr>\n",
       "      <td>8</td>\n",
       "      <td>110</td>\n",
       "      <td>6</td>\n",
       "      <td>13.397472</td>\n",
       "      <td>30.592722</td>\n",
       "    </tr>\n",
       "    <tr>\n",
       "      <td>15</td>\n",
       "      <td>120</td>\n",
       "      <td>6</td>\n",
       "      <td>13.015905</td>\n",
       "      <td>30.596248</td>\n",
       "    </tr>\n",
       "    <tr>\n",
       "      <td>9</td>\n",
       "      <td>110</td>\n",
       "      <td>8</td>\n",
       "      <td>12.255880</td>\n",
       "      <td>30.616175</td>\n",
       "    </tr>\n",
       "    <tr>\n",
       "      <td>2</td>\n",
       "      <td>100</td>\n",
       "      <td>8</td>\n",
       "      <td>12.762720</td>\n",
       "      <td>30.641112</td>\n",
       "    </tr>\n",
       "    <tr>\n",
       "      <td>22</td>\n",
       "      <td>130</td>\n",
       "      <td>6</td>\n",
       "      <td>12.835263</td>\n",
       "      <td>30.642206</td>\n",
       "    </tr>\n",
       "    <tr>\n",
       "      <td>23</td>\n",
       "      <td>130</td>\n",
       "      <td>8</td>\n",
       "      <td>11.602997</td>\n",
       "      <td>30.653664</td>\n",
       "    </tr>\n",
       "    <tr>\n",
       "      <td>29</td>\n",
       "      <td>140</td>\n",
       "      <td>6</td>\n",
       "      <td>12.642157</td>\n",
       "      <td>30.657924</td>\n",
       "    </tr>\n",
       "    <tr>\n",
       "      <td>16</td>\n",
       "      <td>120</td>\n",
       "      <td>8</td>\n",
       "      <td>11.889036</td>\n",
       "      <td>30.669212</td>\n",
       "    </tr>\n",
       "    <tr>\n",
       "      <td>43</td>\n",
       "      <td>160</td>\n",
       "      <td>6</td>\n",
       "      <td>12.051687</td>\n",
       "      <td>30.672997</td>\n",
       "    </tr>\n",
       "    <tr>\n",
       "      <td>36</td>\n",
       "      <td>150</td>\n",
       "      <td>6</td>\n",
       "      <td>12.386480</td>\n",
       "      <td>30.675473</td>\n",
       "    </tr>\n",
       "    <tr>\n",
       "      <td>30</td>\n",
       "      <td>140</td>\n",
       "      <td>8</td>\n",
       "      <td>11.325621</td>\n",
       "      <td>30.678841</td>\n",
       "    </tr>\n",
       "    <tr>\n",
       "      <td>57</td>\n",
       "      <td>180</td>\n",
       "      <td>6</td>\n",
       "      <td>11.452904</td>\n",
       "      <td>30.715676</td>\n",
       "    </tr>\n",
       "    <tr>\n",
       "      <td>37</td>\n",
       "      <td>150</td>\n",
       "      <td>8</td>\n",
       "      <td>11.036947</td>\n",
       "      <td>30.720536</td>\n",
       "    </tr>\n",
       "    <tr>\n",
       "      <td>50</td>\n",
       "      <td>170</td>\n",
       "      <td>6</td>\n",
       "      <td>11.827493</td>\n",
       "      <td>30.727154</td>\n",
       "    </tr>\n",
       "    <tr>\n",
       "      <td>44</td>\n",
       "      <td>160</td>\n",
       "      <td>8</td>\n",
       "      <td>10.757301</td>\n",
       "      <td>30.744601</td>\n",
       "    </tr>\n",
       "    <tr>\n",
       "      <td>58</td>\n",
       "      <td>180</td>\n",
       "      <td>8</td>\n",
       "      <td>10.198723</td>\n",
       "      <td>30.788732</td>\n",
       "    </tr>\n",
       "    <tr>\n",
       "      <td>51</td>\n",
       "      <td>170</td>\n",
       "      <td>8</td>\n",
       "      <td>10.471787</td>\n",
       "      <td>30.793550</td>\n",
       "    </tr>\n",
       "    <tr>\n",
       "      <td>64</td>\n",
       "      <td>190</td>\n",
       "      <td>6</td>\n",
       "      <td>11.244724</td>\n",
       "      <td>30.801253</td>\n",
       "    </tr>\n",
       "    <tr>\n",
       "      <td>4</td>\n",
       "      <td>100</td>\n",
       "      <td>12</td>\n",
       "      <td>12.158482</td>\n",
       "      <td>30.804620</td>\n",
       "    </tr>\n",
       "  </tbody>\n",
       "</table>\n",
       "</div>"
      ],
      "text/plain": [
       "    n_estimators  max_depth  train_rmse  valid_rmse\n",
       "1            100          6   13.733281   30.535483\n",
       "8            110          6   13.397472   30.592722\n",
       "15           120          6   13.015905   30.596248\n",
       "9            110          8   12.255880   30.616175\n",
       "2            100          8   12.762720   30.641112\n",
       "22           130          6   12.835263   30.642206\n",
       "23           130          8   11.602997   30.653664\n",
       "29           140          6   12.642157   30.657924\n",
       "16           120          8   11.889036   30.669212\n",
       "43           160          6   12.051687   30.672997\n",
       "36           150          6   12.386480   30.675473\n",
       "30           140          8   11.325621   30.678841\n",
       "57           180          6   11.452904   30.715676\n",
       "37           150          8   11.036947   30.720536\n",
       "50           170          6   11.827493   30.727154\n",
       "44           160          8   10.757301   30.744601\n",
       "58           180          8   10.198723   30.788732\n",
       "51           170          8   10.471787   30.793550\n",
       "64           190          6   11.244724   30.801253\n",
       "4            100         12   12.158482   30.804620"
      ]
     },
     "metadata": {},
     "output_type": "display_data"
    },
    {
     "name": "stdout",
     "output_type": "stream",
     "text": [
      "CPU times: user 1min 45s, sys: 1.41 s, total: 1min 46s\n",
      "Wall time: 1min 47s\n"
     ]
    }
   ],
   "source": [
    "%%time\n",
    "gbdt_rmse = []\n",
    "for estim in range(100,200, 10):\n",
    "    for k in range(4,18,2):\n",
    "        gbdt_model = lgb.LGBMRegressor(random_state=12345, n_estimators = estim, max_depth = k)\n",
    "        gbdt_model.fit(features_train, target_train)\n",
    "        cur_train_rmse = mean_squared_error(gbdt_model.predict(features_train), target_train) ** 0.5\n",
    "        cur_valid_rmse = mean_squared_error(gbdt_model.predict(features_valid), target_valid) ** 0.5\n",
    "        gbdt_rmse.append([estim,k,cur_train_rmse,cur_valid_rmse])\n",
    "data_gbdt_rmse = pd.DataFrame(gbdt_rmse, columns = ['n_estimators','max_depth','train_rmse','valid_rmse'])\n",
    "display(data_gbdt_rmse.sort_values(by='valid_rmse', ascending = True).head(20))"
   ]
  },
  {
   "cell_type": "markdown",
   "metadata": {},
   "source": [
    "## Тестирование"
   ]
  },
  {
   "cell_type": "markdown",
   "metadata": {},
   "source": [
    "\n",
    "Перед тестированием модели, модели переобучались на суммарной обучающей и валидационной выборке при найденных оптимальных гиперпараметрах. "
   ]
  },
  {
   "cell_type": "code",
   "execution_count": 252,
   "metadata": {},
   "outputs": [],
   "source": [
    "result_rmse = []"
   ]
  },
  {
   "cell_type": "code",
   "execution_count": 253,
   "metadata": {},
   "outputs": [],
   "source": [
    "model = LinearRegression()\n",
    "model.fit(features_train_and_valid,target_train_and_valid)\n",
    "result_rmse.append(['Линейная регрессия',mean_squared_error(model.predict(features_train_and_valid), target_train_and_valid) ** 0.5,mean_squared_error(model.predict(features_test), target_test) ** 0.5])"
   ]
  },
  {
   "cell_type": "code",
   "execution_count": 254,
   "metadata": {},
   "outputs": [],
   "source": [
    "best_forrest_model = RandomForestRegressor(random_state=12345, n_estimators = 100, max_depth = 14, max_features = 6)\n",
    "best_forrest_model.fit(features_train_and_valid, target_train_and_valid)\n",
    "result_rmse.append(['Случайный лес',mean_squared_error(best_forrest_model.predict(features_train_and_valid), target_train_and_valid) ** 0.5,mean_squared_error(best_forrest_model.predict(features_test), target_test) ** 0.5])"
   ]
  },
  {
   "cell_type": "code",
   "execution_count": 255,
   "metadata": {},
   "outputs": [],
   "source": [
    "best_gbdt_model = lgb.LGBMRegressor(random_state = 12345, boosting_type = 'gbdt', n_estimators = 100, max_depth = 6)\n",
    "best_gbdt_model.fit(features_train_and_valid, target_train_and_valid)\n",
    "result_rmse.append(['Град.бустинг деревьев',mean_squared_error(best_gbdt_model.predict(features_train_and_valid), target_train_and_valid) ** 0.5,mean_squared_error(best_gbdt_model.predict(features_test), target_test) ** 0.5])"
   ]
  },
  {
   "cell_type": "code",
   "execution_count": 259,
   "metadata": {},
   "outputs": [
    {
     "data": {
      "text/html": [
       "<div>\n",
       "<style scoped>\n",
       "    .dataframe tbody tr th:only-of-type {\n",
       "        vertical-align: middle;\n",
       "    }\n",
       "\n",
       "    .dataframe tbody tr th {\n",
       "        vertical-align: top;\n",
       "    }\n",
       "\n",
       "    .dataframe thead th {\n",
       "        text-align: right;\n",
       "    }\n",
       "</style>\n",
       "<table border=\"1\" class=\"dataframe\">\n",
       "  <thead>\n",
       "    <tr style=\"text-align: right;\">\n",
       "      <th></th>\n",
       "      <th>Модель</th>\n",
       "      <th>RMSE_train</th>\n",
       "      <th>RMSE_test</th>\n",
       "    </tr>\n",
       "  </thead>\n",
       "  <tbody>\n",
       "    <tr>\n",
       "      <td>2</td>\n",
       "      <td>Град.бустинг деревьев</td>\n",
       "      <td>16.015008</td>\n",
       "      <td>43.553911</td>\n",
       "    </tr>\n",
       "    <tr>\n",
       "      <td>1</td>\n",
       "      <td>Случайный лес</td>\n",
       "      <td>10.868956</td>\n",
       "      <td>46.636110</td>\n",
       "    </tr>\n",
       "    <tr>\n",
       "      <td>0</td>\n",
       "      <td>Линейная регрессия</td>\n",
       "      <td>30.385367</td>\n",
       "      <td>54.154128</td>\n",
       "    </tr>\n",
       "  </tbody>\n",
       "</table>\n",
       "</div>"
      ],
      "text/plain": [
       "                  Модель  RMSE_train  RMSE_test\n",
       "2  Град.бустинг деревьев   16.015008  43.553911\n",
       "1          Случайный лес   10.868956  46.636110\n",
       "0     Линейная регрессия   30.385367  54.154128"
      ]
     },
     "metadata": {},
     "output_type": "display_data"
    }
   ],
   "source": [
    "\n",
    "\n",
    "display(pd.DataFrame(result_rmse, columns = ['Модель','RMSE_train','RMSE_test']).sort_values(by='RMSE_test', ascending = True))"
   ]
  },
  {
   "cell_type": "markdown",
   "metadata": {},
   "source": [
    "## Вывод\n"
   ]
  },
  {
   "cell_type": "markdown",
   "metadata": {},
   "source": [
    "В результате выполнения работы были обработан и проанализирован временной ряд зависимости кол-ва заказов такси. Были созданы признаки, по которым были построены модели для предсказания кол-ва заказов. Модель случайного леса и модель град.бустинга показали результат RMSE < 48, но по качетсву прогноза град.бустинг показал более точный результат."
   ]
  },
  {
   "cell_type": "markdown",
   "metadata": {},
   "source": []
  }
 ],
 "metadata": {
  "ExecuteTimeLog": [
   {
    "duration": 49,
    "start_time": "2023-11-20T10:08:33.846Z"
   },
   {
    "duration": 1596,
    "start_time": "2023-11-20T10:08:38.850Z"
   },
   {
    "duration": 146,
    "start_time": "2023-11-20T10:08:40.448Z"
   },
   {
    "duration": 419,
    "start_time": "2023-11-20T10:08:40.596Z"
   }
  ],
  "kernelspec": {
   "display_name": "Python 3 (ipykernel)",
   "language": "python",
   "name": "python3"
  },
  "language_info": {
   "codemirror_mode": {
    "name": "ipython",
    "version": 3
   },
   "file_extension": ".py",
   "mimetype": "text/x-python",
   "name": "python",
   "nbconvert_exporter": "python",
   "pygments_lexer": "ipython3",
   "version": "3.9.18"
  },
  "toc": {
   "base_numbering": 1,
   "nav_menu": {},
   "number_sections": true,
   "sideBar": true,
   "skip_h1_title": true,
   "title_cell": "Table of Contents",
   "title_sidebar": "Contents",
   "toc_cell": false,
   "toc_position": {},
   "toc_section_display": true,
   "toc_window_display": false
  }
 },
 "nbformat": 4,
 "nbformat_minor": 4
}

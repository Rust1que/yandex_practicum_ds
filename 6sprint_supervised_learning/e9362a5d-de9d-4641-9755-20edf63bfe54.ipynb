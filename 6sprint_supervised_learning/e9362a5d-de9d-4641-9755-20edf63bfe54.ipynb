{
 "cells": [
  {
   "cell_type": "markdown",
   "metadata": {},
   "source": [
    "# Отток клиентов"
   ]
  },
  {
   "cell_type": "markdown",
   "metadata": {},
   "source": [
    "Из «Бета-Банка» стали уходить клиенты. Каждый месяц. Немного, но заметно. Банковские маркетологи посчитали: сохранять текущих клиентов дешевле, чем привлекать новых.\n",
    "\n",
    "Нужно спрогнозировать, уйдёт клиент из банка в ближайшее время или нет. Вам предоставлены исторические данные о поведении клиентов и расторжении договоров с банком. \n",
    "\n",
    "Постройте модель с предельно большим значением *F1*-меры. Чтобы сдать проект успешно, нужно довести метрику до 0.59. Проверьте *F1*-меру на тестовой выборке самостоятельно.\n",
    "\n",
    "Дополнительно измеряйте *AUC-ROC*, сравнивайте её значение с *F1*-мерой.\n",
    "\n",
    "Источник данных: [https://www.kaggle.com/barelydedicated/bank-customer-churn-modeling](https://www.kaggle.com/barelydedicated/bank-customer-churn-modeling)"
   ]
  },
  {
   "cell_type": "markdown",
   "metadata": {},
   "source": [
    "# Описание данных\n",
    "###### Признаки\n",
    " - RowNumber — индекс строки в данных\n",
    " - CustomerId — уникальный идентификатор клиента\n",
    " - Surname — фамилия\n",
    " - CreditScore — кредитный рейтинг\n",
    " - Geography — страна проживания\n",
    " - Gender — пол\n",
    " - Age — возраст\n",
    " - Tenure — количество недвижимости у клиента\n",
    " - Balance — баланс на счёте\n",
    " - NumOfProducts — количество продуктов банка, используемых клиентом\n",
    " - HasCrCard — наличие кредитной карты\n",
    " - IsActiveMember — активность клиента\n",
    " - EstimatedSalary — предполагаемая зарплата\n",
    "\n",
    "###### Целевой признак\n",
    " - Exited — факт ухода клиента"
   ]
  },
  {
   "cell_type": "markdown",
   "metadata": {},
   "source": [
    "# 1. Подготовка данных"
   ]
  },
  {
   "cell_type": "markdown",
   "metadata": {},
   "source": [
    "### Изучение данных"
   ]
  },
  {
   "cell_type": "code",
   "execution_count": 1,
   "metadata": {},
   "outputs": [],
   "source": [
    "import pandas as pd\n",
    "import matplotlib as plt\n",
    "import seaborn as sns\n",
    "import numpy as np\n",
    "from sklearn.preprocessing import StandardScaler\n",
    "from sklearn.model_selection import train_test_split\n",
    "from sklearn.linear_model import LogisticRegression\n",
    "from sklearn.ensemble import RandomForestClassifier\n",
    "from sklearn.utils import shuffle\n",
    "from sklearn.metrics import accuracy_score\n",
    "from sklearn.metrics import recall_score\n",
    "from sklearn.metrics import precision_score\n",
    "from sklearn.metrics import f1_score\n",
    "from sklearn.metrics import roc_auc_score\n",
    "from sklearn.metrics import roc_curve\n",
    "import matplotlib.pyplot as plt\n",
    "import warnings\n",
    "warnings.filterwarnings('ignore')"
   ]
  },
  {
   "cell_type": "code",
   "execution_count": 37,
   "metadata": {},
   "outputs": [
    {
     "data": {
      "text/html": [
       "<div>\n",
       "<style scoped>\n",
       "    .dataframe tbody tr th:only-of-type {\n",
       "        vertical-align: middle;\n",
       "    }\n",
       "\n",
       "    .dataframe tbody tr th {\n",
       "        vertical-align: top;\n",
       "    }\n",
       "\n",
       "    .dataframe thead th {\n",
       "        text-align: right;\n",
       "    }\n",
       "</style>\n",
       "<table border=\"1\" class=\"dataframe\">\n",
       "  <thead>\n",
       "    <tr style=\"text-align: right;\">\n",
       "      <th></th>\n",
       "      <th>RowNumber</th>\n",
       "      <th>CustomerId</th>\n",
       "      <th>Surname</th>\n",
       "      <th>CreditScore</th>\n",
       "      <th>Geography</th>\n",
       "      <th>Gender</th>\n",
       "      <th>Age</th>\n",
       "      <th>Tenure</th>\n",
       "      <th>Balance</th>\n",
       "      <th>NumOfProducts</th>\n",
       "      <th>HasCrCard</th>\n",
       "      <th>IsActiveMember</th>\n",
       "      <th>EstimatedSalary</th>\n",
       "      <th>Exited</th>\n",
       "    </tr>\n",
       "  </thead>\n",
       "  <tbody>\n",
       "    <tr>\n",
       "      <th>0</th>\n",
       "      <td>1</td>\n",
       "      <td>15634602</td>\n",
       "      <td>Hargrave</td>\n",
       "      <td>619</td>\n",
       "      <td>France</td>\n",
       "      <td>Female</td>\n",
       "      <td>42</td>\n",
       "      <td>2.0</td>\n",
       "      <td>0.00</td>\n",
       "      <td>1</td>\n",
       "      <td>1</td>\n",
       "      <td>1</td>\n",
       "      <td>101348.88</td>\n",
       "      <td>1</td>\n",
       "    </tr>\n",
       "    <tr>\n",
       "      <th>1</th>\n",
       "      <td>2</td>\n",
       "      <td>15647311</td>\n",
       "      <td>Hill</td>\n",
       "      <td>608</td>\n",
       "      <td>Spain</td>\n",
       "      <td>Female</td>\n",
       "      <td>41</td>\n",
       "      <td>1.0</td>\n",
       "      <td>83807.86</td>\n",
       "      <td>1</td>\n",
       "      <td>0</td>\n",
       "      <td>1</td>\n",
       "      <td>112542.58</td>\n",
       "      <td>0</td>\n",
       "    </tr>\n",
       "    <tr>\n",
       "      <th>2</th>\n",
       "      <td>3</td>\n",
       "      <td>15619304</td>\n",
       "      <td>Onio</td>\n",
       "      <td>502</td>\n",
       "      <td>France</td>\n",
       "      <td>Female</td>\n",
       "      <td>42</td>\n",
       "      <td>8.0</td>\n",
       "      <td>159660.80</td>\n",
       "      <td>3</td>\n",
       "      <td>1</td>\n",
       "      <td>0</td>\n",
       "      <td>113931.57</td>\n",
       "      <td>1</td>\n",
       "    </tr>\n",
       "    <tr>\n",
       "      <th>3</th>\n",
       "      <td>4</td>\n",
       "      <td>15701354</td>\n",
       "      <td>Boni</td>\n",
       "      <td>699</td>\n",
       "      <td>France</td>\n",
       "      <td>Female</td>\n",
       "      <td>39</td>\n",
       "      <td>1.0</td>\n",
       "      <td>0.00</td>\n",
       "      <td>2</td>\n",
       "      <td>0</td>\n",
       "      <td>0</td>\n",
       "      <td>93826.63</td>\n",
       "      <td>0</td>\n",
       "    </tr>\n",
       "    <tr>\n",
       "      <th>4</th>\n",
       "      <td>5</td>\n",
       "      <td>15737888</td>\n",
       "      <td>Mitchell</td>\n",
       "      <td>850</td>\n",
       "      <td>Spain</td>\n",
       "      <td>Female</td>\n",
       "      <td>43</td>\n",
       "      <td>2.0</td>\n",
       "      <td>125510.82</td>\n",
       "      <td>1</td>\n",
       "      <td>1</td>\n",
       "      <td>1</td>\n",
       "      <td>79084.10</td>\n",
       "      <td>0</td>\n",
       "    </tr>\n",
       "  </tbody>\n",
       "</table>\n",
       "</div>"
      ],
      "text/plain": [
       "   RowNumber  CustomerId   Surname  CreditScore Geography  Gender  Age  \\\n",
       "0          1    15634602  Hargrave          619    France  Female   42   \n",
       "1          2    15647311      Hill          608     Spain  Female   41   \n",
       "2          3    15619304      Onio          502    France  Female   42   \n",
       "3          4    15701354      Boni          699    France  Female   39   \n",
       "4          5    15737888  Mitchell          850     Spain  Female   43   \n",
       "\n",
       "   Tenure    Balance  NumOfProducts  HasCrCard  IsActiveMember  \\\n",
       "0     2.0       0.00              1          1               1   \n",
       "1     1.0   83807.86              1          0               1   \n",
       "2     8.0  159660.80              3          1               0   \n",
       "3     1.0       0.00              2          0               0   \n",
       "4     2.0  125510.82              1          1               1   \n",
       "\n",
       "   EstimatedSalary  Exited  \n",
       "0        101348.88       1  \n",
       "1        112542.58       0  \n",
       "2        113931.57       1  \n",
       "3         93826.63       0  \n",
       "4         79084.10       0  "
      ]
     },
     "metadata": {},
     "output_type": "display_data"
    }
   ],
   "source": [
    "data = pd.read_csv('Churn.csv')\n",
    "display(data.head())"
   ]
  },
  {
   "cell_type": "code",
   "execution_count": 3,
   "metadata": {},
   "outputs": [
    {
     "name": "stdout",
     "output_type": "stream",
     "text": [
      "<class 'pandas.core.frame.DataFrame'>\n",
      "RangeIndex: 10000 entries, 0 to 9999\n",
      "Data columns (total 14 columns):\n",
      " #   Column           Non-Null Count  Dtype  \n",
      "---  ------           --------------  -----  \n",
      " 0   RowNumber        10000 non-null  int64  \n",
      " 1   CustomerId       10000 non-null  int64  \n",
      " 2   Surname          10000 non-null  object \n",
      " 3   CreditScore      10000 non-null  int64  \n",
      " 4   Geography        10000 non-null  object \n",
      " 5   Gender           10000 non-null  object \n",
      " 6   Age              10000 non-null  int64  \n",
      " 7   Tenure           9091 non-null   float64\n",
      " 8   Balance          10000 non-null  float64\n",
      " 9   NumOfProducts    10000 non-null  int64  \n",
      " 10  HasCrCard        10000 non-null  int64  \n",
      " 11  IsActiveMember   10000 non-null  int64  \n",
      " 12  EstimatedSalary  10000 non-null  float64\n",
      " 13  Exited           10000 non-null  int64  \n",
      "dtypes: float64(3), int64(8), object(3)\n",
      "memory usage: 1.1+ MB\n",
      "None\n",
      "RowNumber            int64\n",
      "CustomerId           int64\n",
      "Surname             object\n",
      "CreditScore          int64\n",
      "Geography           object\n",
      "Gender              object\n",
      "Age                  int64\n",
      "Tenure             float64\n",
      "Balance            float64\n",
      "NumOfProducts        int64\n",
      "HasCrCard            int64\n",
      "IsActiveMember       int64\n",
      "EstimatedSalary    float64\n",
      "Exited               int64\n",
      "dtype: object\n",
      "France     5014\n",
      "Germany    2509\n",
      "Spain      2477\n",
      "Name: Geography, dtype: int64\n",
      "6383\n",
      "0    0.7963\n",
      "1    0.2037\n",
      "Name: Exited, dtype: float64\n"
     ]
    }
   ],
   "source": [
    "print(data.info())\n",
    "print(data.dtypes)\n",
    "print(data['Geography'].value_counts())\n",
    "print(data[data['Balance'] > 0]['Balance'].count())\n",
    "print(data['Exited'].value_counts(normalize = True))"
   ]
  },
  {
   "cell_type": "markdown",
   "metadata": {},
   "source": [
    "#### Вывод\n",
    "1) Для построения моделей и решения поставленных задач, нужно избавиться от таких признаков как: RowNumber, CustomerId, Surname, т.к. они не являются информативными для построения модели.\n",
    "\n",
    "2) В графе Tenure есть отсутсвующие значения(9 штук), необходимо выяснить можно ли их заполнить, если да, то каким образом. Также необходимо преобразовать тип данных из float в int.\n",
    "\n",
    "3) В данных присутствует дисбаланс классов, т.к. всего 20% клиентов перестали пользоваться услугами банка.\n",
    "\n",
    "4) Необходимо воспользоваться прямым кодированием для подготовки признаков: Geography, Gender.\n",
    "\n",
    "5) Необходимо масштабировать количественные признаки: CreditScore, Age, Tenure, Balance, EstimatedSalary "
   ]
  },
  {
   "cell_type": "markdown",
   "metadata": {},
   "source": [
    "### Заполнение пропусков и изменение типа данных"
   ]
  },
  {
   "cell_type": "code",
   "execution_count": 4,
   "metadata": {},
   "outputs": [
    {
     "name": "stdout",
     "output_type": "stream",
     "text": [
      "1.0     0.104719\n",
      "2.0     0.104499\n",
      "8.0     0.102629\n",
      "3.0     0.102079\n",
      "5.0     0.101969\n",
      "7.0     0.101749\n",
      "4.0     0.097349\n",
      "9.0     0.097019\n",
      "6.0     0.096909\n",
      "10.0    0.049060\n",
      "0.0     0.042020\n",
      "Name: Tenure, dtype: float64\n",
      "5.0\n"
     ]
    },
    {
     "data": {
      "image/png": "[encoded data removed]",
      "text/plain": [
       "<Figure size 432x288 with 1 Axes>"
      ]
     },
     "metadata": {
      "needs_background": "light"
     },
     "output_type": "display_data"
    }
   ],
   "source": [
    "ax = sns.scatterplot(x=\"EstimatedSalary\", y=\"Tenure\",sizes=(10, 200),\n",
    "                     data=data)\n",
    "ax = sns.countplot(x='Tenure',data=data)\n",
    "print(data['Tenure'].value_counts(normalize = True))\n",
    "print(data[\"Tenure\"].median())"
   ]
  },
  {
   "cell_type": "code",
   "execution_count": 5,
   "metadata": {},
   "outputs": [
    {
     "name": "stdout",
     "output_type": "stream",
     "text": [
      "count    10000.00000\n",
      "mean         4.99790\n",
      "std          2.76001\n",
      "min          0.00000\n",
      "25%          3.00000\n",
      "50%          5.00000\n",
      "75%          7.00000\n",
      "max         10.00000\n",
      "Name: Tenure, dtype: float64\n",
      "int64\n"
     ]
    }
   ],
   "source": [
    "data['Tenure'] = data['Tenure'].fillna(data['Tenure'].median())\n",
    "data['Tenure'] = data['Tenure'].astype('int')\n",
    "print(data['Tenure'].describe())\n",
    "print(data['Tenure'].dtypes)"
   ]
  },
  {
   "cell_type": "markdown",
   "metadata": {},
   "source": [
    "#### Вывод\n",
    "Как видно из графика Tenure распределенно равномерно от 1 до 9, а учитывая, что пропущеных значений всего 9, то заполнение пропущенных значений медианным значением не должно внести значимые неточности в построение моделей.\n",
    "Также тип данных был преобразован из float в int."
   ]
  },
  {
   "cell_type": "markdown",
   "metadata": {},
   "source": [
    "### Удаление лишних данных"
   ]
  },
  {
   "cell_type": "code",
   "execution_count": 6,
   "metadata": {},
   "outputs": [
    {
     "data": {
      "text/html": [
       "<div>\n",
       "<style scoped>\n",
       "    .dataframe tbody tr th:only-of-type {\n",
       "        vertical-align: middle;\n",
       "    }\n",
       "\n",
       "    .dataframe tbody tr th {\n",
       "        vertical-align: top;\n",
       "    }\n",
       "\n",
       "    .dataframe thead th {\n",
       "        text-align: right;\n",
       "    }\n",
       "</style>\n",
       "<table border=\"1\" class=\"dataframe\">\n",
       "  <thead>\n",
       "    <tr style=\"text-align: right;\">\n",
       "      <th></th>\n",
       "      <th>CreditScore</th>\n",
       "      <th>Geography</th>\n",
       "      <th>Gender</th>\n",
       "      <th>Age</th>\n",
       "      <th>Tenure</th>\n",
       "      <th>Balance</th>\n",
       "      <th>NumOfProducts</th>\n",
       "      <th>HasCrCard</th>\n",
       "      <th>IsActiveMember</th>\n",
       "      <th>EstimatedSalary</th>\n",
       "      <th>Exited</th>\n",
       "    </tr>\n",
       "  </thead>\n",
       "  <tbody>\n",
       "    <tr>\n",
       "      <th>0</th>\n",
       "      <td>619</td>\n",
       "      <td>France</td>\n",
       "      <td>Female</td>\n",
       "      <td>42</td>\n",
       "      <td>2</td>\n",
       "      <td>0.00</td>\n",
       "      <td>1</td>\n",
       "      <td>1</td>\n",
       "      <td>1</td>\n",
       "      <td>101348.88</td>\n",
       "      <td>1</td>\n",
       "    </tr>\n",
       "    <tr>\n",
       "      <th>1</th>\n",
       "      <td>608</td>\n",
       "      <td>Spain</td>\n",
       "      <td>Female</td>\n",
       "      <td>41</td>\n",
       "      <td>1</td>\n",
       "      <td>83807.86</td>\n",
       "      <td>1</td>\n",
       "      <td>0</td>\n",
       "      <td>1</td>\n",
       "      <td>112542.58</td>\n",
       "      <td>0</td>\n",
       "    </tr>\n",
       "    <tr>\n",
       "      <th>2</th>\n",
       "      <td>502</td>\n",
       "      <td>France</td>\n",
       "      <td>Female</td>\n",
       "      <td>42</td>\n",
       "      <td>8</td>\n",
       "      <td>159660.80</td>\n",
       "      <td>3</td>\n",
       "      <td>1</td>\n",
       "      <td>0</td>\n",
       "      <td>113931.57</td>\n",
       "      <td>1</td>\n",
       "    </tr>\n",
       "    <tr>\n",
       "      <th>3</th>\n",
       "      <td>699</td>\n",
       "      <td>France</td>\n",
       "      <td>Female</td>\n",
       "      <td>39</td>\n",
       "      <td>1</td>\n",
       "      <td>0.00</td>\n",
       "      <td>2</td>\n",
       "      <td>0</td>\n",
       "      <td>0</td>\n",
       "      <td>93826.63</td>\n",
       "      <td>0</td>\n",
       "    </tr>\n",
       "    <tr>\n",
       "      <th>4</th>\n",
       "      <td>850</td>\n",
       "      <td>Spain</td>\n",
       "      <td>Female</td>\n",
       "      <td>43</td>\n",
       "      <td>2</td>\n",
       "      <td>125510.82</td>\n",
       "      <td>1</td>\n",
       "      <td>1</td>\n",
       "      <td>1</td>\n",
       "      <td>79084.10</td>\n",
       "      <td>0</td>\n",
       "    </tr>\n",
       "  </tbody>\n",
       "</table>\n",
       "</div>"
      ],
      "text/plain": [
       "   CreditScore Geography  Gender  Age  Tenure    Balance  NumOfProducts  \\\n",
       "0          619    France  Female   42       2       0.00              1   \n",
       "1          608     Spain  Female   41       1   83807.86              1   \n",
       "2          502    France  Female   42       8  159660.80              3   \n",
       "3          699    France  Female   39       1       0.00              2   \n",
       "4          850     Spain  Female   43       2  125510.82              1   \n",
       "\n",
       "   HasCrCard  IsActiveMember  EstimatedSalary  Exited  \n",
       "0          1               1        101348.88       1  \n",
       "1          0               1        112542.58       0  \n",
       "2          1               0        113931.57       1  \n",
       "3          0               0         93826.63       0  \n",
       "4          1               1         79084.10       0  "
      ]
     },
     "metadata": {},
     "output_type": "display_data"
    }
   ],
   "source": [
    "data.drop(data[['RowNumber', 'CustomerId', 'Surname']],axis = 1, inplace = True)\n",
    "display(data.head())"
   ]
  },
  {
   "cell_type": "markdown",
   "metadata": {},
   "source": [
    "###  Подготовка признаков и разбиение на выборки"
   ]
  },
  {
   "cell_type": "markdown",
   "metadata": {},
   "source": [
    "**Прямое кодирование OHE**"
   ]
  },
  {
   "cell_type": "markdown",
   "metadata": {},
   "source": [
    "Воспользуемся методом прямого кодирования для перевода категориальных признаков в числовые значения. Прямое кодирование подойдет для данной задачи, т.к. полученное кол-во новых столбцов всего 3. "
   ]
  },
  {
   "cell_type": "code",
   "execution_count": 7,
   "metadata": {
    "scrolled": true
   },
   "outputs": [
    {
     "data": {
      "text/html": [
       "<div>\n",
       "<style scoped>\n",
       "    .dataframe tbody tr th:only-of-type {\n",
       "        vertical-align: middle;\n",
       "    }\n",
       "\n",
       "    .dataframe tbody tr th {\n",
       "        vertical-align: top;\n",
       "    }\n",
       "\n",
       "    .dataframe thead th {\n",
       "        text-align: right;\n",
       "    }\n",
       "</style>\n",
       "<table border=\"1\" class=\"dataframe\">\n",
       "  <thead>\n",
       "    <tr style=\"text-align: right;\">\n",
       "      <th></th>\n",
       "      <th>CreditScore</th>\n",
       "      <th>Age</th>\n",
       "      <th>Tenure</th>\n",
       "      <th>Balance</th>\n",
       "      <th>NumOfProducts</th>\n",
       "      <th>HasCrCard</th>\n",
       "      <th>IsActiveMember</th>\n",
       "      <th>EstimatedSalary</th>\n",
       "      <th>Exited</th>\n",
       "      <th>Geography_Germany</th>\n",
       "      <th>Geography_Spain</th>\n",
       "      <th>Gender_Male</th>\n",
       "    </tr>\n",
       "  </thead>\n",
       "  <tbody>\n",
       "    <tr>\n",
       "      <th>0</th>\n",
       "      <td>619</td>\n",
       "      <td>42</td>\n",
       "      <td>2</td>\n",
       "      <td>0.00</td>\n",
       "      <td>1</td>\n",
       "      <td>1</td>\n",
       "      <td>1</td>\n",
       "      <td>101348.88</td>\n",
       "      <td>1</td>\n",
       "      <td>0</td>\n",
       "      <td>0</td>\n",
       "      <td>0</td>\n",
       "    </tr>\n",
       "    <tr>\n",
       "      <th>1</th>\n",
       "      <td>608</td>\n",
       "      <td>41</td>\n",
       "      <td>1</td>\n",
       "      <td>83807.86</td>\n",
       "      <td>1</td>\n",
       "      <td>0</td>\n",
       "      <td>1</td>\n",
       "      <td>112542.58</td>\n",
       "      <td>0</td>\n",
       "      <td>0</td>\n",
       "      <td>1</td>\n",
       "      <td>0</td>\n",
       "    </tr>\n",
       "    <tr>\n",
       "      <th>2</th>\n",
       "      <td>502</td>\n",
       "      <td>42</td>\n",
       "      <td>8</td>\n",
       "      <td>159660.80</td>\n",
       "      <td>3</td>\n",
       "      <td>1</td>\n",
       "      <td>0</td>\n",
       "      <td>113931.57</td>\n",
       "      <td>1</td>\n",
       "      <td>0</td>\n",
       "      <td>0</td>\n",
       "      <td>0</td>\n",
       "    </tr>\n",
       "    <tr>\n",
       "      <th>3</th>\n",
       "      <td>699</td>\n",
       "      <td>39</td>\n",
       "      <td>1</td>\n",
       "      <td>0.00</td>\n",
       "      <td>2</td>\n",
       "      <td>0</td>\n",
       "      <td>0</td>\n",
       "      <td>93826.63</td>\n",
       "      <td>0</td>\n",
       "      <td>0</td>\n",
       "      <td>0</td>\n",
       "      <td>0</td>\n",
       "    </tr>\n",
       "    <tr>\n",
       "      <th>4</th>\n",
       "      <td>850</td>\n",
       "      <td>43</td>\n",
       "      <td>2</td>\n",
       "      <td>125510.82</td>\n",
       "      <td>1</td>\n",
       "      <td>1</td>\n",
       "      <td>1</td>\n",
       "      <td>79084.10</td>\n",
       "      <td>0</td>\n",
       "      <td>0</td>\n",
       "      <td>1</td>\n",
       "      <td>0</td>\n",
       "    </tr>\n",
       "  </tbody>\n",
       "</table>\n",
       "</div>"
      ],
      "text/plain": [
       "   CreditScore  Age  Tenure    Balance  NumOfProducts  HasCrCard  \\\n",
       "0          619   42       2       0.00              1          1   \n",
       "1          608   41       1   83807.86              1          0   \n",
       "2          502   42       8  159660.80              3          1   \n",
       "3          699   39       1       0.00              2          0   \n",
       "4          850   43       2  125510.82              1          1   \n",
       "\n",
       "   IsActiveMember  EstimatedSalary  Exited  Geography_Germany  \\\n",
       "0               1        101348.88       1                  0   \n",
       "1               1        112542.58       0                  0   \n",
       "2               0        113931.57       1                  0   \n",
       "3               0         93826.63       0                  0   \n",
       "4               1         79084.10       0                  0   \n",
       "\n",
       "   Geography_Spain  Gender_Male  \n",
       "0                0            0  \n",
       "1                1            0  \n",
       "2                0            0  \n",
       "3                0            0  \n",
       "4                1            0  "
      ]
     },
     "execution_count": 7,
     "metadata": {},
     "output_type": "execute_result"
    }
   ],
   "source": [
    "data = pd.get_dummies(data, drop_first=True)\n",
    "data.head()"
   ]
  },
  {
   "cell_type": "markdown",
   "metadata": {},
   "source": [
    "#### Вывод\n",
    "Признаки Geography и Gender были закодированы при помощи OHE, излишние признаки не учитываются из-за аргумента drop_first = True"
   ]
  },
  {
   "cell_type": "markdown",
   "metadata": {},
   "source": [
    "### Разбиение на выборки"
   ]
  },
  {
   "cell_type": "markdown",
   "metadata": {},
   "source": [
    "Разобьем исходную выборку на 3 части: обучающая, валидационная и тестовая в пропорции 3:1:1. Выделим признаки и целевой признак."
   ]
  },
  {
   "cell_type": "code",
   "execution_count": 18,
   "metadata": {},
   "outputs": [],
   "source": [
    "data_train_and_valid, data_test = train_test_split(data, test_size=0.2, random_state=12345)\n",
    "data_train, data_valid = train_test_split(data_train_and_valid, test_size = 0.25)\n",
    "\n",
    "features_train = data_train.drop(['Exited'], axis=1)\n",
    "target_train = data_train['Exited']\n",
    "\n",
    "features_valid = data_valid.drop(['Exited'], axis=1)\n",
    "target_valid = data_valid['Exited']\n",
    "\n",
    "features_test = data_test.drop(['Exited'], axis=1)\n",
    "target_test = data_test['Exited']"
   ]
  },
  {
   "cell_type": "markdown",
   "metadata": {},
   "source": [
    "### Масштабирование признаков"
   ]
  },
  {
   "cell_type": "markdown",
   "metadata": {},
   "source": [
    "Произведем масштабирование количественных признаков: **'CreditScore', 'Age', 'Tenure', 'Balance', 'EstimatedSalary'**"
   ]
  },
  {
   "cell_type": "code",
   "execution_count": 19,
   "metadata": {},
   "outputs": [],
   "source": [
    "scaler = StandardScaler()\n",
    "numeric = ['CreditScore', 'Age', 'Tenure', 'Balance', 'EstimatedSalary']\n",
    "scaler.fit(features_train[numeric])\n",
    "features_train[numeric] = scaler.transform(features_train[numeric])\n",
    "features_valid[numeric] = scaler.transform(features_valid[numeric])"
   ]
  },
  {
   "cell_type": "markdown",
   "metadata": {},
   "source": [
    "##  Исследование задачи"
   ]
  },
  {
   "cell_type": "markdown",
   "metadata": {},
   "source": [
    "Подготовим функцию, которая будет использоваться для подсчета и вывода метрик моделей."
   ]
  },
  {
   "cell_type": "code",
   "execution_count": 20,
   "metadata": {},
   "outputs": [],
   "source": [
    "def metrics_result(predictions,target,probabilities_one):\n",
    "    print('accuracy: {:.3f}'.format(accuracy_score(predictions, target)))\n",
    "    print('recall: {:.3f}'.format(recall_score(predictions, target)))\n",
    "    print('precision: {:.3f}'.format(precision_score(predictions, target)))\n",
    "    print('f1: {:.3f}'.format(f1_score(predictions, target)))\n",
    "    print('auc_roc_: {:.3f}'.format(roc_auc_score(target, probabilities_one)))\n",
    "    print()"
   ]
  },
  {
   "cell_type": "markdown",
   "metadata": {},
   "source": [
    "### Логистическая регрессия"
   ]
  },
  {
   "cell_type": "markdown",
   "metadata": {},
   "source": [
    "В качестве первой модели выберем модель на основе логистической регрессии."
   ]
  },
  {
   "cell_type": "code",
   "execution_count": 21,
   "metadata": {},
   "outputs": [
    {
     "name": "stdout",
     "output_type": "stream",
     "text": [
      "accuracy: 0.809\n",
      "recall: 0.607\n",
      "precision: 0.200\n",
      "f1: 0.300\n",
      "auc_roc_: 0.762\n",
      "\n",
      "CPU times: user 63.3 ms, sys: 62.6 ms, total: 126 ms\n",
      "Wall time: 30.5 ms\n"
     ]
    }
   ],
   "source": [
    "%%time\n",
    "model = LogisticRegression(random_state = 12345, solver = 'liblinear')\n",
    "model.fit(features_train, target_train)\n",
    "predicted_valid = model.predict(features_valid)\n",
    "probabilities_valid = model.predict_proba(features_valid)\n",
    "probabilities_one_valid = probabilities_valid[:, 1]\n",
    "metrics_result(predicted_valid, target_valid, probabilities_one_valid)"
   ]
  },
  {
   "cell_type": "markdown",
   "metadata": {},
   "source": [
    "Сравним точность с моделью, предсказывающей постоянный класс."
   ]
  },
  {
   "cell_type": "code",
   "execution_count": 22,
   "metadata": {},
   "outputs": [
    {
     "name": "stdout",
     "output_type": "stream",
     "text": [
      "accuracy: 0.794\n"
     ]
    }
   ],
   "source": [
    "target_pred_constant = pd.Series(0, index = np.arange(len(features_valid)))\n",
    "print('accuracy: {:.3f}'.format(accuracy_score(target_pred_constant, target_valid)))"
   ]
  },
  {
   "cell_type": "markdown",
   "metadata": {},
   "source": [
    "#### Вывод\n",
    "Модель линейной регрессии при имеющимся дисбалансе классов, не подходит для решения поставленной задачи, т.к. f1-мера < 0.59, а также accuracy почти такая же как и у модели, которая предсказывает постоянный класс. Auc_roc = 0.762, что больше чем 0.5 - для случайного классфикатора, но далеко от оптимального."
   ]
  },
  {
   "cell_type": "markdown",
   "metadata": {},
   "source": [
    "###  Случайный лес"
   ]
  },
  {
   "cell_type": "markdown",
   "metadata": {},
   "source": [
    "Теперь обучим модель случайного леса, будем использовать перебор гиперпараметров: кол-во деревьев и максимальную глубину дерева."
   ]
  },
  {
   "cell_type": "code",
   "execution_count": 23,
   "metadata": {},
   "outputs": [
    {
     "name": "stdout",
     "output_type": "stream",
     "text": [
      "Best_parametres: {'n_estimators': 70, 'max_depth': 18}\n",
      "accuracy: 0.865\n",
      "recall: 0.774\n",
      "precision: 0.484\n",
      "f1: 0.596\n",
      "auc_roc_: 0.832\n",
      "\n",
      "CPU times: user 1min 2s, sys: 335 ms, total: 1min 2s\n",
      "Wall time: 1min 2s\n"
     ]
    }
   ],
   "source": [
    "%%time\n",
    "forrest_scores = []\n",
    "best_f1 = 0\n",
    "for estim in range(10,101, 10):\n",
    "    for k in range(1,20):\n",
    "        model = RandomForestClassifier(random_state=12345, n_estimators = estim, max_depth = k)\n",
    "        model.fit(features_train, target_train)\n",
    "        predicted_valid = model.predict(features_valid)\n",
    "        probabilities_valid = model.predict_proba(features_valid)\n",
    "        probabilities_one_valid = probabilities_valid[:, 1]\n",
    "        cur_f1_score = f1_score(predicted_valid,target_valid)\n",
    "        if best_f1 < cur_f1_score:\n",
    "            best_f1 = cur_f1_score\n",
    "            best_predicted_valid = predicted_valid\n",
    "            best_probabilities_valid = probabilities_valid\n",
    "            best_probabilities_one_valid = probabilities_one_valid\n",
    "            best_parametres = {'n_estimators':estim, 'max_depth': k}\n",
    "        \n",
    "print('Best_parametres: {}'.format(best_parametres))\n",
    "metrics_result(best_predicted_valid, target_valid, best_probabilities_one_valid)"
   ]
  },
  {
   "cell_type": "markdown",
   "metadata": {},
   "source": [
    "#### Вывод\n",
    "Модели случайного леса были построены для значений гиперпараметров: кол-во деревьев от 10 до 100 с шагом 10, глубины деревьев от 1 до 20. Лучшая из полученных моделей имеет f1-меру на валидационной выборке 0.59, но при этом точность 0.48, возможно дисбаланс классов вносит коррективы в правильность модели, необходимо это исследовать. Auc_roc - 0.832, что больше, чем для модели логистической регрессии, полученной ранее."
   ]
  },
  {
   "cell_type": "markdown",
   "metadata": {},
   "source": [
    "## Борьба с дисбалансом"
   ]
  },
  {
   "cell_type": "markdown",
   "metadata": {},
   "source": [
    "Применим различные методы для борьбы с диссбалансом классов. Для начала исследуем поможет ли применение этих методов улучшить качество модели логистической регрессии. "
   ]
  },
  {
   "cell_type": "markdown",
   "metadata": {},
   "source": [
    "### Логистическая регрессия"
   ]
  },
  {
   "cell_type": "markdown",
   "metadata": {},
   "source": [
    "#### Взвешивание классов"
   ]
  },
  {
   "cell_type": "code",
   "execution_count": 24,
   "metadata": {},
   "outputs": [
    {
     "name": "stdout",
     "output_type": "stream",
     "text": [
      "accuracy: 0.708\n",
      "recall: 0.381\n",
      "precision: 0.672\n",
      "f1: 0.486\n",
      "auc_roc_: 0.763\n",
      "\n",
      "CPU times: user 101 ms, sys: 72.9 ms, total: 174 ms\n",
      "Wall time: 82.3 ms\n"
     ]
    }
   ],
   "source": [
    "%%time\n",
    "model = LogisticRegression(random_state = 12345, solver = 'liblinear', class_weight = 'balanced')\n",
    "model.fit(features_train, target_train)\n",
    "predicted_valid = model.predict(features_valid)\n",
    "probabilities_valid = model.predict_proba(features_valid)\n",
    "probabilities_one_valid = probabilities_valid[:, 1]\n",
    "metrics_result(predicted_valid, target_valid, probabilities_one_valid)"
   ]
  },
  {
   "cell_type": "markdown",
   "metadata": {},
   "source": [
    "##### Вывод\n",
    "Взвешивание классов увеличило f1-меру, но недостаточно, при этом ухудшились полнота. Необходимо искать решения дальше. Auc_roc вырос незначительно."
   ]
  },
  {
   "cell_type": "markdown",
   "metadata": {},
   "source": [
    "####  Увеличение выборки"
   ]
  },
  {
   "cell_type": "markdown",
   "metadata": {},
   "source": [
    "upsample - Функция, кот-ая увеличивает обучающую выборку и перемешивает ее, т.к. изначально в данных соотношение классов было 4:1, то кол-во объектов класса '1' в обучающей выборке было увеличенно в 4 раза, чтобы получить баланс классов."
   ]
  },
  {
   "cell_type": "code",
   "execution_count": 26,
   "metadata": {},
   "outputs": [],
   "source": [
    "def upsample(features, target, repeat):\n",
    "    features_zeros = features[target == 0]\n",
    "    features_ones = features[target == 1]\n",
    "    target_zeros = target[target == 0]\n",
    "    target_ones = target[target == 1]\n",
    "\n",
    "    features_upsampled = pd.concat([features_zeros] + [features_ones] * repeat)\n",
    "    target_upsampled = pd.concat([target_zeros] + [target_ones] * repeat)\n",
    "    \n",
    "    features_upsampled, target_upsampled = shuffle(\n",
    "        features_upsampled, target_upsampled, random_state=12345)\n",
    "    \n",
    "    return features_upsampled, target_upsampled\n",
    "\n",
    "features_upsampled, target_upsampled = upsample(features_train, target_train, 4)"
   ]
  },
  {
   "cell_type": "code",
   "execution_count": 27,
   "metadata": {},
   "outputs": [
    {
     "name": "stdout",
     "output_type": "stream",
     "text": [
      "accuracy: 0.708\n",
      "recall: 0.381\n",
      "precision: 0.672\n",
      "f1: 0.486\n",
      "auc_roc_: 0.763\n",
      "\n",
      "CPU times: user 110 ms, sys: 56.2 ms, total: 167 ms\n",
      "Wall time: 91.6 ms\n"
     ]
    }
   ],
   "source": [
    "%%time\n",
    "model = LogisticRegression(random_state = 12345, solver = 'liblinear')\n",
    "model.fit(features_upsampled, target_upsampled)\n",
    "predicted_valid = model.predict(features_valid)\n",
    "probabilities_valid = model.predict_proba(features_valid)\n",
    "probabilities_one_valid = probabilities_valid[:, 1]\n",
    "metrics_result(predicted_valid, target_valid, probabilities_one_valid)"
   ]
  },
  {
   "cell_type": "markdown",
   "metadata": {},
   "source": [
    "##### Вывод\n",
    "f1-мера почти такая же, как и при взвешивании классов, но при этом accuracy и полнота еще меньше. Auc_roc остался прежним."
   ]
  },
  {
   "cell_type": "markdown",
   "metadata": {},
   "source": [
    "#### Уменьшение выборки"
   ]
  },
  {
   "cell_type": "markdown",
   "metadata": {},
   "source": [
    "downsample - Функция, кот-ая уменьшает обучающую выборку и перемешивает ее, т.к. изначально в данных соотношение классов было 4:1, то кол-во объектов класса '0' в обучающей выборке было уменьшено в 4 раза."
   ]
  },
  {
   "cell_type": "code",
   "execution_count": 28,
   "metadata": {},
   "outputs": [],
   "source": [
    "def downsample(features, target, fraction):\n",
    "    features_zeros = features[target == 0]\n",
    "    features_ones = features[target == 1]\n",
    "    target_zeros = target[target == 0]\n",
    "    target_ones = target[target == 1]\n",
    "\n",
    "    features_downsampled = pd.concat(\n",
    "        [features_zeros.sample(frac=fraction, random_state=12345)] + [features_ones])\n",
    "    target_downsampled = pd.concat(\n",
    "        [target_zeros.sample(frac=fraction, random_state=12345)] + [target_ones])\n",
    "    \n",
    "    features_downsampled, target_downsampled = shuffle(\n",
    "        features_downsampled, target_downsampled, random_state=12345)\n",
    "    \n",
    "    return features_downsampled, target_downsampled\n",
    "\n",
    "features_downsampled, target_downsampled = downsample(features_train, target_train, 0.25)"
   ]
  },
  {
   "cell_type": "code",
   "execution_count": 29,
   "metadata": {},
   "outputs": [
    {
     "name": "stdout",
     "output_type": "stream",
     "text": [
      "accuracy: 0.697\n",
      "recall: 0.368\n",
      "precision: 0.664\n",
      "f1: 0.474\n",
      "auc_roc_: 0.759\n",
      "\n",
      "CPU times: user 71.1 ms, sys: 40.1 ms, total: 111 ms\n",
      "Wall time: 106 ms\n"
     ]
    }
   ],
   "source": [
    "%%time\n",
    "model = LogisticRegression(random_state = 12345, solver = 'liblinear')\n",
    "model.fit(features_downsampled, target_downsampled)\n",
    "predicted_valid = model.predict(features_valid)\n",
    "probabilities_valid = model.predict_proba(features_valid)\n",
    "probabilities_one_valid = probabilities_valid[:, 1]\n",
    "metrics_result(predicted_valid, target_valid, probabilities_one_valid)"
   ]
  },
  {
   "cell_type": "markdown",
   "metadata": {},
   "source": [
    "##### Вывод\n",
    "f1-мера, такая же как и при увеличении выборки, остальные показатели изменились несильно. Такой способ тоже не подходит. Auc_roc почти не изменился."
   ]
  },
  {
   "cell_type": "markdown",
   "metadata": {},
   "source": [
    "#### Изменение порога"
   ]
  },
  {
   "cell_type": "markdown",
   "metadata": {},
   "source": [
    "Будем менять порог вероятности принадлежности объекта классу."
   ]
  },
  {
   "cell_type": "code",
   "execution_count": 30,
   "metadata": {},
   "outputs": [
    {
     "name": "stdout",
     "output_type": "stream",
     "text": [
      "Best_parametres: {'threshold': 0.26}\n",
      "accuracy: 0.770\n",
      "recall: 0.453\n",
      "precision: 0.560\n",
      "f1: 0.501\n",
      "auc_roc_: 0.762\n",
      "\n",
      "CPU times: user 715 ms, sys: 833 ms, total: 1.55 s\n",
      "Wall time: 1.51 s\n"
     ]
    }
   ],
   "source": [
    "%%time\n",
    "best_f1 = 0\n",
    "model = LogisticRegression(random_state = 12345, solver = 'liblinear')\n",
    "model.fit(features_train, target_train)\n",
    "predicted_valid = model.predict(features_valid)\n",
    "for threshold in np.arange(0, 0.6, 0.02):\n",
    "    probabilities_valid = model.predict_proba(features_valid)\n",
    "    probabilities_one_valid = probabilities_valid[:, 1]\n",
    "    predicted_valid = probabilities_one_valid > threshold\n",
    "    cur_f1_score = f1_score(predicted_valid,target_valid)\n",
    "    if best_f1 < cur_f1_score:\n",
    "        best_f1 = cur_f1_score\n",
    "        best_predicted_valid = predicted_valid\n",
    "        best_probabilities_valid = probabilities_valid\n",
    "        best_probabilities_one_valid = probabilities_one_valid\n",
    "        best_threshold = threshold\n",
    "        best_parametres = {'threshold':best_threshold}\n",
    "        \n",
    "print('Best_parametres: {}'.format(best_parametres))\n",
    "metrics_result(best_predicted_valid, target_valid, best_probabilities_one_valid)\n"
   ]
  },
  {
   "cell_type": "markdown",
   "metadata": {},
   "source": [
    "##### Вывод\n",
    "Изменение порога помогло достичь такой же уровень f1-меры, что и предыдущие случаи, но при этом выросло значения полноты и ухудшилась точность, но в любом случае логистическая регрессия показывает неудоволетворительный результат для решения поставленной задачи."
   ]
  },
  {
   "cell_type": "markdown",
   "metadata": {},
   "source": [
    "### Случайный лес"
   ]
  },
  {
   "cell_type": "markdown",
   "metadata": {},
   "source": [
    "Будем использовать аналогичные меры для борьбы с дисбалансом классов для случайного леса."
   ]
  },
  {
   "cell_type": "markdown",
   "metadata": {},
   "source": [
    "#### Взвешивание классов"
   ]
  },
  {
   "cell_type": "code",
   "execution_count": 31,
   "metadata": {},
   "outputs": [
    {
     "name": "stdout",
     "output_type": "stream",
     "text": [
      "Best_parametres: {'n_estimators': 100, 'max_depth': 9}\n",
      "accuracy: 0.836\n",
      "recall: 0.590\n",
      "precision: 0.664\n",
      "f1: 0.625\n",
      "auc_roc_: 0.849\n",
      "\n",
      "CPU times: user 1min 1s, sys: 299 ms, total: 1min 2s\n",
      "Wall time: 1min 2s\n"
     ]
    }
   ],
   "source": [
    "%%time\n",
    "forrest_scores = []\n",
    "best_f1 = 0\n",
    "for estim in range(10,101, 10):\n",
    "    for k in range(1,20):\n",
    "        model = RandomForestClassifier(random_state=12345, n_estimators = estim, max_depth = k, class_weight = 'balanced')\n",
    "        model.fit(features_train, target_train)\n",
    "        predicted_valid = model.predict(features_valid)\n",
    "        probabilities_valid = model.predict_proba(features_valid)\n",
    "        probabilities_one_valid = probabilities_valid[:, 1]\n",
    "        cur_f1_score = f1_score(predicted_valid,target_valid)\n",
    "        if best_f1 < cur_f1_score:\n",
    "            best_f1 = cur_f1_score\n",
    "            best_predicted_valid = predicted_valid\n",
    "            best_probabilities_valid = probabilities_valid\n",
    "            best_probabilities_one_valid = probabilities_one_valid\n",
    "            best_parametres = {'n_estimators':estim, 'max_depth': k}\n",
    "        \n",
    "print('Best_parametres: {}'.format(best_parametres))\n",
    "metrics_result(best_predicted_valid, target_valid, best_probabilities_one_valid)"
   ]
  },
  {
   "cell_type": "markdown",
   "metadata": {},
   "source": [
    "##### Вывод\n",
    "При взвешивании классов f1-мера = 0.625, значения полноты и точности также выше, чем для логистической регрессии. Значение Auc_roc также выросло по сравнению с моделью без учета взвешивания классов."
   ]
  },
  {
   "cell_type": "markdown",
   "metadata": {},
   "source": [
    "####  Увеличение выборки"
   ]
  },
  {
   "cell_type": "code",
   "execution_count": 32,
   "metadata": {},
   "outputs": [
    {
     "name": "stdout",
     "output_type": "stream",
     "text": [
      "Best_parametres: {'n_estimators': 30, 'max_depth': 12}\n",
      "accuracy: 0.841\n",
      "recall: 0.610\n",
      "precision: 0.623\n",
      "f1: 0.616\n",
      "auc_roc_: 0.844\n",
      "\n",
      "CPU times: user 1min 8s, sys: 255 ms, total: 1min 8s\n",
      "Wall time: 1min 8s\n"
     ]
    }
   ],
   "source": [
    "%%time\n",
    "forrest_scores = []\n",
    "best_f1 = 0\n",
    "for estim in range(10,91, 10):\n",
    "    for k in range(1,20):\n",
    "        model = RandomForestClassifier(random_state=12345, n_estimators = estim, max_depth = k,)\n",
    "        model.fit(features_upsampled, target_upsampled)\n",
    "        predicted_valid = model.predict(features_valid)\n",
    "        probabilities_valid = model.predict_proba(features_valid)\n",
    "        probabilities_one_valid = probabilities_valid[:, 1]\n",
    "        cur_f1_score = f1_score(predicted_valid,target_valid)\n",
    "        if best_f1 < cur_f1_score:\n",
    "            best_f1 = cur_f1_score\n",
    "            best_predicted_valid = predicted_valid\n",
    "            best_probabilities_valid = probabilities_valid\n",
    "            best_probabilities_one_valid = probabilities_one_valid\n",
    "            best_parametres = {'n_estimators':estim, 'max_depth': k}\n",
    "        \n",
    "print('Best_parametres: {}'.format(best_parametres))\n",
    "metrics_result(best_predicted_valid, target_valid, best_probabilities_one_valid)"
   ]
  },
  {
   "cell_type": "markdown",
   "metadata": {},
   "source": [
    "##### Вывод\n",
    "При увеличении выборки f1-мера = 0.616, значения полноты ухудшилось, но немного возросла точность. Значение Auc_roc немного уменьшилось."
   ]
  },
  {
   "cell_type": "markdown",
   "metadata": {},
   "source": [
    "#### Уменьшение выборки"
   ]
  },
  {
   "cell_type": "code",
   "execution_count": 33,
   "metadata": {},
   "outputs": [
    {
     "name": "stdout",
     "output_type": "stream",
     "text": [
      "Best_parametres: {'n_estimators': 20, 'max_depth': 7}\n",
      "accuracy: 0.778\n",
      "recall: 0.476\n",
      "precision: 0.759\n",
      "f1: 0.585\n",
      "auc_roc_: 0.842\n",
      "\n",
      "CPU times: user 30.4 s, sys: 136 ms, total: 30.6 s\n",
      "Wall time: 30.6 s\n"
     ]
    }
   ],
   "source": [
    "%%time\n",
    "forrest_scores = []\n",
    "best_f1 = 0\n",
    "for estim in range(10,91, 10):\n",
    "    for k in range(1,20):\n",
    "        model = RandomForestClassifier(random_state=12345, n_estimators = estim, max_depth = k,)\n",
    "        model.fit(features_downsampled, target_downsampled )\n",
    "        predicted_valid = model.predict(features_valid)\n",
    "        probabilities_valid = model.predict_proba(features_valid)\n",
    "        probabilities_one_valid = probabilities_valid[:, 1]\n",
    "        cur_f1_score = f1_score(predicted_valid,target_valid)\n",
    "        if best_f1 < cur_f1_score:\n",
    "            best_f1 = cur_f1_score\n",
    "            best_predicted_valid = predicted_valid\n",
    "            best_probabilities_valid = probabilities_valid\n",
    "            best_probabilities_one_valid = probabilities_one_valid\n",
    "            best_parametres = {'n_estimators':estim, 'max_depth': k}\n",
    "        \n",
    "print('Best_parametres: {}'.format(best_parametres))\n",
    "metrics_result(best_predicted_valid, target_valid, best_probabilities_one_valid)"
   ]
  },
  {
   "cell_type": "markdown",
   "metadata": {},
   "source": [
    "##### Вывод\n",
    "f1-мера ниже, чем при предыдущих методах, значение полноты ухудщилось, но точность возросла. Значение Auc_roc немного уменьшилось."
   ]
  },
  {
   "cell_type": "markdown",
   "metadata": {},
   "source": [
    "#### Изменение порога"
   ]
  },
  {
   "cell_type": "code",
   "execution_count": 34,
   "metadata": {},
   "outputs": [
    {
     "name": "stdout",
     "output_type": "stream",
     "text": [
      "Best_parametres: {'n_estimators': 90, 'max_depth': 10, 'threshold': 0.34}\n",
      "accuracy: 0.861\n",
      "recall: 0.689\n",
      "precision: 0.589\n",
      "f1: 0.635\n",
      "auc_roc_: 0.844\n",
      "\n",
      "CPU times: user 25min 40s, sys: 5.22 s, total: 25min 45s\n",
      "Wall time: 25min 45s\n"
     ]
    }
   ],
   "source": [
    "%%time\n",
    "forrest_scores = []\n",
    "best_f1 = 0\n",
    "for threshold in np.arange(0, 0.6, 0.02):\n",
    "    for estim in range(10,91, 10):\n",
    "        for k in range(1,20):\n",
    "            model = RandomForestClassifier(random_state=12345, n_estimators = estim, max_depth = k)\n",
    "            model.fit(features_train, target_train)\n",
    "            predicted_valid = model.predict(features_valid)\n",
    "            probabilities_valid = model.predict_proba(features_valid)\n",
    "            probabilities_one_valid = probabilities_valid[:, 1]\n",
    "            predicted_valid = probabilities_one_valid > threshold\n",
    "            cur_f1_score = f1_score(predicted_valid,target_valid)\n",
    "            if best_f1 < cur_f1_score:\n",
    "                best_f1 = cur_f1_score\n",
    "                best_predicted_valid = predicted_valid\n",
    "                best_probabilities_valid = probabilities_valid\n",
    "                best_probabilities_one_valid = probabilities_one_valid\n",
    "                best_threshold = threshold\n",
    "                best_parametres = {'n_estimators':estim, 'max_depth': k, 'threshold':best_threshold}\n",
    "        \n",
    "print('Best_parametres: {}'.format(best_parametres))\n",
    "metrics_result(best_predicted_valid, target_valid, best_probabilities_one_valid)"
   ]
  },
  {
   "cell_type": "markdown",
   "metadata": {},
   "source": [
    "##### Вывод\n",
    "f1-мера = 0.644 наибольший результат. Значение Auc_roc немного меньше, чем при взвешивании классов, но полнота и точность выросли. Модель с данными гиперпараметрами и порогом будет использоваться для тестирования."
   ]
  },
  {
   "cell_type": "markdown",
   "metadata": {},
   "source": [
    "# 4. Тестирование модели"
   ]
  },
  {
   "cell_type": "markdown",
   "metadata": {},
   "source": [
    "Для начала необходимо обучить модель на обучающем и валидационном наборах. Для этого необхоимо заново выполнить масштабирование числовых признаков."
   ]
  },
  {
   "cell_type": "code",
   "execution_count": 35,
   "metadata": {},
   "outputs": [],
   "source": [
    "features_train_and_valid = data_train_and_valid.drop(['Exited'], axis=1)\n",
    "target_train_and_valid = data_train_and_valid['Exited']\n",
    "scaler = StandardScaler()\n",
    "numeric = ['CreditScore', 'Age', 'Tenure', 'Balance', 'EstimatedSalary']\n",
    "scaler.fit(features_train_and_valid[numeric])\n",
    "features_train_and_valid[numeric] = scaler.transform(features_train_and_valid[numeric])\n",
    "features_test[numeric] = scaler.transform(features_test[numeric])"
   ]
  },
  {
   "cell_type": "code",
   "execution_count": 36,
   "metadata": {},
   "outputs": [
    {
     "name": "stdout",
     "output_type": "stream",
     "text": [
      "accuracy: 0.859\n",
      "recall: 0.702\n",
      "precision: 0.590\n",
      "f1: 0.641\n",
      "auc_roc_: 0.871\n",
      "\n",
      "CPU times: user 718 ms, sys: 7.97 ms, total: 726 ms\n",
      "Wall time: 723 ms\n"
     ]
    }
   ],
   "source": [
    "%%time\n",
    "threshold = 0.34\n",
    "\n",
    "\n",
    "model = RandomForestClassifier(n_estimators = 90, max_depth = 10, random_state = 12345,)\n",
    "model.fit(features_train_and_valid,target_train_and_valid)\n",
    "predicted_valid = model.predict(features_test)\n",
    "probabilities_valid = model.predict_proba(features_test)\n",
    "probabilities_one_valid = probabilities_valid[:, 1]\n",
    "predicted_valid = probabilities_one_valid > threshold\n",
    "metrics_result(predicted_valid, target_test,probabilities_one_valid)"
   ]
  },
  {
   "cell_type": "markdown",
   "metadata": {},
   "source": [
    "##### Вывод\n",
    "Таким образом после обучения выбранной модели на увеличенной выборке была получена f1-мера 0.641, что больше 0.59. Следовательно модель с необходимой точностью построена. Как и казалось значение f1-метрики ухудшились по сравнению с валидационной выборкой, что свидетельсвует о переобучении модели. Но Auc_roc получилось даже немного больше, чем на валидационной выборке."
   ]
  },
  {
   "cell_type": "markdown",
   "metadata": {},
   "source": [
    "## Общий вывод\n",
    "Таким образом в ходе выполнения проекта была решена поставленная задача, модель показала f1-меру на тестовой выборке 0.641 > 0.59. Были опробованы различные методы борьбы с дисбалансом классов.\n",
    "Можно предположить, что выбор модели и метрики, а вместе с ними и методов избавления от дисбаланса зависит от конкретной задачи. Например, в данной задаче на мой взгляд было бы логично, искать высокое значение f1-меры, но при этом, чтобы значение полноты тоже было большим, т.е. пожертвовать \"точностью\". Так как я думаю, что в рамках данной задачи важнее найти всех клиентов, которые собираются покинуть банк."
   ]
  },
  {
   "cell_type": "code",
   "execution_count": null,
   "metadata": {},
   "outputs": [],
   "source": []
  }
 ],
 "metadata": {
  "ExecuteTimeLog": [
   {
    "duration": 1774,
    "start_time": "2023-11-17T20:00:18.411Z"
   },
   {
    "duration": 116,
    "start_time": "2023-11-17T20:00:20.187Z"
   },
   {
    "duration": 23,
    "start_time": "2023-11-17T20:00:24.495Z"
   },
   {
    "duration": 194,
    "start_time": "2023-11-17T20:01:15.821Z"
   },
   {
    "duration": 11,
    "start_time": "2023-11-17T20:01:20.475Z"
   },
   {
    "duration": 14,
    "start_time": "2023-11-17T20:01:44.485Z"
   },
   {
    "duration": 18,
    "start_time": "2023-11-17T20:04:44.515Z"
   },
   {
    "duration": 219,
    "start_time": "2023-11-17T20:10:46.965Z"
   },
   {
    "duration": 11,
    "start_time": "2023-11-17T20:10:51.860Z"
   },
   {
    "duration": 21,
    "start_time": "2023-11-17T20:10:53.037Z"
   },
   {
    "duration": 4,
    "start_time": "2023-11-17T20:10:55.285Z"
   },
   {
    "duration": 123,
    "start_time": "2023-11-17T20:10:56.792Z"
   },
   {
    "duration": 5,
    "start_time": "2023-11-17T20:11:01.385Z"
   },
   {
    "duration": 121,
    "start_time": "2023-11-17T20:11:24.990Z"
   },
   {
    "duration": 4,
    "start_time": "2023-11-17T20:11:28.326Z"
   },
   {
    "duration": 110,
    "start_time": "2023-11-17T20:11:32.705Z"
   },
   {
    "duration": 5,
    "start_time": "2023-11-17T20:11:33.804Z"
   },
   {
    "duration": 10,
    "start_time": "2023-11-17T20:11:38.191Z"
   },
   {
    "duration": 19,
    "start_time": "2023-11-17T20:11:39.330Z"
   },
   {
    "duration": 3,
    "start_time": "2023-11-17T20:11:40.624Z"
   },
   {
    "duration": 35,
    "start_time": "2023-11-17T20:11:42.079Z"
   },
   {
    "duration": 4,
    "start_time": "2023-11-17T20:13:27.657Z"
   },
   {
    "duration": 62969,
    "start_time": "2023-11-17T20:15:37.312Z"
   },
   {
    "duration": 176,
    "start_time": "2023-11-17T20:20:13.031Z"
   },
   {
    "duration": 11,
    "start_time": "2023-11-17T20:20:37.266Z"
   },
   {
    "duration": 11,
    "start_time": "2023-11-17T20:21:23.884Z"
   },
   {
    "duration": 185,
    "start_time": "2023-11-17T20:21:27.421Z"
   },
   {
    "duration": 11,
    "start_time": "2023-11-17T20:22:04.563Z"
   },
   {
    "duration": 111,
    "start_time": "2023-11-17T20:22:09.098Z"
   },
   {
    "duration": 1516,
    "start_time": "2023-11-17T20:26:56.096Z"
   },
   {
    "duration": 62300,
    "start_time": "2023-11-17T20:28:09.426Z"
   },
   {
    "duration": 68952,
    "start_time": "2023-11-17T20:32:58.542Z"
   },
   {
    "duration": 30573,
    "start_time": "2023-11-17T20:34:26.173Z"
   },
   {
    "duration": 1545801,
    "start_time": "2023-11-17T20:35:08.658Z"
   },
   {
    "duration": 24,
    "start_time": "2023-11-17T21:02:09.151Z"
   },
   {
    "duration": 727,
    "start_time": "2023-11-17T21:03:00.352Z"
   },
   {
    "duration": 114,
    "start_time": "2023-11-17T21:04:54.659Z"
   },
   {
    "duration": 297,
    "start_time": "2023-11-17T21:05:17.148Z"
   }
  ],
  "kernelspec": {
   "display_name": "Python 3 (ipykernel)",
   "language": "python",
   "name": "python3"
  },
  "language_info": {
   "codemirror_mode": {
    "name": "ipython",
    "version": 3
   },
   "file_extension": ".py",
   "mimetype": "text/x-python",
   "name": "python",
   "nbconvert_exporter": "python",
   "pygments_lexer": "ipython3",
   "version": "3.9.5"
  },
  "toc": {
   "base_numbering": 1,
   "nav_menu": {},
   "number_sections": true,
   "sideBar": true,
   "skip_h1_title": true,
   "title_cell": "Table of Contents",
   "title_sidebar": "Contents",
   "toc_cell": false,
   "toc_position": {},
   "toc_section_display": true,
   "toc_window_display": false
  }
 },
 "nbformat": 4,
 "nbformat_minor": 2
}

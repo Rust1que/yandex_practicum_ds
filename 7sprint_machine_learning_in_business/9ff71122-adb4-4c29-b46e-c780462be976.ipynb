{
 "cells": [
  {
   "cell_type": "markdown",
   "metadata": {},
   "source": [
    "# Описание проекта"
   ]
  },
  {
   "cell_type": "markdown",
   "metadata": {},
   "source": [
    "Допустим, вы работаете в добывающей компании «ГлавРосГосНефть». Нужно решить, где бурить новую скважину.\n",
    "\n",
    "Вам предоставлены пробы нефти в трёх регионах: в каждом 100000 месторождений, где измерили качество нефти и объём её запасов. Постройте модель машинного обучения, которая поможет определить регион, где добыча принесёт наибольшую прибыль. Проанализируйте возможную прибыль и риски техникой *Bootstrap.*\n",
    "\n",
    "Шаги для выбора локации:\n",
    "\n",
    "- В избранном регионе ищут месторождения, для каждого определяют значения признаков;\n",
    "- Строят модель и оценивают объём запасов;\n",
    "- Выбирают месторождения с самым высокими оценками значений. Количество месторождений зависит от бюджета компании и стоимости разработки одной скважины;\n",
    "- Прибыль равна суммарной прибыли отобранных месторождений."
   ]
  },
  {
   "cell_type": "markdown",
   "metadata": {},
   "source": [
    "**Инструкция по выполнению проекта**\n",
    "\n",
    "Загрузите и подготовьте данные. Поясните порядок действий.\n",
    "\n",
    "Обучите и проверьте модель для каждого региона:\n",
    " - 2.1. Разбейте данные на обучающую и валидационную выборки в соотношении 75:25.\n",
    " - 2.2. Обучите модель и сделайте предсказания на валидационной выборке.\n",
    " - 2.3. Сохраните предсказания и правильные ответы на валидационной выборке.\n",
    " - 2.4. Напечатайте на экране средний запас сырья и RMSE модели.\n",
    " - 2.5. Проанализируйте результаты.\n",
    "Подготовьтесь к расчёту прибыли:\n",
    " - 3.1. Сохраните в коде все ключевые значения для расчётов.\n",
    " - 3.2. Посчитайте минимальный средний объём сырья в месторождениях региона, достаточный для его разработки. Напишите выводы.\n",
    " - 3.3. Напишите функцию для расчёта прибыли по набору отобранных месторождений и предсказаний модели.\n",
    "Посчитайте риски и прибыль для каждого региона:\n",
    " - 4.1. Примените технику Bootstrap с 1000 выборок, чтобы найти распределение прибыли.\n",
    " - 4.2. Найдите среднюю прибыль, 95%-й доверительный интервал и риск убытков.\n",
    " - 4.3. Напишите выводы: предложите регион для разработки месторождений и обоснуйте выбор."
   ]
  },
  {
   "cell_type": "markdown",
   "metadata": {},
   "source": [
    "**Описание данных**\n",
    "Данные геологоразведки трёх регионов находятся в файлах:\n",
    " - geo_data_0.csv.\n",
    " - geo_data_1.csv.\n",
    " - geo_data_2.csv.\n",
    " - id — уникальный идентификатор месторождения;\n",
    " - f0, f1, f2 — три признака точек (неважно, что они означают, но сами признаки значимы);\n",
    " - product — объём запасов в месторождении (тыс. баррелей).\n",
    "\n",
    "**Условия задачи:**\n",
    "Для обучения модели подходит только линейная регрессия (остальные — недостаточно предсказуемые).\n",
    "При разведке региона проводится исследование 500 точек.\n",
    "Бюджет на разработку месторождений — 10 млрд рублей, стоимость бурения одной скважины — 50 млн рублей.\n",
    "Один баррель сырья приносит 4500 рублей прибыли.\n",
    "Не рассматривать регионы, в которых риск убытков выше 2.5%. Из оставшихся выбирается регион с наибольшей средней прибылью."
   ]
  },
  {
   "cell_type": "markdown",
   "metadata": {},
   "source": [
    "## Загрузка и подготовка данных"
   ]
  },
  {
   "cell_type": "code",
   "execution_count": 1,
   "metadata": {},
   "outputs": [],
   "source": [
    "import pandas as pd\n",
    "import matplotlib as plt\n",
    "import seaborn as sns\n",
    "import numpy as np\n",
    "from scipy import stats as st\n",
    "from sklearn.model_selection import train_test_split\n",
    "from sklearn.preprocessing import StandardScaler\n",
    "from sklearn.metrics import mean_squared_error\n",
    "from sklearn.linear_model import LinearRegression\n",
    "from sklearn.model_selection import cross_val_score"
   ]
  },
  {
   "cell_type": "markdown",
   "metadata": {},
   "source": [
    "Откроем и изучим общую информацию о данных."
   ]
  },
  {
   "cell_type": "code",
   "execution_count": 2,
   "metadata": {},
   "outputs": [
    {
     "data": {
      "text/html": [
       "<div>\n",
       "<style scoped>\n",
       "    .dataframe tbody tr th:only-of-type {\n",
       "        vertical-align: middle;\n",
       "    }\n",
       "\n",
       "    .dataframe tbody tr th {\n",
       "        vertical-align: top;\n",
       "    }\n",
       "\n",
       "    .dataframe thead th {\n",
       "        text-align: right;\n",
       "    }\n",
       "</style>\n",
       "<table border=\"1\" class=\"dataframe\">\n",
       "  <thead>\n",
       "    <tr style=\"text-align: right;\">\n",
       "      <th></th>\n",
       "      <th>id</th>\n",
       "      <th>f0</th>\n",
       "      <th>f1</th>\n",
       "      <th>f2</th>\n",
       "      <th>product</th>\n",
       "    </tr>\n",
       "  </thead>\n",
       "  <tbody>\n",
       "    <tr>\n",
       "      <th>0</th>\n",
       "      <td>txEyH</td>\n",
       "      <td>0.705745</td>\n",
       "      <td>-0.497823</td>\n",
       "      <td>1.221170</td>\n",
       "      <td>105.280062</td>\n",
       "    </tr>\n",
       "    <tr>\n",
       "      <th>1</th>\n",
       "      <td>2acmU</td>\n",
       "      <td>1.334711</td>\n",
       "      <td>-0.340164</td>\n",
       "      <td>4.365080</td>\n",
       "      <td>73.037750</td>\n",
       "    </tr>\n",
       "    <tr>\n",
       "      <th>2</th>\n",
       "      <td>409Wp</td>\n",
       "      <td>1.022732</td>\n",
       "      <td>0.151990</td>\n",
       "      <td>1.419926</td>\n",
       "      <td>85.265647</td>\n",
       "    </tr>\n",
       "    <tr>\n",
       "      <th>3</th>\n",
       "      <td>iJLyR</td>\n",
       "      <td>-0.032172</td>\n",
       "      <td>0.139033</td>\n",
       "      <td>2.978566</td>\n",
       "      <td>168.620776</td>\n",
       "    </tr>\n",
       "    <tr>\n",
       "      <th>4</th>\n",
       "      <td>Xdl7t</td>\n",
       "      <td>1.988431</td>\n",
       "      <td>0.155413</td>\n",
       "      <td>4.751769</td>\n",
       "      <td>154.036647</td>\n",
       "    </tr>\n",
       "  </tbody>\n",
       "</table>\n",
       "</div>"
      ],
      "text/plain": [
       "      id        f0        f1        f2     product\n",
       "0  txEyH  0.705745 -0.497823  1.221170  105.280062\n",
       "1  2acmU  1.334711 -0.340164  4.365080   73.037750\n",
       "2  409Wp  1.022732  0.151990  1.419926   85.265647\n",
       "3  iJLyR -0.032172  0.139033  2.978566  168.620776\n",
       "4  Xdl7t  1.988431  0.155413  4.751769  154.036647"
      ]
     },
     "metadata": {},
     "output_type": "display_data"
    },
    {
     "name": "stdout",
     "output_type": "stream",
     "text": [
      "<class 'pandas.core.frame.DataFrame'>\n",
      "RangeIndex: 100000 entries, 0 to 99999\n",
      "Data columns (total 5 columns):\n",
      " #   Column   Non-Null Count   Dtype  \n",
      "---  ------   --------------   -----  \n",
      " 0   id       100000 non-null  object \n",
      " 1   f0       100000 non-null  float64\n",
      " 2   f1       100000 non-null  float64\n",
      " 3   f2       100000 non-null  float64\n",
      " 4   product  100000 non-null  float64\n",
      "dtypes: float64(4), object(1)\n",
      "memory usage: 3.8+ MB\n"
     ]
    },
    {
     "data": {
      "text/plain": [
       "None"
      ]
     },
     "metadata": {},
     "output_type": "display_data"
    },
    {
     "name": "stdout",
     "output_type": "stream",
     "text": [
      "10\n"
     ]
    }
   ],
   "source": [
    "data_0 = pd.read_csv('/datasets/geo_data_0.csv')\n",
    "data_1 = pd.read_csv('/datasets/geo_data_1.csv')\n",
    "data_2 = pd.read_csv('/datasets/geo_data_2.csv')\n",
    "display(data_0.head())\n",
    "display(data_0.info())\n",
    "print(data_0['id'].duplicated().sum())"
   ]
  },
  {
   "cell_type": "markdown",
   "metadata": {},
   "source": [
    "### Вывод\n",
    "Файлы открыты, пропущенных значений нет, но есть строки с повторяющимися id, причины их возникновения могут быть разными(ошибка в записи id или данные были получены из разных источников), но т.к. таких строк немного(в первом файле всего 10), то было решено от них избавиться."
   ]
  },
  {
   "cell_type": "markdown",
   "metadata": {},
   "source": [
    "Создадим функцию для обработки входных данных. preproc - функция, которая избавляется от строк с дубликатами id, затем удаляет стоблец с id(т.к. он не будет использоваться для построения модели), а также производит разбиение на обучающую и валидационную выборки."
   ]
  },
  {
   "cell_type": "code",
   "execution_count": 3,
   "metadata": {},
   "outputs": [],
   "source": [
    "def preproc(data):\n",
    "    data['id'] = data['id'].drop_duplicates().reset_index(drop = True)\n",
    "    data.dropna(inplace = True)\n",
    "    \n",
    "    data.drop(data[['id']],axis = 1, inplace = True)\n",
    "    \n",
    "    data_train_cur, data_valid_cur = train_test_split(data, test_size = 0.25, random_state = 12345)\n",
    "\n",
    "    features_train_cur = data_train_cur.drop(['product'], axis = 1)\n",
    "    target_train_cur = data_train_cur['product']\n",
    "\n",
    "    features_valid_cur = data_valid_cur.drop(['product'], axis = 1)\n",
    "    target_valid_cur = data_valid_cur['product']\n",
    "    \n",
    "    return features_train_cur, target_train_cur, features_valid_cur, target_valid_cur"
   ]
  },
  {
   "cell_type": "code",
   "execution_count": 4,
   "metadata": {},
   "outputs": [],
   "source": [
    "features_train_0, target_train_0, features_valid_0, target_valid_0 = preproc(data_0)\n",
    "features_train_1, target_train_1, features_valid_1, target_valid_1 = preproc(data_1)\n",
    "features_train_2, target_train_2, features_valid_2, target_valid_2 = preproc(data_2)"
   ]
  },
  {
   "cell_type": "code",
   "execution_count": 5,
   "metadata": {},
   "outputs": [
    {
     "name": "stdout",
     "output_type": "stream",
     "text": [
      "(74992, 3) (74992,) (24998, 3) (24998,)\n",
      "(74997, 3) (74997,) (24999, 3) (24999,)\n",
      "(74997, 3) (74997,) (24999, 3) (24999,)\n"
     ]
    }
   ],
   "source": [
    "print(features_train_0.shape, target_train_0.shape, features_valid_0.shape, target_valid_0.shape)\n",
    "print(features_train_1.shape, target_train_1.shape, features_valid_1.shape, target_valid_1.shape)\n",
    "print(features_train_2.shape, target_train_2.shape, features_valid_2.shape, target_valid_2.shape)"
   ]
  },
  {
   "cell_type": "markdown",
   "metadata": {},
   "source": [
    "После того, как получены выборки перейдем к масштабированию количественных признаков. Функция scale проводит стандартизацию признаков."
   ]
  },
  {
   "cell_type": "code",
   "execution_count": 6,
   "metadata": {},
   "outputs": [],
   "source": [
    "numeric = ['f0','f1','f2']\n",
    "def scale(features_train,features_valid):\n",
    "    scaler = StandardScaler()\n",
    "    scaler.fit(features_train[numeric])\n",
    "    features_train_scaled = scaler.transform(features_train[numeric])\n",
    "    features_valid_scaled = scaler.transform(features_valid[numeric])\n",
    "    return features_train_scaled, features_valid_scaled"
   ]
  },
  {
   "cell_type": "code",
   "execution_count": 7,
   "metadata": {},
   "outputs": [],
   "source": [
    "features_train_0, features_valid_0 = scale(features_train_0, features_valid_0)\n",
    "features_train_1, features_valid_1 = scale(features_train_1, features_valid_1)\n",
    "features_train_2, features_valid_2 = scale(features_train_2, features_valid_2)"
   ]
  },
  {
   "cell_type": "markdown",
   "metadata": {},
   "source": [
    "### Вывод\n",
    "Файл изучен, данные разбиты на выборки и отмасштабированы."
   ]
  },
  {
   "cell_type": "markdown",
   "metadata": {},
   "source": [
    "## Обучение и проверка модели"
   ]
  },
  {
   "cell_type": "markdown",
   "metadata": {},
   "source": [
    "Для обучения моделей будет использоваться функция model_fitting, которая обучает модель линейной регрессии и возвращает метрики для обучающей и тестовой выборки: R2 и rmse."
   ]
  },
  {
   "cell_type": "code",
   "execution_count": 8,
   "metadata": {},
   "outputs": [],
   "source": [
    "def model_fitting(features_train, target_train, features_valid, target_valid):\n",
    "    model = LinearRegression()\n",
    "    model.fit(features_train, target_train)\n",
    "    predictions = model.predict(features_valid)\n",
    "    mse_train = mean_squared_error(target_train, model.predict(features_train))\n",
    "    rmse_train = mse_train ** (0.5)\n",
    "    mse_valid = mean_squared_error(target_valid, predictions)\n",
    "    rmse_valid = mse_valid ** (0.5)\n",
    "    print('Обучающая выборка: Среднее значение обучающей выборки: {}'.format(target_train.mean()))\n",
    "    print('Обучающая выборка: rmse: {} R2: {}'.format(rmse_train, model.score(features_train, target_train)))\n",
    "    print('Валидационная выборка: rmse: {} R2: {}'.format(rmse_valid, model.score(features_valid, target_valid)))\n",
    "    predictions = pd.Series(predictions)\n",
    "    return predictions, rmse_valid"
   ]
  },
  {
   "cell_type": "markdown",
   "metadata": {},
   "source": [
    "Перейдем к обучению моделей для различных регионов. "
   ]
  },
  {
   "cell_type": "markdown",
   "metadata": {},
   "source": [
    "### Первый регион"
   ]
  },
  {
   "cell_type": "code",
   "execution_count": 9,
   "metadata": {},
   "outputs": [
    {
     "name": "stdout",
     "output_type": "stream",
     "text": [
      "Обучающая выборка: Среднее значение обучающей выборки: 92.55950285453767\n",
      "Обучающая выборка: rmse: 37.730311817055494 R2: 0.2755826069630001\n",
      "Валидационная выборка: rmse: 37.580631363701684 R2: 0.2760169220348231\n"
     ]
    }
   ],
   "source": [
    "predictions_0, rmse_0 = model_fitting(features_train_0, target_train_0, features_valid_0, target_valid_0)"
   ]
  },
  {
   "cell_type": "markdown",
   "metadata": {},
   "source": [
    "### Второй регион"
   ]
  },
  {
   "cell_type": "code",
   "execution_count": 10,
   "metadata": {},
   "outputs": [
    {
     "name": "stdout",
     "output_type": "stream",
     "text": [
      "Обучающая выборка: Среднее значение обучающей выборки: 68.88032559052276\n",
      "Обучающая выборка: rmse: 0.8906292533412161 R2: 0.9996242014248895\n",
      "Валидационная выборка: rmse: 0.8896192801777811 R2: 0.9996250751075333\n"
     ]
    }
   ],
   "source": [
    "predictions_1, rmse_1 = model_fitting(features_train_1, target_train_1, features_valid_1, target_valid_1)"
   ]
  },
  {
   "cell_type": "markdown",
   "metadata": {},
   "source": [
    "### Третий регион"
   ]
  },
  {
   "cell_type": "code",
   "execution_count": 11,
   "metadata": {},
   "outputs": [
    {
     "name": "stdout",
     "output_type": "stream",
     "text": [
      "Обучающая выборка: Среднее значение обучающей выборки: 94.9993136587081\n",
      "Обучающая выборка: rmse: 40.06133646080071 R2: 0.19809333896169845\n",
      "Валидационная выборка: rmse: 40.038344412124424 R2: 0.20088239557946086\n"
     ]
    }
   ],
   "source": [
    "predictions_2, rmse_2 = model_fitting(features_train_2, target_train_2, features_valid_2, target_valid_2)"
   ]
  },
  {
   "cell_type": "markdown",
   "metadata": {},
   "source": [
    "### Анализ полученнных результатов"
   ]
  },
  {
   "cell_type": "markdown",
   "metadata": {},
   "source": [
    "**Отрицательные предсказания**\n",
    "\n",
    "Изучим кол-во отрицательных предсказаний моделей, ведь отрицательное предсказание говорит о неточностях моделей, т.к. получение подобных результатов противоречит здравому смыслу. Затем заменим замену отрицательных предсказаний на 0."
   ]
  },
  {
   "cell_type": "code",
   "execution_count": 12,
   "metadata": {},
   "outputs": [
    {
     "name": "stdout",
     "output_type": "stream",
     "text": [
      "Кол-во отрицательных предсказаний модели для 1ого региона: 2\n",
      "Кол-во отрицательных предсказаний модели для 2ого региона: 515\n",
      "Кол-во отрицательных предсказаний модели для 3его региона: 0\n"
     ]
    }
   ],
   "source": [
    "print('Кол-во отрицательных предсказаний модели для 1ого региона: {}'.format(\n",
    "    (predictions_0 < 0).sum())\n",
    "     )\n",
    "print('Кол-во отрицательных предсказаний модели для 2ого региона: {}'.format(\n",
    "    (predictions_1 < 0).sum())\n",
    "     )\n",
    "print('Кол-во отрицательных предсказаний модели для 3его региона: {}'.format(\n",
    "    (predictions_2 < 0).sum())\n",
    "     )\n"
   ]
  },
  {
   "cell_type": "code",
   "execution_count": 13,
   "metadata": {},
   "outputs": [],
   "source": [
    "predictions_0 = predictions_0.apply(lambda x: x if x > 0 else 0)\n",
    "predictions_1 = predictions_1.apply(lambda x: x if x > 0 else 0)\n",
    "predictions_2 = predictions_2.apply(lambda x: x if x > 0 else 0)"
   ]
  },
  {
   "cell_type": "markdown",
   "metadata": {},
   "source": [
    "**Средний объем сырья** "
   ]
  },
  {
   "cell_type": "code",
   "execution_count": 14,
   "metadata": {},
   "outputs": [
    {
     "name": "stdout",
     "output_type": "stream",
     "text": [
      "Средний объем сырья в месторождениях в результате предсказания модели: 92.45 тыс.бар. в 1ом регионе\n",
      "Средний объем сырья в месторождениях в результате предсказания модели: 68.67 тыс.бар. в 2ом регионе\n",
      "Средний объем сырья в месторождениях в результате предсказания модели: 94.93 тыс.бар. в 3ем регионе\n"
     ]
    }
   ],
   "source": [
    "print('Средний объем сырья в месторождениях в результате предсказания модели: {:.2f} тыс.бар. в 1ом регионе'.format(predictions_0.mean()))\n",
    "print('Средний объем сырья в месторождениях в результате предсказания модели: {:.2f} тыс.бар. в 2ом регионе'.format(predictions_1.mean()))\n",
    "print('Средний объем сырья в месторождениях в результате предсказания модели: {:.2f} тыс.бар. в 3ем регионе'.format(predictions_2.mean()))"
   ]
  },
  {
   "cell_type": "markdown",
   "metadata": {},
   "source": [
    "Изучим взаимосвязь между предсказаниями и признаками моделей. Для этого построим матрицу корреляции"
   ]
  },
  {
   "cell_type": "code",
   "execution_count": 14,
   "metadata": {},
   "outputs": [
    {
     "name": "stdout",
     "output_type": "stream",
     "text": [
      "регион 1\n"
     ]
    },
    {
     "data": {
      "text/html": [
       "<div>\n",
       "<style scoped>\n",
       "    .dataframe tbody tr th:only-of-type {\n",
       "        vertical-align: middle;\n",
       "    }\n",
       "\n",
       "    .dataframe tbody tr th {\n",
       "        vertical-align: top;\n",
       "    }\n",
       "\n",
       "    .dataframe thead th {\n",
       "        text-align: right;\n",
       "    }\n",
       "</style>\n",
       "<table border=\"1\" class=\"dataframe\">\n",
       "  <thead>\n",
       "    <tr style=\"text-align: right;\">\n",
       "      <th></th>\n",
       "      <th>f0</th>\n",
       "      <th>f1</th>\n",
       "      <th>f2</th>\n",
       "      <th>product</th>\n",
       "    </tr>\n",
       "  </thead>\n",
       "  <tbody>\n",
       "    <tr>\n",
       "      <th>f0</th>\n",
       "      <td>1.000000</td>\n",
       "      <td>-0.440700</td>\n",
       "      <td>-0.003122</td>\n",
       "      <td>0.143563</td>\n",
       "    </tr>\n",
       "    <tr>\n",
       "      <th>f1</th>\n",
       "      <td>-0.440700</td>\n",
       "      <td>1.000000</td>\n",
       "      <td>0.001691</td>\n",
       "      <td>-0.192379</td>\n",
       "    </tr>\n",
       "    <tr>\n",
       "      <th>f2</th>\n",
       "      <td>-0.003122</td>\n",
       "      <td>0.001691</td>\n",
       "      <td>1.000000</td>\n",
       "      <td>0.483645</td>\n",
       "    </tr>\n",
       "    <tr>\n",
       "      <th>product</th>\n",
       "      <td>0.143563</td>\n",
       "      <td>-0.192379</td>\n",
       "      <td>0.483645</td>\n",
       "      <td>1.000000</td>\n",
       "    </tr>\n",
       "  </tbody>\n",
       "</table>\n",
       "</div>"
      ],
      "text/plain": [
       "               f0        f1        f2   product\n",
       "f0       1.000000 -0.440700 -0.003122  0.143563\n",
       "f1      -0.440700  1.000000  0.001691 -0.192379\n",
       "f2      -0.003122  0.001691  1.000000  0.483645\n",
       "product  0.143563 -0.192379  0.483645  1.000000"
      ]
     },
     "metadata": {},
     "output_type": "display_data"
    },
    {
     "name": "stdout",
     "output_type": "stream",
     "text": [
      "регион 2\n"
     ]
    },
    {
     "data": {
      "text/html": [
       "<div>\n",
       "<style scoped>\n",
       "    .dataframe tbody tr th:only-of-type {\n",
       "        vertical-align: middle;\n",
       "    }\n",
       "\n",
       "    .dataframe tbody tr th {\n",
       "        vertical-align: top;\n",
       "    }\n",
       "\n",
       "    .dataframe thead th {\n",
       "        text-align: right;\n",
       "    }\n",
       "</style>\n",
       "<table border=\"1\" class=\"dataframe\">\n",
       "  <thead>\n",
       "    <tr style=\"text-align: right;\">\n",
       "      <th></th>\n",
       "      <th>f0</th>\n",
       "      <th>f1</th>\n",
       "      <th>f2</th>\n",
       "      <th>product</th>\n",
       "    </tr>\n",
       "  </thead>\n",
       "  <tbody>\n",
       "    <tr>\n",
       "      <th>f0</th>\n",
       "      <td>1.000000</td>\n",
       "      <td>0.182273</td>\n",
       "      <td>-0.001753</td>\n",
       "      <td>-0.030467</td>\n",
       "    </tr>\n",
       "    <tr>\n",
       "      <th>f1</th>\n",
       "      <td>0.182273</td>\n",
       "      <td>1.000000</td>\n",
       "      <td>-0.002589</td>\n",
       "      <td>-0.010148</td>\n",
       "    </tr>\n",
       "    <tr>\n",
       "      <th>f2</th>\n",
       "      <td>-0.001753</td>\n",
       "      <td>-0.002589</td>\n",
       "      <td>1.000000</td>\n",
       "      <td>0.999397</td>\n",
       "    </tr>\n",
       "    <tr>\n",
       "      <th>product</th>\n",
       "      <td>-0.030467</td>\n",
       "      <td>-0.010148</td>\n",
       "      <td>0.999397</td>\n",
       "      <td>1.000000</td>\n",
       "    </tr>\n",
       "  </tbody>\n",
       "</table>\n",
       "</div>"
      ],
      "text/plain": [
       "               f0        f1        f2   product\n",
       "f0       1.000000  0.182273 -0.001753 -0.030467\n",
       "f1       0.182273  1.000000 -0.002589 -0.010148\n",
       "f2      -0.001753 -0.002589  1.000000  0.999397\n",
       "product -0.030467 -0.010148  0.999397  1.000000"
      ]
     },
     "metadata": {},
     "output_type": "display_data"
    },
    {
     "name": "stdout",
     "output_type": "stream",
     "text": [
      "регион 3\n"
     ]
    },
    {
     "data": {
      "text/html": [
       "<div>\n",
       "<style scoped>\n",
       "    .dataframe tbody tr th:only-of-type {\n",
       "        vertical-align: middle;\n",
       "    }\n",
       "\n",
       "    .dataframe tbody tr th {\n",
       "        vertical-align: top;\n",
       "    }\n",
       "\n",
       "    .dataframe thead th {\n",
       "        text-align: right;\n",
       "    }\n",
       "</style>\n",
       "<table border=\"1\" class=\"dataframe\">\n",
       "  <thead>\n",
       "    <tr style=\"text-align: right;\">\n",
       "      <th></th>\n",
       "      <th>f0</th>\n",
       "      <th>f1</th>\n",
       "      <th>f2</th>\n",
       "      <th>product</th>\n",
       "    </tr>\n",
       "  </thead>\n",
       "  <tbody>\n",
       "    <tr>\n",
       "      <th>f0</th>\n",
       "      <td>1.000000</td>\n",
       "      <td>0.000515</td>\n",
       "      <td>-0.000460</td>\n",
       "      <td>-0.001981</td>\n",
       "    </tr>\n",
       "    <tr>\n",
       "      <th>f1</th>\n",
       "      <td>0.000515</td>\n",
       "      <td>1.000000</td>\n",
       "      <td>0.000837</td>\n",
       "      <td>-0.000968</td>\n",
       "    </tr>\n",
       "    <tr>\n",
       "      <th>f2</th>\n",
       "      <td>-0.000460</td>\n",
       "      <td>0.000837</td>\n",
       "      <td>1.000000</td>\n",
       "      <td>0.445860</td>\n",
       "    </tr>\n",
       "    <tr>\n",
       "      <th>product</th>\n",
       "      <td>-0.001981</td>\n",
       "      <td>-0.000968</td>\n",
       "      <td>0.445860</td>\n",
       "      <td>1.000000</td>\n",
       "    </tr>\n",
       "  </tbody>\n",
       "</table>\n",
       "</div>"
      ],
      "text/plain": [
       "               f0        f1        f2   product\n",
       "f0       1.000000  0.000515 -0.000460 -0.001981\n",
       "f1       0.000515  1.000000  0.000837 -0.000968\n",
       "f2      -0.000460  0.000837  1.000000  0.445860\n",
       "product -0.001981 -0.000968  0.445860  1.000000"
      ]
     },
     "metadata": {},
     "output_type": "display_data"
    }
   ],
   "source": [
    "datas=[data_0,data_1,data_2]\n",
    "k = 0 \n",
    "for data in datas:\n",
    "    k+=1\n",
    "    print('регион {}'.format(str(k)))\n",
    "    display(data.corr())"
   ]
  },
  {
   "cell_type": "markdown",
   "metadata": {},
   "source": [
    "#### Вывод\n",
    "Для второго региона наблюдается почти идеальная корреляция признака f2 с целевым признаком, что и объясняет такую точность в предсказаниях для 2ого региона."
   ]
  },
  {
   "cell_type": "markdown",
   "metadata": {},
   "source": [
    "### Вывод\n",
    "Как видно из полученных результатов обучения и проверки моделей видно, что модель хорошо работает только для второго региона, для него R2 стремится к 1. RMSE примерно равно 0.89 тыс.бар. на тестовой и обучающей выборках, при среднем значении на обучающей выборке 68.8 тыс.бар.\n",
    "\n",
    "Для первого и третьего региона таких хороших соответствий между предсказаниями модели и реальными значениям не наблюдается. Для них rmse на уровне 37-40 тыс.бар. при средних значениях 92-94 тыс.бар. Что свидетельсвует об очень больших неточностях в предсказаниях модели.\n",
    "\n",
    "Также было замечено, что в предсказаниях моделей присутствуют и отрицательные значения объемов запасов нефти. Отсюда возникает вопрос как правильно интерпретировать такие результаты? Мне кажется в данном случае более корректно заменить отрицательные предсказания на 0 (хотя это и не окажет сильного влияния на конечный результат, т.к. таких месторождений мало по отношению к положительным прогнозам)"
   ]
  },
  {
   "cell_type": "markdown",
   "metadata": {},
   "source": [
    "## Подготовка к расчёту прибыли"
   ]
  },
  {
   "cell_type": "markdown",
   "metadata": {},
   "source": [
    "Условия задачи:\n",
    "Для обучения модели подходит только линейная регрессия (остальные — недостаточно предсказуемые). При разведке региона проводится исследование 500 точек. Бюджет на разработку месторождений — 10 млрд рублей, стоимость бурения одной скважины — 50 млн рублей. Один баррель сырья приносит 4500 рублей прибыли. Не рассматривать регионы, в которых риск убытков выше 2.5%. Из оставшихся выбирается регион с наибольшей средней прибылью."
   ]
  },
  {
   "cell_type": "markdown",
   "metadata": {},
   "source": [
    "#### Объявление констант"
   ]
  },
  {
   "cell_type": "code",
   "execution_count": 15,
   "metadata": {},
   "outputs": [],
   "source": [
    "NUMBER_OF_POINTS = 500 # кол-во точек для исследования\n",
    "BUDGET = 10**10 # бюджет\n",
    "EXPENSES_PER_POINT = 50*(10**6) # стоимость бурения одной скважины \n",
    "PROFIT_PER_BARREL = 4500 # стоимость одного барреля"
   ]
  },
  {
   "cell_type": "code",
   "execution_count": 16,
   "metadata": {},
   "outputs": [
    {
     "name": "stdout",
     "output_type": "stream",
     "text": [
      "Кол-во месторождений, которые будут использоваться для добычи: 200\n"
     ]
    }
   ],
   "source": [
    "Number_of_used_points = BUDGET / EXPENSES_PER_POINT\n",
    "print('Кол-во месторождений, которые будут использоваться для добычи: {}'.format(int(Number_of_used_points)))"
   ]
  },
  {
   "cell_type": "markdown",
   "metadata": {},
   "source": [
    "#### Посчитайте минимальный средний объём сырья в месторождениях региона, достаточный для его разработки. Напишите выводы.\n"
   ]
  },
  {
   "cell_type": "code",
   "execution_count": 17,
   "metadata": {},
   "outputs": [
    {
     "name": "stdout",
     "output_type": "stream",
     "text": [
      "Минимальный средний объём сырья в месторождениях региона: 11.11 тыс.бар.\n"
     ]
    }
   ],
   "source": [
    "Min_mean_product = BUDGET/(Number_of_used_points*PROFIT_PER_BARREL*1000)\n",
    "print('Минимальный средний объём сырья в месторождениях региона: {:.2f} тыс.бар.'.format(Min_mean_product))"
   ]
  },
  {
   "cell_type": "markdown",
   "metadata": {},
   "source": [
    "#### Предсказанные значения"
   ]
  },
  {
   "cell_type": "code",
   "execution_count": 18,
   "metadata": {},
   "outputs": [
    {
     "name": "stdout",
     "output_type": "stream",
     "text": [
      "Средний объем сырья в месторождениях в результате предсказания модели: 92.45 тыс.бар. в 1ом регионе\n",
      "Средний объем сырья в месторождениях в результате предсказания модели: 68.67 тыс.бар. в 2ом регионе\n",
      "Средний объем сырья в месторождениях в результате предсказания модели: 94.93 тыс.бар. в 3ем регионе\n"
     ]
    }
   ],
   "source": [
    "print('Средний объем сырья в месторождениях в результате предсказания модели: {:.2f} тыс.бар. в 1ом регионе'.format(predictions_0.mean()))\n",
    "print('Средний объем сырья в месторождениях в результате предсказания модели: {:.2f} тыс.бар. в 2ом регионе'.format(predictions_1.mean()))\n",
    "print('Средний объем сырья в месторождениях в результате предсказания модели: {:.2f} тыс.бар. в 3ем регионе'.format(predictions_2.mean()))"
   ]
  },
  {
   "cell_type": "markdown",
   "metadata": {},
   "source": [
    "#### Истинные значения"
   ]
  },
  {
   "cell_type": "code",
   "execution_count": 20,
   "metadata": {},
   "outputs": [
    {
     "name": "stdout",
     "output_type": "stream",
     "text": [
      "Средний объем сырья в месторождениях в результате предсказания модели: 92.32 тыс.бар. в 1ом регионе\n",
      "Средний объем сырья в месторождениях в результате предсказания модели: 68.66 тыс.бар. в 2ом регионе\n",
      "Средний объем сырья в месторождениях в результате предсказания модели: 95.00 тыс.бар. в 3ем регионе\n"
     ]
    }
   ],
   "source": [
    "print('Средний объем сырья в месторождениях в результате предсказания модели: {:.2f} тыс.бар. в 1ом регионе'.format(target_valid_0.mean()))\n",
    "print('Средний объем сырья в месторождениях в результате предсказания модели: {:.2f} тыс.бар. в 2ом регионе'.format(target_valid_1.mean()))\n",
    "print('Средний объем сырья в месторождениях в результате предсказания модели: {:.2f} тыс.бар. в 3ем регионе'.format(target_valid_2.mean()))"
   ]
  },
  {
   "cell_type": "markdown",
   "metadata": {},
   "source": [
    "#### Вывод\n",
    "Объем минимального среднего объема сырья в месторождениях при котором разработка будет неубыточной - 11.11 тыс.бар. Если сравнивать это значение с реальным средним объемом запаса сырья в месторождениях в регионах, то оно сильно меньше.  "
   ]
  },
  {
   "cell_type": "markdown",
   "metadata": {},
   "source": [
    "#### Напишите функцию для расчёта прибыли по набору отобранных месторождений и предсказаний модели."
   ]
  },
  {
   "cell_type": "code",
   "execution_count": 19,
   "metadata": {},
   "outputs": [],
   "source": [
    "def profit(target, predictions):\n",
    "    count = int(Number_of_used_points)\n",
    "    predictions_sorted = predictions.sort_values(ascending=False)\n",
    "    selected = target[predictions_sorted.index][:count]\n",
    "    sum_profit = (selected*PROFIT_PER_BARREL *1000).sum() - BUDGET\n",
    "    return sum_profit"
   ]
  },
  {
   "cell_type": "markdown",
   "metadata": {},
   "source": [
    "#### Комментарий\n",
    "Функция profit считает прибыль, получаемую от освоения 200 лучших месторождений из тех, что подаются на вход (по условиям задачи разведывается 500 месторождений). Отбор 200 лучших происходит по результатам предсказаний модели. Из суммарной прибыли вычитается средства потраченные на бурение этих 200 месторождений."
   ]
  },
  {
   "cell_type": "markdown",
   "metadata": {},
   "source": [
    "## Расчёт прибыли и рисков "
   ]
  },
  {
   "cell_type": "code",
   "execution_count": 20,
   "metadata": {},
   "outputs": [],
   "source": [
    "def bootstrap_profit(target, predictions):\n",
    "    predictions = pd.Series(predictions)\n",
    "    target = pd.Series(target)\n",
    "    state = np.random.RandomState(12345)\n",
    "    values = []\n",
    "    for i in range(1000):\n",
    "        target_subsample = target.sample(n = int(NUMBER_OF_POINTS), \n",
    "                                               replace = True, random_state = state)\n",
    "        predictions_subsample = predictions[target_subsample.index]\n",
    "        values.append(profit(target, predictions_subsample))\n",
    "    values = pd.Series(values)\n",
    "    mean = values.mean()\n",
    "    print('Среднее значение прибыли по выборкам: {:.2f} млрд'.format(mean/(10**9)))\n",
    "    confidence_interval = st.t.interval(0.95, \n",
    "                                 df = len(values) - 1, \n",
    "                                 loc = values.mean(),\n",
    "                                 scale = values.sem()\n",
    "                                 )\n",
    "    print(\"95%-ый доверительный интервал: {:.2f} млрд. - {:.2f} млрд.\".format(confidence_interval[0]/(10**9),confidence_interval[1]/(10**9)))\n",
    "    print(\"Риск : {}\".format(st.percentileofscore(values,0)))\n",
    "    return values"
   ]
  },
  {
   "cell_type": "markdown",
   "metadata": {},
   "source": [
    "### Посчитайте риски и прибыль для каждого региона:\n",
    " - 4.1. Примените технику Bootstrap с 1000 выборок, чтобы найти распределение прибыли.\n",
    " - 4.2. Найдите среднюю прибыль, 95%-й доверительный интервал и риск убытков.\n",
    " - 4.3. Напишите выводы: предложите регион для разработки месторождений и обоснуйте выбор."
   ]
  },
  {
   "cell_type": "markdown",
   "metadata": {},
   "source": [
    "#### Комментарий\n",
    "Функция bootstrap_profit - применяет технику bootstrap с 1000 выборок для подсчета среднего значения прибыли, поиска 95% доверительного интервала и риска убытков. Риск убытков считается как вероятность получить отрицательное значение прибыли(В данной задаче для всех регионов такой риск оказался 0)."
   ]
  },
  {
   "cell_type": "code",
   "execution_count": 21,
   "metadata": {},
   "outputs": [
    {
     "name": "stdout",
     "output_type": "stream",
     "text": [
      "Среднее значение прибыли по выборкам: 93.93 млрд\n",
      "95%-ый доверительный интервал: 93.77 млрд. - 94.09 млрд.\n",
      "Риск : 0.0\n"
     ]
    }
   ],
   "source": [
    "values_0 = bootstrap_profit(target_valid_0.reset_index(drop = True),predictions_0)"
   ]
  },
  {
   "cell_type": "code",
   "execution_count": 22,
   "metadata": {},
   "outputs": [
    {
     "name": "stdout",
     "output_type": "stream",
     "text": [
      "Среднее значение прибыли по выборкам: 94.48 млрд\n",
      "95%-ый доверительный интервал: 94.35 млрд. - 94.60 млрд.\n",
      "Риск : 0.0\n"
     ]
    }
   ],
   "source": [
    "values_1 = bootstrap_profit(target_valid_1.reset_index(drop = True),predictions_1)"
   ]
  },
  {
   "cell_type": "code",
   "execution_count": 23,
   "metadata": {},
   "outputs": [
    {
     "name": "stdout",
     "output_type": "stream",
     "text": [
      "Среднее значение прибыли по выборкам: 93.62 млрд\n",
      "95%-ый доверительный интервал: 93.45 млрд. - 93.78 млрд.\n",
      "Риск : 0.0\n"
     ]
    }
   ],
   "source": [
    "values_2 = bootstrap_profit(target_valid_2.reset_index(drop = True),predictions_2)"
   ]
  },
  {
   "cell_type": "markdown",
   "metadata": {},
   "source": [
    "### Вывод\n",
    "Как видно из полученных результатов, все регионы являются прибыльными согласно проведенным расчетам. Но так как цель состояла в поиске наиболее прибыльного региона,то значит необходимо выбрать 2ой регион, т.к. он принесет наибольшую прибыль."
   ]
  },
  {
   "cell_type": "markdown",
   "metadata": {},
   "source": [
    "## Общий вывод\n",
    "В ходе выполнения работы были достигнуты все поставленные задачи. В качестве региона для добычи был выбран 2ой регион, т.к. он потенциально будет самым прибыльным.\n",
    "\n"
   ]
  },
  {
   "cell_type": "code",
   "execution_count": null,
   "metadata": {},
   "outputs": [],
   "source": []
  }
 ],
 "metadata": {
  "ExecuteTimeLog": [
   {
    "duration": 1680,
    "start_time": "2023-11-18T08:05:11.068Z"
   },
   {
    "duration": 784,
    "start_time": "2023-11-18T08:05:39.114Z"
   },
   {
    "duration": 4,
    "start_time": "2023-11-18T08:07:07.538Z"
   },
   {
    "duration": 4,
    "start_time": "2023-11-18T08:08:07.636Z"
   },
   {
    "duration": 4,
    "start_time": "2023-11-18T08:09:51.246Z"
   },
   {
    "duration": 145,
    "start_time": "2023-11-18T08:09:51.753Z"
   },
   {
    "duration": 4,
    "start_time": "2023-11-18T08:09:52.117Z"
   },
   {
    "duration": 3,
    "start_time": "2023-11-18T08:09:58.126Z"
   },
   {
    "duration": 36,
    "start_time": "2023-11-18T08:10:51.375Z"
   },
   {
    "duration": 4,
    "start_time": "2023-11-18T08:12:30.712Z"
   },
   {
    "duration": 231,
    "start_time": "2023-11-18T08:13:10.221Z"
   },
   {
    "duration": 16,
    "start_time": "2023-11-18T08:13:34.033Z"
   },
   {
    "duration": 101,
    "start_time": "2023-11-18T08:14:13.902Z"
   },
   {
    "duration": 17,
    "start_time": "2023-11-18T08:14:21.664Z"
   },
   {
    "duration": 16,
    "start_time": "2023-11-18T08:14:22.246Z"
   },
   {
    "duration": 18,
    "start_time": "2023-11-18T08:14:22.917Z"
   },
   {
    "duration": 6,
    "start_time": "2023-11-18T08:14:24.900Z"
   },
   {
    "duration": 6,
    "start_time": "2023-11-18T08:15:46.003Z"
   },
   {
    "duration": 19,
    "start_time": "2023-11-18T08:15:47.242Z"
   },
   {
    "duration": 1616,
    "start_time": "2023-11-18T17:40:00.985Z"
   },
   {
    "duration": 1653,
    "start_time": "2023-11-18T17:40:02.603Z"
   },
   {
    "duration": 5,
    "start_time": "2023-11-18T17:40:04.258Z"
   },
   {
    "duration": 160,
    "start_time": "2023-11-18T17:40:04.265Z"
   },
   {
    "duration": 6,
    "start_time": "2023-11-18T17:40:04.426Z"
   },
   {
    "duration": 39,
    "start_time": "2023-11-18T17:40:04.433Z"
   },
   {
    "duration": 94,
    "start_time": "2023-11-18T17:40:04.474Z"
   },
   {
    "duration": 23,
    "start_time": "2023-11-18T17:40:04.570Z"
   },
   {
    "duration": 230,
    "start_time": "2023-11-18T17:40:04.596Z"
   },
   {
    "duration": 103,
    "start_time": "2023-11-18T17:40:04.828Z"
   },
   {
    "duration": 16,
    "start_time": "2023-11-18T17:40:05.388Z"
   },
   {
    "duration": 6,
    "start_time": "2023-11-18T17:40:07.733Z"
   },
   {
    "duration": 17,
    "start_time": "2023-11-18T17:40:08.499Z"
   },
   {
    "duration": 38,
    "start_time": "2023-11-18T17:44:50.996Z"
   },
   {
    "duration": 3,
    "start_time": "2023-11-18T17:46:27.800Z"
   },
   {
    "duration": 3,
    "start_time": "2023-11-18T17:46:45.056Z"
   },
   {
    "duration": 3,
    "start_time": "2023-11-18T17:47:13.298Z"
   },
   {
    "duration": 5,
    "start_time": "2023-11-18T17:47:26.011Z"
   },
   {
    "duration": 3,
    "start_time": "2023-11-18T17:48:30.737Z"
   },
   {
    "duration": 6,
    "start_time": "2023-11-18T17:49:04.611Z"
   },
   {
    "duration": 1147,
    "start_time": "2023-11-18T17:49:29.209Z"
   },
   {
    "duration": 1179,
    "start_time": "2023-11-18T17:49:35.086Z"
   },
   {
    "duration": 1138,
    "start_time": "2023-11-18T17:49:36.291Z"
   },
   {
    "duration": 2975,
    "start_time": "2023-11-18T17:50:47.912Z"
   }
  ],
  "kernelspec": {
   "display_name": "Python 3 (ipykernel)",
   "language": "python",
   "name": "python3"
  },
  "language_info": {
   "codemirror_mode": {
    "name": "ipython",
    "version": 3
   },
   "file_extension": ".py",
   "mimetype": "text/x-python",
   "name": "python",
   "nbconvert_exporter": "python",
   "pygments_lexer": "ipython3",
   "version": "3.9.5"
  },
  "toc": {
   "base_numbering": 1,
   "nav_menu": {},
   "number_sections": true,
   "sideBar": true,
   "skip_h1_title": true,
   "title_cell": "Table of Contents",
   "title_sidebar": "Contents",
   "toc_cell": false,
   "toc_position": {},
   "toc_section_display": true,
   "toc_window_display": false
  }
 },
 "nbformat": 4,
 "nbformat_minor": 2
}
